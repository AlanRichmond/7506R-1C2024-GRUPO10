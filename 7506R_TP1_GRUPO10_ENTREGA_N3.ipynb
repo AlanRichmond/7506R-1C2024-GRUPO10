{
  "cells": [
    {
      "cell_type": "markdown",
      "metadata": {
        "id": "_hMpCS6QHnDp"
      },
      "source": [
        "#  <center> </center>\n",
        "# <center>Trabajo Practico 1 </center>\n",
        "### <center>Grupo 10 </center>\n",
        "## Integrantes:\n",
        "#### Alan Richmond\n",
        "#### Flavian Ferré\n",
        "#### Alan Mejia"
      ]
    },
    {
      "cell_type": "markdown",
      "metadata": {
        "id": "0cSSkq9KjaOk"
      },
      "source": [
        "# 0. Inicializacion de los datos"
      ]
    },
    {
      "cell_type": "markdown",
      "metadata": {
        "id": "Vxvy62s9DqD_"
      },
      "source": [
        "## Importando Librerias\n"
      ]
    },
    {
      "cell_type": "code",
      "execution_count": 11,
      "metadata": {
        "id": "LKi8sj-4DbI7"
      },
      "outputs": [],
      "source": [
        "#Manipulacion de datos\n",
        "import pandas as pd\n",
        "import numpy as np\n",
        "import seaborn as sns\n",
        "import matplotlib.pyplot as plt\n",
        "\n",
        "from pandas.plotting import scatter_matrix\n",
        "from shapely.wkt import loads\n",
        "from shapely.geometry import Point\n",
        "from sklearn.experimental import enable_iterative_imputer\n",
        "from sklearn.impute import IterativeImputer\n",
        "from sklearn.neighbors import NearestNeighbors\n",
        "from sklearn.ensemble import IsolationForest\n",
        "from sklearn.linear_model import LinearRegression\n",
        "from sklearn.preprocessing import StandardScaler\n",
        "from sklearn.preprocessing import OneHotEncoder\n",
        "from sklearn.pipeline import Pipeline\n",
        "from sklearn.compose import ColumnTransformer\n",
        "from sklearn.cluster import KMeans"
      ]
    },
    {
      "cell_type": "markdown",
      "metadata": {
        "id": "YVeYUQjpXj85"
      },
      "source": [
        "# 3. Clasificacion"
      ]
    },
    {
      "cell_type": "markdown",
      "metadata": {
        "id": "xv-kuINlsVYa"
      },
      "source": [
        "## Importado del dataset"
      ]
    },
    {
      "cell_type": "code",
      "execution_count": 12,
      "metadata": {
        "colab": {
          "base_uri": "https://localhost:8080/",
          "height": 444
        },
        "id": "EPKQeZYssVYb",
        "outputId": "3d86cd7d-e3ea-41ac-e3fd-daf220188bf7"
      },
      "outputs": [
        {
          "data": {
            "text/html": [
              "<div>\n",
              "<style scoped>\n",
              "    .dataframe tbody tr th:only-of-type {\n",
              "        vertical-align: middle;\n",
              "    }\n",
              "\n",
              "    .dataframe tbody tr th {\n",
              "        vertical-align: top;\n",
              "    }\n",
              "\n",
              "    .dataframe thead th {\n",
              "        text-align: right;\n",
              "    }\n",
              "</style>\n",
              "<table border=\"1\" class=\"dataframe\">\n",
              "  <thead>\n",
              "    <tr style=\"text-align: right;\">\n",
              "      <th></th>\n",
              "      <th>latitud</th>\n",
              "      <th>longitud</th>\n",
              "      <th>place_l3</th>\n",
              "      <th>property_type</th>\n",
              "      <th>property_bedrooms</th>\n",
              "      <th>property_rooms</th>\n",
              "      <th>property_surface_covered</th>\n",
              "      <th>property_surface_total</th>\n",
              "      <th>property_price</th>\n",
              "      <th>price_per_square_meter</th>\n",
              "    </tr>\n",
              "  </thead>\n",
              "  <tbody>\n",
              "    <tr>\n",
              "      <th>0</th>\n",
              "      <td>-34.637319</td>\n",
              "      <td>-58.361124</td>\n",
              "      <td>Boca</td>\n",
              "      <td>Departamento</td>\n",
              "      <td>2.0</td>\n",
              "      <td>3.0</td>\n",
              "      <td>55.0</td>\n",
              "      <td>58.0</td>\n",
              "      <td>82900.0</td>\n",
              "      <td>1429.310345</td>\n",
              "    </tr>\n",
              "    <tr>\n",
              "      <th>1</th>\n",
              "      <td>-34.628647</td>\n",
              "      <td>-58.361871</td>\n",
              "      <td>Boca</td>\n",
              "      <td>Departamento</td>\n",
              "      <td>3.0</td>\n",
              "      <td>4.0</td>\n",
              "      <td>70.0</td>\n",
              "      <td>70.0</td>\n",
              "      <td>99000.0</td>\n",
              "      <td>1414.285714</td>\n",
              "    </tr>\n",
              "    <tr>\n",
              "      <th>2</th>\n",
              "      <td>-34.610027</td>\n",
              "      <td>-58.401934</td>\n",
              "      <td>Balvanera</td>\n",
              "      <td>Departamento</td>\n",
              "      <td>2.0</td>\n",
              "      <td>4.0</td>\n",
              "      <td>104.0</td>\n",
              "      <td>138.0</td>\n",
              "      <td>146000.0</td>\n",
              "      <td>1057.971014</td>\n",
              "    </tr>\n",
              "    <tr>\n",
              "      <th>3</th>\n",
              "      <td>-34.631621</td>\n",
              "      <td>-58.416825</td>\n",
              "      <td>Boedo</td>\n",
              "      <td>PH</td>\n",
              "      <td>2.0</td>\n",
              "      <td>4.0</td>\n",
              "      <td>73.0</td>\n",
              "      <td>118.0</td>\n",
              "      <td>250000.0</td>\n",
              "      <td>2118.644068</td>\n",
              "    </tr>\n",
              "    <tr>\n",
              "      <th>4</th>\n",
              "      <td>-34.623886</td>\n",
              "      <td>-58.412746</td>\n",
              "      <td>Boedo</td>\n",
              "      <td>PH</td>\n",
              "      <td>1.0</td>\n",
              "      <td>2.0</td>\n",
              "      <td>46.0</td>\n",
              "      <td>61.0</td>\n",
              "      <td>100000.0</td>\n",
              "      <td>1639.344262</td>\n",
              "    </tr>\n",
              "    <tr>\n",
              "      <th>...</th>\n",
              "      <td>...</td>\n",
              "      <td>...</td>\n",
              "      <td>...</td>\n",
              "      <td>...</td>\n",
              "      <td>...</td>\n",
              "      <td>...</td>\n",
              "      <td>...</td>\n",
              "      <td>...</td>\n",
              "      <td>...</td>\n",
              "      <td>...</td>\n",
              "    </tr>\n",
              "    <tr>\n",
              "      <th>65445</th>\n",
              "      <td>-34.582800</td>\n",
              "      <td>-58.442800</td>\n",
              "      <td>Palermo</td>\n",
              "      <td>Departamento</td>\n",
              "      <td>1.0</td>\n",
              "      <td>1.0</td>\n",
              "      <td>32.0</td>\n",
              "      <td>36.0</td>\n",
              "      <td>98514.0</td>\n",
              "      <td>2736.500000</td>\n",
              "    </tr>\n",
              "    <tr>\n",
              "      <th>65446</th>\n",
              "      <td>-34.590332</td>\n",
              "      <td>-58.420135</td>\n",
              "      <td>Palermo</td>\n",
              "      <td>Departamento</td>\n",
              "      <td>3.0</td>\n",
              "      <td>4.0</td>\n",
              "      <td>72.0</td>\n",
              "      <td>81.0</td>\n",
              "      <td>200000.0</td>\n",
              "      <td>2469.135802</td>\n",
              "    </tr>\n",
              "    <tr>\n",
              "      <th>65447</th>\n",
              "      <td>-34.576232</td>\n",
              "      <td>-58.441949</td>\n",
              "      <td>Palermo</td>\n",
              "      <td>Departamento</td>\n",
              "      <td>2.0</td>\n",
              "      <td>3.0</td>\n",
              "      <td>57.0</td>\n",
              "      <td>62.0</td>\n",
              "      <td>130000.0</td>\n",
              "      <td>2096.774194</td>\n",
              "    </tr>\n",
              "    <tr>\n",
              "      <th>65448</th>\n",
              "      <td>-34.582800</td>\n",
              "      <td>-58.442800</td>\n",
              "      <td>Palermo</td>\n",
              "      <td>Departamento</td>\n",
              "      <td>1.0</td>\n",
              "      <td>1.0</td>\n",
              "      <td>32.0</td>\n",
              "      <td>36.0</td>\n",
              "      <td>100273.0</td>\n",
              "      <td>2785.361111</td>\n",
              "    </tr>\n",
              "    <tr>\n",
              "      <th>65449</th>\n",
              "      <td>-34.584076</td>\n",
              "      <td>-58.415895</td>\n",
              "      <td>Palermo</td>\n",
              "      <td>Departamento</td>\n",
              "      <td>2.0</td>\n",
              "      <td>4.0</td>\n",
              "      <td>128.0</td>\n",
              "      <td>131.0</td>\n",
              "      <td>480000.0</td>\n",
              "      <td>3664.122137</td>\n",
              "    </tr>\n",
              "  </tbody>\n",
              "</table>\n",
              "<p>65450 rows × 10 columns</p>\n",
              "</div>"
            ],
            "text/plain": [
              "         latitud   longitud   place_l3 property_type  property_bedrooms  \\\n",
              "0     -34.637319 -58.361124       Boca  Departamento                2.0   \n",
              "1     -34.628647 -58.361871       Boca  Departamento                3.0   \n",
              "2     -34.610027 -58.401934  Balvanera  Departamento                2.0   \n",
              "3     -34.631621 -58.416825      Boedo            PH                2.0   \n",
              "4     -34.623886 -58.412746      Boedo            PH                1.0   \n",
              "...          ...        ...        ...           ...                ...   \n",
              "65445 -34.582800 -58.442800    Palermo  Departamento                1.0   \n",
              "65446 -34.590332 -58.420135    Palermo  Departamento                3.0   \n",
              "65447 -34.576232 -58.441949    Palermo  Departamento                2.0   \n",
              "65448 -34.582800 -58.442800    Palermo  Departamento                1.0   \n",
              "65449 -34.584076 -58.415895    Palermo  Departamento                2.0   \n",
              "\n",
              "       property_rooms  property_surface_covered  property_surface_total  \\\n",
              "0                 3.0                      55.0                    58.0   \n",
              "1                 4.0                      70.0                    70.0   \n",
              "2                 4.0                     104.0                   138.0   \n",
              "3                 4.0                      73.0                   118.0   \n",
              "4                 2.0                      46.0                    61.0   \n",
              "...               ...                       ...                     ...   \n",
              "65445             1.0                      32.0                    36.0   \n",
              "65446             4.0                      72.0                    81.0   \n",
              "65447             3.0                      57.0                    62.0   \n",
              "65448             1.0                      32.0                    36.0   \n",
              "65449             4.0                     128.0                   131.0   \n",
              "\n",
              "       property_price  price_per_square_meter  \n",
              "0             82900.0             1429.310345  \n",
              "1             99000.0             1414.285714  \n",
              "2            146000.0             1057.971014  \n",
              "3            250000.0             2118.644068  \n",
              "4            100000.0             1639.344262  \n",
              "...               ...                     ...  \n",
              "65445         98514.0             2736.500000  \n",
              "65446        200000.0             2469.135802  \n",
              "65447        130000.0             2096.774194  \n",
              "65448        100273.0             2785.361111  \n",
              "65449        480000.0             3664.122137  \n",
              "\n",
              "[65450 rows x 10 columns]"
            ]
          },
          "execution_count": 12,
          "metadata": {},
          "output_type": "execute_result"
        }
      ],
      "source": [
        "conjunto_entrenamiento_final = pd.read_csv(\"Datasets/conjunto_entrenamiento_final.csv\")\n",
        "conjunto_entrenamiento_final"
      ]
    },
    {
      "cell_type": "markdown",
      "metadata": {
        "id": "cvFK23SAXj85"
      },
      "source": [
        "## a. Construccion del target"
      ]
    },
    {
      "cell_type": "markdown",
      "metadata": {
        "id": "72gxCi6iXj85"
      },
      "source": [
        "Vamos a mostrar la distribucion del precio por metro cuadrado."
      ]
    },
    {
      "cell_type": "code",
      "execution_count": 13,
      "metadata": {
        "colab": {
          "base_uri": "https://localhost:8080/",
          "height": 472
        },
        "id": "1AojiGb5Xj85",
        "outputId": "74033678-c034-49d7-a237-3a39a555586f"
      },
      "outputs": [
        {
          "data": {
            "image/png": "[encoded data removed]",
            "text/plain": [
              "<Figure size 640x480 with 1 Axes>"
            ]
          },
          "metadata": {},
          "output_type": "display_data"
        }
      ],
      "source": [
        "hist_pxm2=conjunto_entrenamiento_final['price_per_square_meter'].plot.hist(alpha=0.5,bins=101,\n",
        "                                                                           title=\"Histograma variable Precio por Metro Cuadrado\",\n",
        "                                                                           xlabel=\"Precio por Metro Cuadrado\",\n",
        "                                                                           ylabel=\"Cantidad\")"
      ]
    },
    {
      "cell_type": "code",
      "execution_count": 14,
      "metadata": {
        "colab": {
          "base_uri": "https://localhost:8080/",
          "height": 472
        },
        "id": "lAaFplIWXj85",
        "outputId": "f978bb2b-4ed3-4025-a498-a732573ecce9"
      },
      "outputs": [
        {
          "data": {
            "image/png": "[encoded data removed]",
            "text/plain": [
              "<Figure size 640x480 with 1 Axes>"
            ]
          },
          "metadata": {},
          "output_type": "display_data"
        }
      ],
      "source": [
        "box_plot_pxm2_por_tipo=sns.boxplot(x=\"property_type\",\n",
        "                                   y=\"price_per_square_meter\",\n",
        "                                   data=conjunto_entrenamiento_final).set(title=\"Boxplot variable Precio por Metro Cuadrado por Tipo de Propiedad\",\n",
        "                                   xlabel=\"Tipo de propiedad\",\n",
        "                                   ylabel=\"Precio por Metro Cuadrado\")"
      ]
    },
    {
      "cell_type": "code",
      "execution_count": 15,
      "metadata": {
        "colab": {
          "base_uri": "https://localhost:8080/"
        },
        "id": "Tk2V70lXXj85",
        "outputId": "55555231-d5ff-4d3d-bb92-cc361d0d3eb7"
      },
      "outputs": [
        {
          "data": {
            "text/plain": [
              "count    65450.000000\n",
              "mean      2332.326853\n",
              "std        768.293705\n",
              "min         60.240964\n",
              "25%       1811.602629\n",
              "50%       2244.715360\n",
              "75%       2732.048132\n",
              "max       5546.875000\n",
              "Name: price_per_square_meter, dtype: float64"
            ]
          },
          "execution_count": 15,
          "metadata": {},
          "output_type": "execute_result"
        }
      ],
      "source": [
        "conjunto_entrenamiento_final['price_per_square_meter'].describe()"
      ]
    },
    {
      "cell_type": "code",
      "execution_count": 16,
      "metadata": {
        "colab": {
          "base_uri": "https://localhost:8080/",
          "height": 175
        },
        "id": "xogNj4juXj86",
        "outputId": "0fe92c3d-55eb-403d-c9ca-1891be2d16fb"
      },
      "outputs": [
        {
          "data": {
            "text/html": [
              "<div>\n",
              "<style scoped>\n",
              "    .dataframe tbody tr th:only-of-type {\n",
              "        vertical-align: middle;\n",
              "    }\n",
              "\n",
              "    .dataframe tbody tr th {\n",
              "        vertical-align: top;\n",
              "    }\n",
              "\n",
              "    .dataframe thead th {\n",
              "        text-align: right;\n",
              "    }\n",
              "</style>\n",
              "<table border=\"1\" class=\"dataframe\">\n",
              "  <thead>\n",
              "    <tr style=\"text-align: right;\">\n",
              "      <th></th>\n",
              "      <th>count</th>\n",
              "      <th>mean</th>\n",
              "      <th>std</th>\n",
              "      <th>min</th>\n",
              "      <th>25%</th>\n",
              "      <th>50%</th>\n",
              "      <th>75%</th>\n",
              "      <th>max</th>\n",
              "    </tr>\n",
              "    <tr>\n",
              "      <th>property_type</th>\n",
              "      <th></th>\n",
              "      <th></th>\n",
              "      <th></th>\n",
              "      <th></th>\n",
              "      <th></th>\n",
              "      <th></th>\n",
              "      <th></th>\n",
              "      <th></th>\n",
              "    </tr>\n",
              "  </thead>\n",
              "  <tbody>\n",
              "    <tr>\n",
              "      <th>Casa</th>\n",
              "      <td>1170.0</td>\n",
              "      <td>2578.364711</td>\n",
              "      <td>1340.922365</td>\n",
              "      <td>391.304348</td>\n",
              "      <td>1543.209877</td>\n",
              "      <td>2085.410334</td>\n",
              "      <td>3590.361446</td>\n",
              "      <td>5542.168675</td>\n",
              "    </tr>\n",
              "    <tr>\n",
              "      <th>Departamento</th>\n",
              "      <td>58240.0</td>\n",
              "      <td>2386.269074</td>\n",
              "      <td>739.932360</td>\n",
              "      <td>60.240964</td>\n",
              "      <td>1888.888889</td>\n",
              "      <td>2302.325581</td>\n",
              "      <td>2777.777778</td>\n",
              "      <td>5546.875000</td>\n",
              "    </tr>\n",
              "    <tr>\n",
              "      <th>PH</th>\n",
              "      <td>6040.0</td>\n",
              "      <td>1764.535591</td>\n",
              "      <td>637.932946</td>\n",
              "      <td>133.867470</td>\n",
              "      <td>1360.220588</td>\n",
              "      <td>1666.666667</td>\n",
              "      <td>2047.619048</td>\n",
              "      <td>5542.168675</td>\n",
              "    </tr>\n",
              "  </tbody>\n",
              "</table>\n",
              "</div>"
            ],
            "text/plain": [
              "                 count         mean          std         min          25%  \\\n",
              "property_type                                                               \n",
              "Casa            1170.0  2578.364711  1340.922365  391.304348  1543.209877   \n",
              "Departamento   58240.0  2386.269074   739.932360   60.240964  1888.888889   \n",
              "PH              6040.0  1764.535591   637.932946  133.867470  1360.220588   \n",
              "\n",
              "                       50%          75%          max  \n",
              "property_type                                         \n",
              "Casa           2085.410334  3590.361446  5542.168675  \n",
              "Departamento   2302.325581  2777.777778  5546.875000  \n",
              "PH             1666.666667  2047.619048  5542.168675  "
            ]
          },
          "execution_count": 16,
          "metadata": {},
          "output_type": "execute_result"
        }
      ],
      "source": [
        "conjunto_entrenamiento_final.groupby('property_type')['price_per_square_meter'].describe()"
      ]
    },
    {
      "cell_type": "markdown",
      "metadata": {
        "id": "tZZqvt3IXj87"
      },
      "source": [
        "Vamos a probar las tres altenativas siguientes :"
      ]
    },
    {
      "cell_type": "markdown",
      "metadata": {
        "id": "RLPOS7R7Xj87"
      },
      "source": [
        "### 1. Dividir la variable pxm2 en 3 intervalos con igual cantidad de observaciones."
      ]
    },
    {
      "cell_type": "markdown",
      "metadata": {
        "id": "dcEBGX_FXj87"
      },
      "source": [
        "Tenemos 67877 observaciones, asi vamos a divider el conjunto en 3 conjuntos de 22626 observaciones."
      ]
    },
    {
      "cell_type": "code",
      "execution_count": 17,
      "metadata": {
        "id": "ril-FOKEXj87"
      },
      "outputs": [],
      "source": [
        "def assign_tipo_precio(df):\n",
        "    df['tipo_precio'] = None\n",
        "    limite_grupo_1 = int(np.round(df.shape[0] / 4))\n",
        "    limite_grupo_2 = int(np.round(3 * df.shape[0] / 4))\n",
        "    df.loc[:limite_grupo_1, 'tipo_precio'] = 'Bajo'\n",
        "    df.loc[limite_grupo_1:limite_grupo_2, 'tipo_precio'] = 'Medio'\n",
        "    df.loc[limite_grupo_2:, 'tipo_precio'] = 'Alto'\n",
        "    return df"
      ]
    },
    {
      "cell_type": "code",
      "execution_count": 18,
      "metadata": {
        "colab": {
          "base_uri": "https://localhost:8080/",
          "height": 548
        },
        "id": "aJyDhrg0Xj87",
        "outputId": "e14b57ec-f891-4273-c3b3-5526d4f57d51"
      },
      "outputs": [
        {
          "data": {
            "text/html": [
              "<div>\n",
              "<style scoped>\n",
              "    .dataframe tbody tr th:only-of-type {\n",
              "        vertical-align: middle;\n",
              "    }\n",
              "\n",
              "    .dataframe tbody tr th {\n",
              "        vertical-align: top;\n",
              "    }\n",
              "\n",
              "    .dataframe thead th {\n",
              "        text-align: right;\n",
              "    }\n",
              "</style>\n",
              "<table border=\"1\" class=\"dataframe\">\n",
              "  <thead>\n",
              "    <tr style=\"text-align: right;\">\n",
              "      <th></th>\n",
              "      <th>latitud</th>\n",
              "      <th>longitud</th>\n",
              "      <th>place_l3</th>\n",
              "      <th>property_type</th>\n",
              "      <th>property_bedrooms</th>\n",
              "      <th>property_rooms</th>\n",
              "      <th>property_surface_covered</th>\n",
              "      <th>property_surface_total</th>\n",
              "      <th>property_price</th>\n",
              "      <th>price_per_square_meter</th>\n",
              "      <th>tipo_precio</th>\n",
              "    </tr>\n",
              "  </thead>\n",
              "  <tbody>\n",
              "    <tr>\n",
              "      <th>0</th>\n",
              "      <td>-34.587265</td>\n",
              "      <td>-58.389767</td>\n",
              "      <td>Recoleta</td>\n",
              "      <td>Departamento</td>\n",
              "      <td>2.0</td>\n",
              "      <td>3.0</td>\n",
              "      <td>67.0</td>\n",
              "      <td>83.0</td>\n",
              "      <td>5000.0</td>\n",
              "      <td>60.240964</td>\n",
              "      <td>Bajo</td>\n",
              "    </tr>\n",
              "    <tr>\n",
              "      <th>1</th>\n",
              "      <td>-34.579756</td>\n",
              "      <td>-58.406144</td>\n",
              "      <td>Palermo</td>\n",
              "      <td>Departamento</td>\n",
              "      <td>2.0</td>\n",
              "      <td>3.0</td>\n",
              "      <td>110.0</td>\n",
              "      <td>120.0</td>\n",
              "      <td>7500.0</td>\n",
              "      <td>62.500000</td>\n",
              "      <td>Bajo</td>\n",
              "    </tr>\n",
              "    <tr>\n",
              "      <th>2</th>\n",
              "      <td>-34.576973</td>\n",
              "      <td>-58.406591</td>\n",
              "      <td>Palermo Chico</td>\n",
              "      <td>Departamento</td>\n",
              "      <td>2.0</td>\n",
              "      <td>3.0</td>\n",
              "      <td>67.0</td>\n",
              "      <td>83.0</td>\n",
              "      <td>6200.0</td>\n",
              "      <td>74.698795</td>\n",
              "      <td>Bajo</td>\n",
              "    </tr>\n",
              "    <tr>\n",
              "      <th>3</th>\n",
              "      <td>-34.569770</td>\n",
              "      <td>-58.431032</td>\n",
              "      <td>Palermo</td>\n",
              "      <td>Departamento</td>\n",
              "      <td>3.0</td>\n",
              "      <td>4.0</td>\n",
              "      <td>136.0</td>\n",
              "      <td>145.0</td>\n",
              "      <td>11111.0</td>\n",
              "      <td>76.627586</td>\n",
              "      <td>Bajo</td>\n",
              "    </tr>\n",
              "    <tr>\n",
              "      <th>4</th>\n",
              "      <td>-34.612215</td>\n",
              "      <td>-58.360230</td>\n",
              "      <td>Puerto Madero</td>\n",
              "      <td>Departamento</td>\n",
              "      <td>2.0</td>\n",
              "      <td>3.0</td>\n",
              "      <td>67.0</td>\n",
              "      <td>83.0</td>\n",
              "      <td>11000.0</td>\n",
              "      <td>132.530120</td>\n",
              "      <td>Bajo</td>\n",
              "    </tr>\n",
              "    <tr>\n",
              "      <th>...</th>\n",
              "      <td>...</td>\n",
              "      <td>...</td>\n",
              "      <td>...</td>\n",
              "      <td>...</td>\n",
              "      <td>...</td>\n",
              "      <td>...</td>\n",
              "      <td>...</td>\n",
              "      <td>...</td>\n",
              "      <td>...</td>\n",
              "      <td>...</td>\n",
              "      <td>...</td>\n",
              "    </tr>\n",
              "    <tr>\n",
              "      <th>65445</th>\n",
              "      <td>-34.614185</td>\n",
              "      <td>-58.462744</td>\n",
              "      <td>Villa Gral. Mitre</td>\n",
              "      <td>Casa</td>\n",
              "      <td>2.0</td>\n",
              "      <td>3.0</td>\n",
              "      <td>67.0</td>\n",
              "      <td>83.0</td>\n",
              "      <td>460000.0</td>\n",
              "      <td>5542.168675</td>\n",
              "      <td>Alto</td>\n",
              "    </tr>\n",
              "    <tr>\n",
              "      <th>65446</th>\n",
              "      <td>-34.552525</td>\n",
              "      <td>-58.487006</td>\n",
              "      <td>Saavedra</td>\n",
              "      <td>Casa</td>\n",
              "      <td>2.0</td>\n",
              "      <td>3.0</td>\n",
              "      <td>67.0</td>\n",
              "      <td>83.0</td>\n",
              "      <td>460000.0</td>\n",
              "      <td>5542.168675</td>\n",
              "      <td>Alto</td>\n",
              "    </tr>\n",
              "    <tr>\n",
              "      <th>65447</th>\n",
              "      <td>-34.617091</td>\n",
              "      <td>-58.373067</td>\n",
              "      <td>San Telmo</td>\n",
              "      <td>PH</td>\n",
              "      <td>2.0</td>\n",
              "      <td>3.0</td>\n",
              "      <td>67.0</td>\n",
              "      <td>83.0</td>\n",
              "      <td>460000.0</td>\n",
              "      <td>5542.168675</td>\n",
              "      <td>Alto</td>\n",
              "    </tr>\n",
              "    <tr>\n",
              "      <th>65448</th>\n",
              "      <td>-34.605177</td>\n",
              "      <td>-58.444223</td>\n",
              "      <td>Villa Crespo</td>\n",
              "      <td>Casa</td>\n",
              "      <td>2.0</td>\n",
              "      <td>3.0</td>\n",
              "      <td>67.0</td>\n",
              "      <td>83.0</td>\n",
              "      <td>460000.0</td>\n",
              "      <td>5542.168675</td>\n",
              "      <td>Alto</td>\n",
              "    </tr>\n",
              "    <tr>\n",
              "      <th>65449</th>\n",
              "      <td>-34.617865</td>\n",
              "      <td>-58.360868</td>\n",
              "      <td>Puerto Madero</td>\n",
              "      <td>Departamento</td>\n",
              "      <td>1.0</td>\n",
              "      <td>2.0</td>\n",
              "      <td>59.0</td>\n",
              "      <td>64.0</td>\n",
              "      <td>355000.0</td>\n",
              "      <td>5546.875000</td>\n",
              "      <td>Alto</td>\n",
              "    </tr>\n",
              "  </tbody>\n",
              "</table>\n",
              "<p>65450 rows × 11 columns</p>\n",
              "</div>"
            ],
            "text/plain": [
              "         latitud   longitud           place_l3 property_type  \\\n",
              "0     -34.587265 -58.389767           Recoleta  Departamento   \n",
              "1     -34.579756 -58.406144            Palermo  Departamento   \n",
              "2     -34.576973 -58.406591      Palermo Chico  Departamento   \n",
              "3     -34.569770 -58.431032            Palermo  Departamento   \n",
              "4     -34.612215 -58.360230      Puerto Madero  Departamento   \n",
              "...          ...        ...                ...           ...   \n",
              "65445 -34.614185 -58.462744  Villa Gral. Mitre          Casa   \n",
              "65446 -34.552525 -58.487006           Saavedra          Casa   \n",
              "65447 -34.617091 -58.373067          San Telmo            PH   \n",
              "65448 -34.605177 -58.444223       Villa Crespo          Casa   \n",
              "65449 -34.617865 -58.360868      Puerto Madero  Departamento   \n",
              "\n",
              "       property_bedrooms  property_rooms  property_surface_covered  \\\n",
              "0                    2.0             3.0                      67.0   \n",
              "1                    2.0             3.0                     110.0   \n",
              "2                    2.0             3.0                      67.0   \n",
              "3                    3.0             4.0                     136.0   \n",
              "4                    2.0             3.0                      67.0   \n",
              "...                  ...             ...                       ...   \n",
              "65445                2.0             3.0                      67.0   \n",
              "65446                2.0             3.0                      67.0   \n",
              "65447                2.0             3.0                      67.0   \n",
              "65448                2.0             3.0                      67.0   \n",
              "65449                1.0             2.0                      59.0   \n",
              "\n",
              "       property_surface_total  property_price  price_per_square_meter  \\\n",
              "0                        83.0          5000.0               60.240964   \n",
              "1                       120.0          7500.0               62.500000   \n",
              "2                        83.0          6200.0               74.698795   \n",
              "3                       145.0         11111.0               76.627586   \n",
              "4                        83.0         11000.0              132.530120   \n",
              "...                       ...             ...                     ...   \n",
              "65445                    83.0        460000.0             5542.168675   \n",
              "65446                    83.0        460000.0             5542.168675   \n",
              "65447                    83.0        460000.0             5542.168675   \n",
              "65448                    83.0        460000.0             5542.168675   \n",
              "65449                    64.0        355000.0             5546.875000   \n",
              "\n",
              "      tipo_precio  \n",
              "0            Bajo  \n",
              "1            Bajo  \n",
              "2            Bajo  \n",
              "3            Bajo  \n",
              "4            Bajo  \n",
              "...           ...  \n",
              "65445        Alto  \n",
              "65446        Alto  \n",
              "65447        Alto  \n",
              "65448        Alto  \n",
              "65449        Alto  \n",
              "\n",
              "[65450 rows x 11 columns]"
            ]
          },
          "execution_count": 18,
          "metadata": {},
          "output_type": "execute_result"
        }
      ],
      "source": [
        "# Creo que no es lo que queremos hacer aca, necesitamos dividir el conjunto en 3 subconjuntos iguales \n",
        "# en lugar de utilizar assign_tipo_precio\n",
        "\n",
        "pxm2_ascending = conjunto_entrenamiento_final.sort_values(by=['price_per_square_meter'], ascending=True).reset_index(drop=True)\n",
        "pxm2_ascending = assign_tipo_precio(pxm2_ascending)\n",
        "pxm2_ascending"
      ]
    },
    {
      "cell_type": "code",
      "execution_count": 19,
      "metadata": {
        "colab": {
          "base_uri": "https://localhost:8080/",
          "height": 500
        },
        "id": "KlU4xjyrXj87",
        "outputId": "16ac0588-22c7-48a0-e267-4c08ad44e723"
      },
      "outputs": [
        {
          "data": {
            "image/png": "[encoded data removed]",
            "text/plain": [
              "<Figure size 640x480 with 1 Axes>"
            ]
          },
          "metadata": {},
          "output_type": "display_data"
        }
      ],
      "source": [
        "barras_pxm2_ascending=pxm2_ascending['tipo_precio'].value_counts().plot.bar(alpha=0.5,\n",
        "                                                      title=\"Gráfico de barras variable Tipo de Precio\",\n",
        "                                                      xlabel=\"Tipo de Precio\" ,\n",
        "                                                      ylabel=\"Frecuencia\")"
      ]
    },
    {
      "cell_type": "code",
      "execution_count": 20,
      "metadata": {
        "colab": {
          "base_uri": "https://localhost:8080/",
          "height": 564
        },
        "id": "K3-S1MUkXj87",
        "outputId": "8e5501ef-e737-4593-d2db-aa14cf39c564"
      },
      "outputs": [
        {
          "data": {
            "image/png": "[encoded data removed]",
            "text/plain": [
              "<Figure size 1000x600 with 1 Axes>"
            ]
          },
          "metadata": {},
          "output_type": "display_data"
        }
      ],
      "source": [
        "# No intentariamos tener bins de igual tamano sea cual sea el valor de tipo_precio?\n",
        "\n",
        "colors = {'Alto': 'red', 'Medio': 'blue', 'Bajo': 'green'}\n",
        "plt.figure(figsize=(10, 6))\n",
        "for tipo_precio, color in colors.items():\n",
        "    data_por_tipo = pxm2_ascending[pxm2_ascending['tipo_precio'] == tipo_precio]['price_per_square_meter']\n",
        "    plt.hist(data_por_tipo, bins=101, color=color, alpha=0.5, label=tipo_precio)\n",
        "\n",
        "plt.title(\"Histograma variable Precio por Metro Cuadrado por Tipo de Precio\")\n",
        "plt.xlabel(\"Precio por Metro Cuadrado\")\n",
        "plt.ylabel(\"Frecuencia\")\n",
        "plt.show()"
      ]
    },
    {
      "cell_type": "markdown",
      "metadata": {
        "id": "wC959kL8Xj87"
      },
      "source": [
        "### 2. Dividir la variable pxm2 en 3 intervalos, el primero con el 25% de las observaciones, el siguiente con el 50% y el último con el 25% de las observaciones restantes."
      ]
    },
    {
      "cell_type": "code",
      "execution_count": 21,
      "metadata": {
        "colab": {
          "base_uri": "https://localhost:8080/",
          "height": 548
        },
        "id": "S_XDwq4DXj88",
        "outputId": "12e98131-7bb6-4ff1-fa9e-ef2325b67d23"
      },
      "outputs": [
        {
          "data": {
            "text/html": [
              "<div>\n",
              "<style scoped>\n",
              "    .dataframe tbody tr th:only-of-type {\n",
              "        vertical-align: middle;\n",
              "    }\n",
              "\n",
              "    .dataframe tbody tr th {\n",
              "        vertical-align: top;\n",
              "    }\n",
              "\n",
              "    .dataframe thead th {\n",
              "        text-align: right;\n",
              "    }\n",
              "</style>\n",
              "<table border=\"1\" class=\"dataframe\">\n",
              "  <thead>\n",
              "    <tr style=\"text-align: right;\">\n",
              "      <th></th>\n",
              "      <th>latitud</th>\n",
              "      <th>longitud</th>\n",
              "      <th>place_l3</th>\n",
              "      <th>property_type</th>\n",
              "      <th>property_bedrooms</th>\n",
              "      <th>property_rooms</th>\n",
              "      <th>property_surface_covered</th>\n",
              "      <th>property_surface_total</th>\n",
              "      <th>property_price</th>\n",
              "      <th>price_per_square_meter</th>\n",
              "      <th>tipo_precio</th>\n",
              "    </tr>\n",
              "  </thead>\n",
              "  <tbody>\n",
              "    <tr>\n",
              "      <th>0</th>\n",
              "      <td>-34.587265</td>\n",
              "      <td>-58.389767</td>\n",
              "      <td>Recoleta</td>\n",
              "      <td>Departamento</td>\n",
              "      <td>2.0</td>\n",
              "      <td>3.0</td>\n",
              "      <td>67.0</td>\n",
              "      <td>83.0</td>\n",
              "      <td>5000.0</td>\n",
              "      <td>60.240964</td>\n",
              "      <td>Bajo</td>\n",
              "    </tr>\n",
              "    <tr>\n",
              "      <th>1</th>\n",
              "      <td>-34.579756</td>\n",
              "      <td>-58.406144</td>\n",
              "      <td>Palermo</td>\n",
              "      <td>Departamento</td>\n",
              "      <td>2.0</td>\n",
              "      <td>3.0</td>\n",
              "      <td>110.0</td>\n",
              "      <td>120.0</td>\n",
              "      <td>7500.0</td>\n",
              "      <td>62.500000</td>\n",
              "      <td>Bajo</td>\n",
              "    </tr>\n",
              "    <tr>\n",
              "      <th>2</th>\n",
              "      <td>-34.576973</td>\n",
              "      <td>-58.406591</td>\n",
              "      <td>Palermo Chico</td>\n",
              "      <td>Departamento</td>\n",
              "      <td>2.0</td>\n",
              "      <td>3.0</td>\n",
              "      <td>67.0</td>\n",
              "      <td>83.0</td>\n",
              "      <td>6200.0</td>\n",
              "      <td>74.698795</td>\n",
              "      <td>Bajo</td>\n",
              "    </tr>\n",
              "    <tr>\n",
              "      <th>3</th>\n",
              "      <td>-34.569770</td>\n",
              "      <td>-58.431032</td>\n",
              "      <td>Palermo</td>\n",
              "      <td>Departamento</td>\n",
              "      <td>3.0</td>\n",
              "      <td>4.0</td>\n",
              "      <td>136.0</td>\n",
              "      <td>145.0</td>\n",
              "      <td>11111.0</td>\n",
              "      <td>76.627586</td>\n",
              "      <td>Bajo</td>\n",
              "    </tr>\n",
              "    <tr>\n",
              "      <th>4</th>\n",
              "      <td>-34.612215</td>\n",
              "      <td>-58.360230</td>\n",
              "      <td>Puerto Madero</td>\n",
              "      <td>Departamento</td>\n",
              "      <td>2.0</td>\n",
              "      <td>3.0</td>\n",
              "      <td>67.0</td>\n",
              "      <td>83.0</td>\n",
              "      <td>11000.0</td>\n",
              "      <td>132.530120</td>\n",
              "      <td>Bajo</td>\n",
              "    </tr>\n",
              "    <tr>\n",
              "      <th>...</th>\n",
              "      <td>...</td>\n",
              "      <td>...</td>\n",
              "      <td>...</td>\n",
              "      <td>...</td>\n",
              "      <td>...</td>\n",
              "      <td>...</td>\n",
              "      <td>...</td>\n",
              "      <td>...</td>\n",
              "      <td>...</td>\n",
              "      <td>...</td>\n",
              "      <td>...</td>\n",
              "    </tr>\n",
              "    <tr>\n",
              "      <th>65445</th>\n",
              "      <td>-34.614185</td>\n",
              "      <td>-58.462744</td>\n",
              "      <td>Villa Gral. Mitre</td>\n",
              "      <td>Casa</td>\n",
              "      <td>2.0</td>\n",
              "      <td>3.0</td>\n",
              "      <td>67.0</td>\n",
              "      <td>83.0</td>\n",
              "      <td>460000.0</td>\n",
              "      <td>5542.168675</td>\n",
              "      <td>Alto</td>\n",
              "    </tr>\n",
              "    <tr>\n",
              "      <th>65446</th>\n",
              "      <td>-34.552525</td>\n",
              "      <td>-58.487006</td>\n",
              "      <td>Saavedra</td>\n",
              "      <td>Casa</td>\n",
              "      <td>2.0</td>\n",
              "      <td>3.0</td>\n",
              "      <td>67.0</td>\n",
              "      <td>83.0</td>\n",
              "      <td>460000.0</td>\n",
              "      <td>5542.168675</td>\n",
              "      <td>Alto</td>\n",
              "    </tr>\n",
              "    <tr>\n",
              "      <th>65447</th>\n",
              "      <td>-34.617091</td>\n",
              "      <td>-58.373067</td>\n",
              "      <td>San Telmo</td>\n",
              "      <td>PH</td>\n",
              "      <td>2.0</td>\n",
              "      <td>3.0</td>\n",
              "      <td>67.0</td>\n",
              "      <td>83.0</td>\n",
              "      <td>460000.0</td>\n",
              "      <td>5542.168675</td>\n",
              "      <td>Alto</td>\n",
              "    </tr>\n",
              "    <tr>\n",
              "      <th>65448</th>\n",
              "      <td>-34.605177</td>\n",
              "      <td>-58.444223</td>\n",
              "      <td>Villa Crespo</td>\n",
              "      <td>Casa</td>\n",
              "      <td>2.0</td>\n",
              "      <td>3.0</td>\n",
              "      <td>67.0</td>\n",
              "      <td>83.0</td>\n",
              "      <td>460000.0</td>\n",
              "      <td>5542.168675</td>\n",
              "      <td>Alto</td>\n",
              "    </tr>\n",
              "    <tr>\n",
              "      <th>65449</th>\n",
              "      <td>-34.617865</td>\n",
              "      <td>-58.360868</td>\n",
              "      <td>Puerto Madero</td>\n",
              "      <td>Departamento</td>\n",
              "      <td>1.0</td>\n",
              "      <td>2.0</td>\n",
              "      <td>59.0</td>\n",
              "      <td>64.0</td>\n",
              "      <td>355000.0</td>\n",
              "      <td>5546.875000</td>\n",
              "      <td>Alto</td>\n",
              "    </tr>\n",
              "  </tbody>\n",
              "</table>\n",
              "<p>65450 rows × 11 columns</p>\n",
              "</div>"
            ],
            "text/plain": [
              "         latitud   longitud           place_l3 property_type  \\\n",
              "0     -34.587265 -58.389767           Recoleta  Departamento   \n",
              "1     -34.579756 -58.406144            Palermo  Departamento   \n",
              "2     -34.576973 -58.406591      Palermo Chico  Departamento   \n",
              "3     -34.569770 -58.431032            Palermo  Departamento   \n",
              "4     -34.612215 -58.360230      Puerto Madero  Departamento   \n",
              "...          ...        ...                ...           ...   \n",
              "65445 -34.614185 -58.462744  Villa Gral. Mitre          Casa   \n",
              "65446 -34.552525 -58.487006           Saavedra          Casa   \n",
              "65447 -34.617091 -58.373067          San Telmo            PH   \n",
              "65448 -34.605177 -58.444223       Villa Crespo          Casa   \n",
              "65449 -34.617865 -58.360868      Puerto Madero  Departamento   \n",
              "\n",
              "       property_bedrooms  property_rooms  property_surface_covered  \\\n",
              "0                    2.0             3.0                      67.0   \n",
              "1                    2.0             3.0                     110.0   \n",
              "2                    2.0             3.0                      67.0   \n",
              "3                    3.0             4.0                     136.0   \n",
              "4                    2.0             3.0                      67.0   \n",
              "...                  ...             ...                       ...   \n",
              "65445                2.0             3.0                      67.0   \n",
              "65446                2.0             3.0                      67.0   \n",
              "65447                2.0             3.0                      67.0   \n",
              "65448                2.0             3.0                      67.0   \n",
              "65449                1.0             2.0                      59.0   \n",
              "\n",
              "       property_surface_total  property_price  price_per_square_meter  \\\n",
              "0                        83.0          5000.0               60.240964   \n",
              "1                       120.0          7500.0               62.500000   \n",
              "2                        83.0          6200.0               74.698795   \n",
              "3                       145.0         11111.0               76.627586   \n",
              "4                        83.0         11000.0              132.530120   \n",
              "...                       ...             ...                     ...   \n",
              "65445                    83.0        460000.0             5542.168675   \n",
              "65446                    83.0        460000.0             5542.168675   \n",
              "65447                    83.0        460000.0             5542.168675   \n",
              "65448                    83.0        460000.0             5542.168675   \n",
              "65449                    64.0        355000.0             5546.875000   \n",
              "\n",
              "      tipo_precio  \n",
              "0            Bajo  \n",
              "1            Bajo  \n",
              "2            Bajo  \n",
              "3            Bajo  \n",
              "4            Bajo  \n",
              "...           ...  \n",
              "65445        Alto  \n",
              "65446        Alto  \n",
              "65447        Alto  \n",
              "65448        Alto  \n",
              "65449        Alto  \n",
              "\n",
              "[65450 rows x 11 columns]"
            ]
          },
          "execution_count": 21,
          "metadata": {},
          "output_type": "execute_result"
        }
      ],
      "source": [
        "pxm2_ascending_2 = pxm2_ascending.copy()\n",
        "pxm2_ascending_2 = assign_tipo_precio(pxm2_ascending_2)\n",
        "pxm2_ascending_2"
      ]
    },
    {
      "cell_type": "code",
      "execution_count": 22,
      "metadata": {
        "colab": {
          "base_uri": "https://localhost:8080/",
          "height": 500
        },
        "id": "2DHvvvd3Xj88",
        "outputId": "f3c9a9ea-4cac-40a0-99cd-7f78e9173aee"
      },
      "outputs": [
        {
          "data": {
            "image/png": "[encoded data removed]",
            "text/plain": [
              "<Figure size 640x480 with 1 Axes>"
            ]
          },
          "metadata": {},
          "output_type": "display_data"
        }
      ],
      "source": [
        "barras_pxm2_ascending_2=pxm2_ascending_2['tipo_precio'].value_counts().plot.bar(alpha=0.5,\n",
        "                                                      title=\"Gráfico de barras variable Tipo de Precio\",\n",
        "                                                      xlabel=\"Tipo de Precio\" ,\n",
        "                                                      ylabel=\"Frecuencia\")"
      ]
    },
    {
      "cell_type": "code",
      "execution_count": 23,
      "metadata": {
        "colab": {
          "base_uri": "https://localhost:8080/",
          "height": 564
        },
        "id": "_MXbMewlXj88",
        "outputId": "b7a00bc7-b222-4b3e-a7b6-ef1bc1fba965"
      },
      "outputs": [
        {
          "data": {
            "image/png": "[encoded data removed]",
            "text/plain": [
              "<Figure size 1000x600 with 1 Axes>"
            ]
          },
          "metadata": {},
          "output_type": "display_data"
        }
      ],
      "source": [
        "# No intentariamos tener bins de igual tamano sea cual sea el valor de tipo_precio?\n",
        "\n",
        "colors = {'Alto': 'red', 'Medio': 'blue', 'Bajo': 'green'}\n",
        "plt.figure(figsize=(10, 6))\n",
        "for tipo_precio, color in colors.items():\n",
        "    data_por_tipo = pxm2_ascending_2[pxm2_ascending_2['tipo_precio'] == tipo_precio]['price_per_square_meter']\n",
        "    plt.hist(data_por_tipo, bins=101, color=color, alpha=0.5, label=tipo_precio)\n",
        "\n",
        "plt.title(\"Histograma variable Precio por Metro Cuadrado por Tipo de Precio\")\n",
        "plt.xlabel(\"Precio por Metro Cuadrado\")\n",
        "plt.ylabel(\"Frecuencia\")\n",
        "plt.show()"
      ]
    },
    {
      "cell_type": "markdown",
      "metadata": {
        "id": "BD62vA3KXj88"
      },
      "source": [
        "### 3. Trabajar la variable pxm2 relativa a cada tipo de propiedad y luego dividirla como en el punto anterior."
      ]
    },
    {
      "cell_type": "code",
      "execution_count": 26,
      "metadata": {
        "colab": {
          "base_uri": "https://localhost:8080/",
          "height": 478
        },
        "id": "7jlzRlqsXj88",
        "outputId": "98ed3025-ef88-4860-ef05-abce95804188"
      },
      "outputs": [
        {
          "data": {
            "text/html": [
              "<div>\n",
              "<style scoped>\n",
              "    .dataframe tbody tr th:only-of-type {\n",
              "        vertical-align: middle;\n",
              "    }\n",
              "\n",
              "    .dataframe tbody tr th {\n",
              "        vertical-align: top;\n",
              "    }\n",
              "\n",
              "    .dataframe thead th {\n",
              "        text-align: right;\n",
              "    }\n",
              "</style>\n",
              "<table border=\"1\" class=\"dataframe\">\n",
              "  <thead>\n",
              "    <tr style=\"text-align: right;\">\n",
              "      <th></th>\n",
              "      <th>latitud</th>\n",
              "      <th>longitud</th>\n",
              "      <th>place_l3</th>\n",
              "      <th>property_type</th>\n",
              "      <th>property_bedrooms</th>\n",
              "      <th>property_rooms</th>\n",
              "      <th>property_surface_covered</th>\n",
              "      <th>property_surface_total</th>\n",
              "      <th>property_price</th>\n",
              "      <th>price_per_square_meter</th>\n",
              "      <th>tipo_precio</th>\n",
              "    </tr>\n",
              "  </thead>\n",
              "  <tbody>\n",
              "    <tr>\n",
              "      <th>0</th>\n",
              "      <td>-34.574142</td>\n",
              "      <td>-58.408867</td>\n",
              "      <td>Palermo</td>\n",
              "      <td>Casa</td>\n",
              "      <td>2.0</td>\n",
              "      <td>3.0</td>\n",
              "      <td>72.0</td>\n",
              "      <td>230.0</td>\n",
              "      <td>90000.0</td>\n",
              "      <td>391.304348</td>\n",
              "      <td>Bajo</td>\n",
              "    </tr>\n",
              "    <tr>\n",
              "      <th>1</th>\n",
              "      <td>-34.608300</td>\n",
              "      <td>-58.371200</td>\n",
              "      <td>Monserrat</td>\n",
              "      <td>Casa</td>\n",
              "      <td>2.0</td>\n",
              "      <td>3.0</td>\n",
              "      <td>67.0</td>\n",
              "      <td>83.0</td>\n",
              "      <td>40000.0</td>\n",
              "      <td>481.927711</td>\n",
              "      <td>Bajo</td>\n",
              "    </tr>\n",
              "    <tr>\n",
              "      <th>2</th>\n",
              "      <td>-34.657288</td>\n",
              "      <td>-58.411771</td>\n",
              "      <td>Nueva Pompeya</td>\n",
              "      <td>Casa</td>\n",
              "      <td>2.0</td>\n",
              "      <td>3.0</td>\n",
              "      <td>80.0</td>\n",
              "      <td>132.0</td>\n",
              "      <td>74000.0</td>\n",
              "      <td>560.606061</td>\n",
              "      <td>Bajo</td>\n",
              "    </tr>\n",
              "    <tr>\n",
              "      <th>3</th>\n",
              "      <td>-34.646343</td>\n",
              "      <td>-58.363495</td>\n",
              "      <td>Boca</td>\n",
              "      <td>Casa</td>\n",
              "      <td>2.0</td>\n",
              "      <td>3.0</td>\n",
              "      <td>117.0</td>\n",
              "      <td>146.0</td>\n",
              "      <td>85000.0</td>\n",
              "      <td>582.191781</td>\n",
              "      <td>Bajo</td>\n",
              "    </tr>\n",
              "    <tr>\n",
              "      <th>4</th>\n",
              "      <td>-34.653845</td>\n",
              "      <td>-58.464647</td>\n",
              "      <td>Parque Avellaneda</td>\n",
              "      <td>Casa</td>\n",
              "      <td>2.0</td>\n",
              "      <td>3.0</td>\n",
              "      <td>91.0</td>\n",
              "      <td>91.0</td>\n",
              "      <td>56800.0</td>\n",
              "      <td>624.175824</td>\n",
              "      <td>Bajo</td>\n",
              "    </tr>\n",
              "    <tr>\n",
              "      <th>...</th>\n",
              "      <td>...</td>\n",
              "      <td>...</td>\n",
              "      <td>...</td>\n",
              "      <td>...</td>\n",
              "      <td>...</td>\n",
              "      <td>...</td>\n",
              "      <td>...</td>\n",
              "      <td>...</td>\n",
              "      <td>...</td>\n",
              "      <td>...</td>\n",
              "      <td>...</td>\n",
              "    </tr>\n",
              "    <tr>\n",
              "      <th>65445</th>\n",
              "      <td>-34.597236</td>\n",
              "      <td>-58.395112</td>\n",
              "      <td>Recoleta</td>\n",
              "      <td>PH</td>\n",
              "      <td>2.0</td>\n",
              "      <td>3.0</td>\n",
              "      <td>67.0</td>\n",
              "      <td>83.0</td>\n",
              "      <td>450000.0</td>\n",
              "      <td>5421.686747</td>\n",
              "      <td>Alto</td>\n",
              "    </tr>\n",
              "    <tr>\n",
              "      <th>65446</th>\n",
              "      <td>-34.596541</td>\n",
              "      <td>-58.394830</td>\n",
              "      <td>Recoleta</td>\n",
              "      <td>PH</td>\n",
              "      <td>2.0</td>\n",
              "      <td>3.0</td>\n",
              "      <td>67.0</td>\n",
              "      <td>83.0</td>\n",
              "      <td>450000.0</td>\n",
              "      <td>5421.686747</td>\n",
              "      <td>Alto</td>\n",
              "    </tr>\n",
              "    <tr>\n",
              "      <th>65447</th>\n",
              "      <td>-34.616630</td>\n",
              "      <td>-58.430737</td>\n",
              "      <td>Caballito</td>\n",
              "      <td>PH</td>\n",
              "      <td>2.0</td>\n",
              "      <td>3.0</td>\n",
              "      <td>67.0</td>\n",
              "      <td>83.0</td>\n",
              "      <td>450000.0</td>\n",
              "      <td>5421.686747</td>\n",
              "      <td>Alto</td>\n",
              "    </tr>\n",
              "    <tr>\n",
              "      <th>65448</th>\n",
              "      <td>-34.609422</td>\n",
              "      <td>-58.450249</td>\n",
              "      <td>Caballito</td>\n",
              "      <td>PH</td>\n",
              "      <td>2.0</td>\n",
              "      <td>3.0</td>\n",
              "      <td>67.0</td>\n",
              "      <td>83.0</td>\n",
              "      <td>460000.0</td>\n",
              "      <td>5542.168675</td>\n",
              "      <td>Alto</td>\n",
              "    </tr>\n",
              "    <tr>\n",
              "      <th>65449</th>\n",
              "      <td>-34.617091</td>\n",
              "      <td>-58.373067</td>\n",
              "      <td>San Telmo</td>\n",
              "      <td>PH</td>\n",
              "      <td>2.0</td>\n",
              "      <td>3.0</td>\n",
              "      <td>67.0</td>\n",
              "      <td>83.0</td>\n",
              "      <td>460000.0</td>\n",
              "      <td>5542.168675</td>\n",
              "      <td>Alto</td>\n",
              "    </tr>\n",
              "  </tbody>\n",
              "</table>\n",
              "<p>65450 rows × 11 columns</p>\n",
              "</div>"
            ],
            "text/plain": [
              "         latitud   longitud           place_l3 property_type  \\\n",
              "0     -34.574142 -58.408867            Palermo          Casa   \n",
              "1     -34.608300 -58.371200          Monserrat          Casa   \n",
              "2     -34.657288 -58.411771      Nueva Pompeya          Casa   \n",
              "3     -34.646343 -58.363495               Boca          Casa   \n",
              "4     -34.653845 -58.464647  Parque Avellaneda          Casa   \n",
              "...          ...        ...                ...           ...   \n",
              "65445 -34.597236 -58.395112           Recoleta            PH   \n",
              "65446 -34.596541 -58.394830           Recoleta            PH   \n",
              "65447 -34.616630 -58.430737          Caballito            PH   \n",
              "65448 -34.609422 -58.450249          Caballito            PH   \n",
              "65449 -34.617091 -58.373067          San Telmo            PH   \n",
              "\n",
              "       property_bedrooms  property_rooms  property_surface_covered  \\\n",
              "0                    2.0             3.0                      72.0   \n",
              "1                    2.0             3.0                      67.0   \n",
              "2                    2.0             3.0                      80.0   \n",
              "3                    2.0             3.0                     117.0   \n",
              "4                    2.0             3.0                      91.0   \n",
              "...                  ...             ...                       ...   \n",
              "65445                2.0             3.0                      67.0   \n",
              "65446                2.0             3.0                      67.0   \n",
              "65447                2.0             3.0                      67.0   \n",
              "65448                2.0             3.0                      67.0   \n",
              "65449                2.0             3.0                      67.0   \n",
              "\n",
              "       property_surface_total  property_price  price_per_square_meter  \\\n",
              "0                       230.0         90000.0              391.304348   \n",
              "1                        83.0         40000.0              481.927711   \n",
              "2                       132.0         74000.0              560.606061   \n",
              "3                       146.0         85000.0              582.191781   \n",
              "4                        91.0         56800.0              624.175824   \n",
              "...                       ...             ...                     ...   \n",
              "65445                    83.0        450000.0             5421.686747   \n",
              "65446                    83.0        450000.0             5421.686747   \n",
              "65447                    83.0        450000.0             5421.686747   \n",
              "65448                    83.0        460000.0             5542.168675   \n",
              "65449                    83.0        460000.0             5542.168675   \n",
              "\n",
              "      tipo_precio  \n",
              "0            Bajo  \n",
              "1            Bajo  \n",
              "2            Bajo  \n",
              "3            Bajo  \n",
              "4            Bajo  \n",
              "...           ...  \n",
              "65445        Alto  \n",
              "65446        Alto  \n",
              "65447        Alto  \n",
              "65448        Alto  \n",
              "65449        Alto  \n",
              "\n",
              "[65450 rows x 11 columns]"
            ]
          },
          "execution_count": 26,
          "metadata": {},
          "output_type": "execute_result"
        }
      ],
      "source": [
        "pxm2_ascending_3 = pxm2_ascending.copy()\n",
        "pxm2_ascending_3_con_tipo_precio = pxm2_ascending_3.groupby('property_type').apply(assign_tipo_precio).reset_index(drop=True)\n",
        "pxm2_ascending_3_con_tipo_precio"
      ]
    },
    {
      "cell_type": "code",
      "execution_count": 27,
      "metadata": {
        "colab": {
          "base_uri": "https://localhost:8080/",
          "height": 500
        },
        "id": "VpxaFkSlXj88",
        "outputId": "2d81fe08-c835-4550-f38a-16a4690a2eb0"
      },
      "outputs": [
        {
          "data": {
            "image/png": "[encoded data removed]",
            "text/plain": [
              "<Figure size 640x480 with 1 Axes>"
            ]
          },
          "metadata": {},
          "output_type": "display_data"
        }
      ],
      "source": [
        "# Creo que tenemos un problema porque las divisiones sobre los diferentes tipos de propiedad \n",
        "# no siguen las instrucciones (ver PH, por ejemplo)\n",
        "\n",
        "barras_pxm2_ascending_3=pxm2_ascending_3_con_tipo_precio['tipo_precio'].value_counts().plot.bar(alpha=0.5,\n",
        "                                                      title=\"Gráfico de barras variable Tipo de Precio\",\n",
        "                                                      xlabel=\"Tipo de Precio\" ,\n",
        "                                                      ylabel=\"Frecuencia\")"
      ]
    },
    {
      "cell_type": "code",
      "execution_count": 28,
      "metadata": {
        "colab": {
          "base_uri": "https://localhost:8080/",
          "height": 564
        },
        "id": "4V4MHGFkXj88",
        "outputId": "8a0e0f1e-0c42-401c-9dea-e95f77e78fb9"
      },
      "outputs": [
        {
          "data": {
            "image/png": "[encoded data removed]",
            "text/plain": [
              "<Figure size 1000x600 with 1 Axes>"
            ]
          },
          "metadata": {},
          "output_type": "display_data"
        }
      ],
      "source": [
        "# No intentariamos tener bins de igual tamano sea cual sea el valor de tipo_precio?\n",
        "\n",
        "colors = {'Alto': 'red', 'Medio': 'blue', 'Bajo': 'green'}\n",
        "plt.figure(figsize=(10, 6))\n",
        "for tipo_precio, color in colors.items():\n",
        "    data_por_tipo = pxm2_ascending_3_con_tipo_precio[(pxm2_ascending_3_con_tipo_precio['tipo_precio'] == tipo_precio) & (pxm2_ascending_3_con_tipo_precio['property_type'] == 'Casa')]['price_per_square_meter']\n",
        "    plt.hist(data_por_tipo, bins=101, color=color, alpha=0.5, label=tipo_precio)\n",
        "\n",
        "plt.title(\"Histograma variable Precio por Metro Cuadrado por Tipo de Precio - Casa\")\n",
        "plt.xlabel(\"Precio por Metro Cuadrado\")\n",
        "plt.ylabel(\"Frecuencia\")\n",
        "plt.show()"
      ]
    },
    {
      "cell_type": "code",
      "execution_count": 29,
      "metadata": {
        "colab": {
          "base_uri": "https://localhost:8080/",
          "height": 564
        },
        "id": "zeLhi8FLXj88",
        "outputId": "f4e1b704-bf21-49a2-e2b8-bc4c9e7922f1"
      },
      "outputs": [
        {
          "data": {
            "image/png": "[encoded data removed]",
            "text/plain": [
              "<Figure size 1000x600 with 1 Axes>"
            ]
          },
          "metadata": {},
          "output_type": "display_data"
        }
      ],
      "source": [
        "# No intentariamos tener bins de igual tamano sea cual sea el valor de tipo_precio?\n",
        "\n",
        "colors = {'Alto': 'red', 'Medio': 'blue', 'Bajo': 'green'}\n",
        "plt.figure(figsize=(10, 6))\n",
        "for tipo_precio, color in colors.items():\n",
        "    data_por_tipo = pxm2_ascending_3_con_tipo_precio[(pxm2_ascending_3_con_tipo_precio['tipo_precio'] == tipo_precio) & (pxm2_ascending_3_con_tipo_precio['property_type'] == 'PH')]['price_per_square_meter']\n",
        "    plt.hist(data_por_tipo, bins=101, color=color, alpha=0.5, label=tipo_precio)\n",
        "\n",
        "plt.title(\"Histograma variable Precio por Metro Cuadrado por Tipo de Precio - PH\")\n",
        "plt.xlabel(\"Precio por Metro Cuadrado\")\n",
        "plt.ylabel(\"Frecuencia\")\n",
        "plt.show()"
      ]
    },
    {
      "cell_type": "code",
      "execution_count": 30,
      "metadata": {
        "colab": {
          "base_uri": "https://localhost:8080/",
          "height": 564
        },
        "id": "HXE9PKxLXj89",
        "outputId": "6f374214-ffa7-43e9-b321-a246608f22cd"
      },
      "outputs": [
        {
          "data": {
            "image/png": "[encoded data removed]",
            "text/plain": [
              "<Figure size 1000x600 with 1 Axes>"
            ]
          },
          "metadata": {},
          "output_type": "display_data"
        }
      ],
      "source": [
        "# No intentariamos tener bins de igual tamano sea cual sea el valor de tipo_precio?\n",
        "\n",
        "colors = {'Alto': 'red', 'Medio': 'blue', 'Bajo': 'green'}\n",
        "plt.figure(figsize=(10, 6))\n",
        "for tipo_precio, color in colors.items():\n",
        "    data_por_tipo = pxm2_ascending_3_con_tipo_precio[(pxm2_ascending_3_con_tipo_precio['tipo_precio'] == tipo_precio) & (pxm2_ascending_3_con_tipo_precio['property_type'] == 'Departamento')]['price_per_square_meter']\n",
        "    plt.hist(data_por_tipo, bins=101, color=color, alpha=0.5, label=tipo_precio)\n",
        "\n",
        "plt.title(\"Histograma variable Precio por Metro Cuadrado por Tipo de Precio - Departamento\")\n",
        "plt.xlabel(\"Precio por Metro Cuadrado\")\n",
        "plt.ylabel(\"Frecuencia\")\n",
        "plt.show()"
      ]
    },
    {
      "cell_type": "markdown",
      "metadata": {
        "id": "AXnFB5dYhjqn"
      },
      "source": [
        "*falta mapa de caba*\n",
        "\n"
      ]
    },
    {
      "cell_type": "markdown",
      "metadata": {
        "id": "WG4YEzOJXj89"
      },
      "source": [
        "TO DO"
      ]
    },
    {
      "cell_type": "markdown",
      "metadata": {
        "id": "xvYPkd5qHf4S"
      },
      "source": [
        "#REVISAR"
      ]
    },
    {
      "cell_type": "markdown",
      "metadata": {
        "id": "Hv5Yw1HLXj89"
      },
      "source": [
        "## b. Entrenamiento y Prediccion"
      ]
    },
    {
      "cell_type": "code",
      "execution_count": 31,
      "metadata": {
        "colab": {
          "base_uri": "https://localhost:8080/",
          "height": 261
        },
        "id": "i1r2clEOjmln",
        "outputId": "173799cb-4060-4ea0-cb3b-c5af2bbd09e7"
      },
      "outputs": [
        {
          "data": {
            "text/html": [
              "<div>\n",
              "<style scoped>\n",
              "    .dataframe tbody tr th:only-of-type {\n",
              "        vertical-align: middle;\n",
              "    }\n",
              "\n",
              "    .dataframe tbody tr th {\n",
              "        vertical-align: top;\n",
              "    }\n",
              "\n",
              "    .dataframe thead th {\n",
              "        text-align: right;\n",
              "    }\n",
              "</style>\n",
              "<table border=\"1\" class=\"dataframe\">\n",
              "  <thead>\n",
              "    <tr style=\"text-align: right;\">\n",
              "      <th></th>\n",
              "      <th>latitud</th>\n",
              "      <th>longitud</th>\n",
              "      <th>place_l3</th>\n",
              "      <th>property_type</th>\n",
              "      <th>property_bedrooms</th>\n",
              "      <th>property_rooms</th>\n",
              "      <th>property_surface_covered</th>\n",
              "      <th>property_surface_total</th>\n",
              "      <th>property_price</th>\n",
              "      <th>price_per_square_meter</th>\n",
              "      <th>tipo_precio</th>\n",
              "    </tr>\n",
              "  </thead>\n",
              "  <tbody>\n",
              "    <tr>\n",
              "      <th>0</th>\n",
              "      <td>-34.574142</td>\n",
              "      <td>-58.408867</td>\n",
              "      <td>Palermo</td>\n",
              "      <td>Casa</td>\n",
              "      <td>2.0</td>\n",
              "      <td>3.0</td>\n",
              "      <td>72.0</td>\n",
              "      <td>230.0</td>\n",
              "      <td>90000.0</td>\n",
              "      <td>391.304348</td>\n",
              "      <td>Bajo</td>\n",
              "    </tr>\n",
              "    <tr>\n",
              "      <th>1</th>\n",
              "      <td>-34.608300</td>\n",
              "      <td>-58.371200</td>\n",
              "      <td>Monserrat</td>\n",
              "      <td>Casa</td>\n",
              "      <td>2.0</td>\n",
              "      <td>3.0</td>\n",
              "      <td>67.0</td>\n",
              "      <td>83.0</td>\n",
              "      <td>40000.0</td>\n",
              "      <td>481.927711</td>\n",
              "      <td>Bajo</td>\n",
              "    </tr>\n",
              "    <tr>\n",
              "      <th>2</th>\n",
              "      <td>-34.657288</td>\n",
              "      <td>-58.411771</td>\n",
              "      <td>Nueva Pompeya</td>\n",
              "      <td>Casa</td>\n",
              "      <td>2.0</td>\n",
              "      <td>3.0</td>\n",
              "      <td>80.0</td>\n",
              "      <td>132.0</td>\n",
              "      <td>74000.0</td>\n",
              "      <td>560.606061</td>\n",
              "      <td>Bajo</td>\n",
              "    </tr>\n",
              "    <tr>\n",
              "      <th>3</th>\n",
              "      <td>-34.646343</td>\n",
              "      <td>-58.363495</td>\n",
              "      <td>Boca</td>\n",
              "      <td>Casa</td>\n",
              "      <td>2.0</td>\n",
              "      <td>3.0</td>\n",
              "      <td>117.0</td>\n",
              "      <td>146.0</td>\n",
              "      <td>85000.0</td>\n",
              "      <td>582.191781</td>\n",
              "      <td>Bajo</td>\n",
              "    </tr>\n",
              "    <tr>\n",
              "      <th>4</th>\n",
              "      <td>-34.653845</td>\n",
              "      <td>-58.464647</td>\n",
              "      <td>Parque Avellaneda</td>\n",
              "      <td>Casa</td>\n",
              "      <td>2.0</td>\n",
              "      <td>3.0</td>\n",
              "      <td>91.0</td>\n",
              "      <td>91.0</td>\n",
              "      <td>56800.0</td>\n",
              "      <td>624.175824</td>\n",
              "      <td>Bajo</td>\n",
              "    </tr>\n",
              "  </tbody>\n",
              "</table>\n",
              "</div>"
            ],
            "text/plain": [
              "     latitud   longitud           place_l3 property_type  property_bedrooms  \\\n",
              "0 -34.574142 -58.408867            Palermo          Casa                2.0   \n",
              "1 -34.608300 -58.371200          Monserrat          Casa                2.0   \n",
              "2 -34.657288 -58.411771      Nueva Pompeya          Casa                2.0   \n",
              "3 -34.646343 -58.363495               Boca          Casa                2.0   \n",
              "4 -34.653845 -58.464647  Parque Avellaneda          Casa                2.0   \n",
              "\n",
              "   property_rooms  property_surface_covered  property_surface_total  \\\n",
              "0             3.0                      72.0                   230.0   \n",
              "1             3.0                      67.0                    83.0   \n",
              "2             3.0                      80.0                   132.0   \n",
              "3             3.0                     117.0                   146.0   \n",
              "4             3.0                      91.0                    91.0   \n",
              "\n",
              "   property_price  price_per_square_meter tipo_precio  \n",
              "0         90000.0              391.304348        Bajo  \n",
              "1         40000.0              481.927711        Bajo  \n",
              "2         74000.0              560.606061        Bajo  \n",
              "3         85000.0              582.191781        Bajo  \n",
              "4         56800.0              624.175824        Bajo  "
            ]
          },
          "execution_count": 31,
          "metadata": {},
          "output_type": "execute_result"
        }
      ],
      "source": [
        "pxm2_ascending_3_con_tipo_precio.head()"
      ]
    },
    {
      "cell_type": "markdown",
      "metadata": {
        "id": "CYZdxYwhk53Z"
      },
      "source": [
        "Se pide predecir el atributo tipo_precio excluyendo del entrenamiento la variable price, pxm2 y cualquier otra que pueda tener el precio de la venta."
      ]
    },
    {
      "cell_type": "code",
      "execution_count": 32,
      "metadata": {
        "id": "0OBONATxk7zA"
      },
      "outputs": [],
      "source": [
        "df_por_tipo_de_propiedad = pxm2_ascending_3_con_tipo_precio.copy()"
      ]
    },
    {
      "cell_type": "code",
      "execution_count": 33,
      "metadata": {
        "id": "QSC23VfTlwaM"
      },
      "outputs": [],
      "source": [
        "#Eliminar las columnas pxm2 y precio de la propiedad\n",
        "df_por_tipo_de_propiedad.drop(['price_per_square_meter','property_price'], axis=\"columns\", inplace=True)\n"
      ]
    },
    {
      "cell_type": "code",
      "execution_count": 34,
      "metadata": {
        "colab": {
          "base_uri": "https://localhost:8080/"
        },
        "id": "EtF9P7qWwC8w",
        "outputId": "67a3cb58-403f-40de-d94b-72dafa4f8ffc"
      },
      "outputs": [
        {
          "name": "stdout",
          "output_type": "stream",
          "text": [
            "<class 'pandas.core.frame.DataFrame'>\n",
            "RangeIndex: 65450 entries, 0 to 65449\n",
            "Data columns (total 9 columns):\n",
            " #   Column                    Non-Null Count  Dtype  \n",
            "---  ------                    --------------  -----  \n",
            " 0   latitud                   65450 non-null  float64\n",
            " 1   longitud                  65450 non-null  float64\n",
            " 2   place_l3                  65445 non-null  object \n",
            " 3   property_type             65450 non-null  object \n",
            " 4   property_bedrooms         65450 non-null  float64\n",
            " 5   property_rooms            65450 non-null  float64\n",
            " 6   property_surface_covered  65450 non-null  float64\n",
            " 7   property_surface_total    65450 non-null  float64\n",
            " 8   tipo_precio               65450 non-null  object \n",
            "dtypes: float64(6), object(3)\n",
            "memory usage: 4.5+ MB\n"
          ]
        }
      ],
      "source": [
        "df_por_tipo_de_propiedad.info()"
      ]
    },
    {
      "cell_type": "code",
      "execution_count": 35,
      "metadata": {
        "id": "W949zCuBy7MY"
      },
      "outputs": [],
      "source": [
        "#importamos las librerias que vamos a utlizar\n",
        "from sklearn.preprocessing import (\n",
        "    OneHotEncoder,\n",
        "    KBinsDiscretizer,\n",
        "    LabelEncoder,\n",
        "    StandardScaler,\n",
        "    MinMaxScaler,\n",
        "    Normalizer,\n",
        "    PowerTransformer,\n",
        "    OrdinalEncoder,\n",
        "    RobustScaler,\n",
        ")\n",
        "oneHot = OneHotEncoder()"
      ]
    },
    {
      "cell_type": "markdown",
      "metadata": {
        "id": "b7vrEP45zSrP"
      },
      "source": [
        "vamos a utilizar oneHot para las columnas place_l3 y property_type"
      ]
    },
    {
      "cell_type": "code",
      "execution_count": 38,
      "metadata": {
        "id": "7ugfIkMhzlew"
      },
      "outputs": [],
      "source": [
        "# En este caso, no funcionará porque drop_first borra la columna property_type_Casa\n",
        "df_dummies = pd.get_dummies(df_por_tipo_de_propiedad, columns=['property_type'], drop_first=True, dtype=int)"
      ]
    },
    {
      "cell_type": "markdown",
      "metadata": {
        "id": "KPEfyfSY0RoJ"
      },
      "source": [
        "Para place_l3, vamos a calcular la cantidad de palabras y cuántas son en total, luego dropear el texto."
      ]
    },
    {
      "cell_type": "code",
      "execution_count": 40,
      "metadata": {
        "id": "N3DbrDup0f1M"
      },
      "outputs": [],
      "source": [
        "df_dummies['title_len'] = df_dummies['place_l3'].str.len()\n",
        "df_dummies['title_words'] = df_dummies['place_l3'].str.split().str.len()\n",
        "df_dummies.drop(['place_l3'], axis=1, inplace=True)"
      ]
    },
    {
      "cell_type": "markdown",
      "metadata": {
        "id": "jz15i4sM1E1J"
      },
      "source": [
        "Escalo las vaiables numéricas."
      ]
    },
    {
      "cell_type": "code",
      "execution_count": 43,
      "metadata": {
        "id": "jrZu74OR1FZV"
      },
      "outputs": [],
      "source": [
        "columnas_num = [ 'property_rooms', 'property_bedrooms', 'property_surface_total', 'property_surface_covered','title_len','title_words']\n"
      ]
    },
    {
      "cell_type": "code",
      "execution_count": 44,
      "metadata": {
        "id": "PX7h-Ukq1dyf"
      },
      "outputs": [],
      "source": [
        "standard_scaler = StandardScaler()\n",
        "df_dummies[columnas_num] = standard_scaler.fit_transform(df_dummies[columnas_num])"
      ]
    },
    {
      "cell_type": "code",
      "execution_count": 45,
      "metadata": {
        "colab": {
          "base_uri": "https://localhost:8080/",
          "height": 383
        },
        "id": "JT6ltyKt1mFz",
        "outputId": "655792fb-9a51-4540-f9ad-1bebd746d3ab"
      },
      "outputs": [
        {
          "data": {
            "text/html": [
              "<div>\n",
              "<style scoped>\n",
              "    .dataframe tbody tr th:only-of-type {\n",
              "        vertical-align: middle;\n",
              "    }\n",
              "\n",
              "    .dataframe tbody tr th {\n",
              "        vertical-align: top;\n",
              "    }\n",
              "\n",
              "    .dataframe thead th {\n",
              "        text-align: right;\n",
              "    }\n",
              "</style>\n",
              "<table border=\"1\" class=\"dataframe\">\n",
              "  <thead>\n",
              "    <tr style=\"text-align: right;\">\n",
              "      <th></th>\n",
              "      <th>latitud</th>\n",
              "      <th>longitud</th>\n",
              "      <th>property_bedrooms</th>\n",
              "      <th>property_rooms</th>\n",
              "      <th>property_surface_covered</th>\n",
              "      <th>property_surface_total</th>\n",
              "      <th>tipo_precio</th>\n",
              "      <th>property_type_Casa</th>\n",
              "      <th>property_type_Departamento</th>\n",
              "      <th>property_type_PH</th>\n",
              "      <th>title_len</th>\n",
              "      <th>title_words</th>\n",
              "    </tr>\n",
              "  </thead>\n",
              "  <tbody>\n",
              "    <tr>\n",
              "      <th>0</th>\n",
              "      <td>-34.574142</td>\n",
              "      <td>-58.408867</td>\n",
              "      <td>0.442879</td>\n",
              "      <td>0.495165</td>\n",
              "      <td>0.458707</td>\n",
              "      <td>4.684825</td>\n",
              "      <td>Bajo</td>\n",
              "      <td>1</td>\n",
              "      <td>0</td>\n",
              "      <td>0</td>\n",
              "      <td>-0.793343</td>\n",
              "      <td>-0.637623</td>\n",
              "    </tr>\n",
              "    <tr>\n",
              "      <th>1</th>\n",
              "      <td>-34.608300</td>\n",
              "      <td>-58.371200</td>\n",
              "      <td>0.442879</td>\n",
              "      <td>0.495165</td>\n",
              "      <td>0.277233</td>\n",
              "      <td>0.397241</td>\n",
              "      <td>Bajo</td>\n",
              "      <td>1</td>\n",
              "      <td>0</td>\n",
              "      <td>0</td>\n",
              "      <td>-0.143673</td>\n",
              "      <td>-0.637623</td>\n",
              "    </tr>\n",
              "    <tr>\n",
              "      <th>2</th>\n",
              "      <td>-34.657288</td>\n",
              "      <td>-58.411771</td>\n",
              "      <td>0.442879</td>\n",
              "      <td>0.495165</td>\n",
              "      <td>0.749065</td>\n",
              "      <td>1.826436</td>\n",
              "      <td>Bajo</td>\n",
              "      <td>1</td>\n",
              "      <td>0</td>\n",
              "      <td>0</td>\n",
              "      <td>1.155667</td>\n",
              "      <td>1.230711</td>\n",
              "    </tr>\n",
              "    <tr>\n",
              "      <th>3</th>\n",
              "      <td>-34.646343</td>\n",
              "      <td>-58.363495</td>\n",
              "      <td>0.442879</td>\n",
              "      <td>0.495165</td>\n",
              "      <td>2.091970</td>\n",
              "      <td>2.234777</td>\n",
              "      <td>Bajo</td>\n",
              "      <td>1</td>\n",
              "      <td>0</td>\n",
              "      <td>0</td>\n",
              "      <td>-1.767848</td>\n",
              "      <td>-0.637623</td>\n",
              "    </tr>\n",
              "    <tr>\n",
              "      <th>4</th>\n",
              "      <td>-34.653845</td>\n",
              "      <td>-58.464647</td>\n",
              "      <td>0.442879</td>\n",
              "      <td>0.495165</td>\n",
              "      <td>1.148307</td>\n",
              "      <td>0.630579</td>\n",
              "      <td>Bajo</td>\n",
              "      <td>1</td>\n",
              "      <td>0</td>\n",
              "      <td>0</td>\n",
              "      <td>2.455007</td>\n",
              "      <td>1.230711</td>\n",
              "    </tr>\n",
              "    <tr>\n",
              "      <th>5</th>\n",
              "      <td>-34.654748</td>\n",
              "      <td>-58.427318</td>\n",
              "      <td>0.442879</td>\n",
              "      <td>0.495165</td>\n",
              "      <td>0.821654</td>\n",
              "      <td>2.351446</td>\n",
              "      <td>Bajo</td>\n",
              "      <td>1</td>\n",
              "      <td>0</td>\n",
              "      <td>0</td>\n",
              "      <td>1.155667</td>\n",
              "      <td>1.230711</td>\n",
              "    </tr>\n",
              "    <tr>\n",
              "      <th>6</th>\n",
              "      <td>-34.657288</td>\n",
              "      <td>-58.411771</td>\n",
              "      <td>0.442879</td>\n",
              "      <td>0.495165</td>\n",
              "      <td>0.386117</td>\n",
              "      <td>1.359760</td>\n",
              "      <td>Bajo</td>\n",
              "      <td>1</td>\n",
              "      <td>0</td>\n",
              "      <td>0</td>\n",
              "      <td>1.155667</td>\n",
              "      <td>1.230711</td>\n",
              "    </tr>\n",
              "    <tr>\n",
              "      <th>7</th>\n",
              "      <td>-34.647901</td>\n",
              "      <td>-58.507039</td>\n",
              "      <td>0.442879</td>\n",
              "      <td>0.495165</td>\n",
              "      <td>0.749065</td>\n",
              "      <td>2.934791</td>\n",
              "      <td>Bajo</td>\n",
              "      <td>1</td>\n",
              "      <td>0</td>\n",
              "      <td>0</td>\n",
              "      <td>-0.793343</td>\n",
              "      <td>-0.637623</td>\n",
              "    </tr>\n",
              "    <tr>\n",
              "      <th>8</th>\n",
              "      <td>-34.593367</td>\n",
              "      <td>-58.376541</td>\n",
              "      <td>0.442879</td>\n",
              "      <td>0.495165</td>\n",
              "      <td>0.313528</td>\n",
              "      <td>-0.040268</td>\n",
              "      <td>Bajo</td>\n",
              "      <td>1</td>\n",
              "      <td>0</td>\n",
              "      <td>0</td>\n",
              "      <td>-1.118178</td>\n",
              "      <td>-0.637623</td>\n",
              "    </tr>\n",
              "    <tr>\n",
              "      <th>9</th>\n",
              "      <td>-34.648968</td>\n",
              "      <td>-58.461769</td>\n",
              "      <td>0.442879</td>\n",
              "      <td>0.495165</td>\n",
              "      <td>2.200854</td>\n",
              "      <td>2.351446</td>\n",
              "      <td>Bajo</td>\n",
              "      <td>1</td>\n",
              "      <td>0</td>\n",
              "      <td>0</td>\n",
              "      <td>-1.118178</td>\n",
              "      <td>-0.637623</td>\n",
              "    </tr>\n",
              "  </tbody>\n",
              "</table>\n",
              "</div>"
            ],
            "text/plain": [
              "     latitud   longitud  property_bedrooms  property_rooms  \\\n",
              "0 -34.574142 -58.408867           0.442879        0.495165   \n",
              "1 -34.608300 -58.371200           0.442879        0.495165   \n",
              "2 -34.657288 -58.411771           0.442879        0.495165   \n",
              "3 -34.646343 -58.363495           0.442879        0.495165   \n",
              "4 -34.653845 -58.464647           0.442879        0.495165   \n",
              "5 -34.654748 -58.427318           0.442879        0.495165   \n",
              "6 -34.657288 -58.411771           0.442879        0.495165   \n",
              "7 -34.647901 -58.507039           0.442879        0.495165   \n",
              "8 -34.593367 -58.376541           0.442879        0.495165   \n",
              "9 -34.648968 -58.461769           0.442879        0.495165   \n",
              "\n",
              "   property_surface_covered  property_surface_total tipo_precio  \\\n",
              "0                  0.458707                4.684825        Bajo   \n",
              "1                  0.277233                0.397241        Bajo   \n",
              "2                  0.749065                1.826436        Bajo   \n",
              "3                  2.091970                2.234777        Bajo   \n",
              "4                  1.148307                0.630579        Bajo   \n",
              "5                  0.821654                2.351446        Bajo   \n",
              "6                  0.386117                1.359760        Bajo   \n",
              "7                  0.749065                2.934791        Bajo   \n",
              "8                  0.313528               -0.040268        Bajo   \n",
              "9                  2.200854                2.351446        Bajo   \n",
              "\n",
              "   property_type_Casa  property_type_Departamento  property_type_PH  \\\n",
              "0                   1                           0                 0   \n",
              "1                   1                           0                 0   \n",
              "2                   1                           0                 0   \n",
              "3                   1                           0                 0   \n",
              "4                   1                           0                 0   \n",
              "5                   1                           0                 0   \n",
              "6                   1                           0                 0   \n",
              "7                   1                           0                 0   \n",
              "8                   1                           0                 0   \n",
              "9                   1                           0                 0   \n",
              "\n",
              "   title_len  title_words  \n",
              "0  -0.793343    -0.637623  \n",
              "1  -0.143673    -0.637623  \n",
              "2   1.155667     1.230711  \n",
              "3  -1.767848    -0.637623  \n",
              "4   2.455007     1.230711  \n",
              "5   1.155667     1.230711  \n",
              "6   1.155667     1.230711  \n",
              "7  -0.793343    -0.637623  \n",
              "8  -1.118178    -0.637623  \n",
              "9  -1.118178    -0.637623  "
            ]
          },
          "execution_count": 45,
          "metadata": {},
          "output_type": "execute_result"
        }
      ],
      "source": [
        "\n",
        "df_dummies.head(10)"
      ]
    },
    {
      "cell_type": "markdown",
      "metadata": {
        "id": "u5tvM_cZv6rv"
      },
      "source": [
        "### Modelo 1 : Árbol de decisión"
      ]
    },
    {
      "cell_type": "markdown",
      "metadata": {
        "id": "xcv0sIus3TeB"
      },
      "source": [
        "Instalamos dtreeviz"
      ]
    },
    {
      "cell_type": "code",
      "execution_count": 46,
      "metadata": {
        "colab": {
          "base_uri": "https://localhost:8080/"
        },
        "id": "j1IHIUVe2-re",
        "outputId": "eca940fe-d74f-43d5-9beb-debc02fd0319"
      },
      "outputs": [
        {
          "name": "stderr",
          "output_type": "stream",
          "text": [
            "ERROR: Invalid requirement: \"'dtreeviz'\"\n"
          ]
        }
      ],
      "source": [
        "!pip install 'dtreeviz'"
      ]
    },
    {
      "cell_type": "code",
      "execution_count": 47,
      "metadata": {
        "id": "Q1m952mt29Yf"
      },
      "outputs": [],
      "source": [
        "import dtreeviz\n",
        "\n",
        "from sklearn import tree\n",
        "from sklearn.model_selection import train_test_split\n",
        "from sklearn.metrics import precision_score, recall_score, accuracy_score,f1_score\n",
        "from sklearn.metrics import confusion_matrix, classification_report\n",
        "\n",
        "from sklearn.preprocessing import MinMaxScaler\n",
        "\n",
        "import warnings\n",
        "warnings.simplefilter(action='ignore', category=FutureWarning)\n",
        "warnings.simplefilter(action='ignore', category=UserWarning)"
      ]
    },
    {
      "cell_type": "markdown",
      "metadata": {
        "id": "GVVODvo03Ppw"
      },
      "source": [
        "vamos a separar el dataset."
      ]
    },
    {
      "cell_type": "code",
      "execution_count": 48,
      "metadata": {
        "id": "qR3wNk-33e-H"
      },
      "outputs": [],
      "source": [
        "df_dummies.dropna(inplace=True)"
      ]
    },
    {
      "cell_type": "code",
      "execution_count": 49,
      "metadata": {
        "id": "mp38DHO435J-"
      },
      "outputs": [],
      "source": [
        "x_train = df_dummies.drop(['tipo_precio'], axis='columns', inplace=False)\n",
        "y_train = df_dummies['tipo_precio'].copy()"
      ]
    },
    {
      "cell_type": "code",
      "execution_count": 52,
      "metadata": {
        "id": "r0Pncjgi4Isa"
      },
      "outputs": [],
      "source": [
        "from sklearn.tree import DecisionTreeClassifier\n",
        "from sklearn.model_selection import StratifiedKFold, KFold,RandomizedSearchCV\n",
        "from sklearn.metrics import make_scorer, f1_score\n",
        "\n",
        "#Cantidad de combinaciones que voy a probar\n",
        "n=10\n",
        "\n",
        "#Conjunto de parámetros que quiero usar\n",
        "params_grid = {'criterion':['gini','entropy'], 'min_samples_leaf':list(range(1,10)), 'min_samples_split': list(range(3,20)),\n",
        "               'ccp_alpha':np.linspace(0,0.05,n), 'max_depth':list(range(1,6))}\n",
        "\n",
        "#Cantidad de splits para el Cross Validation\n",
        "folds=15\n",
        "\n",
        "#Kfold estratificado\n",
        "kfoldcv = StratifiedKFold(n_splits=folds)\n",
        "\n",
        "base_tree = DecisionTreeClassifier()\n",
        "\n",
        "#Metrica optimiza F1 Score\n",
        "scorer_fn =  make_scorer(f1_score, average='micro')\n",
        "\n",
        "#Random Search Cross Validation\n",
        "randomcv = RandomizedSearchCV(estimator=base_tree, param_distributions = params_grid, scoring=scorer_fn, cv=kfoldcv, error_score='raise', n_iter=n)\n",
        "\n",
        "#Buscamos los hiperparametros que optimizan F1 Score\n",
        "randomcv.fit(x_train,y_train)"
      ]
    },
    {
      "cell_type": "markdown",
      "metadata": {
        "id": "IVMUjczJ44j0"
      },
      "source": [
        "Para alcanzar su maximo valor en las metricas vamos a utilizar 15 folds.\n",
        " Elegimos F1 score por que es un balance entre las métricas de recall y presicion, preferimos no tener falsos negativos/positivos cuando predecimos el tipo de precio."
      ]
    },
    {
      "cell_type": "code",
      "execution_count": 53,
      "metadata": {
        "colab": {
          "base_uri": "https://localhost:8080/"
        },
        "id": "Sk_u_mEv5FfR",
        "outputId": "75279f43-53b3-485a-83ce-8ef98be7ac67"
      },
      "outputs": [
        {
          "name": "stdout",
          "output_type": "stream",
          "text": [
            "{'min_samples_split': 17, 'min_samples_leaf': 7, 'max_depth': 4, 'criterion': 'entropy', 'ccp_alpha': 0.0}\n",
            "0.5584536633814653\n"
          ]
        }
      ],
      "source": [
        "#Mejores hiperparametros del arbol\n",
        "print(randomcv.best_params_)\n",
        "#Mejor métrica\n",
        "print(randomcv.best_score_)"
      ]
    },
    {
      "cell_type": "markdown",
      "metadata": {
        "id": "dS8wcRvF5P-n"
      },
      "source": [
        "Conseguimos los mejores parámetros y la mejor métrica de las 10 iteraciones realizadas."
      ]
    },
    {
      "cell_type": "code",
      "execution_count": 54,
      "metadata": {
        "colab": {
          "base_uri": "https://localhost:8080/"
        },
        "id": "_rKuL7tQ5Tyw",
        "outputId": "53a5d84e-1a8a-4df7-cfcd-e0e1d2d32cec"
      },
      "outputs": [
        {
          "name": "stdout",
          "output_type": "stream",
          "text": [
            "property_surface_covered: 0.00350475869737622\n",
            "property_type_Casa: 0.004518692962476757\n",
            "property_type_PH: 0.012863148037338415\n",
            "property_surface_total: 0.028639691976049705\n",
            "title_len: 0.029421452453165055\n",
            "longitud: 0.1517430911550422\n",
            "property_type_Departamento: 0.33331297261865167\n",
            "latitud: 0.4359961920998999\n"
          ]
        }
      ],
      "source": [
        "best_tree = randomcv.best_estimator_\n",
        "feat_imps = best_tree.feature_importances_\n",
        "\n",
        "for feat_imp,feat in sorted(zip(feat_imps,x_train.columns)):\n",
        "  if feat_imp>0:\n",
        "    print('{}: {}'.format(feat,feat_imp))"
      ]
    },
    {
      "cell_type": "markdown",
      "metadata": {
        "id": "OyvFiZm55i0X"
      },
      "source": [
        "Podemos ver los atributos que el árbol considera importantes para la clasificación."
      ]
    },
    {
      "cell_type": "markdown",
      "metadata": {
        "id": "9-Ic0ICK5xjU"
      },
      "source": [
        "Creamos el árbol que tiene los mejores hiperparámetros"
      ]
    },
    {
      "cell_type": "code",
      "execution_count": 55,
      "metadata": {
        "colab": {
          "base_uri": "https://localhost:8080/"
        },
        "id": "yMd12s3v5uIX",
        "outputId": "bc9ff82e-ca33-4c6b-952a-47ad7bae9829"
      },
      "outputs": [
        {
          "name": "stdout",
          "output_type": "stream",
          "text": [
            "|--- latitud <= -34.60\n",
            "|   |--- property_type_Departamento <= 0.50\n",
            "|   |   |--- property_surface_total <= 0.44\n",
            "|   |   |   |--- property_type_Casa <= 0.50\n",
            "|   |   |   |   |--- class: Alto\n",
            "|   |   |   |--- property_type_Casa >  0.50\n",
            "|   |   |   |   |--- class: Alto\n",
            "|   |   |--- property_surface_total >  0.44\n",
            "|   |   |   |--- property_type_Casa <= 0.50\n",
            "|   |   |   |   |--- class: Alto\n",
            "|   |   |   |--- property_type_Casa >  0.50\n",
            "|   |   |   |   |--- class: Alto\n",
            "|   |--- property_type_Departamento >  0.50\n",
            "|   |   |--- longitud <= -58.37\n",
            "|   |   |   |--- longitud <= -58.42\n",
            "|   |   |   |   |--- class: Medio\n",
            "|   |   |   |--- longitud >  -58.42\n",
            "|   |   |   |   |--- class: Bajo\n",
            "|   |   |--- longitud >  -58.37\n",
            "|   |   |   |--- title_len <= -0.96\n",
            "|   |   |   |   |--- class: Bajo\n",
            "|   |   |   |--- title_len >  -0.96\n",
            "|   |   |   |   |--- class: Alto\n",
            "|--- latitud >  -34.60\n",
            "|   |--- property_type_Departamento <= 0.50\n",
            "|   |   |--- property_surface_total <= 1.00\n",
            "|   |   |   |--- longitud <= -58.38\n",
            "|   |   |   |   |--- class: Alto\n",
            "|   |   |   |--- longitud >  -58.38\n",
            "|   |   |   |   |--- class: Alto\n",
            "|   |   |--- property_surface_total >  1.00\n",
            "|   |   |   |--- property_surface_covered <= 1.35\n",
            "|   |   |   |   |--- class: Alto\n",
            "|   |   |   |--- property_surface_covered >  1.35\n",
            "|   |   |   |   |--- class: Alto\n",
            "|   |--- property_type_Departamento >  0.50\n",
            "|   |   |--- longitud <= -58.47\n",
            "|   |   |   |--- latitud <= -34.58\n",
            "|   |   |   |   |--- class: Medio\n",
            "|   |   |   |--- latitud >  -34.58\n",
            "|   |   |   |   |--- class: Medio\n",
            "|   |   |--- longitud >  -58.47\n",
            "|   |   |   |--- latitud <= -34.59\n",
            "|   |   |   |   |--- class: Medio\n",
            "|   |   |   |--- latitud >  -34.59\n",
            "|   |   |   |   |--- class: Alto\n",
            "\n"
          ]
        }
      ],
      "source": [
        "from sklearn.tree import DecisionTreeClassifier\n",
        "from sklearn.tree import export_text\n",
        "\n",
        "arbol=DecisionTreeClassifier().set_params(**randomcv.best_params_)\n",
        "\n",
        "#Entreno el arbol en todo el set\n",
        "arbol.fit(x_train,y_train)\n",
        "\n",
        "reglas = export_text(arbol, feature_names=list(x_train.columns))\n",
        "print(reglas)"
      ]
    },
    {
      "cell_type": "code",
      "execution_count": 56,
      "metadata": {
        "id": "Jok_1M_F6Djl"
      },
      "outputs": [],
      "source": [
        "feact = x_train.columns"
      ]
    },
    {
      "cell_type": "code",
      "execution_count": 60,
      "metadata": {
        "colab": {
          "base_uri": "https://localhost:8080/",
          "height": 594
        },
        "id": "LWxipCXk6IBG",
        "outputId": "2572468a-da85-4e34-bca0-b2b85f87b881"
      },
      "outputs": [
        {
          "ename": "InvocationException",
          "evalue": "GraphViz's executables not found",
          "output_type": "error",
          "traceback": [
            "\u001b[1;31m---------------------------------------------------------------------------\u001b[0m",
            "\u001b[1;31mInvocationException\u001b[0m                       Traceback (most recent call last)",
            "Cell \u001b[1;32mIn[60], line 14\u001b[0m\n\u001b[0;32m      8\u001b[0m export_graphviz(arbol, out_file\u001b[38;5;241m=\u001b[39mdot_data,\n\u001b[0;32m      9\u001b[0m                 filled\u001b[38;5;241m=\u001b[39m\u001b[38;5;28;01mTrue\u001b[39;00m, rounded\u001b[38;5;241m=\u001b[39m\u001b[38;5;28;01mTrue\u001b[39;00m,\n\u001b[0;32m     10\u001b[0m                 special_characters\u001b[38;5;241m=\u001b[39m\u001b[38;5;28;01mTrue\u001b[39;00m,\n\u001b[0;32m     11\u001b[0m                 feature_names\u001b[38;5;241m=\u001b[39mx_train\u001b[38;5;241m.\u001b[39mcolumns\u001b[38;5;241m.\u001b[39mto_list(),\n\u001b[0;32m     12\u001b[0m                 class_names\u001b[38;5;241m=\u001b[39m[\u001b[38;5;124m'\u001b[39m\u001b[38;5;124malto\u001b[39m\u001b[38;5;124m'\u001b[39m,\u001b[38;5;124m'\u001b[39m\u001b[38;5;124mbajo\u001b[39m\u001b[38;5;124m'\u001b[39m,\u001b[38;5;124m'\u001b[39m\u001b[38;5;124mmedio\u001b[39m\u001b[38;5;124m'\u001b[39m])\n\u001b[0;32m     13\u001b[0m graph \u001b[38;5;241m=\u001b[39m pydotplus\u001b[38;5;241m.\u001b[39mgraph_from_dot_data(dot_data\u001b[38;5;241m.\u001b[39mgetvalue())\n\u001b[1;32m---> 14\u001b[0m Image(\u001b[43mgraph\u001b[49m\u001b[38;5;241;43m.\u001b[39;49m\u001b[43mcreate_png\u001b[49m\u001b[43m(\u001b[49m\u001b[43m)\u001b[49m)\n",
            "File \u001b[1;32mc:\\Users\\flaph\\AppData\\Local\\Programs\\Python\\Python310\\lib\\site-packages\\pydotplus\\graphviz.py:1797\u001b[0m, in \u001b[0;36mDot.__init__.<locals>.<lambda>\u001b[1;34m(f, prog)\u001b[0m\n\u001b[0;32m   1792\u001b[0m \u001b[38;5;66;03m# Automatically creates all the methods enabling the creation\u001b[39;00m\n\u001b[0;32m   1793\u001b[0m \u001b[38;5;66;03m# of output in any of the supported formats.\u001b[39;00m\n\u001b[0;32m   1794\u001b[0m \u001b[38;5;28;01mfor\u001b[39;00m frmt \u001b[38;5;129;01min\u001b[39;00m \u001b[38;5;28mself\u001b[39m\u001b[38;5;241m.\u001b[39mformats:\n\u001b[0;32m   1795\u001b[0m     \u001b[38;5;28mself\u001b[39m\u001b[38;5;241m.\u001b[39m\u001b[38;5;21m__setattr__\u001b[39m(\n\u001b[0;32m   1796\u001b[0m         \u001b[38;5;124m'\u001b[39m\u001b[38;5;124mcreate_\u001b[39m\u001b[38;5;124m'\u001b[39m \u001b[38;5;241m+\u001b[39m frmt,\n\u001b[1;32m-> 1797\u001b[0m         \u001b[38;5;28;01mlambda\u001b[39;00m f\u001b[38;5;241m=\u001b[39mfrmt, prog\u001b[38;5;241m=\u001b[39m\u001b[38;5;28mself\u001b[39m\u001b[38;5;241m.\u001b[39mprog: \u001b[38;5;28;43mself\u001b[39;49m\u001b[38;5;241;43m.\u001b[39;49m\u001b[43mcreate\u001b[49m\u001b[43m(\u001b[49m\u001b[38;5;28;43mformat\u001b[39;49m\u001b[38;5;241;43m=\u001b[39;49m\u001b[43mf\u001b[49m\u001b[43m,\u001b[49m\u001b[43m \u001b[49m\u001b[43mprog\u001b[49m\u001b[38;5;241;43m=\u001b[39;49m\u001b[43mprog\u001b[49m\u001b[43m)\u001b[49m\n\u001b[0;32m   1798\u001b[0m     )\n\u001b[0;32m   1799\u001b[0m     f \u001b[38;5;241m=\u001b[39m \u001b[38;5;28mself\u001b[39m\u001b[38;5;241m.\u001b[39m\u001b[38;5;18m__dict__\u001b[39m[\u001b[38;5;124m'\u001b[39m\u001b[38;5;124mcreate_\u001b[39m\u001b[38;5;124m'\u001b[39m \u001b[38;5;241m+\u001b[39m frmt]\n\u001b[0;32m   1800\u001b[0m     f\u001b[38;5;241m.\u001b[39m\u001b[38;5;18m__doc__\u001b[39m \u001b[38;5;241m=\u001b[39m (\n\u001b[0;32m   1801\u001b[0m \u001b[38;5;250m        \u001b[39m\u001b[38;5;124;03m'''Refer to the docstring accompanying the'''\u001b[39;00m\n\u001b[0;32m   1802\u001b[0m \u001b[38;5;250m        \u001b[39m\u001b[38;5;124;03m''''create' method for more information.'''\u001b[39;00m\n\u001b[0;32m   1803\u001b[0m     )\n",
            "File \u001b[1;32mc:\\Users\\flaph\\AppData\\Local\\Programs\\Python\\Python310\\lib\\site-packages\\pydotplus\\graphviz.py:1959\u001b[0m, in \u001b[0;36mDot.create\u001b[1;34m(self, prog, format)\u001b[0m\n\u001b[0;32m   1957\u001b[0m     \u001b[38;5;28mself\u001b[39m\u001b[38;5;241m.\u001b[39mprogs \u001b[38;5;241m=\u001b[39m find_graphviz()\n\u001b[0;32m   1958\u001b[0m     \u001b[38;5;28;01mif\u001b[39;00m \u001b[38;5;28mself\u001b[39m\u001b[38;5;241m.\u001b[39mprogs \u001b[38;5;129;01mis\u001b[39;00m \u001b[38;5;28;01mNone\u001b[39;00m:\n\u001b[1;32m-> 1959\u001b[0m         \u001b[38;5;28;01mraise\u001b[39;00m InvocationException(\n\u001b[0;32m   1960\u001b[0m             \u001b[38;5;124m'\u001b[39m\u001b[38;5;124mGraphViz\u001b[39m\u001b[38;5;130;01m\\'\u001b[39;00m\u001b[38;5;124ms executables not found\u001b[39m\u001b[38;5;124m'\u001b[39m)\n\u001b[0;32m   1962\u001b[0m \u001b[38;5;28;01mif\u001b[39;00m prog \u001b[38;5;129;01mnot\u001b[39;00m \u001b[38;5;129;01min\u001b[39;00m \u001b[38;5;28mself\u001b[39m\u001b[38;5;241m.\u001b[39mprogs:\n\u001b[0;32m   1963\u001b[0m     \u001b[38;5;28;01mraise\u001b[39;00m InvocationException(\n\u001b[0;32m   1964\u001b[0m         \u001b[38;5;124m'\u001b[39m\u001b[38;5;124mGraphViz\u001b[39m\u001b[38;5;130;01m\\'\u001b[39;00m\u001b[38;5;124ms executable \u001b[39m\u001b[38;5;124m\"\u001b[39m\u001b[38;5;132;01m%s\u001b[39;00m\u001b[38;5;124m\"\u001b[39m\u001b[38;5;124m not found\u001b[39m\u001b[38;5;124m'\u001b[39m \u001b[38;5;241m%\u001b[39m prog)\n",
            "\u001b[1;31mInvocationException\u001b[0m: GraphViz's executables not found"
          ]
        }
      ],
      "source": [
        "from six import StringIO\n",
        "from IPython.display import Image\n",
        "from sklearn.tree import export_graphviz\n",
        "import pydotplus\n",
        "import matplotlib.pyplot as plt\n",
        "\n",
        "dot_data = StringIO()\n",
        "export_graphviz(arbol, out_file=dot_data,\n",
        "                filled=True, rounded=True,\n",
        "                special_characters=True,\n",
        "                feature_names=x_train.columns.to_list(),\n",
        "                class_names=['alto','bajo','medio'])\n",
        "graph = pydotplus.graph_from_dot_data(dot_data.getvalue())\n",
        "Image(graph.create_png())"
      ]
    },
    {
      "cell_type": "markdown",
      "metadata": {
        "id": "LOQj0bq16XK5"
      },
      "source": [
        "Podemos apreciar que clasifica un registro según los atributos que considera importantes expuestos anteriormente. Comienza considerando su latitud y, en el caso de la raíz, y según si cumple o no la condición se mueve hacia la derecha o izquierda.\n",
        "El procedimiento sigue igual hasta llegar a la hoja en donde termina por clasificar el registro."
      ]
    },
    {
      "cell_type": "markdown",
      "metadata": {
        "id": "KUu2x3kr6w_G"
      },
      "source": [
        "Vamos a evaluar con conjunto de prueba\n"
      ]
    },
    {
      "cell_type": "code",
      "execution_count": 62,
      "metadata": {
        "colab": {
          "base_uri": "https://localhost:8080/",
          "height": 452
        },
        "id": "le-KhyuzJUUp",
        "outputId": "6f769071-aab3-4926-b654-4ee27d520020"
      },
      "outputs": [
        {
          "data": {
            "text/html": [
              "<div>\n",
              "<style scoped>\n",
              "    .dataframe tbody tr th:only-of-type {\n",
              "        vertical-align: middle;\n",
              "    }\n",
              "\n",
              "    .dataframe tbody tr th {\n",
              "        vertical-align: top;\n",
              "    }\n",
              "\n",
              "    .dataframe thead th {\n",
              "        text-align: right;\n",
              "    }\n",
              "</style>\n",
              "<table border=\"1\" class=\"dataframe\">\n",
              "  <thead>\n",
              "    <tr style=\"text-align: right;\">\n",
              "      <th></th>\n",
              "      <th>id</th>\n",
              "      <th>start_date</th>\n",
              "      <th>end_date</th>\n",
              "      <th>created_on</th>\n",
              "      <th>latitud</th>\n",
              "      <th>longitud</th>\n",
              "      <th>place_l2</th>\n",
              "      <th>place_l3</th>\n",
              "      <th>place_l4</th>\n",
              "      <th>place_l5</th>\n",
              "      <th>place_l6</th>\n",
              "      <th>operation</th>\n",
              "      <th>property_type</th>\n",
              "      <th>property_rooms</th>\n",
              "      <th>property_bedrooms</th>\n",
              "      <th>property_surface_total</th>\n",
              "      <th>property_surface_covered</th>\n",
              "      <th>property_price</th>\n",
              "      <th>property_currency</th>\n",
              "      <th>property_title</th>\n",
              "    </tr>\n",
              "  </thead>\n",
              "  <tbody>\n",
              "    <tr>\n",
              "      <th>0</th>\n",
              "      <td>dSC4wqerxQ5zoezS10hyig==</td>\n",
              "      <td>2021-08-24</td>\n",
              "      <td>2021-08-27</td>\n",
              "      <td>2021-08-24</td>\n",
              "      <td>-34.594832</td>\n",
              "      <td>-58.419821</td>\n",
              "      <td>Capital Federal</td>\n",
              "      <td>Palermo</td>\n",
              "      <td>NaN</td>\n",
              "      <td>NaN</td>\n",
              "      <td>NaN</td>\n",
              "      <td>Venta</td>\n",
              "      <td>Departamento</td>\n",
              "      <td>1.0</td>\n",
              "      <td>1.0</td>\n",
              "      <td>26.0</td>\n",
              "      <td>26.0</td>\n",
              "      <td>64765.0</td>\n",
              "      <td>USD</td>\n",
              "      <td>MONOAMBIENTE EMPRENDIMIENTO PALERMO SOHO</td>\n",
              "    </tr>\n",
              "    <tr>\n",
              "      <th>1</th>\n",
              "      <td>bObxHjQo1w/XUoA1CjdLtg==</td>\n",
              "      <td>2021-08-24</td>\n",
              "      <td>2021-08-24</td>\n",
              "      <td>2021-08-24</td>\n",
              "      <td>-34.585604</td>\n",
              "      <td>-58.423957</td>\n",
              "      <td>Capital Federal</td>\n",
              "      <td>Palermo</td>\n",
              "      <td>NaN</td>\n",
              "      <td>NaN</td>\n",
              "      <td>NaN</td>\n",
              "      <td>Venta</td>\n",
              "      <td>Departamento</td>\n",
              "      <td>1.0</td>\n",
              "      <td>NaN</td>\n",
              "      <td>32.0</td>\n",
              "      <td>30.0</td>\n",
              "      <td>110000.0</td>\n",
              "      <td>USD</td>\n",
              "      <td>Venta departamento en palermo monoambiente</td>\n",
              "    </tr>\n",
              "    <tr>\n",
              "      <th>2</th>\n",
              "      <td>xIjDPpdsenrj6u6ErpdNhg==</td>\n",
              "      <td>2021-08-24</td>\n",
              "      <td>2021-08-27</td>\n",
              "      <td>2021-08-24</td>\n",
              "      <td>-34.582800</td>\n",
              "      <td>-58.442800</td>\n",
              "      <td>Capital Federal</td>\n",
              "      <td>Palermo</td>\n",
              "      <td>NaN</td>\n",
              "      <td>NaN</td>\n",
              "      <td>NaN</td>\n",
              "      <td>Venta</td>\n",
              "      <td>Departamento</td>\n",
              "      <td>1.0</td>\n",
              "      <td>1.0</td>\n",
              "      <td>36.0</td>\n",
              "      <td>32.0</td>\n",
              "      <td>93621.0</td>\n",
              "      <td>USD</td>\n",
              "      <td>VENTA 1 AMBIENTE de 32 a 66 m² -VIVIENDA/ ESTU...</td>\n",
              "    </tr>\n",
              "    <tr>\n",
              "      <th>3</th>\n",
              "      <td>8b+kN4SeOF7UBH5dpfvg0Q==</td>\n",
              "      <td>2021-08-24</td>\n",
              "      <td>2021-10-18</td>\n",
              "      <td>2021-08-24</td>\n",
              "      <td>-34.577400</td>\n",
              "      <td>-58.433300</td>\n",
              "      <td>Capital Federal</td>\n",
              "      <td>Palermo</td>\n",
              "      <td>NaN</td>\n",
              "      <td>NaN</td>\n",
              "      <td>NaN</td>\n",
              "      <td>Venta</td>\n",
              "      <td>Departamento</td>\n",
              "      <td>2.0</td>\n",
              "      <td>1.0</td>\n",
              "      <td>42.0</td>\n",
              "      <td>38.0</td>\n",
              "      <td>79900.0</td>\n",
              "      <td>USD</td>\n",
              "      <td>VENTA DEPARTAMENTO 2 AMBIENTES EN PALERMO</td>\n",
              "    </tr>\n",
              "    <tr>\n",
              "      <th>4</th>\n",
              "      <td>O1XW6eVlW04mfAkXRKePkQ==</td>\n",
              "      <td>2021-08-24</td>\n",
              "      <td>2022-03-21</td>\n",
              "      <td>2021-08-24</td>\n",
              "      <td>-34.575328</td>\n",
              "      <td>-58.420624</td>\n",
              "      <td>Capital Federal</td>\n",
              "      <td>Palermo</td>\n",
              "      <td>NaN</td>\n",
              "      <td>NaN</td>\n",
              "      <td>NaN</td>\n",
              "      <td>Venta</td>\n",
              "      <td>Departamento</td>\n",
              "      <td>2.0</td>\n",
              "      <td>NaN</td>\n",
              "      <td>47.0</td>\n",
              "      <td>41.0</td>\n",
              "      <td>155000.0</td>\n",
              "      <td>USD</td>\n",
              "      <td>DEPARTAMENTO DUPLEX 2 AMBIENTES CON 2 BALCONES...</td>\n",
              "    </tr>\n",
              "  </tbody>\n",
              "</table>\n",
              "</div>"
            ],
            "text/plain": [
              "                         id  start_date    end_date  created_on    latitud  \\\n",
              "0  dSC4wqerxQ5zoezS10hyig==  2021-08-24  2021-08-27  2021-08-24 -34.594832   \n",
              "1  bObxHjQo1w/XUoA1CjdLtg==  2021-08-24  2021-08-24  2021-08-24 -34.585604   \n",
              "2  xIjDPpdsenrj6u6ErpdNhg==  2021-08-24  2021-08-27  2021-08-24 -34.582800   \n",
              "3  8b+kN4SeOF7UBH5dpfvg0Q==  2021-08-24  2021-10-18  2021-08-24 -34.577400   \n",
              "4  O1XW6eVlW04mfAkXRKePkQ==  2021-08-24  2022-03-21  2021-08-24 -34.575328   \n",
              "\n",
              "    longitud         place_l2 place_l3 place_l4  place_l5  place_l6 operation  \\\n",
              "0 -58.419821  Capital Federal  Palermo      NaN       NaN       NaN     Venta   \n",
              "1 -58.423957  Capital Federal  Palermo      NaN       NaN       NaN     Venta   \n",
              "2 -58.442800  Capital Federal  Palermo      NaN       NaN       NaN     Venta   \n",
              "3 -58.433300  Capital Federal  Palermo      NaN       NaN       NaN     Venta   \n",
              "4 -58.420624  Capital Federal  Palermo      NaN       NaN       NaN     Venta   \n",
              "\n",
              "  property_type  property_rooms  property_bedrooms  property_surface_total  \\\n",
              "0  Departamento             1.0                1.0                    26.0   \n",
              "1  Departamento             1.0                NaN                    32.0   \n",
              "2  Departamento             1.0                1.0                    36.0   \n",
              "3  Departamento             2.0                1.0                    42.0   \n",
              "4  Departamento             2.0                NaN                    47.0   \n",
              "\n",
              "   property_surface_covered  property_price property_currency  \\\n",
              "0                      26.0         64765.0               USD   \n",
              "1                      30.0        110000.0               USD   \n",
              "2                      32.0         93621.0               USD   \n",
              "3                      38.0         79900.0               USD   \n",
              "4                      41.0        155000.0               USD   \n",
              "\n",
              "                                      property_title  \n",
              "0           MONOAMBIENTE EMPRENDIMIENTO PALERMO SOHO  \n",
              "1         Venta departamento en palermo monoambiente  \n",
              "2  VENTA 1 AMBIENTE de 32 a 66 m² -VIVIENDA/ ESTU...  \n",
              "3          VENTA DEPARTAMENTO 2 AMBIENTES EN PALERMO  \n",
              "4  DEPARTAMENTO DUPLEX 2 AMBIENTES CON 2 BALCONES...  "
            ]
          },
          "execution_count": 62,
          "metadata": {},
          "output_type": "execute_result"
        }
      ],
      "source": [
        "conjunto_prueba = pd.read_csv(\"Datasets/conjunto_prueba.csv\")\n",
        "df_prueba = conjunto_prueba.copy()\n",
        "df_prueba.head()"
      ]
    },
    {
      "cell_type": "markdown",
      "metadata": {
        "id": "GQmrsNWiJvqx"
      },
      "source": [
        "Vamos a preparar el dataset para poder utulizarlo"
      ]
    },
    {
      "cell_type": "code",
      "execution_count": 63,
      "metadata": {
        "id": "FSzCQy6aJz0b"
      },
      "outputs": [],
      "source": [
        "# Creo que no es totalmente lo que hicemos con place_l3 y place_l4, debemos verificar eso... y falta borrar property_title\n",
        "df_prueba.drop(['id', 'start_date', 'end_date', 'created_on', 'place_l5', 'place_l6', 'operation', 'place_l2', 'property_currency'], axis=1, inplace=True)\n",
        "df_prueba.rename(columns={\"place_l3\":\"zone\"}, inplace=True)\n",
        "df_prueba['zone'] = df_prueba.apply(lambda x: x['zone'] if str(x['place_l4']) == 'nan' else x['place_l4'], axis=1)\n",
        "df_prueba.drop(['place_l4'], axis=1, inplace=True)"
      ]
    },
    {
      "cell_type": "code",
      "execution_count": 64,
      "metadata": {
        "id": "KWKO7i9nKXNE"
      },
      "outputs": [],
      "source": [
        "# Hay una manera mas simple con zones = df_prueba[\"zone\"].unique() y no entiendo lo que queremos hacer aca, \n",
        "# sustituir todas las latitudes/longitudes por los valores medios de la zona correspondiente?\n",
        "place_l3_copy = df_prueba[\"zone\"]\n",
        "place_l3_drop = place_l3_copy.drop_duplicates()\n",
        "zones = place_l3_drop.values\n",
        "\n",
        "media_zones = {}\n",
        "\n",
        "for zone in zones:\n",
        "      zone_act = df_prueba[df_prueba[\"zone\"]==zone]\n",
        "      lat_med = zone_act[\"latitud\"].mean()\n",
        "      lon_med = zone_act[\"longitud\"].mean()\n",
        "      media_zones[zone] = (lat_med,lon_med)\n",
        "      zone_act = zone_act.fillna({\"latitud\":lat_med,\"longitud\":lon_med})\n",
        "      df_prueba[df_prueba[\"zone\"]==zone]=zone_act"
      ]
    },
    {
      "cell_type": "code",
      "execution_count": 67,
      "metadata": {
        "id": "iwR7KqxdLkwM"
      },
      "outputs": [],
      "source": [
        "import math\n",
        "\n",
        "i = 0\n",
        "while i < df_prueba.shape[0]:\n",
        "  fila = df_prueba.iloc[i]\n",
        "  lat = fila[\"latitud\"]\n",
        "  if math.isnan(lat):\n",
        "    df_prueba.drop(df_prueba.index[i:i+1], inplace=True)\n",
        "  else:\n",
        "    i+=1"
      ]
    },
    {
      "cell_type": "code",
      "execution_count": 71,
      "metadata": {
        "id": "CPcHmYP8Ltj_"
      },
      "outputs": [],
      "source": [
        "# porque empezamos a 1?\n",
        "for i in range(1,df_prueba.shape[0]):\n",
        "    fila = df_prueba.iloc[i]\n",
        "    zona = fila[\"zone\"]\n",
        "    bool = zona!=zona\n",
        "\n",
        "    if bool:\n",
        "      lat=fila[\"latitud\"]\n",
        "      lon=fila[\"longitud\"]\n",
        "      dist_menor = abs( abs(media_zones[\"Palermo\"][0]) - abs(lat) ) + abs( abs( abs(media_zones[\"Palermo\"][1] ) - abs(lon) ))\n",
        "      barrio = \"Palermo\"\n",
        "\n",
        "      for a in media_zones:\n",
        "          tupla_dist = media_zones.get(a)\n",
        "          nueva_dist = abs( abs(tupla_dist[0]) - abs(lat) ) + abs( abs( abs(tupla_dist[1] ) - abs(lon) ))\n",
        "          es_menor = nueva_dist<dist_menor\n",
        "\n",
        "          if es_menor:\n",
        "            dist_menor=nueva_dist\n",
        "            barrio = a\n",
        "      df_prueba.iat[i, 4] = barrio\n",
        "    i+=1\n",
        "\n",
        "df_prueba = df_prueba"
      ]
    },
    {
      "cell_type": "code",
      "execution_count": 72,
      "metadata": {
        "colab": {
          "base_uri": "https://localhost:8080/"
        },
        "id": "RSCzV2WxMFqI",
        "outputId": "1c8f40b4-a54d-491b-f2f6-2bd070f78b3b"
      },
      "outputs": [
        {
          "data": {
            "text/plain": [
              "zone\n",
              "False    18793\n",
              "Name: count, dtype: int64"
            ]
          },
          "execution_count": 72,
          "metadata": {},
          "output_type": "execute_result"
        }
      ],
      "source": [
        "\n",
        "i = 0\n",
        "while i < df_prueba.shape[0]:\n",
        "  fila = df_prueba.iloc[i]\n",
        "  lat = fila[\"zone\"]\n",
        "  if str(lat) == 'nan':\n",
        "    df_prueba.drop(df_prueba.index[i:i+1], inplace=True)\n",
        "  else:\n",
        "    i+=1\n",
        "df_prueba[\"zone\"].isna().value_counts()"
      ]
    },
    {
      "cell_type": "code",
      "execution_count": 73,
      "metadata": {
        "id": "RLgeDGPXMPfr"
      },
      "outputs": [],
      "source": [
        "prec_m2 = {}\n",
        "\n",
        "for zona in zones:\n",
        "  zona_act = df_prueba[df_prueba[\"zone\"]==zona]\n",
        "  prec_tot = 0\n",
        "  sup_tot = 0\n",
        "\n",
        "  for i in range(0,zona_act.shape[0]):\n",
        "    fila = zona_act.iloc[i]\n",
        "    prec = fila[\"property_price\"]\n",
        "    sup = fila[\"property_surface_total\"]\n",
        "\n",
        "    if not sup!=sup:\n",
        "      prec_tot+=prec\n",
        "      sup_tot+=sup\n",
        "\n",
        "  if sup_tot!=0:\n",
        "    prec_prom = prec_tot/sup_tot\n",
        "\n",
        "    prec_m2[zona]= prec_prom\n",
        "\n",
        "for i in range (0,df_prueba.shape[0]):\n",
        "  fila = df_prueba.iloc[i]\n",
        "  zona = fila[\"zone\"]\n",
        "  sup = fila[\"property_surface_total\"]\n",
        "  if sup!=sup:\n",
        "      prec = fila[\"property_price\"]\n",
        "      sup_calc = prec/prec_m2.get(zona)\n",
        "      df_prueba.iat[i, 9] = sup_calc"
      ]
    },
    {
      "cell_type": "code",
      "execution_count": 74,
      "metadata": {
        "id": "Cj5PefNnMbZf"
      },
      "outputs": [],
      "source": [
        "for i in range (0,df_prueba.shape[0]):\n",
        "  fila = df_prueba.iloc[i]\n",
        "  zona = fila[\"zone\"]\n",
        "  sup = fila[\"property_surface_total\"]\n",
        "  if sup!=sup:\n",
        "      prec = fila[\"property_price\"]\n",
        "      sup_calc = prec/prec_m2.get(zona)\n",
        "      df_prueba.iat[i, 9] = sup_calc"
      ]
    },
    {
      "cell_type": "code",
      "execution_count": 75,
      "metadata": {
        "id": "bYFgUZF5MiyJ"
      },
      "outputs": [],
      "source": [
        "porc_sup_cub = {}\n",
        "\n",
        "for zona in zones:\n",
        "  zona_act = df_prueba[df_prueba[\"zone\"]==zona]\n",
        "  sup_tot = 0\n",
        "  sup_cub = 0\n",
        "\n",
        "  for i in range(0,zona_act.shape[0]):\n",
        "    fila = zona_act.iloc[i]\n",
        "    s_tot = fila[\"property_surface_total\"]\n",
        "    s_cub = fila[\"property_surface_covered\"]\n",
        "\n",
        "    if not s_cub!=s_cub:    #es decir si la columna property_surface_covered no es NaN\n",
        "      sup_tot+=s_tot\n",
        "      sup_cub+=s_cub\n",
        "\n",
        "  if sup_tot!=0:\n",
        "    porc_cub = (sup_cub * 100)/sup_tot\n",
        "    porc_sup_cub[zona]= porc_cub"
      ]
    },
    {
      "cell_type": "code",
      "execution_count": 76,
      "metadata": {
        "colab": {
          "base_uri": "https://localhost:8080/"
        },
        "id": "WLRDdlhPQOBc",
        "outputId": "52b2d27f-eac5-48cf-bbeb-8e4aa9474450"
      },
      "outputs": [
        {
          "data": {
            "text/plain": [
              "(18793, 10)"
            ]
          },
          "execution_count": 76,
          "metadata": {},
          "output_type": "execute_result"
        }
      ],
      "source": [
        "df_prueba.shape"
      ]
    },
    {
      "cell_type": "code",
      "execution_count": 77,
      "metadata": {
        "colab": {
          "base_uri": "https://localhost:8080/"
        },
        "id": "xYMAEhjyQVOy",
        "outputId": "76042d7a-8787-4fdb-b979-0ea6b6b8047f"
      },
      "outputs": [
        {
          "data": {
            "text/plain": [
              "(65450, 10)"
            ]
          },
          "execution_count": 77,
          "metadata": {},
          "output_type": "execute_result"
        }
      ],
      "source": [
        "conjunto_entrenamiento_final.shape"
      ]
    },
    {
      "cell_type": "code",
      "execution_count": 78,
      "metadata": {
        "id": "11B2Lys_Mmzv"
      },
      "outputs": [],
      "source": [
        "for i in range (0,df_prueba.shape[0]):\n",
        "  fila = df_prueba.iloc[i]\n",
        "  zona = fila[\"zone\"]\n",
        "  sup_cub = fila[\"property_surface_covered\"]\n",
        "  if sup_cub!=sup_cub:\n",
        "      sup_tot = fila[\"property_surface_total\"]\n",
        "      nueva_sup_cub = sup_tot * porc_sup_cub.get(zona)\n",
        "      conjunto_entrenamiento_final.iat[i, 9] = nueva_sup_cub"
      ]
    },
    {
      "cell_type": "code",
      "execution_count": 79,
      "metadata": {
        "id": "CPFx9YKMSxSH"
      },
      "outputs": [],
      "source": [
        "met_por_hab = {}\n",
        "\n",
        "for zona in zones:\n",
        "  zona_act = df_prueba[df_prueba[\"zone\"]==zona]\n",
        "  r_mediana = zona_act[\"property_rooms\"].median()\n",
        "  s_mediana = zona_act[\"property_surface_total\"].median()\n",
        "  met_por_hab[zona]=s_mediana/r_mediana"
      ]
    },
    {
      "cell_type": "code",
      "execution_count": 80,
      "metadata": {
        "colab": {
          "base_uri": "https://localhost:8080/"
        },
        "id": "Q8t6IqlXS2Rb",
        "outputId": "296fddcd-efb9-4d4d-f0ac-2633453c7fe4"
      },
      "outputs": [
        {
          "data": {
            "text/plain": [
              "property_rooms\n",
              "False    18618\n",
              "Name: count, dtype: int64"
            ]
          },
          "execution_count": 80,
          "metadata": {},
          "output_type": "execute_result"
        }
      ],
      "source": [
        "import math\n",
        "\n",
        "i = 0\n",
        "while i < df_prueba.shape[0]:\n",
        "  fila = df_prueba.iloc[i]\n",
        "  lat = fila[\"property_rooms\"]\n",
        "  if str(lat) == 'nan':\n",
        "    df_prueba.drop(df_prueba.index[i:i+1], inplace=True)\n",
        "  else:\n",
        "    i+=1\n",
        "df_prueba[\"property_rooms\"].isna().value_counts()"
      ]
    },
    {
      "cell_type": "code",
      "execution_count": 81,
      "metadata": {
        "id": "4HWGPVy-S9eI"
      },
      "outputs": [],
      "source": [
        "for i in range (0,df_prueba.shape[0]):\n",
        "  fila = df_prueba.iloc[i]\n",
        "  zona = fila[\"zone\"]\n",
        "  rooms = fila[\"property_rooms\"]\n",
        "  if rooms!=rooms:\n",
        "      sup_cub = fila[\"property_surface_covered\"]\n",
        "      nuevo_rooms = sup_cub / met_por_hab.get(zona)\n",
        "      df_prueba.iat[i, 7] = round(nuevo_rooms)"
      ]
    },
    {
      "cell_type": "code",
      "execution_count": 82,
      "metadata": {
        "id": "YFLSpHjNTDQb"
      },
      "outputs": [],
      "source": [
        "por_bedrooms = {}\n",
        "\n",
        "rooms=df_prueba[\"property_rooms\"].median()\n",
        "bedrooms=df_prueba[\"property_bedrooms\"].median()\n",
        "porcentaje_mediana_gral = (bedrooms*100)/rooms\n",
        "\n",
        "\n",
        "for zona in zones:\n",
        "  zona_act = df_prueba[df_prueba[\"zone\"]==zona]\n",
        "  r_mediana = zona_act[\"property_rooms\"].median()\n",
        "  b_mediana = zona_act[\"property_bedrooms\"].median()\n",
        "  porcentaje = (b_mediana * 100)/r_mediana\n",
        "  if porcentaje==100.0:\n",
        "    porcentaje=porcentaje_mediana_gral\n",
        "  por_bedrooms[zona] = porcentaje"
      ]
    },
    {
      "cell_type": "code",
      "execution_count": 83,
      "metadata": {
        "id": "rY7tdEt4TI0B"
      },
      "outputs": [],
      "source": [
        "for i in range (0,df_prueba.shape[0]):\n",
        "  fila = df_prueba.iloc[i]\n",
        "  zona = fila[\"zone\"]\n",
        "  bedrooms = fila[\"property_bedrooms\"]\n",
        "  if bedrooms!=bedrooms:\n",
        "      rooms = fila[\"property_rooms\"]\n",
        "      calc_bedrooms = (rooms*por_bedrooms.get(zona)/100)\n",
        "      df_prueba.iat[i, 8] = round(calc_bedrooms)"
      ]
    },
    {
      "cell_type": "code",
      "execution_count": 84,
      "metadata": {
        "colab": {
          "base_uri": "https://localhost:8080/"
        },
        "id": "WEbvTAaQTPlp",
        "outputId": "8e4c2c48-3c9d-4ce4-ab76-e518d23f335d"
      },
      "outputs": [
        {
          "name": "stdout",
          "output_type": "stream",
          "text": [
            "<class 'pandas.core.frame.DataFrame'>\n",
            "Index: 18618 entries, 0 to 18849\n",
            "Data columns (total 10 columns):\n",
            " #   Column                    Non-Null Count  Dtype  \n",
            "---  ------                    --------------  -----  \n",
            " 0   latitud                   18618 non-null  float64\n",
            " 1   longitud                  18618 non-null  float64\n",
            " 2   zone                      18618 non-null  object \n",
            " 3   property_type             18618 non-null  object \n",
            " 4   property_rooms            18618 non-null  object \n",
            " 5   property_bedrooms         16578 non-null  float64\n",
            " 6   property_surface_total    17986 non-null  float64\n",
            " 7   property_surface_covered  18153 non-null  float64\n",
            " 8   property_price            18618 non-null  float64\n",
            " 9   property_title            18618 non-null  object \n",
            "dtypes: float64(6), object(4)\n",
            "memory usage: 1.6+ MB\n"
          ]
        }
      ],
      "source": [
        "df_prueba.info()"
      ]
    },
    {
      "cell_type": "code",
      "execution_count": 85,
      "metadata": {
        "id": "NpG-upc5Tcg-"
      },
      "outputs": [],
      "source": [
        "df_prueba.dropna(inplace=True)\n",
        "df_prueba.drop(['zone'], axis=1, inplace=True)"
      ]
    },
    {
      "cell_type": "markdown",
      "metadata": {
        "id": "X9x06n4DThBM"
      },
      "source": [
        "Terminamos dropeando todas las filas que tienen datos nulos al finalizar, como también la columna de zonaa."
      ]
    },
    {
      "cell_type": "markdown",
      "metadata": {
        "id": "CORFBCgnTibc"
      },
      "source": [
        "#### Preparar target"
      ]
    },
    {
      "cell_type": "code",
      "execution_count": 86,
      "metadata": {
        "colab": {
          "base_uri": "https://localhost:8080/"
        },
        "id": "L7AxxHIpZslS",
        "outputId": "9a7d5e3d-ceda-42f3-b69e-9ac769e3881e"
      },
      "outputs": [
        {
          "name": "stdout",
          "output_type": "stream",
          "text": [
            "<class 'pandas.core.frame.DataFrame'>\n",
            "Index: 15630 entries, 0 to 18849\n",
            "Data columns (total 9 columns):\n",
            " #   Column                    Non-Null Count  Dtype  \n",
            "---  ------                    --------------  -----  \n",
            " 0   latitud                   15630 non-null  float64\n",
            " 1   longitud                  15630 non-null  float64\n",
            " 2   property_type             15630 non-null  object \n",
            " 3   property_rooms            15630 non-null  object \n",
            " 4   property_bedrooms         15630 non-null  float64\n",
            " 5   property_surface_total    15630 non-null  float64\n",
            " 6   property_surface_covered  15630 non-null  float64\n",
            " 7   property_price            15630 non-null  float64\n",
            " 8   property_title            15630 non-null  object \n",
            "dtypes: float64(6), object(3)\n",
            "memory usage: 1.2+ MB\n"
          ]
        }
      ],
      "source": [
        "df_prueba.info()"
      ]
    },
    {
      "cell_type": "code",
      "execution_count": 87,
      "metadata": {
        "id": "eYAGZD06TkLL"
      },
      "outputs": [],
      "source": [
        "df_prueba['price_per_square_meter'] = df_prueba['property_price'] / df_prueba['property_surface_total']\n",
        "\n",
        "percentiles = [0, 0.25, 0.75, 1]\n",
        "labels = ['bajo', 'medio', 'alto']\n",
        "df_prueba[\"tipo_precio\"] = pd.cut(df_prueba[\"price_per_square_meter\"], bins=df_prueba[\"price_per_square_meter\"].quantile(percentiles), labels=labels)"
      ]
    },
    {
      "cell_type": "code",
      "execution_count": 88,
      "metadata": {
        "id": "D7oOu6A0Tr9g"
      },
      "outputs": [],
      "source": [
        "df_prueba.dropna(inplace=True)"
      ]
    },
    {
      "cell_type": "code",
      "execution_count": 89,
      "metadata": {
        "id": "pcutmv0HTuld"
      },
      "outputs": [],
      "source": [
        "df_prueba.drop(['price_per_square_meter', 'property_price'], axis=1, inplace=True)"
      ]
    },
    {
      "cell_type": "markdown",
      "metadata": {
        "id": "1lQBQdAVTyH_"
      },
      "source": [
        "###Ingeniería de características"
      ]
    },
    {
      "cell_type": "code",
      "execution_count": 95,
      "metadata": {
        "id": "1tw7gMgDT2n9"
      },
      "outputs": [],
      "source": [
        "# Mismo para drop_first\n",
        "df_prueba_dummies = pd.get_dummies(df_prueba, columns=['property_type'],drop_first=True, dtype=int)\n",
        "df_prueba_dummies['title_len'] = df_prueba_dummies['property_title'].str.len()\n",
        "df_prueba_dummies['title_words'] = df_prueba_dummies['property_title'].str.split().str.len()\n",
        "df_prueba_dummies.drop(['property_title'], axis=1, inplace=True)"
      ]
    },
    {
      "cell_type": "code",
      "execution_count": 96,
      "metadata": {
        "id": "FcIcitRtT_9j"
      },
      "outputs": [],
      "source": [
        "from sklearn.preprocessing import StandardScaler\n",
        "\n",
        "standard_scaler = StandardScaler()\n",
        "df_prueba_dummies[columnas_num] = standard_scaler.fit_transform(df_prueba_dummies[columnas_num])"
      ]
    },
    {
      "cell_type": "code",
      "execution_count": 97,
      "metadata": {
        "colab": {
          "base_uri": "https://localhost:8080/",
          "height": 226
        },
        "id": "wOEyW5knfQ96",
        "outputId": "bf3d0a0a-2ae1-4b98-ac5a-a3284fa75c53"
      },
      "outputs": [
        {
          "data": {
            "text/html": [
              "<div>\n",
              "<style scoped>\n",
              "    .dataframe tbody tr th:only-of-type {\n",
              "        vertical-align: middle;\n",
              "    }\n",
              "\n",
              "    .dataframe tbody tr th {\n",
              "        vertical-align: top;\n",
              "    }\n",
              "\n",
              "    .dataframe thead th {\n",
              "        text-align: right;\n",
              "    }\n",
              "</style>\n",
              "<table border=\"1\" class=\"dataframe\">\n",
              "  <thead>\n",
              "    <tr style=\"text-align: right;\">\n",
              "      <th></th>\n",
              "      <th>latitud</th>\n",
              "      <th>longitud</th>\n",
              "      <th>property_bedrooms</th>\n",
              "      <th>property_rooms</th>\n",
              "      <th>property_surface_covered</th>\n",
              "      <th>property_surface_total</th>\n",
              "      <th>tipo_precio</th>\n",
              "      <th>property_type_Casa</th>\n",
              "      <th>property_type_Departamento</th>\n",
              "      <th>property_type_PH</th>\n",
              "      <th>title_len</th>\n",
              "      <th>title_words</th>\n",
              "    </tr>\n",
              "  </thead>\n",
              "  <tbody>\n",
              "    <tr>\n",
              "      <th>0</th>\n",
              "      <td>-34.574142</td>\n",
              "      <td>-58.408867</td>\n",
              "      <td>0.442879</td>\n",
              "      <td>0.495165</td>\n",
              "      <td>0.458707</td>\n",
              "      <td>4.684825</td>\n",
              "      <td>Bajo</td>\n",
              "      <td>1</td>\n",
              "      <td>0</td>\n",
              "      <td>0</td>\n",
              "      <td>-0.793343</td>\n",
              "      <td>-0.637623</td>\n",
              "    </tr>\n",
              "    <tr>\n",
              "      <th>1</th>\n",
              "      <td>-34.608300</td>\n",
              "      <td>-58.371200</td>\n",
              "      <td>0.442879</td>\n",
              "      <td>0.495165</td>\n",
              "      <td>0.277233</td>\n",
              "      <td>0.397241</td>\n",
              "      <td>Bajo</td>\n",
              "      <td>1</td>\n",
              "      <td>0</td>\n",
              "      <td>0</td>\n",
              "      <td>-0.143673</td>\n",
              "      <td>-0.637623</td>\n",
              "    </tr>\n",
              "    <tr>\n",
              "      <th>2</th>\n",
              "      <td>-34.657288</td>\n",
              "      <td>-58.411771</td>\n",
              "      <td>0.442879</td>\n",
              "      <td>0.495165</td>\n",
              "      <td>0.749065</td>\n",
              "      <td>1.826436</td>\n",
              "      <td>Bajo</td>\n",
              "      <td>1</td>\n",
              "      <td>0</td>\n",
              "      <td>0</td>\n",
              "      <td>1.155667</td>\n",
              "      <td>1.230711</td>\n",
              "    </tr>\n",
              "    <tr>\n",
              "      <th>3</th>\n",
              "      <td>-34.646343</td>\n",
              "      <td>-58.363495</td>\n",
              "      <td>0.442879</td>\n",
              "      <td>0.495165</td>\n",
              "      <td>2.091970</td>\n",
              "      <td>2.234777</td>\n",
              "      <td>Bajo</td>\n",
              "      <td>1</td>\n",
              "      <td>0</td>\n",
              "      <td>0</td>\n",
              "      <td>-1.767848</td>\n",
              "      <td>-0.637623</td>\n",
              "    </tr>\n",
              "    <tr>\n",
              "      <th>4</th>\n",
              "      <td>-34.653845</td>\n",
              "      <td>-58.464647</td>\n",
              "      <td>0.442879</td>\n",
              "      <td>0.495165</td>\n",
              "      <td>1.148307</td>\n",
              "      <td>0.630579</td>\n",
              "      <td>Bajo</td>\n",
              "      <td>1</td>\n",
              "      <td>0</td>\n",
              "      <td>0</td>\n",
              "      <td>2.455007</td>\n",
              "      <td>1.230711</td>\n",
              "    </tr>\n",
              "  </tbody>\n",
              "</table>\n",
              "</div>"
            ],
            "text/plain": [
              "     latitud   longitud  property_bedrooms  property_rooms  \\\n",
              "0 -34.574142 -58.408867           0.442879        0.495165   \n",
              "1 -34.608300 -58.371200           0.442879        0.495165   \n",
              "2 -34.657288 -58.411771           0.442879        0.495165   \n",
              "3 -34.646343 -58.363495           0.442879        0.495165   \n",
              "4 -34.653845 -58.464647           0.442879        0.495165   \n",
              "\n",
              "   property_surface_covered  property_surface_total tipo_precio  \\\n",
              "0                  0.458707                4.684825        Bajo   \n",
              "1                  0.277233                0.397241        Bajo   \n",
              "2                  0.749065                1.826436        Bajo   \n",
              "3                  2.091970                2.234777        Bajo   \n",
              "4                  1.148307                0.630579        Bajo   \n",
              "\n",
              "   property_type_Casa  property_type_Departamento  property_type_PH  \\\n",
              "0                   1                           0                 0   \n",
              "1                   1                           0                 0   \n",
              "2                   1                           0                 0   \n",
              "3                   1                           0                 0   \n",
              "4                   1                           0                 0   \n",
              "\n",
              "   title_len  title_words  \n",
              "0  -0.793343    -0.637623  \n",
              "1  -0.143673    -0.637623  \n",
              "2   1.155667     1.230711  \n",
              "3  -1.767848    -0.637623  \n",
              "4   2.455007     1.230711  "
            ]
          },
          "execution_count": 97,
          "metadata": {},
          "output_type": "execute_result"
        }
      ],
      "source": [
        "df_dummies.head()"
      ]
    },
    {
      "cell_type": "code",
      "execution_count": 98,
      "metadata": {
        "colab": {
          "base_uri": "https://localhost:8080/",
          "height": 226
        },
        "id": "fX-N-SBmfUI_",
        "outputId": "a45b7c89-43d2-43cf-c509-acc6f1f0c2e7"
      },
      "outputs": [
        {
          "data": {
            "text/html": [
              "<div>\n",
              "<style scoped>\n",
              "    .dataframe tbody tr th:only-of-type {\n",
              "        vertical-align: middle;\n",
              "    }\n",
              "\n",
              "    .dataframe tbody tr th {\n",
              "        vertical-align: top;\n",
              "    }\n",
              "\n",
              "    .dataframe thead th {\n",
              "        text-align: right;\n",
              "    }\n",
              "</style>\n",
              "<table border=\"1\" class=\"dataframe\">\n",
              "  <thead>\n",
              "    <tr style=\"text-align: right;\">\n",
              "      <th></th>\n",
              "      <th>latitud</th>\n",
              "      <th>longitud</th>\n",
              "      <th>property_rooms</th>\n",
              "      <th>property_bedrooms</th>\n",
              "      <th>property_surface_total</th>\n",
              "      <th>property_surface_covered</th>\n",
              "      <th>tipo_precio</th>\n",
              "      <th>property_type_Departamento</th>\n",
              "      <th>property_type_PH</th>\n",
              "      <th>title_len</th>\n",
              "      <th>title_words</th>\n",
              "    </tr>\n",
              "  </thead>\n",
              "  <tbody>\n",
              "    <tr>\n",
              "      <th>0</th>\n",
              "      <td>-34.594832</td>\n",
              "      <td>-58.419821</td>\n",
              "      <td>-1.528993</td>\n",
              "      <td>-0.949396</td>\n",
              "      <td>-0.097498</td>\n",
              "      <td>-0.078213</td>\n",
              "      <td>medio</td>\n",
              "      <td>1</td>\n",
              "      <td>0</td>\n",
              "      <td>-0.437497</td>\n",
              "      <td>-1.188888</td>\n",
              "    </tr>\n",
              "    <tr>\n",
              "      <th>2</th>\n",
              "      <td>-34.582800</td>\n",
              "      <td>-58.442800</td>\n",
              "      <td>-1.528993</td>\n",
              "      <td>-0.949396</td>\n",
              "      <td>-0.085501</td>\n",
              "      <td>-0.070835</td>\n",
              "      <td>medio</td>\n",
              "      <td>1</td>\n",
              "      <td>0</td>\n",
              "      <td>0.175376</td>\n",
              "      <td>0.773285</td>\n",
              "    </tr>\n",
              "    <tr>\n",
              "      <th>3</th>\n",
              "      <td>-34.577400</td>\n",
              "      <td>-58.433300</td>\n",
              "      <td>-0.759697</td>\n",
              "      <td>-0.949396</td>\n",
              "      <td>-0.078302</td>\n",
              "      <td>-0.063456</td>\n",
              "      <td>medio</td>\n",
              "      <td>1</td>\n",
              "      <td>0</td>\n",
              "      <td>-0.376209</td>\n",
              "      <td>-0.534830</td>\n",
              "    </tr>\n",
              "    <tr>\n",
              "      <th>5</th>\n",
              "      <td>-34.573606</td>\n",
              "      <td>-58.432669</td>\n",
              "      <td>0.009598</td>\n",
              "      <td>0.019023</td>\n",
              "      <td>-0.053108</td>\n",
              "      <td>-0.036403</td>\n",
              "      <td>medio</td>\n",
              "      <td>1</td>\n",
              "      <td>0</td>\n",
              "      <td>-0.314922</td>\n",
              "      <td>-0.534830</td>\n",
              "    </tr>\n",
              "    <tr>\n",
              "      <th>6</th>\n",
              "      <td>-34.588245</td>\n",
              "      <td>-58.439884</td>\n",
              "      <td>-0.759697</td>\n",
              "      <td>-0.949396</td>\n",
              "      <td>-0.042311</td>\n",
              "      <td>-0.041322</td>\n",
              "      <td>alto</td>\n",
              "      <td>1</td>\n",
              "      <td>0</td>\n",
              "      <td>0.052801</td>\n",
              "      <td>1.100314</td>\n",
              "    </tr>\n",
              "  </tbody>\n",
              "</table>\n",
              "</div>"
            ],
            "text/plain": [
              "     latitud   longitud  property_rooms  property_bedrooms  \\\n",
              "0 -34.594832 -58.419821       -1.528993          -0.949396   \n",
              "2 -34.582800 -58.442800       -1.528993          -0.949396   \n",
              "3 -34.577400 -58.433300       -0.759697          -0.949396   \n",
              "5 -34.573606 -58.432669        0.009598           0.019023   \n",
              "6 -34.588245 -58.439884       -0.759697          -0.949396   \n",
              "\n",
              "   property_surface_total  property_surface_covered tipo_precio  \\\n",
              "0               -0.097498                 -0.078213       medio   \n",
              "2               -0.085501                 -0.070835       medio   \n",
              "3               -0.078302                 -0.063456       medio   \n",
              "5               -0.053108                 -0.036403       medio   \n",
              "6               -0.042311                 -0.041322        alto   \n",
              "\n",
              "   property_type_Departamento  property_type_PH  title_len  title_words  \n",
              "0                           1                 0  -0.437497    -1.188888  \n",
              "2                           1                 0   0.175376     0.773285  \n",
              "3                           1                 0  -0.376209    -0.534830  \n",
              "5                           1                 0  -0.314922    -0.534830  \n",
              "6                           1                 0   0.052801     1.100314  "
            ]
          },
          "execution_count": 98,
          "metadata": {},
          "output_type": "execute_result"
        }
      ],
      "source": [
        "df_prueba_dummies.head()"
      ]
    },
    {
      "cell_type": "markdown",
      "metadata": {
        "id": "rmyIFywxhBiB"
      },
      "source": [
        "Reorganizo las columnas para que me queden en el mismo orden, las de prueba y las de entrenamiento"
      ]
    },
    {
      "cell_type": "code",
      "execution_count": 99,
      "metadata": {
        "id": "s3T92Nbre-uu"
      },
      "outputs": [
        {
          "ename": "KeyError",
          "evalue": "\"['property_type_Casa'] not in index\"",
          "output_type": "error",
          "traceback": [
            "\u001b[1;31m---------------------------------------------------------------------------\u001b[0m",
            "\u001b[1;31mKeyError\u001b[0m                                  Traceback (most recent call last)",
            "Cell \u001b[1;32mIn[99], line 2\u001b[0m\n\u001b[0;32m      1\u001b[0m column_order \u001b[38;5;241m=\u001b[39m df_dummies\u001b[38;5;241m.\u001b[39mcolumns\n\u001b[1;32m----> 2\u001b[0m df_prueba_dummies \u001b[38;5;241m=\u001b[39m \u001b[43mdf_prueba_dummies\u001b[49m\u001b[43m[\u001b[49m\u001b[43mcolumn_order\u001b[49m\u001b[43m]\u001b[49m\n",
            "File \u001b[1;32mc:\\Users\\flaph\\AppData\\Local\\Programs\\Python\\Python310\\lib\\site-packages\\pandas\\core\\frame.py:3767\u001b[0m, in \u001b[0;36mDataFrame.__getitem__\u001b[1;34m(self, key)\u001b[0m\n\u001b[0;32m   3765\u001b[0m     \u001b[38;5;28;01mif\u001b[39;00m is_iterator(key):\n\u001b[0;32m   3766\u001b[0m         key \u001b[38;5;241m=\u001b[39m \u001b[38;5;28mlist\u001b[39m(key)\n\u001b[1;32m-> 3767\u001b[0m     indexer \u001b[38;5;241m=\u001b[39m \u001b[38;5;28;43mself\u001b[39;49m\u001b[38;5;241;43m.\u001b[39;49m\u001b[43mcolumns\u001b[49m\u001b[38;5;241;43m.\u001b[39;49m\u001b[43m_get_indexer_strict\u001b[49m\u001b[43m(\u001b[49m\u001b[43mkey\u001b[49m\u001b[43m,\u001b[49m\u001b[43m \u001b[49m\u001b[38;5;124;43m\"\u001b[39;49m\u001b[38;5;124;43mcolumns\u001b[39;49m\u001b[38;5;124;43m\"\u001b[39;49m\u001b[43m)\u001b[49m[\u001b[38;5;241m1\u001b[39m]\n\u001b[0;32m   3769\u001b[0m \u001b[38;5;66;03m# take() does not accept boolean indexers\u001b[39;00m\n\u001b[0;32m   3770\u001b[0m \u001b[38;5;28;01mif\u001b[39;00m \u001b[38;5;28mgetattr\u001b[39m(indexer, \u001b[38;5;124m\"\u001b[39m\u001b[38;5;124mdtype\u001b[39m\u001b[38;5;124m\"\u001b[39m, \u001b[38;5;28;01mNone\u001b[39;00m) \u001b[38;5;241m==\u001b[39m \u001b[38;5;28mbool\u001b[39m:\n",
            "File \u001b[1;32mc:\\Users\\flaph\\AppData\\Local\\Programs\\Python\\Python310\\lib\\site-packages\\pandas\\core\\indexes\\base.py:5876\u001b[0m, in \u001b[0;36mIndex._get_indexer_strict\u001b[1;34m(self, key, axis_name)\u001b[0m\n\u001b[0;32m   5873\u001b[0m \u001b[38;5;28;01melse\u001b[39;00m:\n\u001b[0;32m   5874\u001b[0m     keyarr, indexer, new_indexer \u001b[38;5;241m=\u001b[39m \u001b[38;5;28mself\u001b[39m\u001b[38;5;241m.\u001b[39m_reindex_non_unique(keyarr)\n\u001b[1;32m-> 5876\u001b[0m \u001b[38;5;28;43mself\u001b[39;49m\u001b[38;5;241;43m.\u001b[39;49m\u001b[43m_raise_if_missing\u001b[49m\u001b[43m(\u001b[49m\u001b[43mkeyarr\u001b[49m\u001b[43m,\u001b[49m\u001b[43m \u001b[49m\u001b[43mindexer\u001b[49m\u001b[43m,\u001b[49m\u001b[43m \u001b[49m\u001b[43maxis_name\u001b[49m\u001b[43m)\u001b[49m\n\u001b[0;32m   5878\u001b[0m keyarr \u001b[38;5;241m=\u001b[39m \u001b[38;5;28mself\u001b[39m\u001b[38;5;241m.\u001b[39mtake(indexer)\n\u001b[0;32m   5879\u001b[0m \u001b[38;5;28;01mif\u001b[39;00m \u001b[38;5;28misinstance\u001b[39m(key, Index):\n\u001b[0;32m   5880\u001b[0m     \u001b[38;5;66;03m# GH 42790 - Preserve name from an Index\u001b[39;00m\n",
            "File \u001b[1;32mc:\\Users\\flaph\\AppData\\Local\\Programs\\Python\\Python310\\lib\\site-packages\\pandas\\core\\indexes\\base.py:5938\u001b[0m, in \u001b[0;36mIndex._raise_if_missing\u001b[1;34m(self, key, indexer, axis_name)\u001b[0m\n\u001b[0;32m   5935\u001b[0m     \u001b[38;5;28;01mraise\u001b[39;00m \u001b[38;5;167;01mKeyError\u001b[39;00m(\u001b[38;5;124mf\u001b[39m\u001b[38;5;124m\"\u001b[39m\u001b[38;5;124mNone of [\u001b[39m\u001b[38;5;132;01m{\u001b[39;00mkey\u001b[38;5;132;01m}\u001b[39;00m\u001b[38;5;124m] are in the [\u001b[39m\u001b[38;5;132;01m{\u001b[39;00maxis_name\u001b[38;5;132;01m}\u001b[39;00m\u001b[38;5;124m]\u001b[39m\u001b[38;5;124m\"\u001b[39m)\n\u001b[0;32m   5937\u001b[0m not_found \u001b[38;5;241m=\u001b[39m \u001b[38;5;28mlist\u001b[39m(ensure_index(key)[missing_mask\u001b[38;5;241m.\u001b[39mnonzero()[\u001b[38;5;241m0\u001b[39m]]\u001b[38;5;241m.\u001b[39munique())\n\u001b[1;32m-> 5938\u001b[0m \u001b[38;5;28;01mraise\u001b[39;00m \u001b[38;5;167;01mKeyError\u001b[39;00m(\u001b[38;5;124mf\u001b[39m\u001b[38;5;124m\"\u001b[39m\u001b[38;5;132;01m{\u001b[39;00mnot_found\u001b[38;5;132;01m}\u001b[39;00m\u001b[38;5;124m not in index\u001b[39m\u001b[38;5;124m\"\u001b[39m)\n",
            "\u001b[1;31mKeyError\u001b[0m: \"['property_type_Casa'] not in index\""
          ]
        }
      ],
      "source": [
        "column_order = df_dummies.columns\n",
        "df_prueba_dummies = df_prueba_dummies[column_order]"
      ]
    },
    {
      "cell_type": "markdown",
      "metadata": {
        "id": "11baJxHVUWo7"
      },
      "source": [
        "### Realizamos la Predicción"
      ]
    },
    {
      "cell_type": "code",
      "execution_count": 100,
      "metadata": {
        "id": "kZ0eHRhRUcZ-"
      },
      "outputs": [],
      "source": [
        "x_prueba = df_prueba_dummies.drop(['tipo_precio'], axis='columns', inplace=False)\n",
        "y_prueba = df_prueba_dummies['tipo_precio'].copy()"
      ]
    },
    {
      "cell_type": "code",
      "execution_count": 101,
      "metadata": {
        "colab": {
          "base_uri": "https://localhost:8080/",
          "height": 484
        },
        "id": "cRzcDDi0Uh6R",
        "outputId": "ea166c12-ce50-4054-c7e1-3fe5cef87deb"
      },
      "outputs": [
        {
          "ename": "ValueError",
          "evalue": "The feature names should match those that were passed during fit.\nFeature names seen at fit time, yet now missing:\n- property_type_Casa\n",
          "output_type": "error",
          "traceback": [
            "\u001b[1;31m---------------------------------------------------------------------------\u001b[0m",
            "\u001b[1;31mValueError\u001b[0m                                Traceback (most recent call last)",
            "Cell \u001b[1;32mIn[101], line 5\u001b[0m\n\u001b[0;32m      2\u001b[0m \u001b[38;5;28;01mfrom\u001b[39;00m \u001b[38;5;21;01msklearn\u001b[39;00m\u001b[38;5;21;01m.\u001b[39;00m\u001b[38;5;21;01mmetrics\u001b[39;00m \u001b[38;5;28;01mimport\u001b[39;00m confusion_matrix, classification_report , f1_score\n\u001b[0;32m      4\u001b[0m \u001b[38;5;66;03m#predicción sobre el set de evaluacion\u001b[39;00m\n\u001b[1;32m----> 5\u001b[0m y_pred \u001b[38;5;241m=\u001b[39m \u001b[43marbol\u001b[49m\u001b[38;5;241;43m.\u001b[39;49m\u001b[43mpredict\u001b[49m\u001b[43m(\u001b[49m\u001b[43mx_prueba\u001b[49m\u001b[43m)\u001b[49m\n\u001b[0;32m      7\u001b[0m \u001b[38;5;66;03m#Arbol Reporte y Matriz de Confusion\u001b[39;00m\n\u001b[0;32m      8\u001b[0m \u001b[38;5;28mprint\u001b[39m(\u001b[38;5;124m'\u001b[39m\u001b[38;5;124mF1-Score: \u001b[39m\u001b[38;5;132;01m{}\u001b[39;00m\u001b[38;5;124m'\u001b[39m\u001b[38;5;241m.\u001b[39mformat(f1_score(y_prueba, y_pred, average\u001b[38;5;241m=\u001b[39m\u001b[38;5;124m'\u001b[39m\u001b[38;5;124mmicro\u001b[39m\u001b[38;5;124m'\u001b[39m)))\n",
            "File \u001b[1;32mc:\\Users\\flaph\\AppData\\Local\\Programs\\Python\\Python310\\lib\\site-packages\\sklearn\\tree\\_classes.py:426\u001b[0m, in \u001b[0;36mBaseDecisionTree.predict\u001b[1;34m(self, X, check_input)\u001b[0m\n\u001b[0;32m    403\u001b[0m \u001b[38;5;250m\u001b[39m\u001b[38;5;124;03m\"\"\"Predict class or regression value for X.\u001b[39;00m\n\u001b[0;32m    404\u001b[0m \n\u001b[0;32m    405\u001b[0m \u001b[38;5;124;03mFor a classification model, the predicted class for each sample in X is\u001b[39;00m\n\u001b[1;32m   (...)\u001b[0m\n\u001b[0;32m    423\u001b[0m \u001b[38;5;124;03m    The predicted classes, or the predict values.\u001b[39;00m\n\u001b[0;32m    424\u001b[0m \u001b[38;5;124;03m\"\"\"\u001b[39;00m\n\u001b[0;32m    425\u001b[0m check_is_fitted(\u001b[38;5;28mself\u001b[39m)\n\u001b[1;32m--> 426\u001b[0m X \u001b[38;5;241m=\u001b[39m \u001b[38;5;28;43mself\u001b[39;49m\u001b[38;5;241;43m.\u001b[39;49m\u001b[43m_validate_X_predict\u001b[49m\u001b[43m(\u001b[49m\u001b[43mX\u001b[49m\u001b[43m,\u001b[49m\u001b[43m \u001b[49m\u001b[43mcheck_input\u001b[49m\u001b[43m)\u001b[49m\n\u001b[0;32m    427\u001b[0m proba \u001b[38;5;241m=\u001b[39m \u001b[38;5;28mself\u001b[39m\u001b[38;5;241m.\u001b[39mtree_\u001b[38;5;241m.\u001b[39mpredict(X)\n\u001b[0;32m    428\u001b[0m n_samples \u001b[38;5;241m=\u001b[39m X\u001b[38;5;241m.\u001b[39mshape[\u001b[38;5;241m0\u001b[39m]\n",
            "File \u001b[1;32mc:\\Users\\flaph\\AppData\\Local\\Programs\\Python\\Python310\\lib\\site-packages\\sklearn\\tree\\_classes.py:392\u001b[0m, in \u001b[0;36mBaseDecisionTree._validate_X_predict\u001b[1;34m(self, X, check_input)\u001b[0m\n\u001b[0;32m    390\u001b[0m \u001b[38;5;250m\u001b[39m\u001b[38;5;124;03m\"\"\"Validate the training data on predict (probabilities).\"\"\"\u001b[39;00m\n\u001b[0;32m    391\u001b[0m \u001b[38;5;28;01mif\u001b[39;00m check_input:\n\u001b[1;32m--> 392\u001b[0m     X \u001b[38;5;241m=\u001b[39m \u001b[38;5;28;43mself\u001b[39;49m\u001b[38;5;241;43m.\u001b[39;49m\u001b[43m_validate_data\u001b[49m\u001b[43m(\u001b[49m\u001b[43mX\u001b[49m\u001b[43m,\u001b[49m\u001b[43m \u001b[49m\u001b[43mdtype\u001b[49m\u001b[38;5;241;43m=\u001b[39;49m\u001b[43mDTYPE\u001b[49m\u001b[43m,\u001b[49m\u001b[43m \u001b[49m\u001b[43maccept_sparse\u001b[49m\u001b[38;5;241;43m=\u001b[39;49m\u001b[38;5;124;43m\"\u001b[39;49m\u001b[38;5;124;43mcsr\u001b[39;49m\u001b[38;5;124;43m\"\u001b[39;49m\u001b[43m,\u001b[49m\u001b[43m \u001b[49m\u001b[43mreset\u001b[49m\u001b[38;5;241;43m=\u001b[39;49m\u001b[38;5;28;43;01mFalse\u001b[39;49;00m\u001b[43m)\u001b[49m\n\u001b[0;32m    393\u001b[0m     \u001b[38;5;28;01mif\u001b[39;00m issparse(X) \u001b[38;5;129;01mand\u001b[39;00m (\n\u001b[0;32m    394\u001b[0m         X\u001b[38;5;241m.\u001b[39mindices\u001b[38;5;241m.\u001b[39mdtype \u001b[38;5;241m!=\u001b[39m np\u001b[38;5;241m.\u001b[39mintc \u001b[38;5;129;01mor\u001b[39;00m X\u001b[38;5;241m.\u001b[39mindptr\u001b[38;5;241m.\u001b[39mdtype \u001b[38;5;241m!=\u001b[39m np\u001b[38;5;241m.\u001b[39mintc\n\u001b[0;32m    395\u001b[0m     ):\n\u001b[0;32m    396\u001b[0m         \u001b[38;5;28;01mraise\u001b[39;00m \u001b[38;5;167;01mValueError\u001b[39;00m(\u001b[38;5;124m\"\u001b[39m\u001b[38;5;124mNo support for np.int64 index based sparse matrices\u001b[39m\u001b[38;5;124m\"\u001b[39m)\n",
            "File \u001b[1;32mc:\\Users\\flaph\\AppData\\Local\\Programs\\Python\\Python310\\lib\\site-packages\\sklearn\\base.py:548\u001b[0m, in \u001b[0;36mBaseEstimator._validate_data\u001b[1;34m(self, X, y, reset, validate_separately, **check_params)\u001b[0m\n\u001b[0;32m    483\u001b[0m \u001b[38;5;28;01mdef\u001b[39;00m \u001b[38;5;21m_validate_data\u001b[39m(\n\u001b[0;32m    484\u001b[0m     \u001b[38;5;28mself\u001b[39m,\n\u001b[0;32m    485\u001b[0m     X\u001b[38;5;241m=\u001b[39m\u001b[38;5;124m\"\u001b[39m\u001b[38;5;124mno_validation\u001b[39m\u001b[38;5;124m\"\u001b[39m,\n\u001b[1;32m   (...)\u001b[0m\n\u001b[0;32m    489\u001b[0m     \u001b[38;5;241m*\u001b[39m\u001b[38;5;241m*\u001b[39mcheck_params,\n\u001b[0;32m    490\u001b[0m ):\n\u001b[0;32m    491\u001b[0m \u001b[38;5;250m    \u001b[39m\u001b[38;5;124;03m\"\"\"Validate input data and set or check the `n_features_in_` attribute.\u001b[39;00m\n\u001b[0;32m    492\u001b[0m \n\u001b[0;32m    493\u001b[0m \u001b[38;5;124;03m    Parameters\u001b[39;00m\n\u001b[1;32m   (...)\u001b[0m\n\u001b[0;32m    546\u001b[0m \u001b[38;5;124;03m        validated.\u001b[39;00m\n\u001b[0;32m    547\u001b[0m \u001b[38;5;124;03m    \"\"\"\u001b[39;00m\n\u001b[1;32m--> 548\u001b[0m     \u001b[38;5;28;43mself\u001b[39;49m\u001b[38;5;241;43m.\u001b[39;49m\u001b[43m_check_feature_names\u001b[49m\u001b[43m(\u001b[49m\u001b[43mX\u001b[49m\u001b[43m,\u001b[49m\u001b[43m \u001b[49m\u001b[43mreset\u001b[49m\u001b[38;5;241;43m=\u001b[39;49m\u001b[43mreset\u001b[49m\u001b[43m)\u001b[49m\n\u001b[0;32m    550\u001b[0m     \u001b[38;5;28;01mif\u001b[39;00m y \u001b[38;5;129;01mis\u001b[39;00m \u001b[38;5;28;01mNone\u001b[39;00m \u001b[38;5;129;01mand\u001b[39;00m \u001b[38;5;28mself\u001b[39m\u001b[38;5;241m.\u001b[39m_get_tags()[\u001b[38;5;124m\"\u001b[39m\u001b[38;5;124mrequires_y\u001b[39m\u001b[38;5;124m\"\u001b[39m]:\n\u001b[0;32m    551\u001b[0m         \u001b[38;5;28;01mraise\u001b[39;00m \u001b[38;5;167;01mValueError\u001b[39;00m(\n\u001b[0;32m    552\u001b[0m             \u001b[38;5;124mf\u001b[39m\u001b[38;5;124m\"\u001b[39m\u001b[38;5;124mThis \u001b[39m\u001b[38;5;132;01m{\u001b[39;00m\u001b[38;5;28mself\u001b[39m\u001b[38;5;241m.\u001b[39m\u001b[38;5;18m__class__\u001b[39m\u001b[38;5;241m.\u001b[39m\u001b[38;5;18m__name__\u001b[39m\u001b[38;5;132;01m}\u001b[39;00m\u001b[38;5;124m estimator \u001b[39m\u001b[38;5;124m\"\u001b[39m\n\u001b[0;32m    553\u001b[0m             \u001b[38;5;124m\"\u001b[39m\u001b[38;5;124mrequires y to be passed, but the target y is None.\u001b[39m\u001b[38;5;124m\"\u001b[39m\n\u001b[0;32m    554\u001b[0m         )\n",
            "File \u001b[1;32mc:\\Users\\flaph\\AppData\\Local\\Programs\\Python\\Python310\\lib\\site-packages\\sklearn\\base.py:481\u001b[0m, in \u001b[0;36mBaseEstimator._check_feature_names\u001b[1;34m(self, X, reset)\u001b[0m\n\u001b[0;32m    476\u001b[0m \u001b[38;5;28;01mif\u001b[39;00m \u001b[38;5;129;01mnot\u001b[39;00m missing_names \u001b[38;5;129;01mand\u001b[39;00m \u001b[38;5;129;01mnot\u001b[39;00m unexpected_names:\n\u001b[0;32m    477\u001b[0m     message \u001b[38;5;241m+\u001b[39m\u001b[38;5;241m=\u001b[39m (\n\u001b[0;32m    478\u001b[0m         \u001b[38;5;124m\"\u001b[39m\u001b[38;5;124mFeature names must be in the same order as they were in fit.\u001b[39m\u001b[38;5;130;01m\\n\u001b[39;00m\u001b[38;5;124m\"\u001b[39m\n\u001b[0;32m    479\u001b[0m     )\n\u001b[1;32m--> 481\u001b[0m \u001b[38;5;28;01mraise\u001b[39;00m \u001b[38;5;167;01mValueError\u001b[39;00m(message)\n",
            "\u001b[1;31mValueError\u001b[0m: The feature names should match those that were passed during fit.\nFeature names seen at fit time, yet now missing:\n- property_type_Casa\n"
          ]
        }
      ],
      "source": [
        "#Evalúo el Arbol con los mejores hiperparámetros\n",
        "from sklearn.metrics import confusion_matrix, classification_report , f1_score\n",
        "\n",
        "#predicción sobre el set de evaluacion\n",
        "y_pred = arbol.predict(x_prueba)\n",
        "\n",
        "#Arbol Reporte y Matriz de Confusion\n",
        "print('F1-Score: {}'.format(f1_score(y_prueba, y_pred, average='micro')))\n",
        "\n",
        "cm = confusion_matrix(y_prueba,y_pred)\n",
        "sns.heatmap(cm, cmap='Blues',annot=True,fmt='g')\n",
        "plt.xlabel('Predicted')\n",
        "plt.ylabel('True')"
      ]
    },
    {
      "cell_type": "code",
      "execution_count": 102,
      "metadata": {
        "colab": {
          "base_uri": "https://localhost:8080/"
        },
        "id": "FljiJOtJhT4B",
        "outputId": "05a46b80-7939-46cc-f53f-1555c0b3ba96"
      },
      "outputs": [
        {
          "ename": "NameError",
          "evalue": "name 'y_pred' is not defined",
          "output_type": "error",
          "traceback": [
            "\u001b[1;31m---------------------------------------------------------------------------\u001b[0m",
            "\u001b[1;31mNameError\u001b[0m                                 Traceback (most recent call last)",
            "Cell \u001b[1;32mIn[102], line 1\u001b[0m\n\u001b[1;32m----> 1\u001b[0m \u001b[38;5;28mprint\u001b[39m(classification_report(y_prueba,\u001b[43my_pred\u001b[49m))\n",
            "\u001b[1;31mNameError\u001b[0m: name 'y_pred' is not defined"
          ]
        }
      ],
      "source": [
        "print(classification_report(y_prueba,y_pred))"
      ]
    },
    {
      "cell_type": "markdown",
      "metadata": {
        "id": "jGRnZBh6hgh1"
      },
      "source": [
        "###ESCRIBIR OBSERVACIONES SOBRE LO DE ARRIBA"
      ]
    },
    {
      "cell_type": "markdown",
      "metadata": {
        "id": "eztctV0A3lEn"
      },
      "source": [
        "##Modelo 2: Random Forest"
      ]
    },
    {
      "cell_type": "markdown",
      "metadata": {
        "id": "UNF7LL8Y4PFa"
      },
      "source": [
        "a. Construir un clasificador RF y optimizar sus hiperparámetros mediante k-fold Cross\n",
        "Validation para obtener la mejor performance. ¿Cuántos folds utilizaron? ¿Qué\n",
        "métrica consideran adecuada para buscar los parámetros?\n"
      ]
    },
    {
      "cell_type": "markdown",
      "metadata": {
        "id": "Yj1hj4bm4UHD"
      },
      "source": [
        "b. Analizar la importancia de los atributos"
      ]
    },
    {
      "cell_type": "markdown",
      "metadata": {
        "id": "Xbbnrt1n4V4s"
      },
      "source": [
        " c. Mostrar la conformación final de uno de los árboles generados. Si es muy extenso mostrar una porción representativa y explicar las primeras reglas."
      ]
    },
    {
      "cell_type": "markdown",
      "metadata": {
        "id": "iLCSyC144Xc2"
      },
      "source": [
        "d. Evaluar la performance del modelo en el conjunto de evaluación, explicar todas las métricas y mostrar la matriz de confusión. Comparar con la performance de entrenamiento."
      ]
    },
    {
      "cell_type": "markdown",
      "metadata": {
        "id": "I3PB0Scr4g50"
      },
      "source": [
        "###Modelo 3: a elección"
      ]
    },
    {
      "cell_type": "markdown",
      "metadata": {
        "id": "WEH8i-IF4n8L"
      },
      "source": [
        "a. En este punto se debe entrenar (mediante cross-validation) un modelo elegido por el\n",
        "grupo. Se debe evaluar su performance en entrenamiento y sobre el conjunto de\n",
        "evaluación, explicar todas las métricas y mostrar la matriz de confusión.\n",
        "\n",
        "¿Qué modelo elegirían para clasificar el tipo de precio de las propiedades?"
      ]
    }
  ],
  "metadata": {
    "colab": {
      "collapsed_sections": [
        "I3PB0Scr4g50"
      ],
      "provenance": []
    },
    "kernelspec": {
      "display_name": "Python 3",
      "name": "python3"
    },
    "language_info": {
      "codemirror_mode": {
        "name": "ipython",
        "version": 3
      },
      "file_extension": ".py",
      "mimetype": "text/x-python",
      "name": "python",
      "nbconvert_exporter": "python",
      "pygments_lexer": "ipython3",
      "version": "3.10.4"
    }
  },
  "nbformat": 4,
  "nbformat_minor": 0
}
