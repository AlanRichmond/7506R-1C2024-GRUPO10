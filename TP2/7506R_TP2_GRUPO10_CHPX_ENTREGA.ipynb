{
  "cells": [
    {
      "cell_type": "markdown",
      "metadata": {
        "id": "U78vmVS4KSSj"
      },
      "source": [
        "# <center> Trabajo Practico 2 </center>\n",
        "### <center> Grupo 10 </center>\n",
        "## Integrantes:\n",
        "#### Alan Richmond\n",
        "#### Flavian Ferré\n"
      ]
    },
    {
      "cell_type": "markdown",
      "metadata": {
        "id": "eqfbg4r8KSSk"
      },
      "source": [
        "# 0. Importaciones"
      ]
    },
    {
      "cell_type": "code",
      "source": [
        "!pip install stop_words"
      ],
      "metadata": {
        "colab": {
          "base_uri": "https://localhost:8080/"
        },
        "id": "g9IqgNJhc6J3",
        "outputId": "daa5b207-1d66-4eb6-d129-f4ecf5247b4d"
      },
      "execution_count": 1,
      "outputs": [
        {
          "output_type": "stream",
          "name": "stdout",
          "text": [
            "Collecting stop_words\n",
            "  Downloading stop-words-2018.7.23.tar.gz (31 kB)\n",
            "  Preparing metadata (setup.py) ... \u001b[?25l\u001b[?25hdone\n",
            "Building wheels for collected packages: stop_words\n",
            "  Building wheel for stop_words (setup.py) ... \u001b[?25l\u001b[?25hdone\n",
            "  Created wheel for stop_words: filename=stop_words-2018.7.23-py3-none-any.whl size=32895 sha256=aefeadf20d18373b35f2decf8ebf2d76fd155bc9772e4d9131ad0745797f3390\n",
            "  Stored in directory: /root/.cache/pip/wheels/d0/1a/23/f12552a50cb09bcc1694a5ebb6c2cd5f2a0311de2b8c3d9a89\n",
            "Successfully built stop_words\n",
            "Installing collected packages: stop_words\n",
            "Successfully installed stop_words-2018.7.23\n"
          ]
        }
      ]
    },
    {
      "cell_type": "markdown",
      "metadata": {
        "id": "tnbSDgK_KSSl"
      },
      "source": [
        "## Librerias"
      ]
    },
    {
      "cell_type": "code",
      "execution_count": 2,
      "metadata": {
        "id": "BGWufC9JKSSl"
      },
      "outputs": [],
      "source": [
        "import datetime\n",
        "import joblib\n",
        "import numpy as np\n",
        "import pandas as pd\n",
        "import spacy\n",
        "import stop_words\n",
        "\n",
        "from sklearn.ensemble import RandomForestClassifier\n",
        "from sklearn.feature_extraction.text import TfidfVectorizer\n",
        "from sklearn.metrics import f1_score, make_scorer\n",
        "from sklearn.model_selection import GridSearchCV, RandomizedSearchCV, train_test_split\n",
        "from xgboost import XGBClassifier\n",
        "from sklearn.naive_bayes import MultinomialNB\n",
        "from sklearn.metrics import classification_report"
      ]
    },
    {
      "cell_type": "markdown",
      "metadata": {
        "id": "4x1MsF7hKSSm"
      },
      "source": [
        "## Conjuntos"
      ]
    },
    {
      "cell_type": "code",
      "execution_count": null,
      "metadata": {
        "id": "MTohTcjkKSSm"
      },
      "outputs": [],
      "source": [
        "conjunto_train = pd.read_csv('Datasets/train.csv')\n",
        "conjunto_test = pd.read_csv('Datasets/test.csv')\n",
        "sample_solution = pd.read_csv('Datasets/sample_solution.csv')"
      ]
    },
    {
      "cell_type": "markdown",
      "metadata": {
        "id": "Me4CIP7UKSSm"
      },
      "source": [
        "# 1. Bayes Naïve"
      ]
    },
    {
      "cell_type": "code",
      "execution_count": null,
      "metadata": {
        "id": "BedCsafoMmVb"
      },
      "outputs": [],
      "source": [
        "X = conjunto_train['review_es']\n",
        "y = conjunto_train['sentimiento'].map({'positivo': 1, 'negativo': 0})\n",
        "X_train, X_test, y_train, y_test = train_test_split(X, y, test_size=0.2, random_state=42)\n",
        "\n",
        "stop_words_es = stop_words.get_stop_words('es')\n",
        "vectorizer = TfidfVectorizer(stop_words=stop_words_es)\n",
        "\n",
        "X_train_vect = vectorizer.fit_transform(X_train)\n",
        "X_test_vect = vectorizer.transform(X_test)"
      ]
    },
    {
      "cell_type": "markdown",
      "source": [
        "##Busqueda de los hiperparametros"
      ],
      "metadata": {
        "id": "MFzQhgT7dK98"
      }
    },
    {
      "cell_type": "code",
      "source": [
        "nb_model = MultinomialNB()\n",
        "nb_model.fit(X_train_vect, y_train)\n",
        "\n",
        "y_pred = nb_model.predict(X_test_vect)\n",
        "\n",
        "f1 = f1_score(y_test, y_pred)\n",
        "print(f'F1 Score: {f1}')"
      ],
      "metadata": {
        "id": "1rDomjk1dNVG"
      },
      "execution_count": null,
      "outputs": []
    },
    {
      "cell_type": "markdown",
      "source": [
        "## Conjunto test"
      ],
      "metadata": {
        "id": "72GV_j_YdOeF"
      }
    },
    {
      "cell_type": "code",
      "source": [
        "conjunto_test = conjunto_test.set_index(conjunto_test['ID'])\n",
        "X_conjunto_test = vectorizer.transform(conjunto_test['review_es'])\n",
        "\n",
        "pred_test = nb_model.predict(X_conjunto_test)\n",
        "pred_test_labels = ['positivo' if pred == 1 else 'negativo' for pred in pred_test]\n",
        "\n",
        "final_pred_df = pd.DataFrame({\n",
        "    'ID': conjunto_test.index,\n",
        "    'sentimiento': pred_test_labels\n",
        "})\n",
        "final_pred_df"
      ],
      "metadata": {
        "id": "0P-gYduKdT_g"
      },
      "execution_count": null,
      "outputs": []
    },
    {
      "cell_type": "markdown",
      "source": [
        "## Exportaciones"
      ],
      "metadata": {
        "id": "Zyx0QpVUdWW-"
      }
    },
    {
      "cell_type": "code",
      "source": [
        "current_date = datetime.datetime.now().strftime('%Y-%m-%d')\n",
        "\n",
        "final_pred_df.to_csv(f\"Predicciones/Bayes_Naïve{current_date}.csv\", index=False)"
      ],
      "metadata": {
        "id": "tCc4nGH0dYx7"
      },
      "execution_count": null,
      "outputs": []
    },
    {
      "cell_type": "code",
      "source": [
        "joblib.dump(nb_model, f'Modelos/bn_model_{current_date}.joblib')"
      ],
      "metadata": {
        "id": "Jfc9qVtOdZML"
      },
      "execution_count": null,
      "outputs": []
    },
    {
      "cell_type": "markdown",
      "metadata": {
        "id": "GWBhPxVRKSSm"
      },
      "source": [
        "# 2. Random Forest"
      ]
    },
    {
      "cell_type": "markdown",
      "metadata": {
        "id": "5RvVJtt0cnFs"
      },
      "source": [
        "## Vectorizacion de las críticas"
      ]
    },
    {
      "cell_type": "code",
      "execution_count": null,
      "metadata": {
        "id": "lFARB7ZhcnFs"
      },
      "outputs": [],
      "source": [
        "X = conjunto_train['review_es']\n",
        "y = conjunto_train['sentimiento'].map({'positivo': 1, 'negativo': 0})\n",
        "X_train, X_test, y_train, y_test = train_test_split(X, y, test_size=0.2, random_state=42)\n",
        "\n",
        "stop_words_es = stop_words.get_stop_words('es')\n",
        "vectorizer = TfidfVectorizer(stop_words=stop_words_es)\n",
        "\n",
        "X_train_vect = vectorizer.fit_transform(X_train)\n",
        "X_test_vect = vectorizer.transform(X_test)"
      ]
    },
    {
      "cell_type": "markdown",
      "metadata": {
        "id": "Jys03R8ScnFs"
      },
      "source": [
        "## Busqueda de los hiperparametros"
      ]
    },
    {
      "cell_type": "code",
      "execution_count": null,
      "metadata": {
        "colab": {
          "base_uri": "https://localhost:8080/"
        },
        "id": "g-XndPQnMnFx",
        "outputId": "68b7169e-48e0-4c5b-a564-cab633f9c223"
      },
      "outputs": [
        {
          "name": "stdout",
          "output_type": "stream",
          "text": [
            "F1 Score: 0.8146013448607108\n"
          ]
        }
      ],
      "source": [
        "rf_model = RandomForestClassifier(n_estimators=100, max_depth=10, random_state=42)\n",
        "\n",
        "rf_model.fit(X_train_vect, y_train)\n",
        "y_pred = rf_model.predict(X_test_vect)\n",
        "\n",
        "f1 = f1_score(y_test, y_pred)\n",
        "print(f'F1 Score: {f1}')"
      ]
    },
    {
      "cell_type": "markdown",
      "metadata": {
        "id": "-J2D1MtCcnFs"
      },
      "source": [
        "## Conjunto test"
      ]
    },
    {
      "cell_type": "code",
      "execution_count": null,
      "metadata": {
        "colab": {
          "base_uri": "https://localhost:8080/",
          "height": 424
        },
        "id": "UPSw5ZN1SYKz",
        "outputId": "8d5f74e1-5323-4b28-9f4d-088b1c52033e"
      },
      "outputs": [
        {
          "data": {
            "text/html": [
              "<div>\n",
              "<style scoped>\n",
              "    .dataframe tbody tr th:only-of-type {\n",
              "        vertical-align: middle;\n",
              "    }\n",
              "\n",
              "    .dataframe tbody tr th {\n",
              "        vertical-align: top;\n",
              "    }\n",
              "\n",
              "    .dataframe thead th {\n",
              "        text-align: right;\n",
              "    }\n",
              "</style>\n",
              "<table border=\"1\" class=\"dataframe\">\n",
              "  <thead>\n",
              "    <tr style=\"text-align: right;\">\n",
              "      <th></th>\n",
              "      <th>ID</th>\n",
              "      <th>sentimiento</th>\n",
              "    </tr>\n",
              "  </thead>\n",
              "  <tbody>\n",
              "    <tr>\n",
              "      <th>0</th>\n",
              "      <td>60000</td>\n",
              "      <td>negativo</td>\n",
              "    </tr>\n",
              "    <tr>\n",
              "      <th>1</th>\n",
              "      <td>60001</td>\n",
              "      <td>negativo</td>\n",
              "    </tr>\n",
              "    <tr>\n",
              "      <th>2</th>\n",
              "      <td>60002</td>\n",
              "      <td>negativo</td>\n",
              "    </tr>\n",
              "    <tr>\n",
              "      <th>3</th>\n",
              "      <td>60003</td>\n",
              "      <td>negativo</td>\n",
              "    </tr>\n",
              "    <tr>\n",
              "      <th>4</th>\n",
              "      <td>60004</td>\n",
              "      <td>positivo</td>\n",
              "    </tr>\n",
              "    <tr>\n",
              "      <th>...</th>\n",
              "      <td>...</td>\n",
              "      <td>...</td>\n",
              "    </tr>\n",
              "    <tr>\n",
              "      <th>8594</th>\n",
              "      <td>68594</td>\n",
              "      <td>positivo</td>\n",
              "    </tr>\n",
              "    <tr>\n",
              "      <th>8595</th>\n",
              "      <td>68595</td>\n",
              "      <td>negativo</td>\n",
              "    </tr>\n",
              "    <tr>\n",
              "      <th>8596</th>\n",
              "      <td>68596</td>\n",
              "      <td>positivo</td>\n",
              "    </tr>\n",
              "    <tr>\n",
              "      <th>8597</th>\n",
              "      <td>68597</td>\n",
              "      <td>negativo</td>\n",
              "    </tr>\n",
              "    <tr>\n",
              "      <th>8598</th>\n",
              "      <td>68598</td>\n",
              "      <td>negativo</td>\n",
              "    </tr>\n",
              "  </tbody>\n",
              "</table>\n",
              "<p>8599 rows × 2 columns</p>\n",
              "</div>"
            ],
            "text/plain": [
              "         ID sentimiento\n",
              "0     60000    negativo\n",
              "1     60001    negativo\n",
              "2     60002    negativo\n",
              "3     60003    negativo\n",
              "4     60004    positivo\n",
              "...     ...         ...\n",
              "8594  68594    positivo\n",
              "8595  68595    negativo\n",
              "8596  68596    positivo\n",
              "8597  68597    negativo\n",
              "8598  68598    negativo\n",
              "\n",
              "[8599 rows x 2 columns]"
            ]
          },
          "execution_count": 70,
          "metadata": {},
          "output_type": "execute_result"
        }
      ],
      "source": [
        "conjunto_test = conjunto_test.set_index(conjunto_test['ID'])\n",
        "X_conjunto_test = vectorizer.transform(conjunto_test['review_es'])\n",
        "\n",
        "pred_test = rf_model.predict(X_conjunto_test)\n",
        "pred_test_labels = ['positivo' if pred == 1 else 'negativo' for pred in pred_test]\n",
        "\n",
        "final_pred_df = pd.DataFrame({\n",
        "    'ID': conjunto_test.index,\n",
        "    'sentimiento': pred_test_labels\n",
        "})\n",
        "final_pred_df"
      ]
    },
    {
      "cell_type": "markdown",
      "metadata": {
        "id": "JWTiatSucnFt"
      },
      "source": [
        "## Exportaciones"
      ]
    },
    {
      "cell_type": "code",
      "execution_count": null,
      "metadata": {
        "id": "GNu7DYlJS-Or"
      },
      "outputs": [],
      "source": [
        "current_date = datetime.datetime.now().strftime('%Y-%m-%d')\n",
        "\n",
        "final_pred_df.to_csv(f\"Predicciones/RandomForest_{current_date}.csv\", index=False)"
      ]
    },
    {
      "cell_type": "code",
      "execution_count": null,
      "metadata": {
        "colab": {
          "base_uri": "https://localhost:8080/"
        },
        "id": "Jar1lJbuTXQw",
        "outputId": "3602bab9-2fe9-4f8d-c5d6-d46163cafe0f"
      },
      "outputs": [
        {
          "data": {
            "text/plain": [
              "['Modelos/rf_model_2024-05-23.joblib']"
            ]
          },
          "execution_count": 72,
          "metadata": {},
          "output_type": "execute_result"
        }
      ],
      "source": [
        "joblib.dump(rf_model, f'Modelos/rf_model_{current_date}.joblib')"
      ]
    },
    {
      "cell_type": "markdown",
      "metadata": {
        "id": "5nvFRYbOKSSm"
      },
      "source": [
        "# 3. XGBoost"
      ]
    },
    {
      "cell_type": "markdown",
      "metadata": {
        "id": "cfkqgq77cnFt"
      },
      "source": [
        "## Vectorizacion de las críticas : sin lemmarizacion"
      ]
    },
    {
      "cell_type": "code",
      "execution_count": null,
      "metadata": {
        "id": "JtAjIjHucnFt"
      },
      "outputs": [],
      "source": [
        "X = conjunto_train['review_es']\n",
        "y = conjunto_train['sentimiento'].map({'positivo': 1, 'negativo': 0})\n",
        "X_train, X_test, y_train, y_test = train_test_split(X, y, test_size=0.2, random_state=42)\n",
        "\n",
        "stop_words_es = stop_words.get_stop_words('es')\n",
        "vectorizer = TfidfVectorizer(stop_words=stop_words_es)\n",
        "\n",
        "X_train_vect = vectorizer.fit_transform(X_train)\n",
        "X_test_vect = vectorizer.transform(X_test)"
      ]
    },
    {
      "cell_type": "markdown",
      "metadata": {
        "id": "klmBJCYpcnFt"
      },
      "source": [
        "## Busqueda de los hiperparametros"
      ]
    },
    {
      "cell_type": "code",
      "execution_count": null,
      "metadata": {
        "id": "DGVIGtxjKSSn"
      },
      "outputs": [],
      "source": [
        "param_distributions = {\n",
        "    'n_estimators': [100, 200, 300, 400, 500],\n",
        "    'max_depth': [2, 3, 4, 5, 6],\n",
        "    'learning_rate': [0, 0.02, 0.04, 0.06, 0.08, 0.1, 0.15, 0.2],\n",
        "    'gamma': [0, 0.25, 0.5, 1, 2, 3],\n",
        "    'subsample': [0.8, 0.9, 1.0],\n",
        "    'colsample_bytree': [0.8, 0.9, 1.0]\n",
        "}\n",
        "\n",
        "xgb = XGBClassifier()\n",
        "f1_scorer = make_scorer(f1_score)\n",
        "\n",
        "sample_size = int(0.1 * X_train_vect.shape[0])\n",
        "sample_indices = np.random.choice(X_train_vect.shape[0], size=sample_size, replace=False)\n",
        "X_train_sampled = X_train_vect[sample_indices]\n",
        "y_train_sampled = y_train.iloc[sample_indices]"
      ]
    },
    {
      "cell_type": "code",
      "execution_count": null,
      "metadata": {
        "id": "L3BM_kuzcnFu",
        "outputId": "78485308-e48a-4bc5-a4b0-7d26d1f5700f"
      },
      "outputs": [
        {
          "data": {
            "text/html": [
              "<style>#sk-container-id-1 {color: black;background-color: white;}#sk-container-id-1 pre{padding: 0;}#sk-container-id-1 div.sk-toggleable {background-color: white;}#sk-container-id-1 label.sk-toggleable__label {cursor: pointer;display: block;width: 100%;margin-bottom: 0;padding: 0.3em;box-sizing: border-box;text-align: center;}#sk-container-id-1 label.sk-toggleable__label-arrow:before {content: \"▸\";float: left;margin-right: 0.25em;color: #696969;}#sk-container-id-1 label.sk-toggleable__label-arrow:hover:before {color: black;}#sk-container-id-1 div.sk-estimator:hover label.sk-toggleable__label-arrow:before {color: black;}#sk-container-id-1 div.sk-toggleable__content {max-height: 0;max-width: 0;overflow: hidden;text-align: left;background-color: #f0f8ff;}#sk-container-id-1 div.sk-toggleable__content pre {margin: 0.2em;color: black;border-radius: 0.25em;background-color: #f0f8ff;}#sk-container-id-1 input.sk-toggleable__control:checked~div.sk-toggleable__content {max-height: 200px;max-width: 100%;overflow: auto;}#sk-container-id-1 input.sk-toggleable__control:checked~label.sk-toggleable__label-arrow:before {content: \"▾\";}#sk-container-id-1 div.sk-estimator input.sk-toggleable__control:checked~label.sk-toggleable__label {background-color: #d4ebff;}#sk-container-id-1 div.sk-label input.sk-toggleable__control:checked~label.sk-toggleable__label {background-color: #d4ebff;}#sk-container-id-1 input.sk-hidden--visually {border: 0;clip: rect(1px 1px 1px 1px);clip: rect(1px, 1px, 1px, 1px);height: 1px;margin: -1px;overflow: hidden;padding: 0;position: absolute;width: 1px;}#sk-container-id-1 div.sk-estimator {font-family: monospace;background-color: #f0f8ff;border: 1px dotted black;border-radius: 0.25em;box-sizing: border-box;margin-bottom: 0.5em;}#sk-container-id-1 div.sk-estimator:hover {background-color: #d4ebff;}#sk-container-id-1 div.sk-parallel-item::after {content: \"\";width: 100%;border-bottom: 1px solid gray;flex-grow: 1;}#sk-container-id-1 div.sk-label:hover label.sk-toggleable__label {background-color: #d4ebff;}#sk-container-id-1 div.sk-serial::before {content: \"\";position: absolute;border-left: 1px solid gray;box-sizing: border-box;top: 0;bottom: 0;left: 50%;z-index: 0;}#sk-container-id-1 div.sk-serial {display: flex;flex-direction: column;align-items: center;background-color: white;padding-right: 0.2em;padding-left: 0.2em;position: relative;}#sk-container-id-1 div.sk-item {position: relative;z-index: 1;}#sk-container-id-1 div.sk-parallel {display: flex;align-items: stretch;justify-content: center;background-color: white;position: relative;}#sk-container-id-1 div.sk-item::before, #sk-container-id-1 div.sk-parallel-item::before {content: \"\";position: absolute;border-left: 1px solid gray;box-sizing: border-box;top: 0;bottom: 0;left: 50%;z-index: -1;}#sk-container-id-1 div.sk-parallel-item {display: flex;flex-direction: column;z-index: 1;position: relative;background-color: white;}#sk-container-id-1 div.sk-parallel-item:first-child::after {align-self: flex-end;width: 50%;}#sk-container-id-1 div.sk-parallel-item:last-child::after {align-self: flex-start;width: 50%;}#sk-container-id-1 div.sk-parallel-item:only-child::after {width: 0;}#sk-container-id-1 div.sk-dashed-wrapped {border: 1px dashed gray;margin: 0 0.4em 0.5em 0.4em;box-sizing: border-box;padding-bottom: 0.4em;background-color: white;}#sk-container-id-1 div.sk-label label {font-family: monospace;font-weight: bold;display: inline-block;line-height: 1.2em;}#sk-container-id-1 div.sk-label-container {text-align: center;}#sk-container-id-1 div.sk-container {/* jupyter's `normalize.less` sets `[hidden] { display: none; }` but bootstrap.min.css set `[hidden] { display: none !important; }` so we also need the `!important` here to be able to override the default hidden behavior on the sphinx rendered scikit-learn.org. See: https://github.com/scikit-learn/scikit-learn/issues/21755 */display: inline-block !important;position: relative;}#sk-container-id-1 div.sk-text-repr-fallback {display: none;}</style><div id=\"sk-container-id-1\" class=\"sk-top-container\"><div class=\"sk-text-repr-fallback\"><pre>RandomizedSearchCV(cv=5,\n",
              "                   estimator=XGBClassifier(base_score=None, booster=None,\n",
              "                                           callbacks=None,\n",
              "                                           colsample_bylevel=None,\n",
              "                                           colsample_bynode=None,\n",
              "                                           colsample_bytree=None, device=None,\n",
              "                                           early_stopping_rounds=None,\n",
              "                                           enable_categorical=False,\n",
              "                                           eval_metric=None, feature_types=None,\n",
              "                                           gamma=None, grow_policy=None,\n",
              "                                           importance_type=None,\n",
              "                                           interaction_constraints=None,\n",
              "                                           learning_rate...\n",
              "                                           multi_strategy=None,\n",
              "                                           n_estimators=None, n_jobs=None,\n",
              "                                           num_parallel_tree=None,\n",
              "                                           random_state=None, ...),\n",
              "                   n_iter=30,\n",
              "                   param_distributions={&#x27;colsample_bytree&#x27;: [0.8, 0.9, 1.0],\n",
              "                                        &#x27;gamma&#x27;: [0, 0.25, 0.5, 1, 2, 3],\n",
              "                                        &#x27;learning_rate&#x27;: [0, 0.02, 0.04, 0.06,\n",
              "                                                          0.08, 0.1, 0.15,\n",
              "                                                          0.2],\n",
              "                                        &#x27;max_depth&#x27;: [2, 3, 4, 5, 6],\n",
              "                                        &#x27;n_estimators&#x27;: [100, 200, 300, 400,\n",
              "                                                         500],\n",
              "                                        &#x27;subsample&#x27;: [0.8, 0.9, 1.0]},\n",
              "                   scoring=make_scorer(f1_score))</pre><b>In a Jupyter environment, please rerun this cell to show the HTML representation or trust the notebook. <br />On GitHub, the HTML representation is unable to render, please try loading this page with nbviewer.org.</b></div><div class=\"sk-container\" hidden><div class=\"sk-item sk-dashed-wrapped\"><div class=\"sk-label-container\"><div class=\"sk-label sk-toggleable\"><input class=\"sk-toggleable__control sk-hidden--visually\" id=\"sk-estimator-id-1\" type=\"checkbox\" ><label for=\"sk-estimator-id-1\" class=\"sk-toggleable__label sk-toggleable__label-arrow\">RandomizedSearchCV</label><div class=\"sk-toggleable__content\"><pre>RandomizedSearchCV(cv=5,\n",
              "                   estimator=XGBClassifier(base_score=None, booster=None,\n",
              "                                           callbacks=None,\n",
              "                                           colsample_bylevel=None,\n",
              "                                           colsample_bynode=None,\n",
              "                                           colsample_bytree=None, device=None,\n",
              "                                           early_stopping_rounds=None,\n",
              "                                           enable_categorical=False,\n",
              "                                           eval_metric=None, feature_types=None,\n",
              "                                           gamma=None, grow_policy=None,\n",
              "                                           importance_type=None,\n",
              "                                           interaction_constraints=None,\n",
              "                                           learning_rate...\n",
              "                                           multi_strategy=None,\n",
              "                                           n_estimators=None, n_jobs=None,\n",
              "                                           num_parallel_tree=None,\n",
              "                                           random_state=None, ...),\n",
              "                   n_iter=30,\n",
              "                   param_distributions={&#x27;colsample_bytree&#x27;: [0.8, 0.9, 1.0],\n",
              "                                        &#x27;gamma&#x27;: [0, 0.25, 0.5, 1, 2, 3],\n",
              "                                        &#x27;learning_rate&#x27;: [0, 0.02, 0.04, 0.06,\n",
              "                                                          0.08, 0.1, 0.15,\n",
              "                                                          0.2],\n",
              "                                        &#x27;max_depth&#x27;: [2, 3, 4, 5, 6],\n",
              "                                        &#x27;n_estimators&#x27;: [100, 200, 300, 400,\n",
              "                                                         500],\n",
              "                                        &#x27;subsample&#x27;: [0.8, 0.9, 1.0]},\n",
              "                   scoring=make_scorer(f1_score))</pre></div></div></div><div class=\"sk-parallel\"><div class=\"sk-parallel-item\"><div class=\"sk-item\"><div class=\"sk-label-container\"><div class=\"sk-label sk-toggleable\"><input class=\"sk-toggleable__control sk-hidden--visually\" id=\"sk-estimator-id-2\" type=\"checkbox\" ><label for=\"sk-estimator-id-2\" class=\"sk-toggleable__label sk-toggleable__label-arrow\">estimator: XGBClassifier</label><div class=\"sk-toggleable__content\"><pre>XGBClassifier(base_score=None, booster=None, callbacks=None,\n",
              "              colsample_bylevel=None, colsample_bynode=None,\n",
              "              colsample_bytree=None, device=None, early_stopping_rounds=None,\n",
              "              enable_categorical=False, eval_metric=None, feature_types=None,\n",
              "              gamma=None, grow_policy=None, importance_type=None,\n",
              "              interaction_constraints=None, learning_rate=None, max_bin=None,\n",
              "              max_cat_threshold=None, max_cat_to_onehot=None,\n",
              "              max_delta_step=None, max_depth=None, max_leaves=None,\n",
              "              min_child_weight=None, missing=nan, monotone_constraints=None,\n",
              "              multi_strategy=None, n_estimators=None, n_jobs=None,\n",
              "              num_parallel_tree=None, random_state=None, ...)</pre></div></div></div><div class=\"sk-serial\"><div class=\"sk-item\"><div class=\"sk-estimator sk-toggleable\"><input class=\"sk-toggleable__control sk-hidden--visually\" id=\"sk-estimator-id-3\" type=\"checkbox\" ><label for=\"sk-estimator-id-3\" class=\"sk-toggleable__label sk-toggleable__label-arrow\">XGBClassifier</label><div class=\"sk-toggleable__content\"><pre>XGBClassifier(base_score=None, booster=None, callbacks=None,\n",
              "              colsample_bylevel=None, colsample_bynode=None,\n",
              "              colsample_bytree=None, device=None, early_stopping_rounds=None,\n",
              "              enable_categorical=False, eval_metric=None, feature_types=None,\n",
              "              gamma=None, grow_policy=None, importance_type=None,\n",
              "              interaction_constraints=None, learning_rate=None, max_bin=None,\n",
              "              max_cat_threshold=None, max_cat_to_onehot=None,\n",
              "              max_delta_step=None, max_depth=None, max_leaves=None,\n",
              "              min_child_weight=None, missing=nan, monotone_constraints=None,\n",
              "              multi_strategy=None, n_estimators=None, n_jobs=None,\n",
              "              num_parallel_tree=None, random_state=None, ...)</pre></div></div></div></div></div></div></div></div></div></div>"
            ],
            "text/plain": [
              "RandomizedSearchCV(cv=5,\n",
              "                   estimator=XGBClassifier(base_score=None, booster=None,\n",
              "                                           callbacks=None,\n",
              "                                           colsample_bylevel=None,\n",
              "                                           colsample_bynode=None,\n",
              "                                           colsample_bytree=None, device=None,\n",
              "                                           early_stopping_rounds=None,\n",
              "                                           enable_categorical=False,\n",
              "                                           eval_metric=None, feature_types=None,\n",
              "                                           gamma=None, grow_policy=None,\n",
              "                                           importance_type=None,\n",
              "                                           interaction_constraints=None,\n",
              "                                           learning_rate...\n",
              "                                           multi_strategy=None,\n",
              "                                           n_estimators=None, n_jobs=None,\n",
              "                                           num_parallel_tree=None,\n",
              "                                           random_state=None, ...),\n",
              "                   n_iter=30,\n",
              "                   param_distributions={'colsample_bytree': [0.8, 0.9, 1.0],\n",
              "                                        'gamma': [0, 0.25, 0.5, 1, 2, 3],\n",
              "                                        'learning_rate': [0, 0.02, 0.04, 0.06,\n",
              "                                                          0.08, 0.1, 0.15,\n",
              "                                                          0.2],\n",
              "                                        'max_depth': [2, 3, 4, 5, 6],\n",
              "                                        'n_estimators': [100, 200, 300, 400,\n",
              "                                                         500],\n",
              "                                        'subsample': [0.8, 0.9, 1.0]},\n",
              "                   scoring=make_scorer(f1_score))"
            ]
          },
          "execution_count": 10,
          "metadata": {},
          "output_type": "execute_result"
        }
      ],
      "source": [
        "random_search = RandomizedSearchCV(estimator=xgb, param_distributions=param_distributions, cv=5, n_iter=30, scoring=f1_scorer)\n",
        "\n",
        "random_search.fit(X_train_sampled, y_train_sampled)"
      ]
    },
    {
      "cell_type": "code",
      "execution_count": null,
      "metadata": {
        "id": "iulKQR-zcnFu",
        "outputId": "1a052efd-ca77-4fcd-f403-fc5e974d287e"
      },
      "outputs": [
        {
          "name": "stdout",
          "output_type": "stream",
          "text": [
            "Mejores parametros: {'subsample': 0.8, 'n_estimators': 400, 'max_depth': 6, 'learning_rate': 0.1, 'gamma': 3, 'colsample_bytree': 0.9}\n",
            "Mejor F1 Score: 0.8120309954755877\n"
          ]
        }
      ],
      "source": [
        "best_params = random_search.best_params_\n",
        "best_score = random_search.best_score_\n",
        "\n",
        "print(f'Mejores parametros: {best_params}')\n",
        "print(f'Mejor F1 Score: {best_score}')"
      ]
    },
    {
      "cell_type": "code",
      "execution_count": null,
      "metadata": {
        "id": "xRd4fngGcnFu",
        "outputId": "802e8332-5374-465d-d631-c64b81d8d7bd"
      },
      "outputs": [
        {
          "name": "stderr",
          "output_type": "stream",
          "text": [
            "c:\\Users\\flaph\\AppData\\Local\\Programs\\Python\\Python310\\lib\\site-packages\\xgboost\\sklearn.py:889: UserWarning: `early_stopping_rounds` in `fit` method is deprecated for better compatibility with scikit-learn, use `early_stopping_rounds` in constructor or`set_params` instead.\n",
            "  warnings.warn(\n"
          ]
        },
        {
          "name": "stdout",
          "output_type": "stream",
          "text": [
            "[0]\tvalidation_0-logloss:0.67556\n",
            "[1]\tvalidation_0-logloss:0.65976\n",
            "[2]\tvalidation_0-logloss:0.64677\n",
            "[3]\tvalidation_0-logloss:0.63545\n",
            "[4]\tvalidation_0-logloss:0.62553\n",
            "[5]\tvalidation_0-logloss:0.61703\n",
            "[6]\tvalidation_0-logloss:0.60945\n",
            "[7]\tvalidation_0-logloss:0.60239\n",
            "[8]\tvalidation_0-logloss:0.59618\n",
            "[9]\tvalidation_0-logloss:0.59050\n",
            "[10]\tvalidation_0-logloss:0.58530\n",
            "[11]\tvalidation_0-logloss:0.58025\n",
            "[12]\tvalidation_0-logloss:0.57524\n",
            "[13]\tvalidation_0-logloss:0.57061\n",
            "[14]\tvalidation_0-logloss:0.56577\n",
            "[15]\tvalidation_0-logloss:0.56172\n",
            "[16]\tvalidation_0-logloss:0.55734\n",
            "[17]\tvalidation_0-logloss:0.55328\n",
            "[18]\tvalidation_0-logloss:0.54977\n",
            "[19]\tvalidation_0-logloss:0.54619\n",
            "[20]\tvalidation_0-logloss:0.54293\n",
            "[21]\tvalidation_0-logloss:0.53982\n",
            "[22]\tvalidation_0-logloss:0.53718\n",
            "[23]\tvalidation_0-logloss:0.53419\n",
            "[24]\tvalidation_0-logloss:0.53152\n",
            "[25]\tvalidation_0-logloss:0.52887\n",
            "[26]\tvalidation_0-logloss:0.52619\n",
            "[27]\tvalidation_0-logloss:0.52358\n",
            "[28]\tvalidation_0-logloss:0.52097\n",
            "[29]\tvalidation_0-logloss:0.51819\n",
            "[30]\tvalidation_0-logloss:0.51592\n",
            "[31]\tvalidation_0-logloss:0.51384\n",
            "[32]\tvalidation_0-logloss:0.51152\n",
            "[33]\tvalidation_0-logloss:0.50925\n",
            "[34]\tvalidation_0-logloss:0.50719\n",
            "[35]\tvalidation_0-logloss:0.50540\n",
            "[36]\tvalidation_0-logloss:0.50341\n",
            "[37]\tvalidation_0-logloss:0.50142\n",
            "[38]\tvalidation_0-logloss:0.49961\n",
            "[39]\tvalidation_0-logloss:0.49777\n",
            "[40]\tvalidation_0-logloss:0.49583\n",
            "[41]\tvalidation_0-logloss:0.49393\n",
            "[42]\tvalidation_0-logloss:0.49228\n",
            "[43]\tvalidation_0-logloss:0.49035\n",
            "[44]\tvalidation_0-logloss:0.48871\n",
            "[45]\tvalidation_0-logloss:0.48688\n",
            "[46]\tvalidation_0-logloss:0.48513\n",
            "[47]\tvalidation_0-logloss:0.48343\n",
            "[48]\tvalidation_0-logloss:0.48197\n",
            "[49]\tvalidation_0-logloss:0.48042\n",
            "[50]\tvalidation_0-logloss:0.47860\n",
            "[51]\tvalidation_0-logloss:0.47706\n",
            "[52]\tvalidation_0-logloss:0.47590\n",
            "[53]\tvalidation_0-logloss:0.47439\n",
            "[54]\tvalidation_0-logloss:0.47316\n",
            "[55]\tvalidation_0-logloss:0.47201\n",
            "[56]\tvalidation_0-logloss:0.47064\n",
            "[57]\tvalidation_0-logloss:0.46927\n",
            "[58]\tvalidation_0-logloss:0.46798\n",
            "[59]\tvalidation_0-logloss:0.46687\n",
            "[60]\tvalidation_0-logloss:0.46562\n",
            "[61]\tvalidation_0-logloss:0.46442\n",
            "[62]\tvalidation_0-logloss:0.46298\n",
            "[63]\tvalidation_0-logloss:0.46191\n",
            "[64]\tvalidation_0-logloss:0.46076\n",
            "[65]\tvalidation_0-logloss:0.45969\n",
            "[66]\tvalidation_0-logloss:0.45852\n",
            "[67]\tvalidation_0-logloss:0.45742\n",
            "[68]\tvalidation_0-logloss:0.45653\n",
            "[69]\tvalidation_0-logloss:0.45539\n",
            "[70]\tvalidation_0-logloss:0.45401\n",
            "[71]\tvalidation_0-logloss:0.45310\n",
            "[72]\tvalidation_0-logloss:0.45205\n",
            "[73]\tvalidation_0-logloss:0.45094\n",
            "[74]\tvalidation_0-logloss:0.45019\n",
            "[75]\tvalidation_0-logloss:0.44931\n",
            "[76]\tvalidation_0-logloss:0.44847\n",
            "[77]\tvalidation_0-logloss:0.44739\n",
            "[78]\tvalidation_0-logloss:0.44646\n",
            "[79]\tvalidation_0-logloss:0.44564\n",
            "[80]\tvalidation_0-logloss:0.44494\n",
            "[81]\tvalidation_0-logloss:0.44386\n",
            "[82]\tvalidation_0-logloss:0.44299\n",
            "[83]\tvalidation_0-logloss:0.44199\n",
            "[84]\tvalidation_0-logloss:0.44128\n",
            "[85]\tvalidation_0-logloss:0.44031\n",
            "[86]\tvalidation_0-logloss:0.43947\n",
            "[87]\tvalidation_0-logloss:0.43866\n",
            "[88]\tvalidation_0-logloss:0.43777\n",
            "[89]\tvalidation_0-logloss:0.43706\n",
            "[90]\tvalidation_0-logloss:0.43625\n",
            "[91]\tvalidation_0-logloss:0.43533\n",
            "[92]\tvalidation_0-logloss:0.43466\n",
            "[93]\tvalidation_0-logloss:0.43389\n",
            "[94]\tvalidation_0-logloss:0.43294\n",
            "[95]\tvalidation_0-logloss:0.43223\n",
            "[96]\tvalidation_0-logloss:0.43163\n",
            "[97]\tvalidation_0-logloss:0.43090\n",
            "[98]\tvalidation_0-logloss:0.43014\n",
            "[99]\tvalidation_0-logloss:0.42957\n",
            "[100]\tvalidation_0-logloss:0.42901\n",
            "[101]\tvalidation_0-logloss:0.42831\n",
            "[102]\tvalidation_0-logloss:0.42756\n",
            "[103]\tvalidation_0-logloss:0.42685\n",
            "[104]\tvalidation_0-logloss:0.42622\n",
            "[105]\tvalidation_0-logloss:0.42550\n",
            "[106]\tvalidation_0-logloss:0.42472\n",
            "[107]\tvalidation_0-logloss:0.42414\n",
            "[108]\tvalidation_0-logloss:0.42351\n",
            "[109]\tvalidation_0-logloss:0.42274\n",
            "[110]\tvalidation_0-logloss:0.42223\n",
            "[111]\tvalidation_0-logloss:0.42177\n",
            "[112]\tvalidation_0-logloss:0.42118\n",
            "[113]\tvalidation_0-logloss:0.42052\n",
            "[114]\tvalidation_0-logloss:0.41993\n",
            "[115]\tvalidation_0-logloss:0.41944\n",
            "[116]\tvalidation_0-logloss:0.41877\n",
            "[117]\tvalidation_0-logloss:0.41817\n",
            "[118]\tvalidation_0-logloss:0.41757\n",
            "[119]\tvalidation_0-logloss:0.41682\n",
            "[120]\tvalidation_0-logloss:0.41598\n",
            "[121]\tvalidation_0-logloss:0.41553\n",
            "[122]\tvalidation_0-logloss:0.41502\n",
            "[123]\tvalidation_0-logloss:0.41437\n",
            "[124]\tvalidation_0-logloss:0.41385\n",
            "[125]\tvalidation_0-logloss:0.41328\n",
            "[126]\tvalidation_0-logloss:0.41290\n",
            "[127]\tvalidation_0-logloss:0.41225\n",
            "[128]\tvalidation_0-logloss:0.41167\n",
            "[129]\tvalidation_0-logloss:0.41122\n",
            "[130]\tvalidation_0-logloss:0.41073\n",
            "[131]\tvalidation_0-logloss:0.41025\n",
            "[132]\tvalidation_0-logloss:0.40982\n",
            "[133]\tvalidation_0-logloss:0.40926\n",
            "[134]\tvalidation_0-logloss:0.40870\n",
            "[135]\tvalidation_0-logloss:0.40840\n",
            "[136]\tvalidation_0-logloss:0.40796\n",
            "[137]\tvalidation_0-logloss:0.40764\n",
            "[138]\tvalidation_0-logloss:0.40698\n",
            "[139]\tvalidation_0-logloss:0.40654\n",
            "[140]\tvalidation_0-logloss:0.40615\n",
            "[141]\tvalidation_0-logloss:0.40564\n",
            "[142]\tvalidation_0-logloss:0.40515\n",
            "[143]\tvalidation_0-logloss:0.40456\n",
            "[144]\tvalidation_0-logloss:0.40407\n",
            "[145]\tvalidation_0-logloss:0.40378\n",
            "[146]\tvalidation_0-logloss:0.40319\n",
            "[147]\tvalidation_0-logloss:0.40270\n",
            "[148]\tvalidation_0-logloss:0.40225\n",
            "[149]\tvalidation_0-logloss:0.40185\n",
            "[150]\tvalidation_0-logloss:0.40131\n",
            "[151]\tvalidation_0-logloss:0.40080\n",
            "[152]\tvalidation_0-logloss:0.40036\n",
            "[153]\tvalidation_0-logloss:0.39978\n",
            "[154]\tvalidation_0-logloss:0.39934\n",
            "[155]\tvalidation_0-logloss:0.39879\n",
            "[156]\tvalidation_0-logloss:0.39849\n",
            "[157]\tvalidation_0-logloss:0.39814\n",
            "[158]\tvalidation_0-logloss:0.39783\n",
            "[159]\tvalidation_0-logloss:0.39741\n",
            "[160]\tvalidation_0-logloss:0.39700\n",
            "[161]\tvalidation_0-logloss:0.39655\n",
            "[162]\tvalidation_0-logloss:0.39603\n",
            "[163]\tvalidation_0-logloss:0.39567\n",
            "[164]\tvalidation_0-logloss:0.39529\n",
            "[165]\tvalidation_0-logloss:0.39478\n",
            "[166]\tvalidation_0-logloss:0.39443\n",
            "[167]\tvalidation_0-logloss:0.39397\n",
            "[168]\tvalidation_0-logloss:0.39364\n",
            "[169]\tvalidation_0-logloss:0.39333\n",
            "[170]\tvalidation_0-logloss:0.39292\n",
            "[171]\tvalidation_0-logloss:0.39249\n",
            "[172]\tvalidation_0-logloss:0.39212\n",
            "[173]\tvalidation_0-logloss:0.39180\n",
            "[174]\tvalidation_0-logloss:0.39137\n",
            "[175]\tvalidation_0-logloss:0.39106\n",
            "[176]\tvalidation_0-logloss:0.39047\n",
            "[177]\tvalidation_0-logloss:0.39024\n",
            "[178]\tvalidation_0-logloss:0.38993\n",
            "[179]\tvalidation_0-logloss:0.38950\n",
            "[180]\tvalidation_0-logloss:0.38914\n",
            "[181]\tvalidation_0-logloss:0.38886\n",
            "[182]\tvalidation_0-logloss:0.38841\n",
            "[183]\tvalidation_0-logloss:0.38798\n",
            "[184]\tvalidation_0-logloss:0.38772\n",
            "[185]\tvalidation_0-logloss:0.38736\n",
            "[186]\tvalidation_0-logloss:0.38707\n",
            "[187]\tvalidation_0-logloss:0.38670\n",
            "[188]\tvalidation_0-logloss:0.38637\n",
            "[189]\tvalidation_0-logloss:0.38595\n",
            "[190]\tvalidation_0-logloss:0.38567\n",
            "[191]\tvalidation_0-logloss:0.38530\n",
            "[192]\tvalidation_0-logloss:0.38500\n",
            "[193]\tvalidation_0-logloss:0.38471\n",
            "[194]\tvalidation_0-logloss:0.38438\n",
            "[195]\tvalidation_0-logloss:0.38413\n",
            "[196]\tvalidation_0-logloss:0.38381\n",
            "[197]\tvalidation_0-logloss:0.38358\n",
            "[198]\tvalidation_0-logloss:0.38335\n",
            "[199]\tvalidation_0-logloss:0.38317\n",
            "[200]\tvalidation_0-logloss:0.38291\n",
            "[201]\tvalidation_0-logloss:0.38267\n",
            "[202]\tvalidation_0-logloss:0.38232\n",
            "[203]\tvalidation_0-logloss:0.38197\n",
            "[204]\tvalidation_0-logloss:0.38179\n",
            "[205]\tvalidation_0-logloss:0.38154\n",
            "[206]\tvalidation_0-logloss:0.38129\n",
            "[207]\tvalidation_0-logloss:0.38107\n",
            "[208]\tvalidation_0-logloss:0.38069\n",
            "[209]\tvalidation_0-logloss:0.38032\n",
            "[210]\tvalidation_0-logloss:0.38005\n",
            "[211]\tvalidation_0-logloss:0.37993\n",
            "[212]\tvalidation_0-logloss:0.37968\n",
            "[213]\tvalidation_0-logloss:0.37940\n",
            "[214]\tvalidation_0-logloss:0.37909\n",
            "[215]\tvalidation_0-logloss:0.37871\n",
            "[216]\tvalidation_0-logloss:0.37846\n",
            "[217]\tvalidation_0-logloss:0.37828\n",
            "[218]\tvalidation_0-logloss:0.37806\n",
            "[219]\tvalidation_0-logloss:0.37779\n",
            "[220]\tvalidation_0-logloss:0.37753\n",
            "[221]\tvalidation_0-logloss:0.37725\n",
            "[222]\tvalidation_0-logloss:0.37710\n",
            "[223]\tvalidation_0-logloss:0.37678\n",
            "[224]\tvalidation_0-logloss:0.37655\n",
            "[225]\tvalidation_0-logloss:0.37612\n",
            "[226]\tvalidation_0-logloss:0.37588\n",
            "[227]\tvalidation_0-logloss:0.37561\n",
            "[228]\tvalidation_0-logloss:0.37537\n",
            "[229]\tvalidation_0-logloss:0.37514\n",
            "[230]\tvalidation_0-logloss:0.37483\n",
            "[231]\tvalidation_0-logloss:0.37468\n",
            "[232]\tvalidation_0-logloss:0.37443\n",
            "[233]\tvalidation_0-logloss:0.37410\n",
            "[234]\tvalidation_0-logloss:0.37374\n",
            "[235]\tvalidation_0-logloss:0.37347\n",
            "[236]\tvalidation_0-logloss:0.37326\n",
            "[237]\tvalidation_0-logloss:0.37315\n",
            "[238]\tvalidation_0-logloss:0.37282\n",
            "[239]\tvalidation_0-logloss:0.37261\n",
            "[240]\tvalidation_0-logloss:0.37226\n",
            "[241]\tvalidation_0-logloss:0.37188\n",
            "[242]\tvalidation_0-logloss:0.37167\n",
            "[243]\tvalidation_0-logloss:0.37139\n",
            "[244]\tvalidation_0-logloss:0.37123\n",
            "[245]\tvalidation_0-logloss:0.37110\n",
            "[246]\tvalidation_0-logloss:0.37083\n",
            "[247]\tvalidation_0-logloss:0.37058\n",
            "[248]\tvalidation_0-logloss:0.37027\n",
            "[249]\tvalidation_0-logloss:0.37002\n",
            "[250]\tvalidation_0-logloss:0.36972\n",
            "[251]\tvalidation_0-logloss:0.36941\n",
            "[252]\tvalidation_0-logloss:0.36906\n",
            "[253]\tvalidation_0-logloss:0.36885\n",
            "[254]\tvalidation_0-logloss:0.36867\n",
            "[255]\tvalidation_0-logloss:0.36850\n",
            "[256]\tvalidation_0-logloss:0.36813\n",
            "[257]\tvalidation_0-logloss:0.36780\n",
            "[258]\tvalidation_0-logloss:0.36751\n",
            "[259]\tvalidation_0-logloss:0.36734\n",
            "[260]\tvalidation_0-logloss:0.36711\n",
            "[261]\tvalidation_0-logloss:0.36668\n",
            "[262]\tvalidation_0-logloss:0.36650\n",
            "[263]\tvalidation_0-logloss:0.36620\n",
            "[264]\tvalidation_0-logloss:0.36596\n",
            "[265]\tvalidation_0-logloss:0.36575\n",
            "[266]\tvalidation_0-logloss:0.36556\n",
            "[267]\tvalidation_0-logloss:0.36549\n",
            "[268]\tvalidation_0-logloss:0.36522\n",
            "[269]\tvalidation_0-logloss:0.36498\n",
            "[270]\tvalidation_0-logloss:0.36479\n",
            "[271]\tvalidation_0-logloss:0.36447\n",
            "[272]\tvalidation_0-logloss:0.36431\n",
            "[273]\tvalidation_0-logloss:0.36411\n",
            "[274]\tvalidation_0-logloss:0.36381\n",
            "[275]\tvalidation_0-logloss:0.36356\n",
            "[276]\tvalidation_0-logloss:0.36327\n",
            "[277]\tvalidation_0-logloss:0.36301\n",
            "[278]\tvalidation_0-logloss:0.36278\n",
            "[279]\tvalidation_0-logloss:0.36268\n",
            "[280]\tvalidation_0-logloss:0.36248\n",
            "[281]\tvalidation_0-logloss:0.36225\n",
            "[282]\tvalidation_0-logloss:0.36216\n",
            "[283]\tvalidation_0-logloss:0.36198\n",
            "[284]\tvalidation_0-logloss:0.36174\n",
            "[285]\tvalidation_0-logloss:0.36151\n",
            "[286]\tvalidation_0-logloss:0.36134\n",
            "[287]\tvalidation_0-logloss:0.36114\n",
            "[288]\tvalidation_0-logloss:0.36095\n",
            "[289]\tvalidation_0-logloss:0.36080\n",
            "[290]\tvalidation_0-logloss:0.36059\n",
            "[291]\tvalidation_0-logloss:0.36042\n",
            "[292]\tvalidation_0-logloss:0.36038\n",
            "[293]\tvalidation_0-logloss:0.36020\n",
            "[294]\tvalidation_0-logloss:0.36006\n",
            "[295]\tvalidation_0-logloss:0.35980\n",
            "[296]\tvalidation_0-logloss:0.35948\n",
            "[297]\tvalidation_0-logloss:0.35940\n",
            "[298]\tvalidation_0-logloss:0.35916\n",
            "[299]\tvalidation_0-logloss:0.35887\n",
            "[300]\tvalidation_0-logloss:0.35876\n",
            "[301]\tvalidation_0-logloss:0.35851\n",
            "[302]\tvalidation_0-logloss:0.35832\n",
            "[303]\tvalidation_0-logloss:0.35814\n",
            "[304]\tvalidation_0-logloss:0.35788\n",
            "[305]\tvalidation_0-logloss:0.35767\n",
            "[306]\tvalidation_0-logloss:0.35753\n",
            "[307]\tvalidation_0-logloss:0.35728\n",
            "[308]\tvalidation_0-logloss:0.35703\n",
            "[309]\tvalidation_0-logloss:0.35688\n",
            "[310]\tvalidation_0-logloss:0.35687\n",
            "[311]\tvalidation_0-logloss:0.35666\n",
            "[312]\tvalidation_0-logloss:0.35643\n",
            "[313]\tvalidation_0-logloss:0.35624\n",
            "[314]\tvalidation_0-logloss:0.35610\n",
            "[315]\tvalidation_0-logloss:0.35601\n",
            "[316]\tvalidation_0-logloss:0.35586\n",
            "[317]\tvalidation_0-logloss:0.35577\n",
            "[318]\tvalidation_0-logloss:0.35564\n",
            "[319]\tvalidation_0-logloss:0.35546\n",
            "[320]\tvalidation_0-logloss:0.35541\n",
            "[321]\tvalidation_0-logloss:0.35534\n",
            "[322]\tvalidation_0-logloss:0.35525\n",
            "[323]\tvalidation_0-logloss:0.35507\n",
            "[324]\tvalidation_0-logloss:0.35485\n",
            "[325]\tvalidation_0-logloss:0.35471\n",
            "[326]\tvalidation_0-logloss:0.35453\n",
            "[327]\tvalidation_0-logloss:0.35441\n",
            "[328]\tvalidation_0-logloss:0.35422\n",
            "[329]\tvalidation_0-logloss:0.35411\n",
            "[330]\tvalidation_0-logloss:0.35382\n",
            "[331]\tvalidation_0-logloss:0.35354\n",
            "[332]\tvalidation_0-logloss:0.35338\n",
            "[333]\tvalidation_0-logloss:0.35315\n",
            "[334]\tvalidation_0-logloss:0.35308\n",
            "[335]\tvalidation_0-logloss:0.35299\n",
            "[336]\tvalidation_0-logloss:0.35268\n",
            "[337]\tvalidation_0-logloss:0.35253\n",
            "[338]\tvalidation_0-logloss:0.35237\n",
            "[339]\tvalidation_0-logloss:0.35207\n",
            "[340]\tvalidation_0-logloss:0.35190\n",
            "[341]\tvalidation_0-logloss:0.35175\n",
            "[342]\tvalidation_0-logloss:0.35150\n",
            "[343]\tvalidation_0-logloss:0.35127\n",
            "[344]\tvalidation_0-logloss:0.35119\n",
            "[345]\tvalidation_0-logloss:0.35098\n",
            "[346]\tvalidation_0-logloss:0.35084\n",
            "[347]\tvalidation_0-logloss:0.35060\n",
            "[348]\tvalidation_0-logloss:0.35049\n",
            "[349]\tvalidation_0-logloss:0.35032\n",
            "[350]\tvalidation_0-logloss:0.35019\n",
            "[351]\tvalidation_0-logloss:0.35007\n",
            "[352]\tvalidation_0-logloss:0.34988\n",
            "[353]\tvalidation_0-logloss:0.34983\n",
            "[354]\tvalidation_0-logloss:0.34971\n",
            "[355]\tvalidation_0-logloss:0.34958\n",
            "[356]\tvalidation_0-logloss:0.34942\n",
            "[357]\tvalidation_0-logloss:0.34932\n",
            "[358]\tvalidation_0-logloss:0.34918\n",
            "[359]\tvalidation_0-logloss:0.34903\n",
            "[360]\tvalidation_0-logloss:0.34898\n",
            "[361]\tvalidation_0-logloss:0.34888\n",
            "[362]\tvalidation_0-logloss:0.34879\n",
            "[363]\tvalidation_0-logloss:0.34861\n",
            "[364]\tvalidation_0-logloss:0.34855\n",
            "[365]\tvalidation_0-logloss:0.34838\n",
            "[366]\tvalidation_0-logloss:0.34813\n",
            "[367]\tvalidation_0-logloss:0.34798\n",
            "[368]\tvalidation_0-logloss:0.34778\n",
            "[369]\tvalidation_0-logloss:0.34756\n",
            "[370]\tvalidation_0-logloss:0.34748\n",
            "[371]\tvalidation_0-logloss:0.34733\n",
            "[372]\tvalidation_0-logloss:0.34724\n",
            "[373]\tvalidation_0-logloss:0.34700\n",
            "[374]\tvalidation_0-logloss:0.34688\n",
            "[375]\tvalidation_0-logloss:0.34675\n",
            "[376]\tvalidation_0-logloss:0.34659\n",
            "[377]\tvalidation_0-logloss:0.34640\n",
            "[378]\tvalidation_0-logloss:0.34631\n",
            "[379]\tvalidation_0-logloss:0.34612\n",
            "[380]\tvalidation_0-logloss:0.34600\n",
            "[381]\tvalidation_0-logloss:0.34584\n",
            "[382]\tvalidation_0-logloss:0.34567\n",
            "[383]\tvalidation_0-logloss:0.34551\n",
            "[384]\tvalidation_0-logloss:0.34539\n",
            "[385]\tvalidation_0-logloss:0.34532\n",
            "[386]\tvalidation_0-logloss:0.34509\n",
            "[387]\tvalidation_0-logloss:0.34510\n",
            "[388]\tvalidation_0-logloss:0.34499\n",
            "[389]\tvalidation_0-logloss:0.34490\n",
            "[390]\tvalidation_0-logloss:0.34468\n",
            "[391]\tvalidation_0-logloss:0.34453\n",
            "[392]\tvalidation_0-logloss:0.34439\n",
            "[393]\tvalidation_0-logloss:0.34434\n",
            "[394]\tvalidation_0-logloss:0.34429\n",
            "[395]\tvalidation_0-logloss:0.34423\n",
            "[396]\tvalidation_0-logloss:0.34411\n",
            "[397]\tvalidation_0-logloss:0.34381\n",
            "[398]\tvalidation_0-logloss:0.34366\n",
            "[399]\tvalidation_0-logloss:0.34359\n",
            "F1 Score: 0.8562002716863962\n"
          ]
        }
      ],
      "source": [
        "best_xgb_model = random_search.best_estimator_\n",
        "best_xgb_model.fit(X_train_vect, y_train, early_stopping_rounds=10, eval_set=[(X_test_vect, y_test)])\n",
        "y_pred = best_xgb_model.predict(X_test_vect)\n",
        "\n",
        "f1 = f1_score(y_test, y_pred)\n",
        "print(f'F1 Score: {f1}')"
      ]
    },
    {
      "cell_type": "code",
      "execution_count": null,
      "metadata": {
        "id": "7XTvGhzocnFu"
      },
      "outputs": [],
      "source": [
        "0.8347129259470778"
      ]
    },
    {
      "cell_type": "code",
      "execution_count": null,
      "metadata": {
        "id": "EgDatTHwcnFu",
        "outputId": "53bdbfdd-c962-467e-d5b0-c7b60a2c7b86"
      },
      "outputs": [
        {
          "data": {
            "text/plain": [
              "['Modelos/xgb_model_2024-05-28.joblib']"
            ]
          },
          "execution_count": 15,
          "metadata": {},
          "output_type": "execute_result"
        }
      ],
      "source": [
        "current_date = datetime.datetime.now().strftime('%Y-%m-%d')\n",
        "\n",
        "joblib.dump(random_search, f'Modelos/xgb_model_random_search_{current_date}.joblib')\n",
        "joblib.dump(best_xgb_model, f'Modelos/xgb_model_{current_date}.joblib')"
      ]
    },
    {
      "cell_type": "markdown",
      "metadata": {
        "id": "7CiyUw5BcnFu"
      },
      "source": [
        "## Conjunto test"
      ]
    },
    {
      "cell_type": "code",
      "execution_count": null,
      "metadata": {
        "colab": {
          "base_uri": "https://localhost:8080/",
          "height": 424
        },
        "id": "T7zaobVqKSSn",
        "outputId": "fab3b19b-bb22-4bd1-e97f-52e4bd9d4a5d"
      },
      "outputs": [
        {
          "data": {
            "text/html": [
              "<div>\n",
              "<style scoped>\n",
              "    .dataframe tbody tr th:only-of-type {\n",
              "        vertical-align: middle;\n",
              "    }\n",
              "\n",
              "    .dataframe tbody tr th {\n",
              "        vertical-align: top;\n",
              "    }\n",
              "\n",
              "    .dataframe thead th {\n",
              "        text-align: right;\n",
              "    }\n",
              "</style>\n",
              "<table border=\"1\" class=\"dataframe\">\n",
              "  <thead>\n",
              "    <tr style=\"text-align: right;\">\n",
              "      <th></th>\n",
              "      <th>ID</th>\n",
              "      <th>sentimiento</th>\n",
              "    </tr>\n",
              "  </thead>\n",
              "  <tbody>\n",
              "    <tr>\n",
              "      <th>0</th>\n",
              "      <td>60000</td>\n",
              "      <td>negativo</td>\n",
              "    </tr>\n",
              "    <tr>\n",
              "      <th>1</th>\n",
              "      <td>60001</td>\n",
              "      <td>positivo</td>\n",
              "    </tr>\n",
              "    <tr>\n",
              "      <th>2</th>\n",
              "      <td>60002</td>\n",
              "      <td>negativo</td>\n",
              "    </tr>\n",
              "    <tr>\n",
              "      <th>3</th>\n",
              "      <td>60003</td>\n",
              "      <td>negativo</td>\n",
              "    </tr>\n",
              "    <tr>\n",
              "      <th>4</th>\n",
              "      <td>60004</td>\n",
              "      <td>negativo</td>\n",
              "    </tr>\n",
              "    <tr>\n",
              "      <th>...</th>\n",
              "      <td>...</td>\n",
              "      <td>...</td>\n",
              "    </tr>\n",
              "    <tr>\n",
              "      <th>8594</th>\n",
              "      <td>68594</td>\n",
              "      <td>positivo</td>\n",
              "    </tr>\n",
              "    <tr>\n",
              "      <th>8595</th>\n",
              "      <td>68595</td>\n",
              "      <td>negativo</td>\n",
              "    </tr>\n",
              "    <tr>\n",
              "      <th>8596</th>\n",
              "      <td>68596</td>\n",
              "      <td>positivo</td>\n",
              "    </tr>\n",
              "    <tr>\n",
              "      <th>8597</th>\n",
              "      <td>68597</td>\n",
              "      <td>negativo</td>\n",
              "    </tr>\n",
              "    <tr>\n",
              "      <th>8598</th>\n",
              "      <td>68598</td>\n",
              "      <td>negativo</td>\n",
              "    </tr>\n",
              "  </tbody>\n",
              "</table>\n",
              "<p>8599 rows × 2 columns</p>\n",
              "</div>"
            ],
            "text/plain": [
              "         ID sentimiento\n",
              "0     60000    negativo\n",
              "1     60001    positivo\n",
              "2     60002    negativo\n",
              "3     60003    negativo\n",
              "4     60004    negativo\n",
              "...     ...         ...\n",
              "8594  68594    positivo\n",
              "8595  68595    negativo\n",
              "8596  68596    positivo\n",
              "8597  68597    negativo\n",
              "8598  68598    negativo\n",
              "\n",
              "[8599 rows x 2 columns]"
            ]
          },
          "execution_count": 16,
          "metadata": {},
          "output_type": "execute_result"
        }
      ],
      "source": [
        "conjunto_test = conjunto_test.set_index(conjunto_test['ID'])\n",
        "X_conjunto_test = vectorizer.transform(conjunto_test['review_es'])\n",
        "\n",
        "pred_test = best_xgb_model.predict(X_conjunto_test)\n",
        "pred_test_labels = ['positivo' if pred == 1 else 'negativo' for pred in pred_test]\n",
        "\n",
        "final_pred_df = pd.DataFrame({\n",
        "    'ID': conjunto_test.index,\n",
        "    'sentimiento': pred_test_labels\n",
        "})\n",
        "final_pred_df"
      ]
    },
    {
      "cell_type": "markdown",
      "metadata": {
        "id": "JF5pKkAdcnFu"
      },
      "source": [
        "## Exportaciones"
      ]
    },
    {
      "cell_type": "code",
      "execution_count": null,
      "metadata": {
        "id": "szOMmNTBKSSo"
      },
      "outputs": [],
      "source": [
        "current_date = datetime.datetime.now().strftime('%Y-%m-%d')\n",
        "\n",
        "final_pred_df.to_csv(f\"Predicciones/XGBoost_{current_date}.csv\", index=False)"
      ]
    },
    {
      "cell_type": "markdown",
      "metadata": {
        "id": "w-VriN1TcnFv"
      },
      "source": [
        "## Vectorizacion de las críticas : con lemmarizacion"
      ]
    },
    {
      "cell_type": "code",
      "execution_count": null,
      "metadata": {
        "id": "y07Ia7lYcnFv"
      },
      "outputs": [],
      "source": [
        "nlp = spacy.load('es_core_news_sm')\n",
        "\n",
        "def preprocess_text(text):\n",
        "    doc = nlp(text)\n",
        "    return ' '.join([token.lemma_ for token in doc if token.is_alpha])\n",
        "\n",
        "X_train_processed = X_train.apply(preprocess_text)\n",
        "print(X_train_processed)\n",
        "\n",
        "vectorizer_lemma = TfidfVectorizer(stop_words=stop_words_es)\n",
        "\n",
        "X_train_vect_lemma = vectorizer_lemma.fit_transform(X_train_processed)\n",
        "X_test_vect_lemma = vectorizer_lemma.transform(X_test)\n",
        "\n",
        "param_distributions = {\n",
        "    'n_estimators': [100, 200, 300, 400, 500],\n",
        "    'max_depth': [2, 3, 4, 5, 6],\n",
        "    'learning_rate': [0, 0.02, 0.04, 0.06, 0.08, 0.1, 0.15, 0.2],\n",
        "    'gamma': [0, 0.25, 0.5, 1, 2, 3],\n",
        "    'subsample': [0.8, 0.9, 1.0],\n",
        "    'colsample_bytree': [0.8, 0.9, 1.0],\n",
        "    'early_stopping_rounds': [5, 10, 20]\n",
        "}\n",
        "\n",
        "xgb = XGBClassifier()\n",
        "f1_scorer = make_scorer(f1_score)\n",
        "\n",
        "sample_size_lemma = int(0.1 * X_train_vect_lemma.shape[0])\n",
        "sample_indices_lemma = np.random.choice(X_train_vect_lemma.shape[0], size=sample_size_lemma, replace=False)\n",
        "X_train_sampled_lemma = X_train_vect_lemma[sample_indices_lemma]\n",
        "y_train_sampled_lemma = y_train.iloc[sample_indices_lemma]\n",
        "\n",
        "random_search_lemma = RandomizedSearchCV(estimator=xgb, param_distributions=param_distributions, cv=5, n_iter=30, scoring=f1_scorer)\n",
        "\n",
        "random_search_lemma.fit(X_train_sampled_lemma, y_train_sampled_lemma)\n",
        "\n",
        "best_params = random_search_lemma.best_params_\n",
        "best_score = random_search_lemma.best_score_\n",
        "\n",
        "print(f'Mejores parametros: {best_params}')\n",
        "print(f'Mejor F1 Score: {best_score}')\n",
        "\n",
        "best_xgb_model = random_search_lemma.best_estimator_\n",
        "best_xgb_model.fit(X_train_vect_lemma, y_train, early_stopping_rounds=10, eval_set=[(X_test_vect_lemma, y_test)])\n",
        "y_pred = best_xgb_model.predict(X_test_vect_lemma)\n",
        "\n",
        "f1 = f1_score(y_test, y_pred)\n",
        "print(f'F1 Score: {f1}')"
      ]
    },
    {
      "cell_type": "markdown",
      "metadata": {
        "id": "4KUgCMFaKSSo"
      },
      "source": [
        "# 4. Red Neuronal aplicando Keras y Tensor Flow"
      ]
    },
    {
      "cell_type": "code",
      "execution_count": null,
      "metadata": {
        "id": "wRT4R1iCKSSo"
      },
      "outputs": [],
      "source": []
    },
    {
      "cell_type": "markdown",
      "metadata": {
        "id": "8dpwjSLzKSSo"
      },
      "source": [
        "# 5. Ensamble de 3 modelos (o mas)"
      ]
    },
    {
      "cell_type": "code",
      "execution_count": null,
      "metadata": {
        "id": "zUMwWzcIKSSo"
      },
      "outputs": [],
      "source": []
    }
  ],
  "metadata": {
    "colab": {
      "provenance": []
    },
    "kernelspec": {
      "display_name": "Python 3",
      "language": "python",
      "name": "python3"
    },
    "language_info": {
      "codemirror_mode": {
        "name": "ipython",
        "version": 3
      },
      "file_extension": ".py",
      "mimetype": "text/x-python",
      "name": "python",
      "nbconvert_exporter": "python",
      "pygments_lexer": "ipython3",
      "version": "3.10.4"
    }
  },
  "nbformat": 4,
  "nbformat_minor": 0
}