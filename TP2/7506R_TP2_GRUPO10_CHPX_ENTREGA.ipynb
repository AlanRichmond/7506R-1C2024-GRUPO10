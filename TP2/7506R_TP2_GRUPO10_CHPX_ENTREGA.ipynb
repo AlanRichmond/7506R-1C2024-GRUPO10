{
  "cells": [
    {
      "cell_type": "markdown",
      "metadata": {
        "id": "U78vmVS4KSSj"
      },
      "source": [
        "# <center> Trabajo Practico 2 </center>\n",
        "### <center> Grupo 10 </center>\n",
        "## Integrantes:\n",
        "#### Alan Richmond\n",
        "#### Flavian Ferré\n"
      ]
    },
    {
      "cell_type": "markdown",
      "metadata": {
        "id": "eqfbg4r8KSSk"
      },
      "source": [
        "# Importaciones"
      ]
    },
    {
      "cell_type": "code",
      "execution_count": 3,
      "metadata": {
        "colab": {
          "base_uri": "https://localhost:8080/"
        },
        "id": "g9IqgNJhc6J3",
        "outputId": "3d7017cb-0e06-4e6d-9114-5abddae427a3"
      },
      "outputs": [
        {
          "name": "stdout",
          "output_type": "stream",
          "text": [
            "Requirement already satisfied: stop_words in /usr/local/lib/python3.10/dist-packages (2018.7.23)\n"
          ]
        }
      ],
      "source": [
        "!pip install stop_words"
      ]
    },
    {
      "cell_type": "markdown",
      "metadata": {
        "id": "tnbSDgK_KSSl"
      },
      "source": [
        "## Librerias"
      ]
    },
    {
      "cell_type": "code",
      "execution_count": 36,
      "metadata": {
        "id": "BGWufC9JKSSl"
      },
      "outputs": [],
      "source": [
        "import datetime\n",
        "import joblib\n",
        "import numpy as np\n",
        "import pandas as pd\n",
        "import spacy\n",
        "import stop_words\n",
        "\n",
        "from sklearn.ensemble import RandomForestClassifier\n",
        "from sklearn.feature_extraction.text import CountVectorizer, HashingVectorizer, TfidfVectorizer\n",
        "from sklearn.metrics import f1_score, make_scorer\n",
        "from sklearn.model_selection import cross_val_score, GridSearchCV, RandomizedSearchCV, train_test_split\n",
        "from xgboost import XGBClassifier\n",
        "from sklearn.naive_bayes import MultinomialNB\n",
        "from sklearn.metrics import classification_report"
      ]
    },
    {
      "cell_type": "markdown",
      "metadata": {
        "id": "4x1MsF7hKSSm"
      },
      "source": [
        "## Conjuntos"
      ]
    },
    {
      "cell_type": "code",
      "execution_count": 37,
      "metadata": {
        "id": "MTohTcjkKSSm"
      },
      "outputs": [],
      "source": [
        "conjunto_train = pd.read_csv('Datasets/train.csv')\n",
        "conjunto_test = pd.read_csv('Datasets/test.csv')\n",
        "sample_solution = pd.read_csv('Datasets/sample_solution.csv')\n",
        "\n",
        "stop_words_es = stop_words.get_stop_words('es')"
      ]
    },
    {
      "cell_type": "markdown",
      "metadata": {},
      "source": [
        "## Train_test_split"
      ]
    },
    {
      "cell_type": "code",
      "execution_count": 7,
      "metadata": {},
      "outputs": [],
      "source": [
        "X = conjunto_train['review_es']\n",
        "y = conjunto_train['sentimiento'].map({'positivo': 1, 'negativo': 0})\n",
        "X_train, X_test, y_train, y_test = train_test_split(X, y, test_size=0.2, random_state=42)"
      ]
    },
    {
      "cell_type": "code",
      "execution_count": 3,
      "metadata": {},
      "outputs": [
        {
          "ename": "NameError",
          "evalue": "name 'X_train' is not defined",
          "output_type": "error",
          "traceback": [
            "\u001b[1;31m---------------------------------------------------------------------------\u001b[0m",
            "\u001b[1;31mNameError\u001b[0m                                 Traceback (most recent call last)",
            "Cell \u001b[1;32mIn[3], line 1\u001b[0m\n\u001b[1;32m----> 1\u001b[0m \u001b[43mX_train\u001b[49m\u001b[38;5;241m.\u001b[39mto_csv(\u001b[38;5;124m'\u001b[39m\u001b[38;5;124mDatasets/X_train.csv\u001b[39m\u001b[38;5;124m'\u001b[39m)\n\u001b[0;32m      2\u001b[0m X_test\u001b[38;5;241m.\u001b[39mto_csv(\u001b[38;5;124m'\u001b[39m\u001b[38;5;124mDatasets/X_test.csv\u001b[39m\u001b[38;5;124m'\u001b[39m)\n\u001b[0;32m      3\u001b[0m y_train\u001b[38;5;241m.\u001b[39mto_csv(\u001b[38;5;124m'\u001b[39m\u001b[38;5;124mDatasets/y_train.csv\u001b[39m\u001b[38;5;124m'\u001b[39m)\n",
            "\u001b[1;31mNameError\u001b[0m: name 'X_train' is not defined"
          ]
        }
      ],
      "source": [
        "X_train.to_csv('Datasets/X_train.csv')\n",
        "X_test.to_csv('Datasets/X_test.csv')\n",
        "y_train.to_csv('Datasets/y_train.csv')\n",
        "y_test.to_csv('Datasets/y_test.csv')"
      ]
    },
    {
      "cell_type": "markdown",
      "metadata": {},
      "source": [
        "## Lemmarizacion"
      ]
    },
    {
      "cell_type": "code",
      "execution_count": 8,
      "metadata": {
        "id": "BedCsafoMmVb"
      },
      "outputs": [],
      "source": [
        "nlp = spacy.load('es_core_news_sm')\n",
        "\n",
        "def preprocess_text(text):\n",
        "    doc = nlp(text)\n",
        "    return ' '.join([token.lemma_ for token in doc if token.is_alpha])\n",
        "\n",
        "X_train_processed = X_train.apply(preprocess_text)\n",
        "X_test_processed = X_test.apply(preprocess_text)\n",
        "X_train_processed.to_csv('Datasets/X_train_processed.csv')\n",
        "X_test_processed.to_csv('Datasets/X_test_processed.csv')"
      ]
    },
    {
      "cell_type": "markdown",
      "metadata": {
        "id": "Me4CIP7UKSSm"
      },
      "source": [
        "# 1. Bayes Naïve"
      ]
    },
    {
      "cell_type": "markdown",
      "metadata": {},
      "source": [
        "## Importaciones"
      ]
    },
    {
      "cell_type": "code",
      "execution_count": 3,
      "metadata": {},
      "outputs": [],
      "source": [
        "X_train = pd.read_csv('Datasets/X_train.csv', index_col=0)['review_es']\n",
        "X_test = pd.read_csv('Datasets/X_test.csv', index_col=0)['review_es']\n",
        "y_train = pd.read_csv('Datasets/y_train.csv', index_col=0)['sentimiento']\n",
        "y_test = pd.read_csv('Datasets/y_test.csv', index_col=0)['sentimiento']\n",
        "\n",
        "X_train_processed = pd.read_csv('Datasets/X_train_processed.csv', index_col=0)['review_es']\n",
        "X_test_processed = pd.read_csv('Datasets/X_test_processed.csv', index_col=0)['review_es']"
      ]
    },
    {
      "cell_type": "markdown",
      "metadata": {},
      "source": [
        "## Vectorizacion de las críticas"
      ]
    },
    {
      "cell_type": "markdown",
      "metadata": {},
      "source": [
        "Vamos a hacer diferentes vectorizaciones para elegir la mejor :\n",
        "- Vect_1 : TFIDF Vectorizer sin lemmarizacion y con hiperparametros afinados\n",
        "- Vect_2 : TFIDF Vectorizer con lemmarizacion y con hiperparametros afinados\n",
        "- Vect_3 : Count Vectorizer sin lemmarizacion y con hiperparametros afinados\n",
        "- Vect_4 : Count Vectorizer con lemmarizacion y con hiperparametros afinados"
      ]
    },
    {
      "cell_type": "code",
      "execution_count": 4,
      "metadata": {},
      "outputs": [],
      "source": [
        "best_configs = []\n",
        "\n",
        "configs = [\n",
        "    {'min_df': 1, 'ngram_range': (1, 2)},\n",
        "    {'min_df': 1, 'ngram_range': (1, 3)},\n",
        "    {'min_df': 1, 'ngram_range': (1, 4)},\n",
        "    {'min_df': 2, 'ngram_range': (1, 2)},\n",
        "    {'min_df': 2, 'ngram_range': (1, 3)},\n",
        "    {'min_df': 2, 'ngram_range': (1, 4)},\n",
        "    {'min_df': 3, 'ngram_range': (1, 2)},\n",
        "    {'min_df': 3, 'ngram_range': (1, 3)},\n",
        "    {'min_df': 3, 'ngram_range': (1, 4)},\n",
        "    {'min_df': 4, 'ngram_range': (1, 2)},\n",
        "    {'min_df': 4, 'ngram_range': (1, 3)},\n",
        "    {'min_df': 4, 'ngram_range': (1, 4)},\n",
        "    {'min_df': 5, 'ngram_range': (1, 2)},\n",
        "    {'min_df': 5, 'ngram_range': (1, 3)},\n",
        "    {'min_df': 5, 'ngram_range': (1, 4)},\n",
        "    {'min_df': 8, 'ngram_range': (1, 2)},\n",
        "    {'min_df': 8, 'ngram_range': (1, 3)},\n",
        "    {'min_df': 8, 'ngram_range': (1, 4)},\n",
        "    {'min_df': 10, 'ngram_range': (1, 2)},\n",
        "    {'min_df': 10, 'ngram_range': (1, 3)},\n",
        "    {'min_df': 10, 'ngram_range': (1, 4)},\n",
        "    {'min_df': 15, 'ngram_range': (1, 2)},\n",
        "    {'min_df': 15, 'ngram_range': (1, 3)},\n",
        "    {'min_df': 15, 'ngram_range': (1, 4)},\n",
        "]\n",
        "\n",
        "nb_old_model = joblib.load('Modelos/bn_model_2024-05-31.joblib')\n",
        "\n",
        "def test_config(config, X_train, vectorizer):\n",
        "    vect = vectorizer(stop_words=stop_words_es, **config)\n",
        "    X_train_vect = vect.fit_transform(X_train)\n",
        "    score = cross_val_score(nb_old_model, X_train_vect, y_train, cv=10, scoring='f1_macro')\n",
        "    return round(score.mean(), 6)"
      ]
    },
    {
      "cell_type": "markdown",
      "metadata": {},
      "source": [
        "### Vect_1"
      ]
    },
    {
      "cell_type": "code",
      "execution_count": 5,
      "metadata": {},
      "outputs": [
        {
          "name": "stdout",
          "output_type": "stream",
          "text": [
            "Mejor config Vect_1 : {'min_df': 2, 'ngram_range': (1, 3)}\n",
            "Mejor F1-Score Vect_1 : 0.887126\n"
          ]
        }
      ],
      "source": [
        "best_score_1 = 0\n",
        "best_config_1 = None\n",
        "\n",
        "for config in configs:\n",
        "    score = test_config(config, X_train, TfidfVectorizer)\n",
        "    if score > best_score_1:\n",
        "        best_score_1 = score\n",
        "        best_config_1 = config\n",
        "\n",
        "best_configs.append([best_score_1, best_config_1, False, \"TFIDF\"])\n",
        "\n",
        "print(\"Mejor config Vect_1 :\", best_config_1)\n",
        "print(\"Mejor F1-Score Vect_1 :\", best_score_1)"
      ]
    },
    {
      "cell_type": "markdown",
      "metadata": {},
      "source": [
        "### Vect_2"
      ]
    },
    {
      "cell_type": "code",
      "execution_count": 6,
      "metadata": {},
      "outputs": [
        {
          "name": "stdout",
          "output_type": "stream",
          "text": [
            "Mejor config Vect_2 : {'min_df': 2, 'ngram_range': (1, 4)}\n",
            "Mejor F1-Score Vect_2 : 0.883519\n"
          ]
        }
      ],
      "source": [
        "best_score_2 = 0\n",
        "best_config_2 = None\n",
        "\n",
        "for config in configs:\n",
        "    score = test_config(config, X_train_processed, TfidfVectorizer)\n",
        "    if score > best_score_2:\n",
        "        best_score_2 = score\n",
        "        best_config_2 = config\n",
        "\n",
        "best_configs.append([best_score_2, best_config_2, True, \"TFIDF\"])\n",
        "\n",
        "print(\"Mejor config Vect_2 :\", best_config_2)\n",
        "print(\"Mejor F1-Score Vect_2 :\", best_score_2)"
      ]
    },
    {
      "cell_type": "markdown",
      "metadata": {},
      "source": [
        "### Vect_3"
      ]
    },
    {
      "cell_type": "code",
      "execution_count": 7,
      "metadata": {},
      "outputs": [
        {
          "name": "stdout",
          "output_type": "stream",
          "text": [
            "Mejor config Vect_3 : {'min_df': 2, 'ngram_range': (1, 4)}\n",
            "Mejor F1-Score Vect_3 : 0.877547\n"
          ]
        }
      ],
      "source": [
        "best_score_3 = 0\n",
        "best_config_3 = None\n",
        "\n",
        "for config in configs:\n",
        "    score = test_config(config, X_train, CountVectorizer)\n",
        "    if score > best_score_3:\n",
        "        best_score_3 = score\n",
        "        best_config_3 = config\n",
        "\n",
        "best_configs.append([best_score_3, best_config_3, False, \"Count\"])\n",
        "\n",
        "print(\"Mejor config Vect_3 :\", best_config_3)\n",
        "print(\"Mejor F1-Score Vect_3 :\", best_score_3)"
      ]
    },
    {
      "cell_type": "markdown",
      "metadata": {},
      "source": [
        "### Vect_4"
      ]
    },
    {
      "cell_type": "code",
      "execution_count": 8,
      "metadata": {},
      "outputs": [
        {
          "name": "stdout",
          "output_type": "stream",
          "text": [
            "Mejor config Vect_4 : {'min_df': 2, 'ngram_range': (1, 4)}\n",
            "Mejor F1-Score Vect_4 : 0.874018\n"
          ]
        }
      ],
      "source": [
        "best_score_4 = 0\n",
        "best_config_4 = None\n",
        "\n",
        "for config in configs:\n",
        "    score = test_config(config, X_train_processed, CountVectorizer)\n",
        "    if score > best_score_4:\n",
        "        best_score_4 = score\n",
        "        best_config_4 = config\n",
        "\n",
        "best_configs.append([best_score_4, best_config_4, True, \"Count\"])\n",
        "\n",
        "print(\"Mejor config Vect_4 :\", best_config_4)\n",
        "print(\"Mejor F1-Score Vect_4 :\", best_score_4)"
      ]
    },
    {
      "cell_type": "markdown",
      "metadata": {},
      "source": [
        "### Mejor Vect"
      ]
    },
    {
      "cell_type": "code",
      "execution_count": 9,
      "metadata": {},
      "outputs": [
        {
          "data": {
            "text/html": [
              "<div>\n",
              "<style scoped>\n",
              "    .dataframe tbody tr th:only-of-type {\n",
              "        vertical-align: middle;\n",
              "    }\n",
              "\n",
              "    .dataframe tbody tr th {\n",
              "        vertical-align: top;\n",
              "    }\n",
              "\n",
              "    .dataframe thead th {\n",
              "        text-align: right;\n",
              "    }\n",
              "</style>\n",
              "<table border=\"1\" class=\"dataframe\">\n",
              "  <thead>\n",
              "    <tr style=\"text-align: right;\">\n",
              "      <th></th>\n",
              "      <th>Score</th>\n",
              "      <th>Config</th>\n",
              "      <th>Lemmatization</th>\n",
              "      <th>Type of vectorization</th>\n",
              "    </tr>\n",
              "  </thead>\n",
              "  <tbody>\n",
              "    <tr>\n",
              "      <th>0</th>\n",
              "      <td>0.887126</td>\n",
              "      <td>{'min_df': 2, 'ngram_range': (1, 3)}</td>\n",
              "      <td>False</td>\n",
              "      <td>TFIDF</td>\n",
              "    </tr>\n",
              "    <tr>\n",
              "      <th>1</th>\n",
              "      <td>0.883519</td>\n",
              "      <td>{'min_df': 2, 'ngram_range': (1, 4)}</td>\n",
              "      <td>True</td>\n",
              "      <td>TFIDF</td>\n",
              "    </tr>\n",
              "    <tr>\n",
              "      <th>2</th>\n",
              "      <td>0.877547</td>\n",
              "      <td>{'min_df': 2, 'ngram_range': (1, 4)}</td>\n",
              "      <td>False</td>\n",
              "      <td>Count</td>\n",
              "    </tr>\n",
              "    <tr>\n",
              "      <th>3</th>\n",
              "      <td>0.874018</td>\n",
              "      <td>{'min_df': 2, 'ngram_range': (1, 4)}</td>\n",
              "      <td>True</td>\n",
              "      <td>Count</td>\n",
              "    </tr>\n",
              "  </tbody>\n",
              "</table>\n",
              "</div>"
            ],
            "text/plain": [
              "      Score                                Config  Lemmatization  \\\n",
              "0  0.887126  {'min_df': 2, 'ngram_range': (1, 3)}          False   \n",
              "1  0.883519  {'min_df': 2, 'ngram_range': (1, 4)}           True   \n",
              "2  0.877547  {'min_df': 2, 'ngram_range': (1, 4)}          False   \n",
              "3  0.874018  {'min_df': 2, 'ngram_range': (1, 4)}           True   \n",
              "\n",
              "  Type of vectorization  \n",
              "0                 TFIDF  \n",
              "1                 TFIDF  \n",
              "2                 Count  \n",
              "3                 Count  "
            ]
          },
          "execution_count": 9,
          "metadata": {},
          "output_type": "execute_result"
        }
      ],
      "source": [
        "best_configs_df = pd.DataFrame(data=best_configs, columns=[\"Score\", \"Config\", \"Lemmatization\", \"Type of vectorization\"])\n",
        "best_configs_df"
      ]
    },
    {
      "cell_type": "code",
      "execution_count": 10,
      "metadata": {},
      "outputs": [
        {
          "name": "stdout",
          "output_type": "stream",
          "text": [
            "0.887126 {'min_df': 2, 'ngram_range': (1, 3)} False TFIDF\n"
          ]
        }
      ],
      "source": [
        "best_index = best_configs_df['Score'].idxmax()\n",
        "\n",
        "best_score = best_configs_df.loc[best_index, 'Score']\n",
        "best_config = best_configs_df.loc[best_index, 'Config']\n",
        "bool_lemma = best_configs_df.loc[best_index, 'Lemmatization']\n",
        "type_vect = best_configs_df.loc[best_index, 'Type of vectorization']\n",
        "print(best_score, best_config, bool_lemma, type_vect)"
      ]
    },
    {
      "cell_type": "code",
      "execution_count": 11,
      "metadata": {},
      "outputs": [],
      "source": [
        "if bool_lemma :\n",
        "    X_train = X_train_processed\n",
        "    X_test = X_test_processed\n",
        "if type_vect == \"TFIDF\":\n",
        "    vect = TfidfVectorizer(stop_words=stop_words_es, **best_config)\n",
        "elif type_vect == \"Count\":\n",
        "    vect = CountVectorizer(stop_words=stop_words_es, **best_config)\n",
        "elif type_vect == \"Hashing\":\n",
        "    vect = HashingVectorizer(stop_words=stop_words_es, **best_config)\n",
        "\n",
        "X_train_vect = vect.fit_transform(X_train)\n",
        "X_test_vect = vect.transform(X_test)"
      ]
    },
    {
      "cell_type": "markdown",
      "metadata": {
        "id": "MFzQhgT7dK98"
      },
      "source": [
        "## Busqueda de los hiperparametros"
      ]
    },
    {
      "cell_type": "code",
      "execution_count": 12,
      "metadata": {},
      "outputs": [
        {
          "name": "stderr",
          "output_type": "stream",
          "text": [
            "c:\\Users\\flaph\\AppData\\Local\\Programs\\Python\\Python310\\lib\\site-packages\\sklearn\\model_selection\\_search.py:305: UserWarning: The total space of parameters 14 is smaller than n_iter=30. Running 14 iterations. For exhaustive searches, use GridSearchCV.\n",
            "  warnings.warn(\n"
          ]
        },
        {
          "name": "stdout",
          "output_type": "stream",
          "text": [
            "Mejores parametros: {'alpha': 0.2}\n",
            "Mejor F1 Score: 0.886841592387636\n",
            "Mejores parametros (afinados): {'alpha': 0.25}\n",
            "Mejor F1 Score (afinados): 0.8869158442969984\n"
          ]
        }
      ],
      "source": [
        "param_distributions = {\n",
        "    'alpha': [0.1, 0.2, 0.3, 0.4, 0.5, 0.6, 0.7, 0.8, 0.9, 1.0, 1.5, 2.0, 3.0, 5.0]\n",
        "}\n",
        "\n",
        "nb_model = MultinomialNB()\n",
        "f1_scorer = make_scorer(f1_score)\n",
        "\n",
        "random_search = RandomizedSearchCV(estimator=nb_model, param_distributions=param_distributions, cv=5, n_iter=30, scoring=f1_scorer)\n",
        "\n",
        "random_search.fit(X_train_vect, y_train)\n",
        "\n",
        "best_params = random_search.best_params_\n",
        "best_score = random_search.best_score_\n",
        "\n",
        "print(f'Mejores parametros: {best_params}')\n",
        "print(f'Mejor F1 Score: {best_score}')\n",
        "\n",
        "best_params = random_search.best_params_\n",
        "param_grid = {\n",
        "    'alpha': [best_params['alpha'] - 0.05, best_params['alpha'], best_params['alpha'] + 0.05]\n",
        "}\n",
        "\n",
        "grid_search = GridSearchCV(estimator=nb_model, param_grid=param_grid, cv=5, scoring=f1_scorer)\n",
        "grid_search.fit(X_train_vect, y_train)\n",
        "\n",
        "best_params = grid_search.best_params_\n",
        "best_score = grid_search.best_score_\n",
        "\n",
        "print(f'Mejores parametros (afinados): {best_params}')\n",
        "print(f'Mejor F1 Score (afinados): {best_score}')"
      ]
    },
    {
      "cell_type": "code",
      "execution_count": 13,
      "metadata": {
        "colab": {
          "base_uri": "https://localhost:8080/"
        },
        "id": "1rDomjk1dNVG",
        "outputId": "41a0d7bf-e316-44af-8463-75f80f99d945"
      },
      "outputs": [
        {
          "name": "stdout",
          "output_type": "stream",
          "text": [
            "F1 Score: 0.8882572044697118\n"
          ]
        }
      ],
      "source": [
        "best_nb_model = grid_search.best_estimator_\n",
        "best_nb_model.fit(X_train_vect, y_train)\n",
        "y_pred = best_nb_model.predict(X_test_vect)\n",
        "\n",
        "f1 = f1_score(y_test, y_pred)\n",
        "print(f'F1 Score: {f1}')"
      ]
    },
    {
      "cell_type": "markdown",
      "metadata": {
        "id": "72GV_j_YdOeF"
      },
      "source": [
        "## Conjunto test"
      ]
    },
    {
      "cell_type": "code",
      "execution_count": 14,
      "metadata": {
        "colab": {
          "base_uri": "https://localhost:8080/",
          "height": 424
        },
        "id": "0P-gYduKdT_g",
        "outputId": "b8357658-8d66-4e05-f525-65d9e768e50e"
      },
      "outputs": [
        {
          "data": {
            "text/html": [
              "<div>\n",
              "<style scoped>\n",
              "    .dataframe tbody tr th:only-of-type {\n",
              "        vertical-align: middle;\n",
              "    }\n",
              "\n",
              "    .dataframe tbody tr th {\n",
              "        vertical-align: top;\n",
              "    }\n",
              "\n",
              "    .dataframe thead th {\n",
              "        text-align: right;\n",
              "    }\n",
              "</style>\n",
              "<table border=\"1\" class=\"dataframe\">\n",
              "  <thead>\n",
              "    <tr style=\"text-align: right;\">\n",
              "      <th></th>\n",
              "      <th>ID</th>\n",
              "      <th>sentimiento</th>\n",
              "    </tr>\n",
              "  </thead>\n",
              "  <tbody>\n",
              "    <tr>\n",
              "      <th>0</th>\n",
              "      <td>60000</td>\n",
              "      <td>negativo</td>\n",
              "    </tr>\n",
              "    <tr>\n",
              "      <th>1</th>\n",
              "      <td>60001</td>\n",
              "      <td>negativo</td>\n",
              "    </tr>\n",
              "    <tr>\n",
              "      <th>2</th>\n",
              "      <td>60002</td>\n",
              "      <td>negativo</td>\n",
              "    </tr>\n",
              "    <tr>\n",
              "      <th>3</th>\n",
              "      <td>60003</td>\n",
              "      <td>positivo</td>\n",
              "    </tr>\n",
              "    <tr>\n",
              "      <th>4</th>\n",
              "      <td>60004</td>\n",
              "      <td>negativo</td>\n",
              "    </tr>\n",
              "    <tr>\n",
              "      <th>...</th>\n",
              "      <td>...</td>\n",
              "      <td>...</td>\n",
              "    </tr>\n",
              "    <tr>\n",
              "      <th>8594</th>\n",
              "      <td>68594</td>\n",
              "      <td>positivo</td>\n",
              "    </tr>\n",
              "    <tr>\n",
              "      <th>8595</th>\n",
              "      <td>68595</td>\n",
              "      <td>negativo</td>\n",
              "    </tr>\n",
              "    <tr>\n",
              "      <th>8596</th>\n",
              "      <td>68596</td>\n",
              "      <td>negativo</td>\n",
              "    </tr>\n",
              "    <tr>\n",
              "      <th>8597</th>\n",
              "      <td>68597</td>\n",
              "      <td>negativo</td>\n",
              "    </tr>\n",
              "    <tr>\n",
              "      <th>8598</th>\n",
              "      <td>68598</td>\n",
              "      <td>negativo</td>\n",
              "    </tr>\n",
              "  </tbody>\n",
              "</table>\n",
              "<p>8599 rows × 2 columns</p>\n",
              "</div>"
            ],
            "text/plain": [
              "         ID sentimiento\n",
              "0     60000    negativo\n",
              "1     60001    negativo\n",
              "2     60002    negativo\n",
              "3     60003    positivo\n",
              "4     60004    negativo\n",
              "...     ...         ...\n",
              "8594  68594    positivo\n",
              "8595  68595    negativo\n",
              "8596  68596    negativo\n",
              "8597  68597    negativo\n",
              "8598  68598    negativo\n",
              "\n",
              "[8599 rows x 2 columns]"
            ]
          },
          "execution_count": 14,
          "metadata": {},
          "output_type": "execute_result"
        }
      ],
      "source": [
        "conjunto_test = conjunto_test.set_index(conjunto_test['ID'])\n",
        "X_conjunto_test = vect.transform(conjunto_test['review_es'])\n",
        "\n",
        "pred_test = best_nb_model.predict(X_conjunto_test)\n",
        "pred_test_labels = ['positivo' if pred == 1 else 'negativo' for pred in pred_test]\n",
        "\n",
        "final_pred_df = pd.DataFrame({\n",
        "    'ID': conjunto_test.index,\n",
        "    'sentimiento': pred_test_labels\n",
        "})\n",
        "final_pred_df"
      ]
    },
    {
      "cell_type": "markdown",
      "metadata": {
        "id": "Zyx0QpVUdWW-"
      },
      "source": [
        "## Exportaciones"
      ]
    },
    {
      "cell_type": "code",
      "execution_count": 53,
      "metadata": {
        "id": "tCc4nGH0dYx7"
      },
      "outputs": [],
      "source": [
        "current_date = datetime.datetime.now().strftime('%Y-%m-%d')\n",
        "\n",
        "final_pred_df.to_csv(f\"Predicciones/Bayes_Naïve{current_date}.csv\", index=False)"
      ]
    },
    {
      "cell_type": "code",
      "execution_count": 54,
      "metadata": {
        "colab": {
          "base_uri": "https://localhost:8080/"
        },
        "id": "Jfc9qVtOdZML",
        "outputId": "3f05f5dd-c3f7-4d33-fb36-f17e4e710a1b"
      },
      "outputs": [
        {
          "data": {
            "text/plain": [
              "['Modelos/bn_model_2024-05-31.joblib']"
            ]
          },
          "execution_count": 54,
          "metadata": {},
          "output_type": "execute_result"
        }
      ],
      "source": [
        "joblib.dump(best_nb_model, f'Modelos/bn_model_{current_date}.joblib')"
      ]
    },
    {
      "cell_type": "markdown",
      "metadata": {
        "id": "GWBhPxVRKSSm"
      },
      "source": [
        "# 2. Random Forest"
      ]
    },
    {
      "cell_type": "markdown",
      "metadata": {},
      "source": [
        "## Importaciones"
      ]
    },
    {
      "cell_type": "code",
      "execution_count": 25,
      "metadata": {},
      "outputs": [],
      "source": [
        "X_train = pd.read_csv('Datasets/X_train.csv', index_col=0)['review_es']\n",
        "X_test = pd.read_csv('Datasets/X_test.csv', index_col=0)['review_es']\n",
        "y_train = pd.read_csv('Datasets/y_train.csv', index_col=0)['sentimiento']\n",
        "y_test = pd.read_csv('Datasets/y_test.csv', index_col=0)['sentimiento']\n",
        "\n",
        "X_train_processed = pd.read_csv('Datasets/X_train_processed.csv', index_col=0)['review_es']\n",
        "X_test_processed = pd.read_csv('Datasets/X_test_processed.csv', index_col=0)['review_es']"
      ]
    },
    {
      "cell_type": "markdown",
      "metadata": {
        "id": "5RvVJtt0cnFs"
      },
      "source": [
        "## Vectorizacion de las críticas"
      ]
    },
    {
      "cell_type": "markdown",
      "metadata": {},
      "source": [
        "Vamos a hacer diferentes vectorizaciones para elegir la mejor :\n",
        "- Vect_1 : TFIDF Vectorizer sin lemmarizacion y con hiperparametros afinados\n",
        "- Vect_2 : TFIDF Vectorizer con lemmarizacion y con hiperparametros afinados\n",
        "- Vect_3 : Count Vectorizer sin lemmarizacion y con hiperparametros afinados\n",
        "- Vect_4 : Count Vectorizer con lemmarizacion y con hiperparametros afinados"
      ]
    },
    {
      "cell_type": "code",
      "execution_count": 43,
      "metadata": {},
      "outputs": [],
      "source": [
        "best_configs = []\n",
        "\n",
        "configs = [\n",
        "    {'min_df': 1, 'ngram_range': (1, 2)},\n",
        "    {'min_df': 1, 'ngram_range': (1, 3)},\n",
        "    {'min_df': 1, 'ngram_range': (1, 4)},\n",
        "    {'min_df': 2, 'ngram_range': (1, 2)},\n",
        "    {'min_df': 2, 'ngram_range': (1, 3)},\n",
        "    {'min_df': 2, 'ngram_range': (1, 4)},\n",
        "    {'min_df': 3, 'ngram_range': (1, 2)},\n",
        "    {'min_df': 3, 'ngram_range': (1, 3)},\n",
        "    {'min_df': 3, 'ngram_range': (1, 4)},\n",
        "    {'min_df': 4, 'ngram_range': (1, 2)},\n",
        "    {'min_df': 4, 'ngram_range': (1, 3)},\n",
        "    {'min_df': 4, 'ngram_range': (1, 4)},\n",
        "    {'min_df': 5, 'ngram_range': (1, 2)},\n",
        "    {'min_df': 5, 'ngram_range': (1, 3)},\n",
        "    {'min_df': 5, 'ngram_range': (1, 4)},\n",
        "    {'min_df': 8, 'ngram_range': (1, 2)},\n",
        "    {'min_df': 8, 'ngram_range': (1, 3)},\n",
        "    {'min_df': 8, 'ngram_range': (1, 4)},\n",
        "    {'min_df': 10, 'ngram_range': (1, 2)},\n",
        "    {'min_df': 10, 'ngram_range': (1, 3)},\n",
        "    {'min_df': 10, 'ngram_range': (1, 4)},\n",
        "    {'min_df': 15, 'ngram_range': (1, 2)},\n",
        "    {'min_df': 15, 'ngram_range': (1, 3)},\n",
        "    {'min_df': 15, 'ngram_range': (1, 4)},\n",
        "]\n",
        "\n",
        "rf_old_model = joblib.load('Modelos/rf_model_2024-05-28.joblib')\n",
        "\n",
        "def test_config(config, X_train, y_train, vectorizer):\n",
        "    vect = vectorizer(stop_words=stop_words_es, **config)\n",
        "    X_train_vect = vect.fit_transform(X_train)\n",
        "    score = cross_val_score(rf_old_model, X_train_vect, y_train, cv=10, scoring='f1_macro')\n",
        "    return round(score.mean(), 6)\n",
        "\n",
        "def sample_df(X, y):\n",
        "    sample_size = int(0.1 * X.shape[0])\n",
        "    sample_indices = np.random.choice(X.shape[0], size=sample_size, replace=False)\n",
        "    X_sampled = X.iloc[sample_indices]\n",
        "    y_sampled = y.iloc[sample_indices]\n",
        "    return X_sampled, y_sampled"
      ]
    },
    {
      "cell_type": "markdown",
      "metadata": {},
      "source": [
        "### Vect_1"
      ]
    },
    {
      "cell_type": "code",
      "execution_count": 44,
      "metadata": {},
      "outputs": [
        {
          "name": "stdout",
          "output_type": "stream",
          "text": [
            "{'min_df': 1, 'ngram_range': (1, 2)}\n",
            "{'min_df': 1, 'ngram_range': (1, 3)}\n",
            "{'min_df': 1, 'ngram_range': (1, 4)}\n",
            "{'min_df': 2, 'ngram_range': (1, 2)}\n",
            "{'min_df': 2, 'ngram_range': (1, 3)}\n",
            "{'min_df': 2, 'ngram_range': (1, 4)}\n",
            "{'min_df': 3, 'ngram_range': (1, 2)}\n",
            "{'min_df': 3, 'ngram_range': (1, 3)}\n",
            "{'min_df': 3, 'ngram_range': (1, 4)}\n",
            "{'min_df': 4, 'ngram_range': (1, 2)}\n",
            "{'min_df': 4, 'ngram_range': (1, 3)}\n",
            "{'min_df': 4, 'ngram_range': (1, 4)}\n",
            "{'min_df': 5, 'ngram_range': (1, 2)}\n",
            "{'min_df': 5, 'ngram_range': (1, 3)}\n",
            "{'min_df': 5, 'ngram_range': (1, 4)}\n",
            "{'min_df': 8, 'ngram_range': (1, 2)}\n",
            "{'min_df': 8, 'ngram_range': (1, 3)}\n",
            "{'min_df': 8, 'ngram_range': (1, 4)}\n",
            "{'min_df': 10, 'ngram_range': (1, 2)}\n",
            "{'min_df': 10, 'ngram_range': (1, 3)}\n",
            "{'min_df': 10, 'ngram_range': (1, 4)}\n",
            "{'min_df': 15, 'ngram_range': (1, 2)}\n",
            "{'min_df': 15, 'ngram_range': (1, 3)}\n",
            "{'min_df': 15, 'ngram_range': (1, 4)}\n",
            "Mejor config Vect_1 : {'min_df': 8, 'ngram_range': (1, 4)}\n",
            "Mejor F1-Score Vect_1 : 0.800898\n"
          ]
        }
      ],
      "source": [
        "best_score_1 = 0\n",
        "best_config_1 = None\n",
        "\n",
        "X_train_sampled, y_train_sampled = sample_df(X_train, y_train)\n",
        "\n",
        "for config in configs:\n",
        "    score = test_config(config, X_train_sampled, y_train_sampled, TfidfVectorizer)\n",
        "    if score > best_score_1:\n",
        "        best_score_1 = score\n",
        "        best_config_1 = config\n",
        "\n",
        "best_configs.append([best_score_1, best_config_1, False, \"TFIDF\"])\n",
        "\n",
        "print(\"Mejor config Vect_1 :\", best_config_1)\n",
        "print(\"Mejor F1-Score Vect_1 :\", best_score_1)"
      ]
    },
    {
      "cell_type": "markdown",
      "metadata": {},
      "source": [
        "### Vect_2"
      ]
    },
    {
      "cell_type": "code",
      "execution_count": 45,
      "metadata": {},
      "outputs": [
        {
          "name": "stdout",
          "output_type": "stream",
          "text": [
            "Mejor config Vect_2 : {'min_df': 4, 'ngram_range': (1, 2)}\n",
            "Mejor F1-Score Vect_2 : 0.802835\n"
          ]
        }
      ],
      "source": [
        "best_score_2 = 0\n",
        "best_config_2 = None\n",
        "\n",
        "X_train_sampled, y_train_sampled = sample_df(X_train_processed, y_train)\n",
        "\n",
        "for config in configs:\n",
        "    score = test_config(config, X_train_sampled, y_train_sampled, TfidfVectorizer)\n",
        "    if score > best_score_2:\n",
        "        best_score_2 = score\n",
        "        best_config_2 = config\n",
        "\n",
        "best_configs.append([best_score_2, best_config_2, True, \"TFIDF\"])\n",
        "\n",
        "print(\"Mejor config Vect_2 :\", best_config_2)\n",
        "print(\"Mejor F1-Score Vect_2 :\", best_score_2)"
      ]
    },
    {
      "cell_type": "markdown",
      "metadata": {},
      "source": [
        "### Vect_3"
      ]
    },
    {
      "cell_type": "code",
      "execution_count": 46,
      "metadata": {},
      "outputs": [
        {
          "name": "stdout",
          "output_type": "stream",
          "text": [
            "Mejor config Vect_3 : {'min_df': 8, 'ngram_range': (1, 2)}\n",
            "Mejor F1-Score Vect_3 : 0.803253\n"
          ]
        }
      ],
      "source": [
        "best_score_3 = 0\n",
        "best_config_3 = None\n",
        "\n",
        "X_train_sampled, y_train_sampled = sample_df(X_train, y_train)\n",
        "\n",
        "for config in configs:\n",
        "    score = test_config(config, X_train_sampled, y_train_sampled, CountVectorizer)\n",
        "    if score > best_score_3:\n",
        "        best_score_3 = score\n",
        "        best_config_3 = config\n",
        "\n",
        "best_configs.append([best_score_3, best_config_3, False, \"Count\"])\n",
        "\n",
        "print(\"Mejor config Vect_3 :\", best_config_3)\n",
        "print(\"Mejor F1-Score Vect_3 :\", best_score_3)"
      ]
    },
    {
      "cell_type": "markdown",
      "metadata": {},
      "source": [
        "### Vect_4"
      ]
    },
    {
      "cell_type": "code",
      "execution_count": 47,
      "metadata": {},
      "outputs": [
        {
          "name": "stdout",
          "output_type": "stream",
          "text": [
            "Mejor config Vect_4 : {'min_df': 8, 'ngram_range': (1, 4)}\n",
            "Mejor F1-Score Vect_4 : 0.798421\n"
          ]
        }
      ],
      "source": [
        "best_score_4 = 0\n",
        "best_config_4 = None\n",
        "\n",
        "X_train_sampled, y_train_sampled = sample_df(X_train_processed, y_train)\n",
        "\n",
        "for config in configs:\n",
        "    score = test_config(config, X_train_sampled, y_train_sampled, CountVectorizer)\n",
        "    if score > best_score_4:\n",
        "        best_score_4 = score\n",
        "        best_config_4 = config\n",
        "\n",
        "best_configs.append([best_score_4, best_config_4, True, \"Count\"])\n",
        "\n",
        "print(\"Mejor config Vect_4 :\", best_config_4)\n",
        "print(\"Mejor F1-Score Vect_4 :\", best_score_4)"
      ]
    },
    {
      "cell_type": "markdown",
      "metadata": {},
      "source": [
        "### Mejor Vect"
      ]
    },
    {
      "cell_type": "code",
      "execution_count": 48,
      "metadata": {},
      "outputs": [
        {
          "data": {
            "text/html": [
              "<div>\n",
              "<style scoped>\n",
              "    .dataframe tbody tr th:only-of-type {\n",
              "        vertical-align: middle;\n",
              "    }\n",
              "\n",
              "    .dataframe tbody tr th {\n",
              "        vertical-align: top;\n",
              "    }\n",
              "\n",
              "    .dataframe thead th {\n",
              "        text-align: right;\n",
              "    }\n",
              "</style>\n",
              "<table border=\"1\" class=\"dataframe\">\n",
              "  <thead>\n",
              "    <tr style=\"text-align: right;\">\n",
              "      <th></th>\n",
              "      <th>Score</th>\n",
              "      <th>Config</th>\n",
              "      <th>Lemmatization</th>\n",
              "      <th>Type of vectorization</th>\n",
              "    </tr>\n",
              "  </thead>\n",
              "  <tbody>\n",
              "    <tr>\n",
              "      <th>0</th>\n",
              "      <td>0.800898</td>\n",
              "      <td>{'min_df': 8, 'ngram_range': (1, 4)}</td>\n",
              "      <td>False</td>\n",
              "      <td>TFIDF</td>\n",
              "    </tr>\n",
              "    <tr>\n",
              "      <th>1</th>\n",
              "      <td>0.802835</td>\n",
              "      <td>{'min_df': 4, 'ngram_range': (1, 2)}</td>\n",
              "      <td>True</td>\n",
              "      <td>TFIDF</td>\n",
              "    </tr>\n",
              "    <tr>\n",
              "      <th>2</th>\n",
              "      <td>0.803253</td>\n",
              "      <td>{'min_df': 8, 'ngram_range': (1, 2)}</td>\n",
              "      <td>False</td>\n",
              "      <td>Count</td>\n",
              "    </tr>\n",
              "    <tr>\n",
              "      <th>3</th>\n",
              "      <td>0.798421</td>\n",
              "      <td>{'min_df': 8, 'ngram_range': (1, 4)}</td>\n",
              "      <td>True</td>\n",
              "      <td>Count</td>\n",
              "    </tr>\n",
              "  </tbody>\n",
              "</table>\n",
              "</div>"
            ],
            "text/plain": [
              "      Score                                Config  Lemmatization  \\\n",
              "0  0.800898  {'min_df': 8, 'ngram_range': (1, 4)}          False   \n",
              "1  0.802835  {'min_df': 4, 'ngram_range': (1, 2)}           True   \n",
              "2  0.803253  {'min_df': 8, 'ngram_range': (1, 2)}          False   \n",
              "3  0.798421  {'min_df': 8, 'ngram_range': (1, 4)}           True   \n",
              "\n",
              "  Type of vectorization  \n",
              "0                 TFIDF  \n",
              "1                 TFIDF  \n",
              "2                 Count  \n",
              "3                 Count  "
            ]
          },
          "execution_count": 48,
          "metadata": {},
          "output_type": "execute_result"
        }
      ],
      "source": [
        "best_configs_df = pd.DataFrame(data=best_configs, columns=[\"Score\", \"Config\", \"Lemmatization\", \"Type of vectorization\"])\n",
        "best_configs_df"
      ]
    },
    {
      "cell_type": "code",
      "execution_count": 49,
      "metadata": {},
      "outputs": [
        {
          "name": "stdout",
          "output_type": "stream",
          "text": [
            "0.803253 {'min_df': 8, 'ngram_range': (1, 2)} False Count\n"
          ]
        }
      ],
      "source": [
        "best_index = best_configs_df['Score'].idxmax()\n",
        "\n",
        "best_score = best_configs_df.loc[best_index, 'Score']\n",
        "best_config = best_configs_df.loc[best_index, 'Config']\n",
        "bool_lemma = best_configs_df.loc[best_index, 'Lemmatization']\n",
        "type_vect = best_configs_df.loc[best_index, 'Type of vectorization']\n",
        "print(best_score, best_config, bool_lemma, type_vect)"
      ]
    },
    {
      "cell_type": "code",
      "execution_count": 50,
      "metadata": {},
      "outputs": [],
      "source": [
        "if bool_lemma :\n",
        "    X_train = X_train_processed\n",
        "    X_test = X_test_processed\n",
        "if type_vect == \"TFIDF\":\n",
        "    vect = TfidfVectorizer(stop_words=stop_words_es, **best_config)\n",
        "elif type_vect == \"Count\":\n",
        "    vect = CountVectorizer(stop_words=stop_words_es, **best_config)\n",
        "elif type_vect == \"Hashing\":\n",
        "    vect = HashingVectorizer(stop_words=stop_words_es, **best_config)\n",
        "\n",
        "X_train_vect = vect.fit_transform(X_train)\n",
        "X_test_vect = vect.transform(X_test)"
      ]
    },
    {
      "cell_type": "markdown",
      "metadata": {
        "id": "Jys03R8ScnFs"
      },
      "source": [
        "## Busqueda de los hiperparametros"
      ]
    },
    {
      "cell_type": "code",
      "execution_count": 60,
      "metadata": {},
      "outputs": [
        {
          "name": "stderr",
          "output_type": "stream",
          "text": [
            "c:\\Users\\flaph\\AppData\\Local\\Programs\\Python\\Python310\\lib\\site-packages\\sklearn\\model_selection\\_validation.py:378: FitFailedWarning: \n",
            "10 fits failed out of a total of 150.\n",
            "The score on these train-test partitions for these parameters will be set to nan.\n",
            "If these failures are not expected, you can try to debug them by setting error_score='raise'.\n",
            "\n",
            "Below are more details about the failures:\n",
            "--------------------------------------------------------------------------------\n",
            "10 fits failed with the following error:\n",
            "Traceback (most recent call last):\n",
            "  File \"c:\\Users\\flaph\\AppData\\Local\\Programs\\Python\\Python310\\lib\\site-packages\\sklearn\\model_selection\\_validation.py\", line 686, in _fit_and_score\n",
            "    estimator.fit(X_train, y_train, **fit_params)\n",
            "  File \"c:\\Users\\flaph\\AppData\\Local\\Programs\\Python\\Python310\\lib\\site-packages\\sklearn\\ensemble\\_forest.py\", line 340, in fit\n",
            "    self._validate_params()\n",
            "  File \"c:\\Users\\flaph\\AppData\\Local\\Programs\\Python\\Python310\\lib\\site-packages\\sklearn\\base.py\", line 600, in _validate_params\n",
            "    validate_parameter_constraints(\n",
            "  File \"c:\\Users\\flaph\\AppData\\Local\\Programs\\Python\\Python310\\lib\\site-packages\\sklearn\\utils\\_param_validation.py\", line 97, in validate_parameter_constraints\n",
            "    raise InvalidParameterError(\n",
            "sklearn.utils._param_validation.InvalidParameterError: The 'min_samples_split' parameter of RandomForestClassifier must be an int in the range [2, inf) or a float in the range (0.0, 1.0]. Got 1 instead.\n",
            "\n",
            "  warnings.warn(some_fits_failed_message, FitFailedWarning)\n",
            "c:\\Users\\flaph\\AppData\\Local\\Programs\\Python\\Python310\\lib\\site-packages\\sklearn\\model_selection\\_search.py:952: UserWarning: One or more of the test scores are non-finite: [0.82537157 0.8250239         nan 0.82474675 0.82545782        nan\n",
            " 0.82462768 0.80635345 0.80214812 0.82194169 0.81860504 0.80412859\n",
            " 0.81716876 0.82284394 0.8252551  0.81281067 0.80200615 0.82419232\n",
            " 0.79434866 0.82472055 0.81681139 0.81726214 0.81556606 0.82483796\n",
            " 0.79659282 0.7926632  0.81849979 0.80687987 0.81218513 0.80976012]\n",
            "  warnings.warn(\n"
          ]
        },
        {
          "name": "stdout",
          "output_type": "stream",
          "text": [
            "Mejores parametros: {'n_estimators': 500, 'min_samples_split': 5, 'min_samples_leaf': 4, 'max_depth': 6, 'criterion': 'gini'}\n",
            "Mejor F1 Score: 0.8254578248430569\n"
          ]
        }
      ],
      "source": [
        "param_distributions = {\n",
        "    'n_estimators': [100, 200, 300, 400, 500],\n",
        "    'max_depth': [2, 3, 4, 5, 6],\n",
        "    'criterion': [\"gini\", \"entropy\", \"log_loss\"],\n",
        "    'min_samples_split': [1, 2, 3, 4, 5, 7, 10, 15],\n",
        "    'min_samples_leaf': [1, 2, 3, 4, 5, 7, 10, 15],\n",
        "}\n",
        "\n",
        "rf = RandomForestClassifier()\n",
        "f1_scorer = make_scorer(f1_score)\n",
        "\n",
        "random_search = RandomizedSearchCV(estimator=rf, param_distributions=param_distributions, cv=5, n_iter=30, scoring=f1_scorer)\n",
        "\n",
        "random_search.fit(X_train_vect, y_train)\n",
        "\n",
        "best_params = random_search.best_params_\n",
        "best_score = random_search.best_score_\n",
        "\n",
        "print(f'Mejores parametros: {best_params}')\n",
        "print(f'Mejor F1 Score: {best_score}')"
      ]
    },
    {
      "cell_type": "code",
      "execution_count": 61,
      "metadata": {},
      "outputs": [
        {
          "name": "stdout",
          "output_type": "stream",
          "text": [
            "F1 Score: 0.8327905461989392\n"
          ]
        }
      ],
      "source": [
        "best_rf_model = random_search.best_estimator_\n",
        "best_rf_model.fit(X_train_vect, y_train)\n",
        "y_pred = best_rf_model.predict(X_test_vect)\n",
        "\n",
        "f1 = f1_score(y_test, y_pred)\n",
        "print(f'F1 Score: {f1}')"
      ]
    },
    {
      "cell_type": "code",
      "execution_count": 62,
      "metadata": {},
      "outputs": [
        {
          "data": {
            "text/plain": [
              "['Modelos/rf_model_2024-06-02.joblib']"
            ]
          },
          "execution_count": 62,
          "metadata": {},
          "output_type": "execute_result"
        }
      ],
      "source": [
        "current_date = datetime.datetime.now().strftime('%Y-%m-%d')\n",
        "\n",
        "joblib.dump(random_search, f'Modelos/rf_model_random_search_{current_date}.joblib')\n",
        "joblib.dump(best_rf_model, f'Modelos/rf_model_{current_date}.joblib')"
      ]
    },
    {
      "cell_type": "markdown",
      "metadata": {
        "id": "-J2D1MtCcnFs"
      },
      "source": [
        "## Conjunto test"
      ]
    },
    {
      "cell_type": "code",
      "execution_count": 63,
      "metadata": {
        "colab": {
          "base_uri": "https://localhost:8080/",
          "height": 424
        },
        "id": "UPSw5ZN1SYKz",
        "outputId": "5ac631fa-91af-4a70-fa21-bd3554176067"
      },
      "outputs": [
        {
          "data": {
            "text/html": [
              "<div>\n",
              "<style scoped>\n",
              "    .dataframe tbody tr th:only-of-type {\n",
              "        vertical-align: middle;\n",
              "    }\n",
              "\n",
              "    .dataframe tbody tr th {\n",
              "        vertical-align: top;\n",
              "    }\n",
              "\n",
              "    .dataframe thead th {\n",
              "        text-align: right;\n",
              "    }\n",
              "</style>\n",
              "<table border=\"1\" class=\"dataframe\">\n",
              "  <thead>\n",
              "    <tr style=\"text-align: right;\">\n",
              "      <th></th>\n",
              "      <th>ID</th>\n",
              "      <th>sentimiento</th>\n",
              "    </tr>\n",
              "  </thead>\n",
              "  <tbody>\n",
              "    <tr>\n",
              "      <th>0</th>\n",
              "      <td>60000</td>\n",
              "      <td>negativo</td>\n",
              "    </tr>\n",
              "    <tr>\n",
              "      <th>1</th>\n",
              "      <td>60001</td>\n",
              "      <td>positivo</td>\n",
              "    </tr>\n",
              "    <tr>\n",
              "      <th>2</th>\n",
              "      <td>60002</td>\n",
              "      <td>positivo</td>\n",
              "    </tr>\n",
              "    <tr>\n",
              "      <th>3</th>\n",
              "      <td>60003</td>\n",
              "      <td>negativo</td>\n",
              "    </tr>\n",
              "    <tr>\n",
              "      <th>4</th>\n",
              "      <td>60004</td>\n",
              "      <td>negativo</td>\n",
              "    </tr>\n",
              "    <tr>\n",
              "      <th>...</th>\n",
              "      <td>...</td>\n",
              "      <td>...</td>\n",
              "    </tr>\n",
              "    <tr>\n",
              "      <th>8594</th>\n",
              "      <td>68594</td>\n",
              "      <td>positivo</td>\n",
              "    </tr>\n",
              "    <tr>\n",
              "      <th>8595</th>\n",
              "      <td>68595</td>\n",
              "      <td>positivo</td>\n",
              "    </tr>\n",
              "    <tr>\n",
              "      <th>8596</th>\n",
              "      <td>68596</td>\n",
              "      <td>positivo</td>\n",
              "    </tr>\n",
              "    <tr>\n",
              "      <th>8597</th>\n",
              "      <td>68597</td>\n",
              "      <td>negativo</td>\n",
              "    </tr>\n",
              "    <tr>\n",
              "      <th>8598</th>\n",
              "      <td>68598</td>\n",
              "      <td>negativo</td>\n",
              "    </tr>\n",
              "  </tbody>\n",
              "</table>\n",
              "<p>8599 rows × 2 columns</p>\n",
              "</div>"
            ],
            "text/plain": [
              "         ID sentimiento\n",
              "0     60000    negativo\n",
              "1     60001    positivo\n",
              "2     60002    positivo\n",
              "3     60003    negativo\n",
              "4     60004    negativo\n",
              "...     ...         ...\n",
              "8594  68594    positivo\n",
              "8595  68595    positivo\n",
              "8596  68596    positivo\n",
              "8597  68597    negativo\n",
              "8598  68598    negativo\n",
              "\n",
              "[8599 rows x 2 columns]"
            ]
          },
          "execution_count": 63,
          "metadata": {},
          "output_type": "execute_result"
        }
      ],
      "source": [
        "conjunto_test = conjunto_test.set_index(conjunto_test['ID'])\n",
        "X_conjunto_test = vect.transform(conjunto_test['review_es'])\n",
        "\n",
        "pred_test = best_rf_model.predict(X_conjunto_test)\n",
        "pred_test_labels = ['positivo' if pred == 1 else 'negativo' for pred in pred_test]\n",
        "\n",
        "final_pred_df = pd.DataFrame({\n",
        "    'ID': conjunto_test.index,\n",
        "    'sentimiento': pred_test_labels\n",
        "})\n",
        "final_pred_df"
      ]
    },
    {
      "cell_type": "markdown",
      "metadata": {
        "id": "JWTiatSucnFt"
      },
      "source": [
        "## Exportaciones"
      ]
    },
    {
      "cell_type": "code",
      "execution_count": 64,
      "metadata": {
        "id": "GNu7DYlJS-Or"
      },
      "outputs": [],
      "source": [
        "current_date = datetime.datetime.now().strftime('%Y-%m-%d')\n",
        "\n",
        "final_pred_df.to_csv(f\"Predicciones/RandomForest_{current_date}.csv\", index=False)"
      ]
    },
    {
      "cell_type": "markdown",
      "metadata": {
        "id": "5nvFRYbOKSSm"
      },
      "source": [
        "# 3. XGBoost"
      ]
    },
    {
      "cell_type": "markdown",
      "metadata": {
        "id": "cfkqgq77cnFt"
      },
      "source": [
        "## Vectorizacion de las críticas : sin lemmarizacion"
      ]
    },
    {
      "cell_type": "code",
      "execution_count": 18,
      "metadata": {
        "id": "JtAjIjHucnFt"
      },
      "outputs": [],
      "source": [
        "X = conjunto_train['review_es']\n",
        "y = conjunto_train['sentimiento'].map({'positivo': 1, 'negativo': 0})\n",
        "X_train, X_test, y_train, y_test = train_test_split(X, y, test_size=0.2, random_state=42)\n",
        "\n",
        "stop_words_es = stop_words.get_stop_words('es')\n",
        "vectorizer = TfidfVectorizer(stop_words=stop_words_es)\n",
        "\n",
        "X_train_vect = vectorizer.fit_transform(X_train)\n",
        "X_test_vect = vectorizer.transform(X_test)"
      ]
    },
    {
      "cell_type": "markdown",
      "metadata": {
        "id": "klmBJCYpcnFt"
      },
      "source": [
        "## Busqueda de los hiperparametros"
      ]
    },
    {
      "cell_type": "code",
      "execution_count": 19,
      "metadata": {
        "id": "DGVIGtxjKSSn"
      },
      "outputs": [],
      "source": [
        "param_distributions = {\n",
        "    'n_estimators': [100, 200, 300, 400, 500],\n",
        "    'max_depth': [2, 3, 4, 5, 6],\n",
        "    'learning_rate': [0, 0.02, 0.04, 0.06, 0.08, 0.1, 0.15, 0.2],\n",
        "    'gamma': [0, 0.25, 0.5, 1, 2, 3],\n",
        "    'subsample': [0.8, 0.9, 1.0],\n",
        "    'colsample_bytree': [0.8, 0.9, 1.0]\n",
        "}\n",
        "\n",
        "xgb = XGBClassifier()\n",
        "f1_scorer = make_scorer(f1_score)\n",
        "\n",
        "sample_size = int(0.1 * X_train_vect.shape[0])\n",
        "sample_indices = np.random.choice(X_train_vect.shape[0], size=sample_size, replace=False)\n",
        "X_train_sampled = X_train_vect[sample_indices]\n",
        "y_train_sampled = y_train.iloc[sample_indices]"
      ]
    },
    {
      "cell_type": "code",
      "execution_count": null,
      "metadata": {
        "id": "L3BM_kuzcnFu"
      },
      "outputs": [],
      "source": [
        "random_search = RandomizedSearchCV(estimator=xgb, param_distributions=param_distributions, cv=5, n_iter=30, scoring=f1_scorer)\n",
        "\n",
        "random_search.fit(X_train_sampled, y_train_sampled)"
      ]
    },
    {
      "cell_type": "code",
      "execution_count": null,
      "metadata": {
        "id": "iulKQR-zcnFu"
      },
      "outputs": [],
      "source": [
        "best_params = random_search.best_params_\n",
        "best_score = random_search.best_score_\n",
        "\n",
        "print(f'Mejores parametros: {best_params}')\n",
        "print(f'Mejor F1 Score: {best_score}')"
      ]
    },
    {
      "cell_type": "code",
      "execution_count": null,
      "metadata": {
        "id": "xRd4fngGcnFu"
      },
      "outputs": [],
      "source": [
        "best_xgb_model = random_search.best_estimator_\n",
        "best_xgb_model.fit(X_train_vect, y_train, early_stopping_rounds=10, eval_set=[(X_test_vect, y_test)])\n",
        "y_pred = best_xgb_model.predict(X_test_vect)\n",
        "\n",
        "f1 = f1_score(y_test, y_pred)\n",
        "print(f'F1 Score: {f1}')"
      ]
    },
    {
      "cell_type": "code",
      "execution_count": null,
      "metadata": {
        "id": "EgDatTHwcnFu"
      },
      "outputs": [],
      "source": [
        "current_date = datetime.datetime.now().strftime('%Y-%m-%d')\n",
        "\n",
        "joblib.dump(random_search, f'Modelos/xgb_model_random_search_{current_date}.joblib')\n",
        "joblib.dump(best_xgb_model, f'Modelos/xgb_model_{current_date}.joblib')"
      ]
    },
    {
      "cell_type": "markdown",
      "metadata": {
        "id": "7CiyUw5BcnFu"
      },
      "source": [
        "## Conjunto test"
      ]
    },
    {
      "cell_type": "code",
      "execution_count": null,
      "metadata": {
        "id": "T7zaobVqKSSn"
      },
      "outputs": [],
      "source": [
        "conjunto_test = conjunto_test.set_index(conjunto_test['ID'])\n",
        "X_conjunto_test = vectorizer.transform(conjunto_test['review_es'])\n",
        "\n",
        "pred_test = best_xgb_model.predict(X_conjunto_test)\n",
        "pred_test_labels = ['positivo' if pred == 1 else 'negativo' for pred in pred_test]\n",
        "\n",
        "final_pred_df = pd.DataFrame({\n",
        "    'ID': conjunto_test.index,\n",
        "    'sentimiento': pred_test_labels\n",
        "})\n",
        "final_pred_df"
      ]
    },
    {
      "cell_type": "markdown",
      "metadata": {
        "id": "JF5pKkAdcnFu"
      },
      "source": [
        "## Exportaciones"
      ]
    },
    {
      "cell_type": "code",
      "execution_count": null,
      "metadata": {
        "id": "szOMmNTBKSSo"
      },
      "outputs": [],
      "source": [
        "current_date = datetime.datetime.now().strftime('%Y-%m-%d')\n",
        "\n",
        "final_pred_df.to_csv(f\"Predicciones/XGBoost_{current_date}.csv\", index=False)"
      ]
    },
    {
      "cell_type": "markdown",
      "metadata": {
        "id": "w-VriN1TcnFv"
      },
      "source": [
        "## Vectorizacion de las críticas : con lemmarizacion"
      ]
    },
    {
      "cell_type": "code",
      "execution_count": null,
      "metadata": {
        "id": "y07Ia7lYcnFv"
      },
      "outputs": [],
      "source": [
        "nlp = spacy.load('es_core_news_sm')\n",
        "\n",
        "def preprocess_text(text):\n",
        "    doc = nlp(text)\n",
        "    return ' '.join([token.lemma_ for token in doc if token.is_alpha])\n",
        "\n",
        "X_train_processed = X_train.apply(preprocess_text)\n",
        "print(X_train_processed)\n",
        "\n",
        "vectorizer_lemma = TfidfVectorizer(stop_words=stop_words_es)\n",
        "\n",
        "X_train_vect_lemma = vectorizer_lemma.fit_transform(X_train_processed)\n",
        "X_test_vect_lemma = vectorizer_lemma.transform(X_test)\n",
        "\n",
        "param_distributions = {\n",
        "    'n_estimators': [100, 200, 300, 400, 500],\n",
        "    'max_depth': [2, 3, 4, 5, 6],\n",
        "    'learning_rate': [0, 0.02, 0.04, 0.06, 0.08, 0.1, 0.15, 0.2],\n",
        "    'gamma': [0, 0.25, 0.5, 1, 2, 3],\n",
        "    'subsample': [0.8, 0.9, 1.0],\n",
        "    'colsample_bytree': [0.8, 0.9, 1.0],\n",
        "    'early_stopping_rounds': [5, 10, 20]\n",
        "}\n",
        "\n",
        "xgb = XGBClassifier()\n",
        "f1_scorer = make_scorer(f1_score)\n",
        "\n",
        "sample_size_lemma = int(0.1 * X_train_vect_lemma.shape[0])\n",
        "sample_indices_lemma = np.random.choice(X_train_vect_lemma.shape[0], size=sample_size_lemma, replace=False)\n",
        "X_train_sampled_lemma = X_train_vect_lemma[sample_indices_lemma]\n",
        "y_train_sampled_lemma = y_train.iloc[sample_indices_lemma]\n",
        "\n",
        "random_search_lemma = RandomizedSearchCV(estimator=xgb, param_distributions=param_distributions, cv=5, n_iter=30, scoring=f1_scorer)\n",
        "\n",
        "random_search_lemma.fit(X_train_sampled_lemma, y_train_sampled_lemma)\n",
        "\n",
        "best_params = random_search_lemma.best_params_\n",
        "best_score = random_search_lemma.best_score_\n",
        "\n",
        "print(f'Mejores parametros: {best_params}')\n",
        "print(f'Mejor F1 Score: {best_score}')\n",
        "\n",
        "best_xgb_model_lemma = random_search_lemma.best_estimator_\n",
        "best_xgb_model_lemma.fit(X_train_vect_lemma, y_train, early_stopping_rounds=10, eval_set=[(X_test_vect_lemma, y_test)])\n",
        "y_pred_lemma = best_xgb_model.predict(X_test_vect_lemma)\n",
        "\n",
        "f1_lemma = f1_score(y_test, y_pred_lemma)\n",
        "print(f'F1 Score: {f1_lemma}')\n",
        "\n",
        "current_date = datetime.datetime.now().strftime('%Y-%m-%d')\n",
        "\n",
        "joblib.dump(random_search_lemma, f'Modelos/xgb_model_lemmatizacion_random_search_{current_date}.joblib')\n",
        "joblib.dump(best_xgb_model_lemma, f'Modelos/xgb_model_lemmatizacion_{current_date}.joblib')\n",
        "\n",
        "conjunto_test = conjunto_test.set_index(conjunto_test['ID'])\n",
        "X_conjunto_test_lemma = vectorizer_lemma.transform(conjunto_test['review_es'])\n",
        "\n",
        "pred_test_lemma = best_xgb_model_lemma.predict(X_conjunto_test_lemma)\n",
        "pred_test_labels_lemma = ['positivo' if pred == 1 else 'negativo' for pred in pred_test_lemma]\n",
        "\n",
        "final_pred_df_lemma = pd.DataFrame({\n",
        "    'ID': conjunto_test.index,\n",
        "    'sentimiento': pred_test_labels_lemma\n",
        "})\n",
        "\n",
        "final_pred_df_lemma.to_csv(f\"Predicciones/XGBoost_lemmatizacion_{current_date}.csv\", index=False)"
      ]
    },
    {
      "cell_type": "markdown",
      "metadata": {
        "id": "4KUgCMFaKSSo"
      },
      "source": [
        "# 4. Red Neuronal aplicando Keras y Tensor Flow"
      ]
    },
    {
      "cell_type": "code",
      "execution_count": 38,
      "metadata": {},
      "outputs": [],
      "source": [
        "X_train = pd.read_csv('Datasets/X_train.csv', index_col=0)['review_es']\n",
        "X_test = pd.read_csv('Datasets/X_test.csv', index_col=0)['review_es']\n",
        "y_train = pd.read_csv('Datasets/y_train.csv', index_col=0)['sentimiento']\n",
        "y_test = pd.read_csv('Datasets/y_test.csv', index_col=0)['sentimiento']\n",
        "\n",
        "X_train_processed = pd.read_csv('Datasets/X_train_processed.csv', index_col=0)['review_es']\n",
        "X_test_processed = pd.read_csv('Datasets/X_test_processed.csv', index_col=0)['review_es']"
      ]
    },
    {
      "cell_type": "code",
      "execution_count": 39,
      "metadata": {
        "id": "wRT4R1iCKSSo"
      },
      "outputs": [],
      "source": [
        "import tensorflow as tf\n",
        "from tensorflow import keras\n",
        "from keras import Sequential\n",
        "from keras import backend as K\n",
        "from keras.layers import Dense, TextVectorization, LSTM, Conv1D, Reshape\n",
        "from keras.optimizers import Adadelta\n",
        "from keras.regularizers import l2\n",
        "import seaborn as sns\n",
        "import matplotlib.pyplot as plt\n",
        "\n",
        "X_train_list = X_train.tolist()\n",
        "X_test_list = X_test.tolist()\n",
        "\n",
        "# calcula la cantidad de clases\n",
        "cant_clases=len(np.unique(y_train))\n",
        "\n",
        "# vectorizacion de los datos en el modelo directamente\n",
        "vectorizer = TextVectorization(output_mode='tf-idf', max_tokens=20000)\n",
        "vectorizer.adapt(X_train_list)"
      ]
    },
    {
      "cell_type": "code",
      "execution_count": 40,
      "metadata": {},
      "outputs": [
        {
          "name": "stdout",
          "output_type": "stream",
          "text": [
            "Model: \"sequential_3\"\n",
            "_________________________________________________________________\n",
            " Layer (type)                Output Shape              Param #   \n",
            "=================================================================\n",
            " text_vectorization_3 (TextV  (None, 20000)            1         \n",
            " ectorization)                                                   \n",
            "                                                                 \n",
            " dense_3 (Dense)             (None, 1)                 20001     \n",
            "                                                                 \n",
            "=================================================================\n",
            "Total params: 20,002\n",
            "Trainable params: 20,001\n",
            "Non-trainable params: 1\n",
            "_________________________________________________________________\n"
          ]
        }
      ],
      "source": [
        "modelo = Sequential([\n",
        "    vectorizer,\n",
        "    Dense(1, activation='sigmoid', kernel_regularizer=l2(0.01))])\n",
        "\n",
        "modelo.summary()"
      ]
    },
    {
      "cell_type": "code",
      "execution_count": 41,
      "metadata": {},
      "outputs": [],
      "source": [
        "def f1_score_manual(y_true, y_pred):\n",
        "    def recall(y_true, y_pred):\n",
        "        true_positives = K.sum(K.round(K.clip(y_true * y_pred, 0, 1)))\n",
        "        possible_positives = K.sum(K.round(K.clip(y_true, 0, 1)))\n",
        "        recall = true_positives / (possible_positives + K.epsilon())\n",
        "        return recall\n",
        "\n",
        "    def precision(y_true, y_pred):\n",
        "        true_positives = K.sum(K.round(K.clip(y_true * y_pred, 0, 1)))\n",
        "        predicted_positives = K.sum(K.round(K.clip(y_pred, 0, 1)))\n",
        "        precision = true_positives / (predicted_positives + K.epsilon())\n",
        "        return precision\n",
        "\n",
        "    precision = precision(y_true, y_pred)\n",
        "    recall = recall(y_true, y_pred)\n",
        "    f1 = 2 * ((precision * recall) / (precision + recall + K.epsilon()))\n",
        "    return f1\n",
        "\n",
        "modelo.compile(\n",
        "  optimizer=Adadelta(learning_rate=0.1,\n",
        "                        rho=0.95,\n",
        "                        epsilon=1e-07),\n",
        "  loss='binary_crossentropy',\n",
        "  metrics=[f1_score_manual],\n",
        ")"
      ]
    },
    {
      "cell_type": "code",
      "execution_count": 42,
      "metadata": {},
      "outputs": [],
      "source": [
        "X_train_array = np.array(X_train_list)\n",
        "X_test_array = np.array(X_test_list)\n",
        "\n",
        "cant_epochs=100\n",
        "modelo_fit = modelo.fit(X_train_array, y_train, epochs=cant_epochs, batch_size=50, verbose=False)"
      ]
    },
    {
      "cell_type": "code",
      "execution_count": 43,
      "metadata": {},
      "outputs": [
        {
          "name": "stdout",
          "output_type": "stream",
          "text": [
            "313/313 [==============================] - 2s 5ms/step\n"
          ]
        },
        {
          "data": {
            "text/plain": [
              "33553    0\n",
              "9427     1\n",
              "199      0\n",
              "12447    1\n",
              "39489    0\n",
              "        ..\n",
              "28567    0\n",
              "25079    1\n",
              "18707    1\n",
              "15200    0\n",
              "5857     1\n",
              "Length: 10000, dtype: int32"
            ]
          },
          "execution_count": 43,
          "metadata": {},
          "output_type": "execute_result"
        }
      ],
      "source": [
        "y_predic = modelo.predict(X_test_array)\n",
        "y_predic_cat = np.where(y_predic>0.4,1,0)\n",
        "\n",
        "y_pred_series = pd.Series(y_predic_cat.flatten(), index=y_test.index)\n",
        "y_pred_series"
      ]
    },
    {
      "cell_type": "code",
      "execution_count": 45,
      "metadata": {},
      "outputs": [
        {
          "name": "stdout",
          "output_type": "stream",
          "text": [
            "0.8819326941154352\n"
          ]
        }
      ],
      "source": [
        "f1_score_modelo = f1_score(y_test, y_pred_series)\n",
        "print(f1_score_modelo)"
      ]
    },
    {
      "cell_type": "code",
      "execution_count": 46,
      "metadata": {},
      "outputs": [
        {
          "data": {
            "image/png": "[encoded data removed]",
            "text/plain": [
              "<Figure size 640x480 with 2 Axes>"
            ]
          },
          "metadata": {},
          "output_type": "display_data"
        }
      ],
      "source": [
        "ds_validacion=pd.DataFrame(y_predic_cat,y_test).reset_index()\n",
        "ds_validacion.columns=['y_pred','y_real']\n",
        "\n",
        "tabla=pd.crosstab(ds_validacion.y_pred, ds_validacion.y_real)\n",
        "grf=sns.heatmap(tabla,annot=True, cmap = 'Blues')\n",
        "plt.show()"
      ]
    },
    {
      "cell_type": "code",
      "execution_count": 52,
      "metadata": {},
      "outputs": [
        {
          "data": {
            "text/plain": [
              "array(['La mayor virtud de esta película es su existencia.El hecho de que podamos jugar con los tópicos más extremos de las identidades patrias (la andaluza y la vasca) sin que nadie se escandalice ni ponga el grito en el cielo, indica mucho de nuestra madurez como nación (pese a quien pese). Bueno, corrijo: el hecho de que podamos jugar y hacer mofa y befa de los tópicos sobre los vascos y el nacionalismo vasco, sin que nadie se escandalice ni ponga el grito en el cielo, indica mucho del grado de normalización de ciertas cuestiones que antes eran llagas abiertas siempre dispuestas a sangrar. Y hago esta corrección, porque los andaluces han sido motivo de guasa siempre y nunca ha pasado nada.Por esto mismo, el planteamiento de \"Ocho Apellidos Vascos\" es valiente, es oportuno y es oportunista. Seguramente sea esa una de las principales razones por la que los españoles hemos acudido en masa, en una masa casi sin precedentes, a los cines a ver este producto patrocinado por Tele 5. Esa junto con la acertada fecha de estreno (entre los oscar y los blockbusters del verano) y la brutal y ejemplar campaña de marketing, la cual aplaudo y celebro.Eso es todo lo que puedo celebrar de este despropósito, muy a mi pesar.Siempre digo y repito eso de \"el oscuro placer de ver películas malas y disfrutarlas\", y siempre insisto en que \"no hay que olvidar que el principal propósito del cine es entretener\". Lo digo y lo mantengo. El problema es que \"Ocho Apelidos Vascos\" no es lo suficientemente mala, ni lo suficientemente friki, ni lo suficientemente disparatada para ser una \"Peli Mala\"(como Sharknado, o Xanadu o Condemor). Y desgraciadamente no es lo suficientemente entretenida para perdonarle su mediocridad (siempre desde mi punto de vista).Esa es precisamente la palabra que mejor la define: \"Mediocridad\". Es dolorosamente mediocre. Es simple, que no sencilla. Es impersonal y lo peor: está hecha sin ganas.Funciona porque el planteamiento interesa, y no por novedoso (sacar un elemento de su entorno e introducirlo en otro totalmente ajeno y hostil es uno de los argumentos básicos en la comedia desde que el cine es cine), sino por lo que explicaba al principio.Pero todos los demás elementos apenas encajan, o no lo hacen en absoluto. Toda la película es una caída en picado desde un comienzo prometedor a un final vergonzoso, pasando por todas las situaciones \"cómicas\" de manual y todos los tópicos más manidos de la comedia de enredo. Que sí, César, que ya te oigo replicarme: \"que todas las historias están ya contadas\". Tienes  toda la razón, pero se pueden seguir contando con un poco de ganas, o al menos de formas, si no originales, sí convincentes. Y volvemos al principal problema de gran parte del cine patrio (y mucho foráneo): el guión. La mayoría de los directores confunden el argumento con el guión. El argumento es el planteamiento, el guión el desarrollo. Una grandísima parte de las películas españolas que llevo años sufriendo se desinflan, con suerte, a la mitad de su recorrido. Pocos son los cineastas que se molestan en desarrollar sus historias, menos aún en rematarlas y en hacer que las cosas encajen. Parece que en las escuelas de cine que surgen como champiñones en este país nuestro, se olvidan de poner \"El Guión\" como asignatura.La que nos ocupa hoy es un ejemplo más: hay un planteamiento interesante, aunque torpemente presentado, y ante la incapacidad (o la falta de ganas) de su director de desarrollarlo de una manera convincente (o alocadamente convincente) se refugia en un enredo de principiante, del cual no sabe cómo salir, aunque todos intuímos (y tememos) desde el principio cómo lo va a hacer: a la fuerza y sin lubricante.Lo que salva este producto del descalabro total es el monologuista Dani Rovira, con sus inspirados monólogos y su desparpajo, y Karra Elejalde dando vida la único personaje creíble de toda la historia. Carmen Machi muy bien haciendo de Carmen Machi, y de Clara Lago...llamarla actriz sería insultar al resto de la profesión (Elsa Pataki incluída).Aún con todo: - sí, hay unas cuantas situaciones capaces de arrancar risas, e incluso carcajadas y - sí, resulta entretenida (a ratos). Pero me duele pensar que ésto es lo que el público está esperando del cine español para llenar las salas. Me duele pensar que el cine también, como casi todos los ámbitos de poder, está en manos de los mediocres. Y me duele pensar que sean los sub-productos como este los que vayan a salvar al cine español de las aguas en que él sólo se ha sumergido.Robándole una cita a mi amigo Regino Mateo y parafraseándola: \"no es lo mismo hacer películas que hacer cine\"',\n",
              "       'No soy un experto cinéfilo, pero pocas veces me había sentido tan fuera de juego en una sala de cine: un auténtico perro verde. Leyendo las críticas en Filmaffinity, esta sensación se acrecienta, y voy cogiendo tonos atornasolados. La película no me gustó (con la honrosa excepción de alguna situación francamente buena): las bromas oscilaban entre \"muy fáciles\" y \"todavía más fáciles\" y la sobreactuación caricaturesca de los actores me exasperaba, esforzándome por contagiarme de las constantes risas que me rodeaban y de aquella señora de la última fila que disfrutaba de la película de su vida... pero fui incapaz.O me hago mayor y se me está agriando el carácter y no tengo el buen humor del que solía fanfarronear o... ¡hay algo que se me escapa!.Justo después de terminar de ver Breaking Bad (nada que ver en cuanto a género, por supuesto) me enfrento a este engendro y se me cae el alma a los pies... pero el tema empeora después de leer algunas críticas en las que se ensalza la frescura del guión y... la figura salvadora de esta película para la industria cinematográfica patria!Aaaagg... por favor, ¡decidme que no me estoy volviendo loco! ¿¿De verdad es tan buena y me lo he perdido??',\n",
              "       'Si no eres un incondicional del humor estilo Tele 5.Si no terminas de captar de qué se ríen los adolescentes granulentos de tu familia.Si eres más de David Navarro que de Dani Rovira.Si lo de \"Euskadi tiene un color especial\" no te parece el hallazgo del siglo.Si con el Risitas y el Peíto has sentido alguna vez vergüenza ajena.Si te da repelús que algunos alaben esta película por su \"valentía\".Si no crees que haya que ser una Juana de Arco para explotar topicazos.Si \"Bienvenidos al Norte\" te pareció una puta chorrada.Si te importa un huevo que te digan que no tienes sentido del humor.Si Emilio Martínez-Lázaro te parece un director-despojo.Si te avergüenzan los índices de audiencia de la televisión de este país.Si no acostumbras a comer mierda.... No te comas esta mierda.',\n",
              "       ...,\n",
              "       'De mal cuerpo como sensación al finalizar, de historia interesante y de tema muy delicado al tratarse de menores. De años de la transición que siguen sin serlo. De dos policías atormentados, de familias destruidas, de gente que calla, de \"El niño\" haciendo lo único que sabe. De buenas interpretaciones principales, de atroz desenlace, de resquemor en las tripas por todo lo anterior, de buena película nacional con su mal gusto correspondiente.No recomendable para gente sensible.',\n",
              "       'Los que han añadido comentarios os lo han dicho claro: guión pésimo, actuaciones blandas y de risa, Javier Gutierrez actor de chiste, director de fotografía tremendo truño, una película que impresiona y que dice algo. ¿Tal vez la película española que más premios ha recibido de los últimos diez años? ¿Me paso?La comparación con True Detective es obvia pero cómica, pues hasta una mierda hecha por un chimpancé se podría parecer a True Detective con buenos actores, pero es que esta película ni eso.En fin, otra decepción espanyola',\n",
              "       'Fui a ver esta película de cine con entusiasmo, lo prometo! Tal vez es que era muy tarde, o es que fui a la sesión de las 12.30hPero dios mío!!! Esta película es muy, muy aburrida. Esta bien grabada si, esta bien hecha, con buenos planos y excelente fotografía… Pero, que el cine ¡tiene que entretener! divertir! crear cierta tensión al menos....!!!ES MUY LENTA, MUY LENTA!! El final defrauda parece que se lo han sacado de la manga y le han cargado el muerto al 1 que pasaba por allí. Intenta dejar interrogantes en el ambiente, pero no deja nada más que eso, un intento de algo que se queda en nada.Ah!, no puede faltar la referencia a la dictadura, se hacen tantas y tantas películas que directamente o indirectamente tienen que ver con la dictadura… ¡que ya cansa!! Por favor! Que va a parecer que la izquierda de este país quiere que vuelvan!!! Pero como he puesto en el titulo de mi critica yo no debo ser tan inteligente como para apreciar la esencia, el minimalismo? El tratamiento del plano, etc... lo que ustedes quieran.... Pero a mi me ha aburrido, es muy aburrida y tal vez eso, es lo mas triste en una película Se va al cine a pasar un buen rato y a que le cuenten una buena historia con moral y ética y con trasfondo social si quieren, pero sobretodo uno va al cine a NO ABURRIRSE.'],\n",
              "      dtype=object)"
            ]
          },
          "execution_count": 52,
          "metadata": {},
          "output_type": "execute_result"
        }
      ],
      "source": [
        "conjunto_test = conjunto_test.set_index(conjunto_test['ID'])\n",
        "X_conjunto_test = conjunto_test['review_es']\n",
        "X_conjunto_test_array = np.array(X_conjunto_test)\n",
        "X_conjunto_test_array"
      ]
    },
    {
      "cell_type": "code",
      "execution_count": 53,
      "metadata": {},
      "outputs": [
        {
          "name": "stdout",
          "output_type": "stream",
          "text": [
            "269/269 [==============================] - 2s 6ms/step\n"
          ]
        },
        {
          "data": {
            "text/html": [
              "<div>\n",
              "<style scoped>\n",
              "    .dataframe tbody tr th:only-of-type {\n",
              "        vertical-align: middle;\n",
              "    }\n",
              "\n",
              "    .dataframe tbody tr th {\n",
              "        vertical-align: top;\n",
              "    }\n",
              "\n",
              "    .dataframe thead th {\n",
              "        text-align: right;\n",
              "    }\n",
              "</style>\n",
              "<table border=\"1\" class=\"dataframe\">\n",
              "  <thead>\n",
              "    <tr style=\"text-align: right;\">\n",
              "      <th></th>\n",
              "      <th>ID</th>\n",
              "      <th>sentimiento</th>\n",
              "    </tr>\n",
              "  </thead>\n",
              "  <tbody>\n",
              "    <tr>\n",
              "      <th>0</th>\n",
              "      <td>60000</td>\n",
              "      <td>negativo</td>\n",
              "    </tr>\n",
              "    <tr>\n",
              "      <th>1</th>\n",
              "      <td>60001</td>\n",
              "      <td>positivo</td>\n",
              "    </tr>\n",
              "    <tr>\n",
              "      <th>2</th>\n",
              "      <td>60002</td>\n",
              "      <td>negativo</td>\n",
              "    </tr>\n",
              "    <tr>\n",
              "      <th>3</th>\n",
              "      <td>60003</td>\n",
              "      <td>positivo</td>\n",
              "    </tr>\n",
              "    <tr>\n",
              "      <th>4</th>\n",
              "      <td>60004</td>\n",
              "      <td>negativo</td>\n",
              "    </tr>\n",
              "    <tr>\n",
              "      <th>...</th>\n",
              "      <td>...</td>\n",
              "      <td>...</td>\n",
              "    </tr>\n",
              "    <tr>\n",
              "      <th>8594</th>\n",
              "      <td>68594</td>\n",
              "      <td>positivo</td>\n",
              "    </tr>\n",
              "    <tr>\n",
              "      <th>8595</th>\n",
              "      <td>68595</td>\n",
              "      <td>negativo</td>\n",
              "    </tr>\n",
              "    <tr>\n",
              "      <th>8596</th>\n",
              "      <td>68596</td>\n",
              "      <td>positivo</td>\n",
              "    </tr>\n",
              "    <tr>\n",
              "      <th>8597</th>\n",
              "      <td>68597</td>\n",
              "      <td>negativo</td>\n",
              "    </tr>\n",
              "    <tr>\n",
              "      <th>8598</th>\n",
              "      <td>68598</td>\n",
              "      <td>negativo</td>\n",
              "    </tr>\n",
              "  </tbody>\n",
              "</table>\n",
              "<p>8599 rows × 2 columns</p>\n",
              "</div>"
            ],
            "text/plain": [
              "         ID sentimiento\n",
              "0     60000    negativo\n",
              "1     60001    positivo\n",
              "2     60002    negativo\n",
              "3     60003    positivo\n",
              "4     60004    negativo\n",
              "...     ...         ...\n",
              "8594  68594    positivo\n",
              "8595  68595    negativo\n",
              "8596  68596    positivo\n",
              "8597  68597    negativo\n",
              "8598  68598    negativo\n",
              "\n",
              "[8599 rows x 2 columns]"
            ]
          },
          "execution_count": 53,
          "metadata": {},
          "output_type": "execute_result"
        }
      ],
      "source": [
        "y_predic = modelo.predict(X_conjunto_test_array)\n",
        "y_predic_cat = np.where(y_predic>0.4,1,0)\n",
        "\n",
        "y_pred_series = pd.Series(y_predic_cat.flatten(), index=conjunto_test.index)\n",
        "pred_test_labels = ['positivo' if pred == 1 else 'negativo' for pred in y_pred_series]\n",
        "\n",
        "final_pred_df = pd.DataFrame({\n",
        "    'ID': conjunto_test.index,\n",
        "    'sentimiento': pred_test_labels\n",
        "})\n",
        "final_pred_df"
      ]
    },
    {
      "cell_type": "code",
      "execution_count": 56,
      "metadata": {},
      "outputs": [
        {
          "name": "stdout",
          "output_type": "stream",
          "text": [
            "INFO:tensorflow:Assets written to: Modelos/red_neuronal_2024-06-04\\assets\n"
          ]
        }
      ],
      "source": [
        "current_date = datetime.datetime.now().strftime('%Y-%m-%d')\n",
        "\n",
        "modelo.save(f'Modelos/red_neuronal_{current_date}')\n",
        "\n",
        "final_pred_df.to_csv(f\"Predicciones/Red_Neuronal_{current_date}.csv\", index=False)"
      ]
    },
    {
      "cell_type": "markdown",
      "metadata": {
        "id": "8dpwjSLzKSSo"
      },
      "source": [
        "# 5. Ensamble de 3 modelos (o mas)"
      ]
    },
    {
      "cell_type": "code",
      "execution_count": null,
      "metadata": {
        "id": "zUMwWzcIKSSo"
      },
      "outputs": [],
      "source": []
    }
  ],
  "metadata": {
    "colab": {
      "provenance": []
    },
    "kernelspec": {
      "display_name": "Python 3",
      "language": "python",
      "name": "python3"
    },
    "language_info": {
      "codemirror_mode": {
        "name": "ipython",
        "version": 3
      },
      "file_extension": ".py",
      "mimetype": "text/x-python",
      "name": "python",
      "nbconvert_exporter": "python",
      "pygments_lexer": "ipython3",
      "version": "3.10.4"
    }
  },
  "nbformat": 4,
  "nbformat_minor": 0
}
