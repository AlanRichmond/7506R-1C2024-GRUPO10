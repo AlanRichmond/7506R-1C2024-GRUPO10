{
  "cells": [
    {
      "cell_type": "markdown",
      "metadata": {
        "id": "_hMpCS6QHnDp"
      },
      "source": [
        "#  <center> </center>\n",
        "# <center>Trabajo Practico 1 </center>\n",
        "### <center>Grupo 10 </center>\n",
        "## Integrantes:\n",
        "#### Alan Richmond\n",
        "#### Flavian Ferré\n",
        "#### Camila Lucia Avalos\n",
        "#### Alan Mejia"
      ]
    },
    {
      "cell_type": "markdown",
      "metadata": {
        "id": "Vxvy62s9DqD_"
      },
      "source": [
        "Importando Librerias\n"
      ]
    },
    {
      "cell_type": "code",
      "execution_count": 1,
      "metadata": {
        "id": "LKi8sj-4DbI7"
      },
      "outputs": [],
      "source": [
        "#Manipulacion de datos\n",
        "import pandas as pd\n",
        "import numpy as np"
      ]
    },
    {
      "cell_type": "markdown",
      "metadata": {
        "id": "PmOgvZdZJPy1"
      },
      "source": [
        "Cargamos el archivo de datos en un dataframe de Pandas"
      ]
    },
    {
      "cell_type": "code",
      "execution_count": 2,
      "metadata": {
        "id": "TWbGCMGjJTuu"
      },
      "outputs": [],
      "source": [
        "df_properati = pd.read_csv('Datasets/properati_argentina_2021.csv')"
      ]
    },
    {
      "cell_type": "markdown",
      "metadata": {
        "id": "3caPLDN7OSdF"
      },
      "source": [
        "Realizamos una copia del dataset sobre el cual vamos a trabajar para no alterar los datos originales"
      ]
    },
    {
      "cell_type": "code",
      "execution_count": 3,
      "metadata": {
        "id": "WLhcf5TnOTl9"
      },
      "outputs": [],
      "source": [
        "df_trabajo = df_properati.copy()"
      ]
    },
    {
      "cell_type": "markdown",
      "metadata": {
        "id": "UYw6-_V2Paj5"
      },
      "source": [
        "#cantidad de columnas y filas del df inicial"
      ]
    },
    {
      "cell_type": "code",
      "execution_count": 4,
      "metadata": {
        "colab": {
          "base_uri": "https://localhost:8080/"
        },
        "id": "zjX_ebGTPEvB",
        "outputId": "d5601e24-e163-4837-8548-b1a6336b4cda"
      },
      "outputs": [
        {
          "data": {
            "text/plain": [
              "(460154, 20)"
            ]
          },
          "execution_count": 4,
          "metadata": {},
          "output_type": "execute_result"
        }
      ],
      "source": [
        "df_trabajo.shape"
      ]
    },
    {
      "cell_type": "markdown",
      "metadata": {
        "id": "ui5mCRXbXvY-"
      },
      "source": [
        "#Filtrado de los datos que se van a utilizar."
      ]
    },
    {
      "cell_type": "code",
      "execution_count": 5,
      "metadata": {
        "id": "x_mx8pdWX2Db"
      },
      "outputs": [],
      "source": [
        "#filtrando solo las propiedades que esten publicadas en dolares\n",
        "filtrado_de_moneda = (df_trabajo[\"property_currency\"] == \"USD\")"
      ]
    },
    {
      "cell_type": "code",
      "execution_count": 6,
      "metadata": {
        "id": "54unbeHba5H3"
      },
      "outputs": [],
      "source": [
        "#filtrando solo las propiedades que sean casa,ph y departamento\n",
        "tipos_propiedad = [\"Casa\", \"PH\", \"Departamento\"]\n",
        "filtrado_de_vivienda = (df_trabajo[\"property_type\"].isin(tipos_propiedad))"
      ]
    },
    {
      "cell_type": "code",
      "execution_count": 7,
      "metadata": {
        "id": "iWBcLQKhbXBe"
      },
      "outputs": [],
      "source": [
        "#filtrando solo las propiedades que esten en Venta\n",
        "filtrado_de_operacion = (df_trabajo[\"operation\"] == \"Venta\")"
      ]
    },
    {
      "cell_type": "code",
      "execution_count": 8,
      "metadata": {
        "id": "3wpYWtmybvTw"
      },
      "outputs": [],
      "source": [
        "#filtrando solo las propiedades que esten ubicadas en capital federal\n",
        "filtrado_de_ubicacion = (df_trabajo[\"place_l2\"] == \"Capital Federal\")"
      ]
    },
    {
      "cell_type": "code",
      "execution_count": 9,
      "metadata": {
        "id": "lX-uNq8udRF4"
      },
      "outputs": [],
      "source": [
        "# Se juntan todos los filtrados que se tienen que cumplir\n",
        "filtrados_unidos = filtrado_de_moneda & filtrado_de_vivienda & filtrado_de_operacion & filtrado_de_ubicacion"
      ]
    },
    {
      "cell_type": "code",
      "execution_count": 10,
      "metadata": {
        "id": "-yn1_NymZatU"
      },
      "outputs": [],
      "source": [
        "df_filtrado = df_trabajo[filtrados_unidos]"
      ]
    },
    {
      "cell_type": "markdown",
      "metadata": {
        "id": "jln5hHGyd4bC"
      },
      "source": [
        "Cantidad de Filas y Columnas que quedaron luego de la filtracion"
      ]
    },
    {
      "cell_type": "code",
      "execution_count": 11,
      "metadata": {
        "colab": {
          "base_uri": "https://localhost:8080/"
        },
        "id": "f1vUpgPGZnWz",
        "outputId": "3bc170ae-1a00-4da8-caff-ead8ba473e72"
      },
      "outputs": [
        {
          "data": {
            "text/plain": [
              "(94249, 20)"
            ]
          },
          "execution_count": 11,
          "metadata": {},
          "output_type": "execute_result"
        }
      ],
      "source": [
        "df_filtrado.shape"
      ]
    },
    {
      "cell_type": "markdown",
      "metadata": {
        "id": "wcI49T6Oilwk"
      },
      "source": [
        "# Dividir en conjuntos de entrenamiento y prueba"
      ]
    },
    {
      "cell_type": "code",
      "execution_count": 57,
      "metadata": {
        "id": "_mtNuEnCiRXF"
      },
      "outputs": [],
      "source": [
        "total_filas = len(df_filtrado)\n",
        "filas_entrenamiento = int(0.8 * total_filas)\n",
        "\n",
        "conjunto_entrenamiento = df_filtrado[:filas_entrenamiento]\n",
        "conjunto_prueba = df_filtrado[filas_entrenamiento:]\n"
      ]
    },
    {
      "cell_type": "markdown",
      "metadata": {
        "id": "2Fnne3z1jzNZ"
      },
      "source": [
        "#Conjunto de entrenamiento"
      ]
    },
    {
      "cell_type": "code",
      "execution_count": 73,
      "metadata": {
        "colab": {
          "base_uri": "https://localhost:8080/",
          "height": 434
        },
        "id": "bBeePYnoiq4b",
        "outputId": "649c9784-35b2-4059-b962-b668d96c8669"
      },
      "outputs": [
        {
          "name": "stdout",
          "output_type": "stream",
          "text": [
            "Conjunto de Entrenamiento:\n"
          ]
        },
        {
          "data": {
            "application/vnd.google.colaboratory.intrinsic+json": {
              "repr_error": "0",
              "type": "dataframe",
              "variable_name": "conjunto_entrenamiento"
            },
            "text/html": [
              "\n",
              "  <div id=\"df-766d6cd4-b9ce-46a9-8835-772d835fa672\" class=\"colab-df-container\">\n",
              "    <div>\n",
              "<style scoped>\n",
              "    .dataframe tbody tr th:only-of-type {\n",
              "        vertical-align: middle;\n",
              "    }\n",
              "\n",
              "    .dataframe tbody tr th {\n",
              "        vertical-align: top;\n",
              "    }\n",
              "\n",
              "    .dataframe thead th {\n",
              "        text-align: right;\n",
              "    }\n",
              "</style>\n",
              "<table border=\"1\" class=\"dataframe\">\n",
              "  <thead>\n",
              "    <tr style=\"text-align: right;\">\n",
              "      <th></th>\n",
              "      <th>id</th>\n",
              "      <th>start_date</th>\n",
              "      <th>end_date</th>\n",
              "      <th>created_on</th>\n",
              "      <th>latitud</th>\n",
              "      <th>longitud</th>\n",
              "      <th>place_l2</th>\n",
              "      <th>place_l3</th>\n",
              "      <th>place_l4</th>\n",
              "      <th>place_l5</th>\n",
              "      <th>place_l6</th>\n",
              "      <th>operation</th>\n",
              "      <th>property_type</th>\n",
              "      <th>property_rooms</th>\n",
              "      <th>property_bedrooms</th>\n",
              "      <th>property_surface_total</th>\n",
              "      <th>property_surface_covered</th>\n",
              "      <th>property_price</th>\n",
              "      <th>property_currency</th>\n",
              "      <th>property_title</th>\n",
              "    </tr>\n",
              "  </thead>\n",
              "  <tbody>\n",
              "    <tr>\n",
              "      <th>25</th>\n",
              "      <td>CyZu6IaZgmQYGk8jmPajCg==</td>\n",
              "      <td>2021-09-09</td>\n",
              "      <td>2021-09-26</td>\n",
              "      <td>2021-09-09</td>\n",
              "      <td>NaN</td>\n",
              "      <td>NaN</td>\n",
              "      <td>Capital Federal</td>\n",
              "      <td>NaN</td>\n",
              "      <td>NaN</td>\n",
              "      <td>NaN</td>\n",
              "      <td>NaN</td>\n",
              "      <td>Venta</td>\n",
              "      <td>Casa</td>\n",
              "      <td>4.0</td>\n",
              "      <td>3.0</td>\n",
              "      <td>171.0</td>\n",
              "      <td>133.0</td>\n",
              "      <td>210000.0</td>\n",
              "      <td>USD</td>\n",
              "      <td>VENTA CASA LLAVE EN MANO - COSTA ESMERALDA</td>\n",
              "    </tr>\n",
              "    <tr>\n",
              "      <th>42</th>\n",
              "      <td>d3Z0MblSb2IMBoOBMGJEEQ==</td>\n",
              "      <td>2021-09-09</td>\n",
              "      <td>2021-09-26</td>\n",
              "      <td>2021-09-09</td>\n",
              "      <td>-34.637319</td>\n",
              "      <td>-58.361124</td>\n",
              "      <td>Capital Federal</td>\n",
              "      <td>Boca</td>\n",
              "      <td>NaN</td>\n",
              "      <td>NaN</td>\n",
              "      <td>NaN</td>\n",
              "      <td>Venta</td>\n",
              "      <td>Departamento</td>\n",
              "      <td>3.0</td>\n",
              "      <td>2.0</td>\n",
              "      <td>58.0</td>\n",
              "      <td>55.0</td>\n",
              "      <td>82900.0</td>\n",
              "      <td>USD</td>\n",
              "      <td>VENTA TRES AMBIENTES LA BOCA PISO ALTO</td>\n",
              "    </tr>\n",
              "    <tr>\n",
              "      <th>43</th>\n",
              "      <td>rL7qPkQnomsMGu2ViS3sBw==</td>\n",
              "      <td>2021-09-09</td>\n",
              "      <td>2021-09-28</td>\n",
              "      <td>2021-09-09</td>\n",
              "      <td>-34.628647</td>\n",
              "      <td>-58.361871</td>\n",
              "      <td>Capital Federal</td>\n",
              "      <td>Boca</td>\n",
              "      <td>NaN</td>\n",
              "      <td>NaN</td>\n",
              "      <td>NaN</td>\n",
              "      <td>Venta</td>\n",
              "      <td>Departamento</td>\n",
              "      <td>4.0</td>\n",
              "      <td>3.0</td>\n",
              "      <td>70.0</td>\n",
              "      <td>70.0</td>\n",
              "      <td>99000.0</td>\n",
              "      <td>USD</td>\n",
              "      <td>Departamento - 4 Ambientes - Catalinas Sur</td>\n",
              "    </tr>\n",
              "    <tr>\n",
              "      <th>49</th>\n",
              "      <td>vuX/ccLAMVml4qWRFcOJUA==</td>\n",
              "      <td>2021-09-09</td>\n",
              "      <td>2022-01-05</td>\n",
              "      <td>2021-09-09</td>\n",
              "      <td>-34.610027</td>\n",
              "      <td>-58.401934</td>\n",
              "      <td>Capital Federal</td>\n",
              "      <td>Once</td>\n",
              "      <td>NaN</td>\n",
              "      <td>NaN</td>\n",
              "      <td>NaN</td>\n",
              "      <td>Venta</td>\n",
              "      <td>Departamento</td>\n",
              "      <td>4.0</td>\n",
              "      <td>2.0</td>\n",
              "      <td>NaN</td>\n",
              "      <td>104.0</td>\n",
              "      <td>146000.0</td>\n",
              "      <td>USD</td>\n",
              "      <td>Venta departamento 4 ambientes Once</td>\n",
              "    </tr>\n",
              "    <tr>\n",
              "      <th>51</th>\n",
              "      <td>ZTtSCeqZ3HUgf5jjwEzRcw==</td>\n",
              "      <td>2021-09-09</td>\n",
              "      <td>2022-03-09</td>\n",
              "      <td>2021-09-09</td>\n",
              "      <td>-34.631621</td>\n",
              "      <td>-58.416825</td>\n",
              "      <td>Capital Federal</td>\n",
              "      <td>Boedo</td>\n",
              "      <td>NaN</td>\n",
              "      <td>NaN</td>\n",
              "      <td>NaN</td>\n",
              "      <td>Venta</td>\n",
              "      <td>PH</td>\n",
              "      <td>4.0</td>\n",
              "      <td>2.0</td>\n",
              "      <td>NaN</td>\n",
              "      <td>73.0</td>\n",
              "      <td>250000.0</td>\n",
              "      <td>USD</td>\n",
              "      <td>PH - Boedo</td>\n",
              "    </tr>\n",
              "  </tbody>\n",
              "</table>\n",
              "</div>\n",
              "    <div class=\"colab-df-buttons\">\n",
              "\n",
              "  <div class=\"colab-df-container\">\n",
              "    <button class=\"colab-df-convert\" onclick=\"convertToInteractive('df-766d6cd4-b9ce-46a9-8835-772d835fa672')\"\n",
              "            title=\"Convert this dataframe to an interactive table.\"\n",
              "            style=\"display:none;\">\n",
              "\n",
              "  <svg xmlns=\"http://www.w3.org/2000/svg\" height=\"24px\" viewBox=\"0 -960 960 960\">\n",
              "    <path d=\"M120-120v-720h720v720H120Zm60-500h600v-160H180v160Zm220 220h160v-160H400v160Zm0 220h160v-160H400v160ZM180-400h160v-160H180v160Zm440 0h160v-160H620v160ZM180-180h160v-160H180v160Zm440 0h160v-160H620v160Z\"/>\n",
              "  </svg>\n",
              "    </button>\n",
              "\n",
              "  <style>\n",
              "    .colab-df-container {\n",
              "      display:flex;\n",
              "      gap: 12px;\n",
              "    }\n",
              "\n",
              "    .colab-df-convert {\n",
              "      background-color: #E8F0FE;\n",
              "      border: none;\n",
              "      border-radius: 50%;\n",
              "      cursor: pointer;\n",
              "      display: none;\n",
              "      fill: #1967D2;\n",
              "      height: 32px;\n",
              "      padding: 0 0 0 0;\n",
              "      width: 32px;\n",
              "    }\n",
              "\n",
              "    .colab-df-convert:hover {\n",
              "      background-color: #E2EBFA;\n",
              "      box-shadow: 0px 1px 2px rgba(60, 64, 67, 0.3), 0px 1px 3px 1px rgba(60, 64, 67, 0.15);\n",
              "      fill: #174EA6;\n",
              "    }\n",
              "\n",
              "    .colab-df-buttons div {\n",
              "      margin-bottom: 4px;\n",
              "    }\n",
              "\n",
              "    [theme=dark] .colab-df-convert {\n",
              "      background-color: #3B4455;\n",
              "      fill: #D2E3FC;\n",
              "    }\n",
              "\n",
              "    [theme=dark] .colab-df-convert:hover {\n",
              "      background-color: #434B5C;\n",
              "      box-shadow: 0px 1px 3px 1px rgba(0, 0, 0, 0.15);\n",
              "      filter: drop-shadow(0px 1px 2px rgba(0, 0, 0, 0.3));\n",
              "      fill: #FFFFFF;\n",
              "    }\n",
              "  </style>\n",
              "\n",
              "    <script>\n",
              "      const buttonEl =\n",
              "        document.querySelector('#df-766d6cd4-b9ce-46a9-8835-772d835fa672 button.colab-df-convert');\n",
              "      buttonEl.style.display =\n",
              "        google.colab.kernel.accessAllowed ? 'block' : 'none';\n",
              "\n",
              "      async function convertToInteractive(key) {\n",
              "        const element = document.querySelector('#df-766d6cd4-b9ce-46a9-8835-772d835fa672');\n",
              "        const dataTable =\n",
              "          await google.colab.kernel.invokeFunction('convertToInteractive',\n",
              "                                                    [key], {});\n",
              "        if (!dataTable) return;\n",
              "\n",
              "        const docLinkHtml = 'Like what you see? Visit the ' +\n",
              "          '<a target=\"_blank\" href=https://colab.research.google.com/notebooks/data_table.ipynb>data table notebook</a>'\n",
              "          + ' to learn more about interactive tables.';\n",
              "        element.innerHTML = '';\n",
              "        dataTable['output_type'] = 'display_data';\n",
              "        await google.colab.output.renderOutput(dataTable, element);\n",
              "        const docLink = document.createElement('div');\n",
              "        docLink.innerHTML = docLinkHtml;\n",
              "        element.appendChild(docLink);\n",
              "      }\n",
              "    </script>\n",
              "  </div>\n",
              "\n",
              "\n",
              "<div id=\"df-0744ffc3-f72f-4dec-b0ef-414365d17396\">\n",
              "  <button class=\"colab-df-quickchart\" onclick=\"quickchart('df-0744ffc3-f72f-4dec-b0ef-414365d17396')\"\n",
              "            title=\"Suggest charts\"\n",
              "            style=\"display:none;\">\n",
              "\n",
              "<svg xmlns=\"http://www.w3.org/2000/svg\" height=\"24px\"viewBox=\"0 0 24 24\"\n",
              "     width=\"24px\">\n",
              "    <g>\n",
              "        <path d=\"M19 3H5c-1.1 0-2 .9-2 2v14c0 1.1.9 2 2 2h14c1.1 0 2-.9 2-2V5c0-1.1-.9-2-2-2zM9 17H7v-7h2v7zm4 0h-2V7h2v10zm4 0h-2v-4h2v4z\"/>\n",
              "    </g>\n",
              "</svg>\n",
              "  </button>\n",
              "\n",
              "<style>\n",
              "  .colab-df-quickchart {\n",
              "      --bg-color: #E8F0FE;\n",
              "      --fill-color: #1967D2;\n",
              "      --hover-bg-color: #E2EBFA;\n",
              "      --hover-fill-color: #174EA6;\n",
              "      --disabled-fill-color: #AAA;\n",
              "      --disabled-bg-color: #DDD;\n",
              "  }\n",
              "\n",
              "  [theme=dark] .colab-df-quickchart {\n",
              "      --bg-color: #3B4455;\n",
              "      --fill-color: #D2E3FC;\n",
              "      --hover-bg-color: #434B5C;\n",
              "      --hover-fill-color: #FFFFFF;\n",
              "      --disabled-bg-color: #3B4455;\n",
              "      --disabled-fill-color: #666;\n",
              "  }\n",
              "\n",
              "  .colab-df-quickchart {\n",
              "    background-color: var(--bg-color);\n",
              "    border: none;\n",
              "    border-radius: 50%;\n",
              "    cursor: pointer;\n",
              "    display: none;\n",
              "    fill: var(--fill-color);\n",
              "    height: 32px;\n",
              "    padding: 0;\n",
              "    width: 32px;\n",
              "  }\n",
              "\n",
              "  .colab-df-quickchart:hover {\n",
              "    background-color: var(--hover-bg-color);\n",
              "    box-shadow: 0 1px 2px rgba(60, 64, 67, 0.3), 0 1px 3px 1px rgba(60, 64, 67, 0.15);\n",
              "    fill: var(--button-hover-fill-color);\n",
              "  }\n",
              "\n",
              "  .colab-df-quickchart-complete:disabled,\n",
              "  .colab-df-quickchart-complete:disabled:hover {\n",
              "    background-color: var(--disabled-bg-color);\n",
              "    fill: var(--disabled-fill-color);\n",
              "    box-shadow: none;\n",
              "  }\n",
              "\n",
              "  .colab-df-spinner {\n",
              "    border: 2px solid var(--fill-color);\n",
              "    border-color: transparent;\n",
              "    border-bottom-color: var(--fill-color);\n",
              "    animation:\n",
              "      spin 1s steps(1) infinite;\n",
              "  }\n",
              "\n",
              "  @keyframes spin {\n",
              "    0% {\n",
              "      border-color: transparent;\n",
              "      border-bottom-color: var(--fill-color);\n",
              "      border-left-color: var(--fill-color);\n",
              "    }\n",
              "    20% {\n",
              "      border-color: transparent;\n",
              "      border-left-color: var(--fill-color);\n",
              "      border-top-color: var(--fill-color);\n",
              "    }\n",
              "    30% {\n",
              "      border-color: transparent;\n",
              "      border-left-color: var(--fill-color);\n",
              "      border-top-color: var(--fill-color);\n",
              "      border-right-color: var(--fill-color);\n",
              "    }\n",
              "    40% {\n",
              "      border-color: transparent;\n",
              "      border-right-color: var(--fill-color);\n",
              "      border-top-color: var(--fill-color);\n",
              "    }\n",
              "    60% {\n",
              "      border-color: transparent;\n",
              "      border-right-color: var(--fill-color);\n",
              "    }\n",
              "    80% {\n",
              "      border-color: transparent;\n",
              "      border-right-color: var(--fill-color);\n",
              "      border-bottom-color: var(--fill-color);\n",
              "    }\n",
              "    90% {\n",
              "      border-color: transparent;\n",
              "      border-bottom-color: var(--fill-color);\n",
              "    }\n",
              "  }\n",
              "</style>\n",
              "\n",
              "  <script>\n",
              "    async function quickchart(key) {\n",
              "      const quickchartButtonEl =\n",
              "        document.querySelector('#' + key + ' button');\n",
              "      quickchartButtonEl.disabled = true;  // To prevent multiple clicks.\n",
              "      quickchartButtonEl.classList.add('colab-df-spinner');\n",
              "      try {\n",
              "        const charts = await google.colab.kernel.invokeFunction(\n",
              "            'suggestCharts', [key], {});\n",
              "      } catch (error) {\n",
              "        console.error('Error during call to suggestCharts:', error);\n",
              "      }\n",
              "      quickchartButtonEl.classList.remove('colab-df-spinner');\n",
              "      quickchartButtonEl.classList.add('colab-df-quickchart-complete');\n",
              "    }\n",
              "    (() => {\n",
              "      let quickchartButtonEl =\n",
              "        document.querySelector('#df-0744ffc3-f72f-4dec-b0ef-414365d17396 button');\n",
              "      quickchartButtonEl.style.display =\n",
              "        google.colab.kernel.accessAllowed ? 'block' : 'none';\n",
              "    })();\n",
              "  </script>\n",
              "</div>\n",
              "    </div>\n",
              "  </div>\n"
            ],
            "text/plain": [
              "                          id  start_date    end_date  created_on    latitud  \\\n",
              "25  CyZu6IaZgmQYGk8jmPajCg==  2021-09-09  2021-09-26  2021-09-09        NaN   \n",
              "42  d3Z0MblSb2IMBoOBMGJEEQ==  2021-09-09  2021-09-26  2021-09-09 -34.637319   \n",
              "43  rL7qPkQnomsMGu2ViS3sBw==  2021-09-09  2021-09-28  2021-09-09 -34.628647   \n",
              "49  vuX/ccLAMVml4qWRFcOJUA==  2021-09-09  2022-01-05  2021-09-09 -34.610027   \n",
              "51  ZTtSCeqZ3HUgf5jjwEzRcw==  2021-09-09  2022-03-09  2021-09-09 -34.631621   \n",
              "\n",
              "     longitud         place_l2 place_l3 place_l4 place_l5  place_l6 operation  \\\n",
              "25        NaN  Capital Federal      NaN      NaN      NaN       NaN     Venta   \n",
              "42 -58.361124  Capital Federal     Boca      NaN      NaN       NaN     Venta   \n",
              "43 -58.361871  Capital Federal     Boca      NaN      NaN       NaN     Venta   \n",
              "49 -58.401934  Capital Federal     Once      NaN      NaN       NaN     Venta   \n",
              "51 -58.416825  Capital Federal    Boedo      NaN      NaN       NaN     Venta   \n",
              "\n",
              "   property_type  property_rooms  property_bedrooms  property_surface_total  \\\n",
              "25          Casa             4.0                3.0                   171.0   \n",
              "42  Departamento             3.0                2.0                    58.0   \n",
              "43  Departamento             4.0                3.0                    70.0   \n",
              "49  Departamento             4.0                2.0                     NaN   \n",
              "51            PH             4.0                2.0                     NaN   \n",
              "\n",
              "    property_surface_covered  property_price property_currency  \\\n",
              "25                     133.0        210000.0               USD   \n",
              "42                      55.0         82900.0               USD   \n",
              "43                      70.0         99000.0               USD   \n",
              "49                     104.0        146000.0               USD   \n",
              "51                      73.0        250000.0               USD   \n",
              "\n",
              "                                 property_title  \n",
              "25  VENTA CASA LLAVE EN MANO - COSTA ESMERALDA   \n",
              "42       VENTA TRES AMBIENTES LA BOCA PISO ALTO  \n",
              "43   Departamento - 4 Ambientes - Catalinas Sur  \n",
              "49          Venta departamento 4 ambientes Once  \n",
              "51                                   PH - Boedo  "
            ]
          },
          "execution_count": 73,
          "metadata": {},
          "output_type": "execute_result"
        }
      ],
      "source": [
        "#Imprime las primeras filas del conjunto de entrenamiento\n",
        "print(\"Conjunto de Entrenamiento:\")\n",
        "conjunto_entrenamiento.head()\n",
        "\n"
      ]
    },
    {
      "cell_type": "markdown",
      "metadata": {
        "id": "XO-iFuBwj48T"
      },
      "source": [
        "#Conjunto de Prueba"
      ]
    },
    {
      "cell_type": "code",
      "execution_count": 83,
      "metadata": {
        "colab": {
          "base_uri": "https://localhost:8080/",
          "height": 469
        },
        "id": "f2o5vIKgjCwq",
        "outputId": "71a7abbd-deb4-4b61-873c-af6d2c5a665f"
      },
      "outputs": [
        {
          "name": "stdout",
          "output_type": "stream",
          "text": [
            "Conjunto de Prueba:\n"
          ]
        },
        {
          "data": {
            "application/vnd.google.colaboratory.intrinsic+json": {
              "repr_error": "0",
              "type": "dataframe",
              "variable_name": "conjunto_prueba"
            },
            "text/html": [
              "\n",
              "  <div id=\"df-1a972034-37db-4086-a710-f114ad3b0842\" class=\"colab-df-container\">\n",
              "    <div>\n",
              "<style scoped>\n",
              "    .dataframe tbody tr th:only-of-type {\n",
              "        vertical-align: middle;\n",
              "    }\n",
              "\n",
              "    .dataframe tbody tr th {\n",
              "        vertical-align: top;\n",
              "    }\n",
              "\n",
              "    .dataframe thead th {\n",
              "        text-align: right;\n",
              "    }\n",
              "</style>\n",
              "<table border=\"1\" class=\"dataframe\">\n",
              "  <thead>\n",
              "    <tr style=\"text-align: right;\">\n",
              "      <th></th>\n",
              "      <th>id</th>\n",
              "      <th>start_date</th>\n",
              "      <th>end_date</th>\n",
              "      <th>created_on</th>\n",
              "      <th>latitud</th>\n",
              "      <th>longitud</th>\n",
              "      <th>place_l2</th>\n",
              "      <th>place_l3</th>\n",
              "      <th>place_l4</th>\n",
              "      <th>place_l5</th>\n",
              "      <th>place_l6</th>\n",
              "      <th>operation</th>\n",
              "      <th>property_type</th>\n",
              "      <th>property_rooms</th>\n",
              "      <th>property_bedrooms</th>\n",
              "      <th>property_surface_total</th>\n",
              "      <th>property_surface_covered</th>\n",
              "      <th>property_price</th>\n",
              "      <th>property_currency</th>\n",
              "      <th>property_title</th>\n",
              "    </tr>\n",
              "  </thead>\n",
              "  <tbody>\n",
              "    <tr>\n",
              "      <th>372676</th>\n",
              "      <td>dSC4wqerxQ5zoezS10hyig==</td>\n",
              "      <td>2021-08-24</td>\n",
              "      <td>2021-08-27</td>\n",
              "      <td>2021-08-24</td>\n",
              "      <td>-34.594832</td>\n",
              "      <td>-58.419821</td>\n",
              "      <td>Capital Federal</td>\n",
              "      <td>Palermo</td>\n",
              "      <td>NaN</td>\n",
              "      <td>NaN</td>\n",
              "      <td>NaN</td>\n",
              "      <td>Venta</td>\n",
              "      <td>Departamento</td>\n",
              "      <td>1.0</td>\n",
              "      <td>1.0</td>\n",
              "      <td>26.0</td>\n",
              "      <td>26.0</td>\n",
              "      <td>64765.0</td>\n",
              "      <td>USD</td>\n",
              "      <td>MONOAMBIENTE EMPRENDIMIENTO PALERMO SOHO</td>\n",
              "    </tr>\n",
              "    <tr>\n",
              "      <th>372677</th>\n",
              "      <td>bObxHjQo1w/XUoA1CjdLtg==</td>\n",
              "      <td>2021-08-24</td>\n",
              "      <td>2021-08-24</td>\n",
              "      <td>2021-08-24</td>\n",
              "      <td>-34.585604</td>\n",
              "      <td>-58.423957</td>\n",
              "      <td>Capital Federal</td>\n",
              "      <td>Palermo</td>\n",
              "      <td>NaN</td>\n",
              "      <td>NaN</td>\n",
              "      <td>NaN</td>\n",
              "      <td>Venta</td>\n",
              "      <td>Departamento</td>\n",
              "      <td>1.0</td>\n",
              "      <td>NaN</td>\n",
              "      <td>32.0</td>\n",
              "      <td>30.0</td>\n",
              "      <td>110000.0</td>\n",
              "      <td>USD</td>\n",
              "      <td>Venta departamento en palermo monoambiente</td>\n",
              "    </tr>\n",
              "    <tr>\n",
              "      <th>372679</th>\n",
              "      <td>xIjDPpdsenrj6u6ErpdNhg==</td>\n",
              "      <td>2021-08-24</td>\n",
              "      <td>2021-08-27</td>\n",
              "      <td>2021-08-24</td>\n",
              "      <td>-34.582800</td>\n",
              "      <td>-58.442800</td>\n",
              "      <td>Capital Federal</td>\n",
              "      <td>Palermo</td>\n",
              "      <td>NaN</td>\n",
              "      <td>NaN</td>\n",
              "      <td>NaN</td>\n",
              "      <td>Venta</td>\n",
              "      <td>Departamento</td>\n",
              "      <td>1.0</td>\n",
              "      <td>1.0</td>\n",
              "      <td>36.0</td>\n",
              "      <td>32.0</td>\n",
              "      <td>93621.0</td>\n",
              "      <td>USD</td>\n",
              "      <td>VENTA 1 AMBIENTE de 32 a 66 m² -VIVIENDA/ ESTU...</td>\n",
              "    </tr>\n",
              "    <tr>\n",
              "      <th>372682</th>\n",
              "      <td>8b+kN4SeOF7UBH5dpfvg0Q==</td>\n",
              "      <td>2021-08-24</td>\n",
              "      <td>2021-10-18</td>\n",
              "      <td>2021-08-24</td>\n",
              "      <td>-34.577400</td>\n",
              "      <td>-58.433300</td>\n",
              "      <td>Capital Federal</td>\n",
              "      <td>Palermo</td>\n",
              "      <td>NaN</td>\n",
              "      <td>NaN</td>\n",
              "      <td>NaN</td>\n",
              "      <td>Venta</td>\n",
              "      <td>Departamento</td>\n",
              "      <td>2.0</td>\n",
              "      <td>1.0</td>\n",
              "      <td>42.0</td>\n",
              "      <td>38.0</td>\n",
              "      <td>79900.0</td>\n",
              "      <td>USD</td>\n",
              "      <td>VENTA DEPARTAMENTO 2 AMBIENTES EN PALERMO</td>\n",
              "    </tr>\n",
              "    <tr>\n",
              "      <th>372683</th>\n",
              "      <td>O1XW6eVlW04mfAkXRKePkQ==</td>\n",
              "      <td>2021-08-24</td>\n",
              "      <td>2022-03-21</td>\n",
              "      <td>2021-08-24</td>\n",
              "      <td>-34.575328</td>\n",
              "      <td>-58.420624</td>\n",
              "      <td>Capital Federal</td>\n",
              "      <td>Palermo</td>\n",
              "      <td>NaN</td>\n",
              "      <td>NaN</td>\n",
              "      <td>NaN</td>\n",
              "      <td>Venta</td>\n",
              "      <td>Departamento</td>\n",
              "      <td>2.0</td>\n",
              "      <td>NaN</td>\n",
              "      <td>47.0</td>\n",
              "      <td>41.0</td>\n",
              "      <td>155000.0</td>\n",
              "      <td>USD</td>\n",
              "      <td>DEPARTAMENTO DUPLEX 2 AMBIENTES CON 2 BALCONES...</td>\n",
              "    </tr>\n",
              "  </tbody>\n",
              "</table>\n",
              "</div>\n",
              "    <div class=\"colab-df-buttons\">\n",
              "\n",
              "  <div class=\"colab-df-container\">\n",
              "    <button class=\"colab-df-convert\" onclick=\"convertToInteractive('df-1a972034-37db-4086-a710-f114ad3b0842')\"\n",
              "            title=\"Convert this dataframe to an interactive table.\"\n",
              "            style=\"display:none;\">\n",
              "\n",
              "  <svg xmlns=\"http://www.w3.org/2000/svg\" height=\"24px\" viewBox=\"0 -960 960 960\">\n",
              "    <path d=\"M120-120v-720h720v720H120Zm60-500h600v-160H180v160Zm220 220h160v-160H400v160Zm0 220h160v-160H400v160ZM180-400h160v-160H180v160Zm440 0h160v-160H620v160ZM180-180h160v-160H180v160Zm440 0h160v-160H620v160Z\"/>\n",
              "  </svg>\n",
              "    </button>\n",
              "\n",
              "  <style>\n",
              "    .colab-df-container {\n",
              "      display:flex;\n",
              "      gap: 12px;\n",
              "    }\n",
              "\n",
              "    .colab-df-convert {\n",
              "      background-color: #E8F0FE;\n",
              "      border: none;\n",
              "      border-radius: 50%;\n",
              "      cursor: pointer;\n",
              "      display: none;\n",
              "      fill: #1967D2;\n",
              "      height: 32px;\n",
              "      padding: 0 0 0 0;\n",
              "      width: 32px;\n",
              "    }\n",
              "\n",
              "    .colab-df-convert:hover {\n",
              "      background-color: #E2EBFA;\n",
              "      box-shadow: 0px 1px 2px rgba(60, 64, 67, 0.3), 0px 1px 3px 1px rgba(60, 64, 67, 0.15);\n",
              "      fill: #174EA6;\n",
              "    }\n",
              "\n",
              "    .colab-df-buttons div {\n",
              "      margin-bottom: 4px;\n",
              "    }\n",
              "\n",
              "    [theme=dark] .colab-df-convert {\n",
              "      background-color: #3B4455;\n",
              "      fill: #D2E3FC;\n",
              "    }\n",
              "\n",
              "    [theme=dark] .colab-df-convert:hover {\n",
              "      background-color: #434B5C;\n",
              "      box-shadow: 0px 1px 3px 1px rgba(0, 0, 0, 0.15);\n",
              "      filter: drop-shadow(0px 1px 2px rgba(0, 0, 0, 0.3));\n",
              "      fill: #FFFFFF;\n",
              "    }\n",
              "  </style>\n",
              "\n",
              "    <script>\n",
              "      const buttonEl =\n",
              "        document.querySelector('#df-1a972034-37db-4086-a710-f114ad3b0842 button.colab-df-convert');\n",
              "      buttonEl.style.display =\n",
              "        google.colab.kernel.accessAllowed ? 'block' : 'none';\n",
              "\n",
              "      async function convertToInteractive(key) {\n",
              "        const element = document.querySelector('#df-1a972034-37db-4086-a710-f114ad3b0842');\n",
              "        const dataTable =\n",
              "          await google.colab.kernel.invokeFunction('convertToInteractive',\n",
              "                                                    [key], {});\n",
              "        if (!dataTable) return;\n",
              "\n",
              "        const docLinkHtml = 'Like what you see? Visit the ' +\n",
              "          '<a target=\"_blank\" href=https://colab.research.google.com/notebooks/data_table.ipynb>data table notebook</a>'\n",
              "          + ' to learn more about interactive tables.';\n",
              "        element.innerHTML = '';\n",
              "        dataTable['output_type'] = 'display_data';\n",
              "        await google.colab.output.renderOutput(dataTable, element);\n",
              "        const docLink = document.createElement('div');\n",
              "        docLink.innerHTML = docLinkHtml;\n",
              "        element.appendChild(docLink);\n",
              "      }\n",
              "    </script>\n",
              "  </div>\n",
              "\n",
              "\n",
              "<div id=\"df-f01ccd7d-ce10-4836-894b-95ea94f45653\">\n",
              "  <button class=\"colab-df-quickchart\" onclick=\"quickchart('df-f01ccd7d-ce10-4836-894b-95ea94f45653')\"\n",
              "            title=\"Suggest charts\"\n",
              "            style=\"display:none;\">\n",
              "\n",
              "<svg xmlns=\"http://www.w3.org/2000/svg\" height=\"24px\"viewBox=\"0 0 24 24\"\n",
              "     width=\"24px\">\n",
              "    <g>\n",
              "        <path d=\"M19 3H5c-1.1 0-2 .9-2 2v14c0 1.1.9 2 2 2h14c1.1 0 2-.9 2-2V5c0-1.1-.9-2-2-2zM9 17H7v-7h2v7zm4 0h-2V7h2v10zm4 0h-2v-4h2v4z\"/>\n",
              "    </g>\n",
              "</svg>\n",
              "  </button>\n",
              "\n",
              "<style>\n",
              "  .colab-df-quickchart {\n",
              "      --bg-color: #E8F0FE;\n",
              "      --fill-color: #1967D2;\n",
              "      --hover-bg-color: #E2EBFA;\n",
              "      --hover-fill-color: #174EA6;\n",
              "      --disabled-fill-color: #AAA;\n",
              "      --disabled-bg-color: #DDD;\n",
              "  }\n",
              "\n",
              "  [theme=dark] .colab-df-quickchart {\n",
              "      --bg-color: #3B4455;\n",
              "      --fill-color: #D2E3FC;\n",
              "      --hover-bg-color: #434B5C;\n",
              "      --hover-fill-color: #FFFFFF;\n",
              "      --disabled-bg-color: #3B4455;\n",
              "      --disabled-fill-color: #666;\n",
              "  }\n",
              "\n",
              "  .colab-df-quickchart {\n",
              "    background-color: var(--bg-color);\n",
              "    border: none;\n",
              "    border-radius: 50%;\n",
              "    cursor: pointer;\n",
              "    display: none;\n",
              "    fill: var(--fill-color);\n",
              "    height: 32px;\n",
              "    padding: 0;\n",
              "    width: 32px;\n",
              "  }\n",
              "\n",
              "  .colab-df-quickchart:hover {\n",
              "    background-color: var(--hover-bg-color);\n",
              "    box-shadow: 0 1px 2px rgba(60, 64, 67, 0.3), 0 1px 3px 1px rgba(60, 64, 67, 0.15);\n",
              "    fill: var(--button-hover-fill-color);\n",
              "  }\n",
              "\n",
              "  .colab-df-quickchart-complete:disabled,\n",
              "  .colab-df-quickchart-complete:disabled:hover {\n",
              "    background-color: var(--disabled-bg-color);\n",
              "    fill: var(--disabled-fill-color);\n",
              "    box-shadow: none;\n",
              "  }\n",
              "\n",
              "  .colab-df-spinner {\n",
              "    border: 2px solid var(--fill-color);\n",
              "    border-color: transparent;\n",
              "    border-bottom-color: var(--fill-color);\n",
              "    animation:\n",
              "      spin 1s steps(1) infinite;\n",
              "  }\n",
              "\n",
              "  @keyframes spin {\n",
              "    0% {\n",
              "      border-color: transparent;\n",
              "      border-bottom-color: var(--fill-color);\n",
              "      border-left-color: var(--fill-color);\n",
              "    }\n",
              "    20% {\n",
              "      border-color: transparent;\n",
              "      border-left-color: var(--fill-color);\n",
              "      border-top-color: var(--fill-color);\n",
              "    }\n",
              "    30% {\n",
              "      border-color: transparent;\n",
              "      border-left-color: var(--fill-color);\n",
              "      border-top-color: var(--fill-color);\n",
              "      border-right-color: var(--fill-color);\n",
              "    }\n",
              "    40% {\n",
              "      border-color: transparent;\n",
              "      border-right-color: var(--fill-color);\n",
              "      border-top-color: var(--fill-color);\n",
              "    }\n",
              "    60% {\n",
              "      border-color: transparent;\n",
              "      border-right-color: var(--fill-color);\n",
              "    }\n",
              "    80% {\n",
              "      border-color: transparent;\n",
              "      border-right-color: var(--fill-color);\n",
              "      border-bottom-color: var(--fill-color);\n",
              "    }\n",
              "    90% {\n",
              "      border-color: transparent;\n",
              "      border-bottom-color: var(--fill-color);\n",
              "    }\n",
              "  }\n",
              "</style>\n",
              "\n",
              "  <script>\n",
              "    async function quickchart(key) {\n",
              "      const quickchartButtonEl =\n",
              "        document.querySelector('#' + key + ' button');\n",
              "      quickchartButtonEl.disabled = true;  // To prevent multiple clicks.\n",
              "      quickchartButtonEl.classList.add('colab-df-spinner');\n",
              "      try {\n",
              "        const charts = await google.colab.kernel.invokeFunction(\n",
              "            'suggestCharts', [key], {});\n",
              "      } catch (error) {\n",
              "        console.error('Error during call to suggestCharts:', error);\n",
              "      }\n",
              "      quickchartButtonEl.classList.remove('colab-df-spinner');\n",
              "      quickchartButtonEl.classList.add('colab-df-quickchart-complete');\n",
              "    }\n",
              "    (() => {\n",
              "      let quickchartButtonEl =\n",
              "        document.querySelector('#df-f01ccd7d-ce10-4836-894b-95ea94f45653 button');\n",
              "      quickchartButtonEl.style.display =\n",
              "        google.colab.kernel.accessAllowed ? 'block' : 'none';\n",
              "    })();\n",
              "  </script>\n",
              "</div>\n",
              "    </div>\n",
              "  </div>\n"
            ],
            "text/plain": [
              "                              id  start_date    end_date  created_on  \\\n",
              "372676  dSC4wqerxQ5zoezS10hyig==  2021-08-24  2021-08-27  2021-08-24   \n",
              "372677  bObxHjQo1w/XUoA1CjdLtg==  2021-08-24  2021-08-24  2021-08-24   \n",
              "372679  xIjDPpdsenrj6u6ErpdNhg==  2021-08-24  2021-08-27  2021-08-24   \n",
              "372682  8b+kN4SeOF7UBH5dpfvg0Q==  2021-08-24  2021-10-18  2021-08-24   \n",
              "372683  O1XW6eVlW04mfAkXRKePkQ==  2021-08-24  2022-03-21  2021-08-24   \n",
              "\n",
              "          latitud   longitud         place_l2 place_l3 place_l4 place_l5  \\\n",
              "372676 -34.594832 -58.419821  Capital Federal  Palermo      NaN      NaN   \n",
              "372677 -34.585604 -58.423957  Capital Federal  Palermo      NaN      NaN   \n",
              "372679 -34.582800 -58.442800  Capital Federal  Palermo      NaN      NaN   \n",
              "372682 -34.577400 -58.433300  Capital Federal  Palermo      NaN      NaN   \n",
              "372683 -34.575328 -58.420624  Capital Federal  Palermo      NaN      NaN   \n",
              "\n",
              "        place_l6 operation property_type  property_rooms  property_bedrooms  \\\n",
              "372676       NaN     Venta  Departamento             1.0                1.0   \n",
              "372677       NaN     Venta  Departamento             1.0                NaN   \n",
              "372679       NaN     Venta  Departamento             1.0                1.0   \n",
              "372682       NaN     Venta  Departamento             2.0                1.0   \n",
              "372683       NaN     Venta  Departamento             2.0                NaN   \n",
              "\n",
              "        property_surface_total  property_surface_covered  property_price  \\\n",
              "372676                    26.0                      26.0         64765.0   \n",
              "372677                    32.0                      30.0        110000.0   \n",
              "372679                    36.0                      32.0         93621.0   \n",
              "372682                    42.0                      38.0         79900.0   \n",
              "372683                    47.0                      41.0        155000.0   \n",
              "\n",
              "       property_currency                                     property_title  \n",
              "372676               USD           MONOAMBIENTE EMPRENDIMIENTO PALERMO SOHO  \n",
              "372677               USD         Venta departamento en palermo monoambiente  \n",
              "372679               USD  VENTA 1 AMBIENTE de 32 a 66 m² -VIVIENDA/ ESTU...  \n",
              "372682               USD          VENTA DEPARTAMENTO 2 AMBIENTES EN PALERMO  \n",
              "372683               USD  DEPARTAMENTO DUPLEX 2 AMBIENTES CON 2 BALCONES...  "
            ]
          },
          "execution_count": 83,
          "metadata": {},
          "output_type": "execute_result"
        }
      ],
      "source": [
        "#Imprime las primeras filas del conjunto de pruebas\n",
        "print(\"Conjunto de Prueba:\")\n",
        "conjunto_prueba.head()"
      ]
    },
    {
      "cell_type": "markdown",
      "metadata": {
        "id": "HDrAfE-Tmoxk"
      },
      "source": [
        "#Cantidad de propiedades que quedaron en el conjunto de entrenamiento y de prueba\n",
        "\n"
      ]
    },
    {
      "cell_type": "code",
      "execution_count": 80,
      "metadata": {
        "colab": {
          "base_uri": "https://localhost:8080/"
        },
        "id": "6lvnDVZ4jePd",
        "outputId": "0db4d82c-ed56-4b76-98cc-29766ecccc6a"
      },
      "outputs": [
        {
          "data": {
            "text/plain": [
              "(75399, 20)"
            ]
          },
          "execution_count": 80,
          "metadata": {},
          "output_type": "execute_result"
        }
      ],
      "source": [
        "conjunto_entrenamiento.shape\n"
      ]
    },
    {
      "cell_type": "code",
      "execution_count": 82,
      "metadata": {
        "colab": {
          "base_uri": "https://localhost:8080/"
        },
        "id": "3InIM_nMjkLU",
        "outputId": "6477a096-c1ee-4b2c-f435-be6b69ef4d1e"
      },
      "outputs": [
        {
          "data": {
            "text/plain": [
              "(18850, 20)"
            ]
          },
          "execution_count": 82,
          "metadata": {},
          "output_type": "execute_result"
        }
      ],
      "source": [
        "conjunto_prueba.shape"
      ]
    }
  ],
  "metadata": {
    "colab": {
      "provenance": []
    },
    "kernelspec": {
      "display_name": "Python 3",
      "name": "python3"
    },
    "language_info": {
      "codemirror_mode": {
        "name": "ipython",
        "version": 3
      },
      "file_extension": ".py",
      "mimetype": "text/x-python",
      "name": "python",
      "nbconvert_exporter": "python",
      "pygments_lexer": "ipython3",
      "version": "3.9.7"
    }
  },
  "nbformat": 4,
  "nbformat_minor": 0
}
