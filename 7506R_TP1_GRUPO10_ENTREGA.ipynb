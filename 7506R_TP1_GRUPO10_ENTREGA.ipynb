{
  "cells": [
    {
      "cell_type": "markdown",
      "metadata": {
        "id": "_hMpCS6QHnDp"
      },
      "source": [
        "#  <center> </center>\n",
        "# <center>Trabajo Practico 1 </center>\n",
        "### <center>Grupo 10 </center>\n",
        "## Integrantes:\n",
        "#### Alan Richmond\n",
        "#### Flavian Ferré\n",
        "#### Camila Lucia Avalos\n",
        "#### Alan Mejia"
      ]
    },
    {
      "cell_type": "markdown",
      "metadata": {},
      "source": [
        "# 0. Inicializacion de los datos"
      ]
    },
    {
      "cell_type": "markdown",
      "metadata": {
        "id": "Vxvy62s9DqD_"
      },
      "source": [
        "### Importando Librerias\n"
      ]
    },
    {
      "cell_type": "code",
      "execution_count": 28,
      "metadata": {
        "id": "LKi8sj-4DbI7"
      },
      "outputs": [],
      "source": [
        "#Manipulacion de datos\n",
        "import pandas as pd\n",
        "import numpy as np\n",
        "import seaborn as sns\n",
        "\n",
        "from pandas.plotting import scatter_matrix"
      ]
    },
    {
      "cell_type": "markdown",
      "metadata": {
        "id": "PmOgvZdZJPy1"
      },
      "source": [
        "### Seleccion de datos\n",
        "\n",
        "Cargamos el archivo de datos en un dataframe de Pandas"
      ]
    },
    {
      "cell_type": "code",
      "execution_count": 3,
      "metadata": {
        "id": "TWbGCMGjJTuu"
      },
      "outputs": [],
      "source": [
        "df_properati = pd.read_csv('Datasets/properati_argentina_2021.csv')"
      ]
    },
    {
      "cell_type": "markdown",
      "metadata": {
        "id": "3caPLDN7OSdF"
      },
      "source": [
        "Realizamos una copia del dataset sobre el cual vamos a trabajar para no alterar los datos originales"
      ]
    },
    {
      "cell_type": "code",
      "execution_count": 4,
      "metadata": {
        "id": "WLhcf5TnOTl9"
      },
      "outputs": [],
      "source": [
        "df_trabajo = df_properati.copy()"
      ]
    },
    {
      "cell_type": "markdown",
      "metadata": {
        "id": "UYw6-_V2Paj5"
      },
      "source": [
        "#cantidad de columnas y filas del df inicial"
      ]
    },
    {
      "cell_type": "code",
      "execution_count": 5,
      "metadata": {
        "colab": {
          "base_uri": "https://localhost:8080/"
        },
        "id": "zjX_ebGTPEvB",
        "outputId": "d5601e24-e163-4837-8548-b1a6336b4cda"
      },
      "outputs": [
        {
          "data": {
            "text/plain": [
              "(460154, 20)"
            ]
          },
          "execution_count": 5,
          "metadata": {},
          "output_type": "execute_result"
        }
      ],
      "source": [
        "df_trabajo.shape"
      ]
    },
    {
      "cell_type": "markdown",
      "metadata": {
        "id": "ui5mCRXbXvY-"
      },
      "source": [
        "#Filtrado de los datos que se van a utilizar."
      ]
    },
    {
      "cell_type": "code",
      "execution_count": 6,
      "metadata": {
        "id": "x_mx8pdWX2Db"
      },
      "outputs": [],
      "source": [
        "#filtrando solo las propiedades que esten publicadas en dolares\n",
        "filtrado_de_moneda = (df_trabajo[\"property_currency\"] == \"USD\")"
      ]
    },
    {
      "cell_type": "code",
      "execution_count": 7,
      "metadata": {
        "id": "54unbeHba5H3"
      },
      "outputs": [],
      "source": [
        "#filtrando solo las propiedades que sean casa,ph y departamento\n",
        "tipos_propiedad = [\"Casa\", \"PH\", \"Departamento\"]\n",
        "filtrado_de_vivienda = (df_trabajo[\"property_type\"].isin(tipos_propiedad))"
      ]
    },
    {
      "cell_type": "code",
      "execution_count": 8,
      "metadata": {
        "id": "iWBcLQKhbXBe"
      },
      "outputs": [],
      "source": [
        "#filtrando solo las propiedades que esten en Venta\n",
        "filtrado_de_operacion = (df_trabajo[\"operation\"] == \"Venta\")"
      ]
    },
    {
      "cell_type": "code",
      "execution_count": 9,
      "metadata": {
        "id": "3wpYWtmybvTw"
      },
      "outputs": [],
      "source": [
        "#filtrando solo las propiedades que esten ubicadas en capital federal\n",
        "filtrado_de_ubicacion = (df_trabajo[\"place_l2\"] == \"Capital Federal\")"
      ]
    },
    {
      "cell_type": "code",
      "execution_count": 10,
      "metadata": {
        "id": "lX-uNq8udRF4"
      },
      "outputs": [],
      "source": [
        "# Se juntan todos los filtrados que se tienen que cumplir\n",
        "filtrados_unidos = filtrado_de_moneda & filtrado_de_vivienda & filtrado_de_operacion & filtrado_de_ubicacion"
      ]
    },
    {
      "cell_type": "code",
      "execution_count": 11,
      "metadata": {
        "id": "-yn1_NymZatU"
      },
      "outputs": [],
      "source": [
        "df_filtrado = df_trabajo[filtrados_unidos]"
      ]
    },
    {
      "cell_type": "markdown",
      "metadata": {
        "id": "jln5hHGyd4bC"
      },
      "source": [
        "Cantidad de Filas y Columnas que quedaron luego de la filtracion"
      ]
    },
    {
      "cell_type": "code",
      "execution_count": 12,
      "metadata": {
        "colab": {
          "base_uri": "https://localhost:8080/"
        },
        "id": "f1vUpgPGZnWz",
        "outputId": "3bc170ae-1a00-4da8-caff-ead8ba473e72"
      },
      "outputs": [
        {
          "data": {
            "text/plain": [
              "(94249, 20)"
            ]
          },
          "execution_count": 12,
          "metadata": {},
          "output_type": "execute_result"
        }
      ],
      "source": [
        "df_filtrado.shape"
      ]
    },
    {
      "cell_type": "markdown",
      "metadata": {
        "id": "wcI49T6Oilwk"
      },
      "source": [
        "### Dividir en conjuntos de entrenamiento y prueba"
      ]
    },
    {
      "cell_type": "code",
      "execution_count": 13,
      "metadata": {
        "id": "_mtNuEnCiRXF"
      },
      "outputs": [],
      "source": [
        "total_filas = len(df_filtrado)\n",
        "filas_entrenamiento = int(0.8 * total_filas)\n",
        "\n",
        "conjunto_entrenamiento = df_filtrado[:filas_entrenamiento]\n",
        "conjunto_prueba = df_filtrado[filas_entrenamiento:]\n"
      ]
    },
    {
      "cell_type": "markdown",
      "metadata": {
        "id": "2Fnne3z1jzNZ"
      },
      "source": [
        "#Conjunto de entrenamiento"
      ]
    },
    {
      "cell_type": "code",
      "execution_count": 14,
      "metadata": {
        "colab": {
          "base_uri": "https://localhost:8080/",
          "height": 434
        },
        "id": "bBeePYnoiq4b",
        "outputId": "649c9784-35b2-4059-b962-b668d96c8669"
      },
      "outputs": [
        {
          "name": "stdout",
          "output_type": "stream",
          "text": [
            "Conjunto de Entrenamiento:\n"
          ]
        },
        {
          "data": {
            "text/html": [
              "<div>\n",
              "<style scoped>\n",
              "    .dataframe tbody tr th:only-of-type {\n",
              "        vertical-align: middle;\n",
              "    }\n",
              "\n",
              "    .dataframe tbody tr th {\n",
              "        vertical-align: top;\n",
              "    }\n",
              "\n",
              "    .dataframe thead th {\n",
              "        text-align: right;\n",
              "    }\n",
              "</style>\n",
              "<table border=\"1\" class=\"dataframe\">\n",
              "  <thead>\n",
              "    <tr style=\"text-align: right;\">\n",
              "      <th></th>\n",
              "      <th>id</th>\n",
              "      <th>start_date</th>\n",
              "      <th>end_date</th>\n",
              "      <th>created_on</th>\n",
              "      <th>latitud</th>\n",
              "      <th>longitud</th>\n",
              "      <th>place_l2</th>\n",
              "      <th>place_l3</th>\n",
              "      <th>place_l4</th>\n",
              "      <th>place_l5</th>\n",
              "      <th>place_l6</th>\n",
              "      <th>operation</th>\n",
              "      <th>property_type</th>\n",
              "      <th>property_rooms</th>\n",
              "      <th>property_bedrooms</th>\n",
              "      <th>property_surface_total</th>\n",
              "      <th>property_surface_covered</th>\n",
              "      <th>property_price</th>\n",
              "      <th>property_currency</th>\n",
              "      <th>property_title</th>\n",
              "    </tr>\n",
              "  </thead>\n",
              "  <tbody>\n",
              "    <tr>\n",
              "      <th>25</th>\n",
              "      <td>CyZu6IaZgmQYGk8jmPajCg==</td>\n",
              "      <td>2021-09-09</td>\n",
              "      <td>2021-09-26</td>\n",
              "      <td>2021-09-09</td>\n",
              "      <td>NaN</td>\n",
              "      <td>NaN</td>\n",
              "      <td>Capital Federal</td>\n",
              "      <td>NaN</td>\n",
              "      <td>NaN</td>\n",
              "      <td>NaN</td>\n",
              "      <td>NaN</td>\n",
              "      <td>Venta</td>\n",
              "      <td>Casa</td>\n",
              "      <td>4.0</td>\n",
              "      <td>3.0</td>\n",
              "      <td>171.0</td>\n",
              "      <td>133.0</td>\n",
              "      <td>210000.0</td>\n",
              "      <td>USD</td>\n",
              "      <td>VENTA CASA LLAVE EN MANO - COSTA ESMERALDA</td>\n",
              "    </tr>\n",
              "    <tr>\n",
              "      <th>42</th>\n",
              "      <td>d3Z0MblSb2IMBoOBMGJEEQ==</td>\n",
              "      <td>2021-09-09</td>\n",
              "      <td>2021-09-26</td>\n",
              "      <td>2021-09-09</td>\n",
              "      <td>-34.637319</td>\n",
              "      <td>-58.361124</td>\n",
              "      <td>Capital Federal</td>\n",
              "      <td>Boca</td>\n",
              "      <td>NaN</td>\n",
              "      <td>NaN</td>\n",
              "      <td>NaN</td>\n",
              "      <td>Venta</td>\n",
              "      <td>Departamento</td>\n",
              "      <td>3.0</td>\n",
              "      <td>2.0</td>\n",
              "      <td>58.0</td>\n",
              "      <td>55.0</td>\n",
              "      <td>82900.0</td>\n",
              "      <td>USD</td>\n",
              "      <td>VENTA TRES AMBIENTES LA BOCA PISO ALTO</td>\n",
              "    </tr>\n",
              "    <tr>\n",
              "      <th>43</th>\n",
              "      <td>rL7qPkQnomsMGu2ViS3sBw==</td>\n",
              "      <td>2021-09-09</td>\n",
              "      <td>2021-09-28</td>\n",
              "      <td>2021-09-09</td>\n",
              "      <td>-34.628647</td>\n",
              "      <td>-58.361871</td>\n",
              "      <td>Capital Federal</td>\n",
              "      <td>Boca</td>\n",
              "      <td>NaN</td>\n",
              "      <td>NaN</td>\n",
              "      <td>NaN</td>\n",
              "      <td>Venta</td>\n",
              "      <td>Departamento</td>\n",
              "      <td>4.0</td>\n",
              "      <td>3.0</td>\n",
              "      <td>70.0</td>\n",
              "      <td>70.0</td>\n",
              "      <td>99000.0</td>\n",
              "      <td>USD</td>\n",
              "      <td>Departamento - 4 Ambientes - Catalinas Sur</td>\n",
              "    </tr>\n",
              "    <tr>\n",
              "      <th>49</th>\n",
              "      <td>vuX/ccLAMVml4qWRFcOJUA==</td>\n",
              "      <td>2021-09-09</td>\n",
              "      <td>2022-01-05</td>\n",
              "      <td>2021-09-09</td>\n",
              "      <td>-34.610027</td>\n",
              "      <td>-58.401934</td>\n",
              "      <td>Capital Federal</td>\n",
              "      <td>Once</td>\n",
              "      <td>NaN</td>\n",
              "      <td>NaN</td>\n",
              "      <td>NaN</td>\n",
              "      <td>Venta</td>\n",
              "      <td>Departamento</td>\n",
              "      <td>4.0</td>\n",
              "      <td>2.0</td>\n",
              "      <td>NaN</td>\n",
              "      <td>104.0</td>\n",
              "      <td>146000.0</td>\n",
              "      <td>USD</td>\n",
              "      <td>Venta departamento 4 ambientes Once</td>\n",
              "    </tr>\n",
              "    <tr>\n",
              "      <th>51</th>\n",
              "      <td>ZTtSCeqZ3HUgf5jjwEzRcw==</td>\n",
              "      <td>2021-09-09</td>\n",
              "      <td>2022-03-09</td>\n",
              "      <td>2021-09-09</td>\n",
              "      <td>-34.631621</td>\n",
              "      <td>-58.416825</td>\n",
              "      <td>Capital Federal</td>\n",
              "      <td>Boedo</td>\n",
              "      <td>NaN</td>\n",
              "      <td>NaN</td>\n",
              "      <td>NaN</td>\n",
              "      <td>Venta</td>\n",
              "      <td>PH</td>\n",
              "      <td>4.0</td>\n",
              "      <td>2.0</td>\n",
              "      <td>NaN</td>\n",
              "      <td>73.0</td>\n",
              "      <td>250000.0</td>\n",
              "      <td>USD</td>\n",
              "      <td>PH - Boedo</td>\n",
              "    </tr>\n",
              "  </tbody>\n",
              "</table>\n",
              "</div>"
            ],
            "text/plain": [
              "                          id  start_date    end_date  created_on    latitud  \\\n",
              "25  CyZu6IaZgmQYGk8jmPajCg==  2021-09-09  2021-09-26  2021-09-09        NaN   \n",
              "42  d3Z0MblSb2IMBoOBMGJEEQ==  2021-09-09  2021-09-26  2021-09-09 -34.637319   \n",
              "43  rL7qPkQnomsMGu2ViS3sBw==  2021-09-09  2021-09-28  2021-09-09 -34.628647   \n",
              "49  vuX/ccLAMVml4qWRFcOJUA==  2021-09-09  2022-01-05  2021-09-09 -34.610027   \n",
              "51  ZTtSCeqZ3HUgf5jjwEzRcw==  2021-09-09  2022-03-09  2021-09-09 -34.631621   \n",
              "\n",
              "     longitud         place_l2 place_l3 place_l4 place_l5  place_l6 operation  \\\n",
              "25        NaN  Capital Federal      NaN      NaN      NaN       NaN     Venta   \n",
              "42 -58.361124  Capital Federal     Boca      NaN      NaN       NaN     Venta   \n",
              "43 -58.361871  Capital Federal     Boca      NaN      NaN       NaN     Venta   \n",
              "49 -58.401934  Capital Federal     Once      NaN      NaN       NaN     Venta   \n",
              "51 -58.416825  Capital Federal    Boedo      NaN      NaN       NaN     Venta   \n",
              "\n",
              "   property_type  property_rooms  property_bedrooms  property_surface_total  \\\n",
              "25          Casa             4.0                3.0                   171.0   \n",
              "42  Departamento             3.0                2.0                    58.0   \n",
              "43  Departamento             4.0                3.0                    70.0   \n",
              "49  Departamento             4.0                2.0                     NaN   \n",
              "51            PH             4.0                2.0                     NaN   \n",
              "\n",
              "    property_surface_covered  property_price property_currency  \\\n",
              "25                     133.0        210000.0               USD   \n",
              "42                      55.0         82900.0               USD   \n",
              "43                      70.0         99000.0               USD   \n",
              "49                     104.0        146000.0               USD   \n",
              "51                      73.0        250000.0               USD   \n",
              "\n",
              "                                 property_title  \n",
              "25  VENTA CASA LLAVE EN MANO - COSTA ESMERALDA   \n",
              "42       VENTA TRES AMBIENTES LA BOCA PISO ALTO  \n",
              "43   Departamento - 4 Ambientes - Catalinas Sur  \n",
              "49          Venta departamento 4 ambientes Once  \n",
              "51                                   PH - Boedo  "
            ]
          },
          "execution_count": 14,
          "metadata": {},
          "output_type": "execute_result"
        }
      ],
      "source": [
        "#Imprime las primeras filas del conjunto de entrenamiento\n",
        "print(\"Conjunto de Entrenamiento:\")\n",
        "conjunto_entrenamiento.head()\n",
        "\n"
      ]
    },
    {
      "cell_type": "markdown",
      "metadata": {
        "id": "XO-iFuBwj48T"
      },
      "source": [
        "#Conjunto de Prueba"
      ]
    },
    {
      "cell_type": "code",
      "execution_count": 15,
      "metadata": {
        "colab": {
          "base_uri": "https://localhost:8080/",
          "height": 469
        },
        "id": "f2o5vIKgjCwq",
        "outputId": "71a7abbd-deb4-4b61-873c-af6d2c5a665f"
      },
      "outputs": [
        {
          "name": "stdout",
          "output_type": "stream",
          "text": [
            "Conjunto de Prueba:\n"
          ]
        },
        {
          "data": {
            "text/html": [
              "<div>\n",
              "<style scoped>\n",
              "    .dataframe tbody tr th:only-of-type {\n",
              "        vertical-align: middle;\n",
              "    }\n",
              "\n",
              "    .dataframe tbody tr th {\n",
              "        vertical-align: top;\n",
              "    }\n",
              "\n",
              "    .dataframe thead th {\n",
              "        text-align: right;\n",
              "    }\n",
              "</style>\n",
              "<table border=\"1\" class=\"dataframe\">\n",
              "  <thead>\n",
              "    <tr style=\"text-align: right;\">\n",
              "      <th></th>\n",
              "      <th>id</th>\n",
              "      <th>start_date</th>\n",
              "      <th>end_date</th>\n",
              "      <th>created_on</th>\n",
              "      <th>latitud</th>\n",
              "      <th>longitud</th>\n",
              "      <th>place_l2</th>\n",
              "      <th>place_l3</th>\n",
              "      <th>place_l4</th>\n",
              "      <th>place_l5</th>\n",
              "      <th>place_l6</th>\n",
              "      <th>operation</th>\n",
              "      <th>property_type</th>\n",
              "      <th>property_rooms</th>\n",
              "      <th>property_bedrooms</th>\n",
              "      <th>property_surface_total</th>\n",
              "      <th>property_surface_covered</th>\n",
              "      <th>property_price</th>\n",
              "      <th>property_currency</th>\n",
              "      <th>property_title</th>\n",
              "    </tr>\n",
              "  </thead>\n",
              "  <tbody>\n",
              "    <tr>\n",
              "      <th>372676</th>\n",
              "      <td>dSC4wqerxQ5zoezS10hyig==</td>\n",
              "      <td>2021-08-24</td>\n",
              "      <td>2021-08-27</td>\n",
              "      <td>2021-08-24</td>\n",
              "      <td>-34.594832</td>\n",
              "      <td>-58.419821</td>\n",
              "      <td>Capital Federal</td>\n",
              "      <td>Palermo</td>\n",
              "      <td>NaN</td>\n",
              "      <td>NaN</td>\n",
              "      <td>NaN</td>\n",
              "      <td>Venta</td>\n",
              "      <td>Departamento</td>\n",
              "      <td>1.0</td>\n",
              "      <td>1.0</td>\n",
              "      <td>26.0</td>\n",
              "      <td>26.0</td>\n",
              "      <td>64765.0</td>\n",
              "      <td>USD</td>\n",
              "      <td>MONOAMBIENTE EMPRENDIMIENTO PALERMO SOHO</td>\n",
              "    </tr>\n",
              "    <tr>\n",
              "      <th>372677</th>\n",
              "      <td>bObxHjQo1w/XUoA1CjdLtg==</td>\n",
              "      <td>2021-08-24</td>\n",
              "      <td>2021-08-24</td>\n",
              "      <td>2021-08-24</td>\n",
              "      <td>-34.585604</td>\n",
              "      <td>-58.423957</td>\n",
              "      <td>Capital Federal</td>\n",
              "      <td>Palermo</td>\n",
              "      <td>NaN</td>\n",
              "      <td>NaN</td>\n",
              "      <td>NaN</td>\n",
              "      <td>Venta</td>\n",
              "      <td>Departamento</td>\n",
              "      <td>1.0</td>\n",
              "      <td>NaN</td>\n",
              "      <td>32.0</td>\n",
              "      <td>30.0</td>\n",
              "      <td>110000.0</td>\n",
              "      <td>USD</td>\n",
              "      <td>Venta departamento en palermo monoambiente</td>\n",
              "    </tr>\n",
              "    <tr>\n",
              "      <th>372679</th>\n",
              "      <td>xIjDPpdsenrj6u6ErpdNhg==</td>\n",
              "      <td>2021-08-24</td>\n",
              "      <td>2021-08-27</td>\n",
              "      <td>2021-08-24</td>\n",
              "      <td>-34.582800</td>\n",
              "      <td>-58.442800</td>\n",
              "      <td>Capital Federal</td>\n",
              "      <td>Palermo</td>\n",
              "      <td>NaN</td>\n",
              "      <td>NaN</td>\n",
              "      <td>NaN</td>\n",
              "      <td>Venta</td>\n",
              "      <td>Departamento</td>\n",
              "      <td>1.0</td>\n",
              "      <td>1.0</td>\n",
              "      <td>36.0</td>\n",
              "      <td>32.0</td>\n",
              "      <td>93621.0</td>\n",
              "      <td>USD</td>\n",
              "      <td>VENTA 1 AMBIENTE de 32 a 66 m² -VIVIENDA/ ESTU...</td>\n",
              "    </tr>\n",
              "    <tr>\n",
              "      <th>372682</th>\n",
              "      <td>8b+kN4SeOF7UBH5dpfvg0Q==</td>\n",
              "      <td>2021-08-24</td>\n",
              "      <td>2021-10-18</td>\n",
              "      <td>2021-08-24</td>\n",
              "      <td>-34.577400</td>\n",
              "      <td>-58.433300</td>\n",
              "      <td>Capital Federal</td>\n",
              "      <td>Palermo</td>\n",
              "      <td>NaN</td>\n",
              "      <td>NaN</td>\n",
              "      <td>NaN</td>\n",
              "      <td>Venta</td>\n",
              "      <td>Departamento</td>\n",
              "      <td>2.0</td>\n",
              "      <td>1.0</td>\n",
              "      <td>42.0</td>\n",
              "      <td>38.0</td>\n",
              "      <td>79900.0</td>\n",
              "      <td>USD</td>\n",
              "      <td>VENTA DEPARTAMENTO 2 AMBIENTES EN PALERMO</td>\n",
              "    </tr>\n",
              "    <tr>\n",
              "      <th>372683</th>\n",
              "      <td>O1XW6eVlW04mfAkXRKePkQ==</td>\n",
              "      <td>2021-08-24</td>\n",
              "      <td>2022-03-21</td>\n",
              "      <td>2021-08-24</td>\n",
              "      <td>-34.575328</td>\n",
              "      <td>-58.420624</td>\n",
              "      <td>Capital Federal</td>\n",
              "      <td>Palermo</td>\n",
              "      <td>NaN</td>\n",
              "      <td>NaN</td>\n",
              "      <td>NaN</td>\n",
              "      <td>Venta</td>\n",
              "      <td>Departamento</td>\n",
              "      <td>2.0</td>\n",
              "      <td>NaN</td>\n",
              "      <td>47.0</td>\n",
              "      <td>41.0</td>\n",
              "      <td>155000.0</td>\n",
              "      <td>USD</td>\n",
              "      <td>DEPARTAMENTO DUPLEX 2 AMBIENTES CON 2 BALCONES...</td>\n",
              "    </tr>\n",
              "  </tbody>\n",
              "</table>\n",
              "</div>"
            ],
            "text/plain": [
              "                              id  start_date    end_date  created_on  \\\n",
              "372676  dSC4wqerxQ5zoezS10hyig==  2021-08-24  2021-08-27  2021-08-24   \n",
              "372677  bObxHjQo1w/XUoA1CjdLtg==  2021-08-24  2021-08-24  2021-08-24   \n",
              "372679  xIjDPpdsenrj6u6ErpdNhg==  2021-08-24  2021-08-27  2021-08-24   \n",
              "372682  8b+kN4SeOF7UBH5dpfvg0Q==  2021-08-24  2021-10-18  2021-08-24   \n",
              "372683  O1XW6eVlW04mfAkXRKePkQ==  2021-08-24  2022-03-21  2021-08-24   \n",
              "\n",
              "          latitud   longitud         place_l2 place_l3 place_l4 place_l5  \\\n",
              "372676 -34.594832 -58.419821  Capital Federal  Palermo      NaN      NaN   \n",
              "372677 -34.585604 -58.423957  Capital Federal  Palermo      NaN      NaN   \n",
              "372679 -34.582800 -58.442800  Capital Federal  Palermo      NaN      NaN   \n",
              "372682 -34.577400 -58.433300  Capital Federal  Palermo      NaN      NaN   \n",
              "372683 -34.575328 -58.420624  Capital Federal  Palermo      NaN      NaN   \n",
              "\n",
              "        place_l6 operation property_type  property_rooms  property_bedrooms  \\\n",
              "372676       NaN     Venta  Departamento             1.0                1.0   \n",
              "372677       NaN     Venta  Departamento             1.0                NaN   \n",
              "372679       NaN     Venta  Departamento             1.0                1.0   \n",
              "372682       NaN     Venta  Departamento             2.0                1.0   \n",
              "372683       NaN     Venta  Departamento             2.0                NaN   \n",
              "\n",
              "        property_surface_total  property_surface_covered  property_price  \\\n",
              "372676                    26.0                      26.0         64765.0   \n",
              "372677                    32.0                      30.0        110000.0   \n",
              "372679                    36.0                      32.0         93621.0   \n",
              "372682                    42.0                      38.0         79900.0   \n",
              "372683                    47.0                      41.0        155000.0   \n",
              "\n",
              "       property_currency                                     property_title  \n",
              "372676               USD           MONOAMBIENTE EMPRENDIMIENTO PALERMO SOHO  \n",
              "372677               USD         Venta departamento en palermo monoambiente  \n",
              "372679               USD  VENTA 1 AMBIENTE de 32 a 66 m² -VIVIENDA/ ESTU...  \n",
              "372682               USD          VENTA DEPARTAMENTO 2 AMBIENTES EN PALERMO  \n",
              "372683               USD  DEPARTAMENTO DUPLEX 2 AMBIENTES CON 2 BALCONES...  "
            ]
          },
          "execution_count": 15,
          "metadata": {},
          "output_type": "execute_result"
        }
      ],
      "source": [
        "#Imprime las primeras filas del conjunto de pruebas\n",
        "print(\"Conjunto de Prueba:\")\n",
        "conjunto_prueba.head()"
      ]
    },
    {
      "cell_type": "markdown",
      "metadata": {
        "id": "HDrAfE-Tmoxk"
      },
      "source": [
        "#Cantidad de propiedades que quedaron en el conjunto de entrenamiento y de prueba\n",
        "\n"
      ]
    },
    {
      "cell_type": "code",
      "execution_count": 16,
      "metadata": {
        "colab": {
          "base_uri": "https://localhost:8080/"
        },
        "id": "6lvnDVZ4jePd",
        "outputId": "0db4d82c-ed56-4b76-98cc-29766ecccc6a"
      },
      "outputs": [
        {
          "data": {
            "text/plain": [
              "(75399, 20)"
            ]
          },
          "execution_count": 16,
          "metadata": {},
          "output_type": "execute_result"
        }
      ],
      "source": [
        "conjunto_entrenamiento.shape\n"
      ]
    },
    {
      "cell_type": "code",
      "execution_count": 17,
      "metadata": {
        "colab": {
          "base_uri": "https://localhost:8080/"
        },
        "id": "3InIM_nMjkLU",
        "outputId": "6477a096-c1ee-4b2c-f435-be6b69ef4d1e"
      },
      "outputs": [
        {
          "data": {
            "text/plain": [
              "(18850, 20)"
            ]
          },
          "execution_count": 17,
          "metadata": {},
          "output_type": "execute_result"
        }
      ],
      "source": [
        "conjunto_prueba.shape"
      ]
    },
    {
      "cell_type": "markdown",
      "metadata": {},
      "source": [
        "# 1. Analisis Exploratorio y Preprocesamiento de Datos"
      ]
    },
    {
      "cell_type": "markdown",
      "metadata": {},
      "source": [
        "## a. Exploracion Inicial"
      ]
    },
    {
      "cell_type": "markdown",
      "metadata": {},
      "source": [
        "### Variables cuantitativas\n",
        "\n",
        "Las variables que podemos identificar como cuantitativas son las siguientes : latitud, longitud, property_rooms, property_bedrooms, property_surface_total, property_surface_covered, property_price"
      ]
    },
    {
      "cell_type": "code",
      "execution_count": 18,
      "metadata": {},
      "outputs": [
        {
          "data": {
            "text/html": [
              "<div>\n",
              "<style scoped>\n",
              "    .dataframe tbody tr th:only-of-type {\n",
              "        vertical-align: middle;\n",
              "    }\n",
              "\n",
              "    .dataframe tbody tr th {\n",
              "        vertical-align: top;\n",
              "    }\n",
              "\n",
              "    .dataframe thead th {\n",
              "        text-align: right;\n",
              "    }\n",
              "</style>\n",
              "<table border=\"1\" class=\"dataframe\">\n",
              "  <thead>\n",
              "    <tr style=\"text-align: right;\">\n",
              "      <th></th>\n",
              "      <th>latitud</th>\n",
              "      <th>longitud</th>\n",
              "      <th>property_rooms</th>\n",
              "      <th>property_bedrooms</th>\n",
              "      <th>property_surface_total</th>\n",
              "      <th>property_surface_covered</th>\n",
              "      <th>property_price</th>\n",
              "    </tr>\n",
              "  </thead>\n",
              "  <tbody>\n",
              "    <tr>\n",
              "      <th>Promedia</th>\n",
              "      <td>-34.590513</td>\n",
              "      <td>-58.450914</td>\n",
              "      <td>2.829121</td>\n",
              "      <td>2.020331</td>\n",
              "      <td>109.429049</td>\n",
              "      <td>87.049255</td>\n",
              "      <td>2.296489e+05</td>\n",
              "    </tr>\n",
              "    <tr>\n",
              "      <th>Minimo</th>\n",
              "      <td>-41.168947</td>\n",
              "      <td>-71.471192</td>\n",
              "      <td>1.000000</td>\n",
              "      <td>1.000000</td>\n",
              "      <td>10.000000</td>\n",
              "      <td>1.000000</td>\n",
              "      <td>5.000000e+03</td>\n",
              "    </tr>\n",
              "    <tr>\n",
              "      <th>Cuartil 1</th>\n",
              "      <td>-34.615609</td>\n",
              "      <td>-58.466057</td>\n",
              "      <td>2.000000</td>\n",
              "      <td>1.000000</td>\n",
              "      <td>45.000000</td>\n",
              "      <td>40.000000</td>\n",
              "      <td>9.600000e+04</td>\n",
              "    </tr>\n",
              "    <tr>\n",
              "      <th>Mediana</th>\n",
              "      <td>-34.595590</td>\n",
              "      <td>-58.438623</td>\n",
              "      <td>3.000000</td>\n",
              "      <td>2.000000</td>\n",
              "      <td>65.000000</td>\n",
              "      <td>58.000000</td>\n",
              "      <td>1.450000e+05</td>\n",
              "    </tr>\n",
              "    <tr>\n",
              "      <th>Cuartil 3</th>\n",
              "      <td>-34.577334</td>\n",
              "      <td>-58.408709</td>\n",
              "      <td>4.000000</td>\n",
              "      <td>3.000000</td>\n",
              "      <td>105.000000</td>\n",
              "      <td>89.000000</td>\n",
              "      <td>2.400000e+05</td>\n",
              "    </tr>\n",
              "    <tr>\n",
              "      <th>Maximo</th>\n",
              "      <td>-24.372960</td>\n",
              "      <td>-54.133330</td>\n",
              "      <td>40.000000</td>\n",
              "      <td>70.000000</td>\n",
              "      <td>137000.000000</td>\n",
              "      <td>217000.000000</td>\n",
              "      <td>2.140000e+07</td>\n",
              "    </tr>\n",
              "    <tr>\n",
              "      <th>Moda</th>\n",
              "      <td>-34.541250</td>\n",
              "      <td>-58.472966</td>\n",
              "      <td>3.000000</td>\n",
              "      <td>1.000000</td>\n",
              "      <td>50.000000</td>\n",
              "      <td>40.000000</td>\n",
              "      <td>1.100000e+05</td>\n",
              "    </tr>\n",
              "    <tr>\n",
              "      <th>Varianza</th>\n",
              "      <td>0.031042</td>\n",
              "      <td>0.096155</td>\n",
              "      <td>2.062768</td>\n",
              "      <td>1.321424</td>\n",
              "      <td>841430.126498</td>\n",
              "      <td>879542.108192</td>\n",
              "      <td>1.063524e+11</td>\n",
              "    </tr>\n",
              "    <tr>\n",
              "      <th>Desviacion estandar</th>\n",
              "      <td>0.176186</td>\n",
              "      <td>0.310089</td>\n",
              "      <td>1.436234</td>\n",
              "      <td>1.149532</td>\n",
              "      <td>917.295005</td>\n",
              "      <td>937.839063</td>\n",
              "      <td>3.261172e+05</td>\n",
              "    </tr>\n",
              "    <tr>\n",
              "      <th>Rango intercuartilico</th>\n",
              "      <td>0.038274</td>\n",
              "      <td>0.057348</td>\n",
              "      <td>2.000000</td>\n",
              "      <td>2.000000</td>\n",
              "      <td>60.000000</td>\n",
              "      <td>49.000000</td>\n",
              "      <td>1.440000e+05</td>\n",
              "    </tr>\n",
              "  </tbody>\n",
              "</table>\n",
              "</div>"
            ],
            "text/plain": [
              "                         latitud   longitud  property_rooms  \\\n",
              "Promedia              -34.590513 -58.450914        2.829121   \n",
              "Minimo                -41.168947 -71.471192        1.000000   \n",
              "Cuartil 1             -34.615609 -58.466057        2.000000   \n",
              "Mediana               -34.595590 -58.438623        3.000000   \n",
              "Cuartil 3             -34.577334 -58.408709        4.000000   \n",
              "Maximo                -24.372960 -54.133330       40.000000   \n",
              "Moda                  -34.541250 -58.472966        3.000000   \n",
              "Varianza                0.031042   0.096155        2.062768   \n",
              "Desviacion estandar     0.176186   0.310089        1.436234   \n",
              "Rango intercuartilico   0.038274   0.057348        2.000000   \n",
              "\n",
              "                       property_bedrooms  property_surface_total  \\\n",
              "Promedia                        2.020331              109.429049   \n",
              "Minimo                          1.000000               10.000000   \n",
              "Cuartil 1                       1.000000               45.000000   \n",
              "Mediana                         2.000000               65.000000   \n",
              "Cuartil 3                       3.000000              105.000000   \n",
              "Maximo                         70.000000           137000.000000   \n",
              "Moda                            1.000000               50.000000   \n",
              "Varianza                        1.321424           841430.126498   \n",
              "Desviacion estandar             1.149532              917.295005   \n",
              "Rango intercuartilico           2.000000               60.000000   \n",
              "\n",
              "                       property_surface_covered  property_price  \n",
              "Promedia                              87.049255    2.296489e+05  \n",
              "Minimo                                 1.000000    5.000000e+03  \n",
              "Cuartil 1                             40.000000    9.600000e+04  \n",
              "Mediana                               58.000000    1.450000e+05  \n",
              "Cuartil 3                             89.000000    2.400000e+05  \n",
              "Maximo                            217000.000000    2.140000e+07  \n",
              "Moda                                  40.000000    1.100000e+05  \n",
              "Varianza                          879542.108192    1.063524e+11  \n",
              "Desviacion estandar                  937.839063    3.261172e+05  \n",
              "Rango intercuartilico                 49.000000    1.440000e+05  "
            ]
          },
          "execution_count": 18,
          "metadata": {},
          "output_type": "execute_result"
        }
      ],
      "source": [
        "variables_cuantitativas = ['latitud', 'longitud', 'property_rooms', 'property_bedrooms', 'property_surface_total', 'property_surface_covered', 'property_price']\n",
        "medidas_de_resumen = pd.DataFrame(columns=variables_cuantitativas, index=['Promedia', 'Minimo', 'Cuartil 1', 'Mediana', 'Cuartil 3', 'Maximo', 'Moda', 'Varianza', 'Desviacion estandar', 'Rango intercuartilico'])\n",
        "\n",
        "for i in variables_cuantitativas:\n",
        "    promedia = conjunto_entrenamiento[i].mean()\n",
        "    minimo = conjunto_entrenamiento[i].min()\n",
        "    cuartil_1 = conjunto_entrenamiento[i].quantile(0.25)\n",
        "    mediana = conjunto_entrenamiento[i].median()\n",
        "    cuartil_3 = conjunto_entrenamiento[i].quantile(0.75)\n",
        "    maximo = conjunto_entrenamiento[i].max()\n",
        "    moda = conjunto_entrenamiento[i].mode().iloc[0]\n",
        "    varianza = conjunto_entrenamiento[i].var()\n",
        "    desviacion_estandar = conjunto_entrenamiento[i].std()\n",
        "    rango_intercuartilico = cuartil_3 - cuartil_1\n",
        "    medidas_de_resumen[i] = [promedia, minimo, cuartil_1, mediana, cuartil_3, maximo, moda, varianza, desviacion_estandar, rango_intercuartilico]\n",
        "    \n",
        "medidas_de_resumen"
      ]
    },
    {
      "cell_type": "markdown",
      "metadata": {},
      "source": [
        "### Variables cualitativas\n",
        "\n",
        "Las variables que podemos identificar como cualitativas son las siguientes : place_l2, place_l3, place_l4, place_l5, place_l6, operation, property_type, property_currency, property_title"
      ]
    },
    {
      "cell_type": "code",
      "execution_count": 19,
      "metadata": {},
      "outputs": [
        {
          "data": {
            "text/html": [
              "<div>\n",
              "<style scoped>\n",
              "    .dataframe tbody tr th:only-of-type {\n",
              "        vertical-align: middle;\n",
              "    }\n",
              "\n",
              "    .dataframe tbody tr th {\n",
              "        vertical-align: top;\n",
              "    }\n",
              "\n",
              "    .dataframe thead th {\n",
              "        text-align: right;\n",
              "    }\n",
              "</style>\n",
              "<table border=\"1\" class=\"dataframe\">\n",
              "  <thead>\n",
              "    <tr style=\"text-align: right;\">\n",
              "      <th></th>\n",
              "      <th>place_l2</th>\n",
              "      <th>place_l3</th>\n",
              "      <th>place_l4</th>\n",
              "      <th>place_l5</th>\n",
              "      <th>place_l6</th>\n",
              "      <th>operation</th>\n",
              "      <th>property_type</th>\n",
              "      <th>property_currency</th>\n",
              "      <th>property_title</th>\n",
              "    </tr>\n",
              "  </thead>\n",
              "  <tbody>\n",
              "    <tr>\n",
              "      <th>Cantidad de valores posibles</th>\n",
              "      <td>1</td>\n",
              "      <td>58</td>\n",
              "      <td>5</td>\n",
              "      <td>1</td>\n",
              "      <td>1</td>\n",
              "      <td>1</td>\n",
              "      <td>3</td>\n",
              "      <td>1</td>\n",
              "      <td>45123</td>\n",
              "    </tr>\n",
              "    <tr>\n",
              "      <th>Frequencia de cada valor</th>\n",
              "      <td>Capital Federal : 75399</td>\n",
              "      <td>Palermo : 11598, Belgrano : 7263, Caballito : ...</td>\n",
              "      <td>Palermo Hollywood : 1308, Palermo Chico : 932,...</td>\n",
              "      <td></td>\n",
              "      <td></td>\n",
              "      <td>Venta : 75399</td>\n",
              "      <td>Departamento : 64841, PH : 7237, Casa : 3321</td>\n",
              "      <td>USD : 75399</td>\n",
              "      <td>Departamento - Palermo : 1279, Departamento - ...</td>\n",
              "    </tr>\n",
              "  </tbody>\n",
              "</table>\n",
              "</div>"
            ],
            "text/plain": [
              "                                             place_l2  \\\n",
              "Cantidad de valores posibles                        1   \n",
              "Frequencia de cada valor      Capital Federal : 75399   \n",
              "\n",
              "                                                                       place_l3  \\\n",
              "Cantidad de valores posibles                                                 58   \n",
              "Frequencia de cada valor      Palermo : 11598, Belgrano : 7263, Caballito : ...   \n",
              "\n",
              "                                                                       place_l4  \\\n",
              "Cantidad de valores posibles                                                  5   \n",
              "Frequencia de cada valor      Palermo Hollywood : 1308, Palermo Chico : 932,...   \n",
              "\n",
              "                             place_l5 place_l6      operation  \\\n",
              "Cantidad de valores posibles        1        1              1   \n",
              "Frequencia de cada valor                        Venta : 75399   \n",
              "\n",
              "                                                             property_type  \\\n",
              "Cantidad de valores posibles                                             3   \n",
              "Frequencia de cada valor      Departamento : 64841, PH : 7237, Casa : 3321   \n",
              "\n",
              "                             property_currency  \\\n",
              "Cantidad de valores posibles                 1   \n",
              "Frequencia de cada valor           USD : 75399   \n",
              "\n",
              "                                                                 property_title  \n",
              "Cantidad de valores posibles                                              45123  \n",
              "Frequencia de cada valor      Departamento - Palermo : 1279, Departamento - ...  "
            ]
          },
          "execution_count": 19,
          "metadata": {},
          "output_type": "execute_result"
        }
      ],
      "source": [
        "variables_cualitativas = ['place_l2', 'place_l3', 'place_l4', 'place_l5', 'place_l6', 'operation', 'property_type', 'property_currency', 'property_title']\n",
        "frecuencias = pd.DataFrame(columns=variables_cualitativas, index=['Cantidad de valores posibles', 'Frequencia de cada valor'])\n",
        "\n",
        "for i in variables_cualitativas:\n",
        "    cantidad = conjunto_entrenamiento[i].unique().shape[0]\n",
        "    frecuencia_valores = conjunto_entrenamiento[i].value_counts()\n",
        "    texto_frecuencias = ', '.join([f'{valor} : {frecuencia}' for valor, frecuencia in frecuencia_valores.items()])\n",
        "    frecuencias[i] = [cantidad, texto_frecuencias]\n",
        "    \n",
        "frecuencias"
      ]
    },
    {
      "cell_type": "markdown",
      "metadata": {},
      "source": [
        "### Variables irrelevantes\n",
        "\n",
        "Asi, podemos ver que las variables \"place_l2\", \"operation\" y \"property_currency\" son irrelevantes porque solo tienen una valor posible. Ademas, las variables \"place_l5\" y \"place_l6\" son vacias y no nos sirven para nada.\n",
        "Las variables que también no nos van a servir para la prediccion del precio son \"id\", \"property_title\", \"start_date\", \"end_date\" y \"created_on\" porque permiten identificar una sola venta y no disponen de la informacion pertinente para caracterizar una propiedad."
      ]
    },
    {
      "cell_type": "code",
      "execution_count": 20,
      "metadata": {},
      "outputs": [
        {
          "data": {
            "text/html": [
              "<div>\n",
              "<style scoped>\n",
              "    .dataframe tbody tr th:only-of-type {\n",
              "        vertical-align: middle;\n",
              "    }\n",
              "\n",
              "    .dataframe tbody tr th {\n",
              "        vertical-align: top;\n",
              "    }\n",
              "\n",
              "    .dataframe thead th {\n",
              "        text-align: right;\n",
              "    }\n",
              "</style>\n",
              "<table border=\"1\" class=\"dataframe\">\n",
              "  <thead>\n",
              "    <tr style=\"text-align: right;\">\n",
              "      <th></th>\n",
              "      <th>latitud</th>\n",
              "      <th>longitud</th>\n",
              "      <th>place_l3</th>\n",
              "      <th>place_l4</th>\n",
              "      <th>property_type</th>\n",
              "      <th>property_rooms</th>\n",
              "      <th>property_bedrooms</th>\n",
              "      <th>property_surface_total</th>\n",
              "      <th>property_surface_covered</th>\n",
              "      <th>property_price</th>\n",
              "    </tr>\n",
              "  </thead>\n",
              "  <tbody>\n",
              "    <tr>\n",
              "      <th>25</th>\n",
              "      <td>NaN</td>\n",
              "      <td>NaN</td>\n",
              "      <td>NaN</td>\n",
              "      <td>NaN</td>\n",
              "      <td>Casa</td>\n",
              "      <td>4.0</td>\n",
              "      <td>3.0</td>\n",
              "      <td>171.0</td>\n",
              "      <td>133.0</td>\n",
              "      <td>210000.0</td>\n",
              "    </tr>\n",
              "    <tr>\n",
              "      <th>42</th>\n",
              "      <td>-34.637319</td>\n",
              "      <td>-58.361124</td>\n",
              "      <td>Boca</td>\n",
              "      <td>NaN</td>\n",
              "      <td>Departamento</td>\n",
              "      <td>3.0</td>\n",
              "      <td>2.0</td>\n",
              "      <td>58.0</td>\n",
              "      <td>55.0</td>\n",
              "      <td>82900.0</td>\n",
              "    </tr>\n",
              "    <tr>\n",
              "      <th>43</th>\n",
              "      <td>-34.628647</td>\n",
              "      <td>-58.361871</td>\n",
              "      <td>Boca</td>\n",
              "      <td>NaN</td>\n",
              "      <td>Departamento</td>\n",
              "      <td>4.0</td>\n",
              "      <td>3.0</td>\n",
              "      <td>70.0</td>\n",
              "      <td>70.0</td>\n",
              "      <td>99000.0</td>\n",
              "    </tr>\n",
              "    <tr>\n",
              "      <th>49</th>\n",
              "      <td>-34.610027</td>\n",
              "      <td>-58.401934</td>\n",
              "      <td>Once</td>\n",
              "      <td>NaN</td>\n",
              "      <td>Departamento</td>\n",
              "      <td>4.0</td>\n",
              "      <td>2.0</td>\n",
              "      <td>NaN</td>\n",
              "      <td>104.0</td>\n",
              "      <td>146000.0</td>\n",
              "    </tr>\n",
              "    <tr>\n",
              "      <th>51</th>\n",
              "      <td>-34.631621</td>\n",
              "      <td>-58.416825</td>\n",
              "      <td>Boedo</td>\n",
              "      <td>NaN</td>\n",
              "      <td>PH</td>\n",
              "      <td>4.0</td>\n",
              "      <td>2.0</td>\n",
              "      <td>NaN</td>\n",
              "      <td>73.0</td>\n",
              "      <td>250000.0</td>\n",
              "    </tr>\n",
              "    <tr>\n",
              "      <th>...</th>\n",
              "      <td>...</td>\n",
              "      <td>...</td>\n",
              "      <td>...</td>\n",
              "      <td>...</td>\n",
              "      <td>...</td>\n",
              "      <td>...</td>\n",
              "      <td>...</td>\n",
              "      <td>...</td>\n",
              "      <td>...</td>\n",
              "      <td>...</td>\n",
              "    </tr>\n",
              "    <tr>\n",
              "      <th>372671</th>\n",
              "      <td>-34.582800</td>\n",
              "      <td>-58.442800</td>\n",
              "      <td>Palermo</td>\n",
              "      <td>NaN</td>\n",
              "      <td>Departamento</td>\n",
              "      <td>1.0</td>\n",
              "      <td>NaN</td>\n",
              "      <td>36.0</td>\n",
              "      <td>32.0</td>\n",
              "      <td>98514.0</td>\n",
              "    </tr>\n",
              "    <tr>\n",
              "      <th>372672</th>\n",
              "      <td>-34.590332</td>\n",
              "      <td>-58.420135</td>\n",
              "      <td>Palermo</td>\n",
              "      <td>NaN</td>\n",
              "      <td>Departamento</td>\n",
              "      <td>4.0</td>\n",
              "      <td>3.0</td>\n",
              "      <td>81.0</td>\n",
              "      <td>72.0</td>\n",
              "      <td>200000.0</td>\n",
              "    </tr>\n",
              "    <tr>\n",
              "      <th>372673</th>\n",
              "      <td>-34.576232</td>\n",
              "      <td>-58.441949</td>\n",
              "      <td>Palermo</td>\n",
              "      <td>NaN</td>\n",
              "      <td>Departamento</td>\n",
              "      <td>3.0</td>\n",
              "      <td>2.0</td>\n",
              "      <td>62.0</td>\n",
              "      <td>57.0</td>\n",
              "      <td>130000.0</td>\n",
              "    </tr>\n",
              "    <tr>\n",
              "      <th>372674</th>\n",
              "      <td>-34.582800</td>\n",
              "      <td>-58.442800</td>\n",
              "      <td>Palermo</td>\n",
              "      <td>NaN</td>\n",
              "      <td>Departamento</td>\n",
              "      <td>1.0</td>\n",
              "      <td>NaN</td>\n",
              "      <td>36.0</td>\n",
              "      <td>32.0</td>\n",
              "      <td>100273.0</td>\n",
              "    </tr>\n",
              "    <tr>\n",
              "      <th>372675</th>\n",
              "      <td>-34.584076</td>\n",
              "      <td>-58.415895</td>\n",
              "      <td>Palermo</td>\n",
              "      <td>NaN</td>\n",
              "      <td>Departamento</td>\n",
              "      <td>4.0</td>\n",
              "      <td>2.0</td>\n",
              "      <td>131.0</td>\n",
              "      <td>128.0</td>\n",
              "      <td>480000.0</td>\n",
              "    </tr>\n",
              "  </tbody>\n",
              "</table>\n",
              "<p>75399 rows × 10 columns</p>\n",
              "</div>"
            ],
            "text/plain": [
              "          latitud   longitud place_l3 place_l4 property_type  property_rooms  \\\n",
              "25            NaN        NaN      NaN      NaN          Casa             4.0   \n",
              "42     -34.637319 -58.361124     Boca      NaN  Departamento             3.0   \n",
              "43     -34.628647 -58.361871     Boca      NaN  Departamento             4.0   \n",
              "49     -34.610027 -58.401934     Once      NaN  Departamento             4.0   \n",
              "51     -34.631621 -58.416825    Boedo      NaN            PH             4.0   \n",
              "...           ...        ...      ...      ...           ...             ...   \n",
              "372671 -34.582800 -58.442800  Palermo      NaN  Departamento             1.0   \n",
              "372672 -34.590332 -58.420135  Palermo      NaN  Departamento             4.0   \n",
              "372673 -34.576232 -58.441949  Palermo      NaN  Departamento             3.0   \n",
              "372674 -34.582800 -58.442800  Palermo      NaN  Departamento             1.0   \n",
              "372675 -34.584076 -58.415895  Palermo      NaN  Departamento             4.0   \n",
              "\n",
              "        property_bedrooms  property_surface_total  property_surface_covered  \\\n",
              "25                    3.0                   171.0                     133.0   \n",
              "42                    2.0                    58.0                      55.0   \n",
              "43                    3.0                    70.0                      70.0   \n",
              "49                    2.0                     NaN                     104.0   \n",
              "51                    2.0                     NaN                      73.0   \n",
              "...                   ...                     ...                       ...   \n",
              "372671                NaN                    36.0                      32.0   \n",
              "372672                3.0                    81.0                      72.0   \n",
              "372673                2.0                    62.0                      57.0   \n",
              "372674                NaN                    36.0                      32.0   \n",
              "372675                2.0                   131.0                     128.0   \n",
              "\n",
              "        property_price  \n",
              "25            210000.0  \n",
              "42             82900.0  \n",
              "43             99000.0  \n",
              "49            146000.0  \n",
              "51            250000.0  \n",
              "...                ...  \n",
              "372671         98514.0  \n",
              "372672        200000.0  \n",
              "372673        130000.0  \n",
              "372674        100273.0  \n",
              "372675        480000.0  \n",
              "\n",
              "[75399 rows x 10 columns]"
            ]
          },
          "execution_count": 20,
          "metadata": {},
          "output_type": "execute_result"
        }
      ],
      "source": [
        "conjunto_entrenamiento_reducido = conjunto_entrenamiento.drop(labels=[\"place_l2\", \"operation\", \"property_currency\", \"place_l5\", \"place_l6\", \"id\", \"property_title\", \"start_date\", \"end_date\", \"created_on\"], axis=1)\n",
        "conjunto_entrenamiento_reducido"
      ]
    },
    {
      "cell_type": "markdown",
      "metadata": {},
      "source": [
        "### Analisis de correlaciones existantes"
      ]
    },
    {
      "cell_type": "code",
      "execution_count": 27,
      "metadata": {},
      "outputs": [
        {
          "data": {
            "text/plain": [
              "array([[<AxesSubplot:xlabel='latitud', ylabel='latitud'>,\n",
              "        <AxesSubplot:xlabel='longitud', ylabel='latitud'>,\n",
              "        <AxesSubplot:xlabel='property_rooms', ylabel='latitud'>,\n",
              "        <AxesSubplot:xlabel='property_bedrooms', ylabel='latitud'>,\n",
              "        <AxesSubplot:xlabel='property_surface_total', ylabel='latitud'>,\n",
              "        <AxesSubplot:xlabel='property_surface_covered', ylabel='latitud'>,\n",
              "        <AxesSubplot:xlabel='property_price', ylabel='latitud'>],\n",
              "       [<AxesSubplot:xlabel='latitud', ylabel='longitud'>,\n",
              "        <AxesSubplot:xlabel='longitud', ylabel='longitud'>,\n",
              "        <AxesSubplot:xlabel='property_rooms', ylabel='longitud'>,\n",
              "        <AxesSubplot:xlabel='property_bedrooms', ylabel='longitud'>,\n",
              "        <AxesSubplot:xlabel='property_surface_total', ylabel='longitud'>,\n",
              "        <AxesSubplot:xlabel='property_surface_covered', ylabel='longitud'>,\n",
              "        <AxesSubplot:xlabel='property_price', ylabel='longitud'>],\n",
              "       [<AxesSubplot:xlabel='latitud', ylabel='property_rooms'>,\n",
              "        <AxesSubplot:xlabel='longitud', ylabel='property_rooms'>,\n",
              "        <AxesSubplot:xlabel='property_rooms', ylabel='property_rooms'>,\n",
              "        <AxesSubplot:xlabel='property_bedrooms', ylabel='property_rooms'>,\n",
              "        <AxesSubplot:xlabel='property_surface_total', ylabel='property_rooms'>,\n",
              "        <AxesSubplot:xlabel='property_surface_covered', ylabel='property_rooms'>,\n",
              "        <AxesSubplot:xlabel='property_price', ylabel='property_rooms'>],\n",
              "       [<AxesSubplot:xlabel='latitud', ylabel='property_bedrooms'>,\n",
              "        <AxesSubplot:xlabel='longitud', ylabel='property_bedrooms'>,\n",
              "        <AxesSubplot:xlabel='property_rooms', ylabel='property_bedrooms'>,\n",
              "        <AxesSubplot:xlabel='property_bedrooms', ylabel='property_bedrooms'>,\n",
              "        <AxesSubplot:xlabel='property_surface_total', ylabel='property_bedrooms'>,\n",
              "        <AxesSubplot:xlabel='property_surface_covered', ylabel='property_bedrooms'>,\n",
              "        <AxesSubplot:xlabel='property_price', ylabel='property_bedrooms'>],\n",
              "       [<AxesSubplot:xlabel='latitud', ylabel='property_surface_total'>,\n",
              "        <AxesSubplot:xlabel='longitud', ylabel='property_surface_total'>,\n",
              "        <AxesSubplot:xlabel='property_rooms', ylabel='property_surface_total'>,\n",
              "        <AxesSubplot:xlabel='property_bedrooms', ylabel='property_surface_total'>,\n",
              "        <AxesSubplot:xlabel='property_surface_total', ylabel='property_surface_total'>,\n",
              "        <AxesSubplot:xlabel='property_surface_covered', ylabel='property_surface_total'>,\n",
              "        <AxesSubplot:xlabel='property_price', ylabel='property_surface_total'>],\n",
              "       [<AxesSubplot:xlabel='latitud', ylabel='property_surface_covered'>,\n",
              "        <AxesSubplot:xlabel='longitud', ylabel='property_surface_covered'>,\n",
              "        <AxesSubplot:xlabel='property_rooms', ylabel='property_surface_covered'>,\n",
              "        <AxesSubplot:xlabel='property_bedrooms', ylabel='property_surface_covered'>,\n",
              "        <AxesSubplot:xlabel='property_surface_total', ylabel='property_surface_covered'>,\n",
              "        <AxesSubplot:xlabel='property_surface_covered', ylabel='property_surface_covered'>,\n",
              "        <AxesSubplot:xlabel='property_price', ylabel='property_surface_covered'>],\n",
              "       [<AxesSubplot:xlabel='latitud', ylabel='property_price'>,\n",
              "        <AxesSubplot:xlabel='longitud', ylabel='property_price'>,\n",
              "        <AxesSubplot:xlabel='property_rooms', ylabel='property_price'>,\n",
              "        <AxesSubplot:xlabel='property_bedrooms', ylabel='property_price'>,\n",
              "        <AxesSubplot:xlabel='property_surface_total', ylabel='property_price'>,\n",
              "        <AxesSubplot:xlabel='property_surface_covered', ylabel='property_price'>,\n",
              "        <AxesSubplot:xlabel='property_price', ylabel='property_price'>]],\n",
              "      dtype=object)"
            ]
          },
          "execution_count": 27,
          "metadata": {},
          "output_type": "execute_result"
        },
        {
          "data": {
            "image/png": "[encoded data removed]",
            "text/plain": [
              "<Figure size 1080x1080 with 49 Axes>"
            ]
          },
          "metadata": {
            "needs_background": "light"
          },
          "output_type": "display_data"
        }
      ],
      "source": [
        "scatter_matrix(conjunto_entrenamiento_reducido.copy(), alpha=0.2, figsize= (15, 15))"
      ]
    },
    {
      "cell_type": "code",
      "execution_count": 30,
      "metadata": {},
      "outputs": [
        {
          "data": {
            "image/png": "[encoded data removed]",
            "text/plain": [
              "<Figure size 432x288 with 2 Axes>"
            ]
          },
          "metadata": {
            "needs_background": "light"
          },
          "output_type": "display_data"
        }
      ],
      "source": [
        "correlacion_matrix = conjunto_entrenamiento_reducido.corr()\n",
        "grafico_correlacion=sns.heatmap(correlacion_matrix,annot=True)"
      ]
    },
    {
      "cell_type": "markdown",
      "metadata": {},
      "source": [
        "Podemos ver que existe una correlacion positiva importante entre property_rooms y property_bedrooms, que puede parecer logico ya que dormitorios representan la mayoria de las habitaciones de una propiedad. Ademas, podemos notar que existe una correlacion entre property_price, property_rooms y property_rooms, tambien parece logico ya que el precio de una propiedad depende en gran medida del numero de habitaciones. \n",
        "\n",
        "Una correlacion positiva tambien parece existir entre property_surface_total y property_surface_covered porque en nucleos urbanos como Buenos Aires, la superficie cubierta por las propiedades suele ser ligeramente inferior o igual a la superficie total.\n",
        "\n",
        "Por fin, hay una correlacion negativa entre latitud y longitud que se puede explicar con el hecho de que las limites de la ciudad son definidas geograficamente y no se pueden superar."
      ]
    },
    {
      "cell_type": "markdown",
      "metadata": {},
      "source": [
        "## b. Visualizacion de los datos"
      ]
    }
  ],
  "metadata": {
    "colab": {
      "provenance": []
    },
    "kernelspec": {
      "display_name": "Python 3",
      "name": "python3"
    },
    "language_info": {
      "codemirror_mode": {
        "name": "ipython",
        "version": 3
      },
      "file_extension": ".py",
      "mimetype": "text/x-python",
      "name": "python",
      "nbconvert_exporter": "python",
      "pygments_lexer": "ipython3",
      "version": "3.9.7"
    }
  },
  "nbformat": 4,
  "nbformat_minor": 0
}
